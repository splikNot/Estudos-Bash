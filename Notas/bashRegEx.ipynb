{
 "cells": [
  {
   "cell_type": "markdown",
   "id": "e4ec81b8-bac3-4044-beb4-68164ea36627",
   "metadata": {},
   "source": [
    "# Correspondência de Padrões"
   ]
  },
  {
   "cell_type": "markdown",
   "id": "0d975eda-7190-44b0-bc6f-ccf06c11d74e",
   "metadata": {},
   "source": [
    "Sinceramente. Ta complicado. \n",
    "\n",
    "A própria documentação do bash tem muita coisa errada e que  não funciona.\n",
    "\n",
    "GPT não é muito confiável, também está induzindo alguns erros.\n",
    "\n",
    "Vou deixar registrado o que eu entendi até agora e vou ir melhorando essa documentação ao longo do tempo.\n",
    "\n",
    "Todo lugar diz que a linguagem é similar para outras linguagens. Mas a biblioteca em python tem muitas diferenças."
   ]
  },
  {
   "cell_type": "markdown",
   "id": "2690f256-ae54-4796-993f-29b9995f9b65",
   "metadata": {},
   "source": [
    "# Expressões Regulares"
   ]
  },
  {
   "cell_type": "markdown",
   "id": "b84ba353-e929-41da-a612-dacd19a720b5",
   "metadata": {},
   "source": [
    "Expressões Regulares (regex) é a linguagem padrão utilizada para buscar padrões, combinar e manipular texto. Em bash, usamos em conjunto com outras ferramentas como **grep**, **sed**, **awk** e em estruturas condicionais como ```[[  ]]```.\n",
    "\n",
    "O regex é uma ótima ferramenta para:\n",
    "* Extrair partes de textos;\n",
    "* Criar váriaveis com informações encontradas em um texto;\n",
    "* Limpar e formatar textos e dados;\n",
    "* Tratar documentos como dados;\n",
    "* Web scraping;"
   ]
  },
  {
   "cell_type": "markdown",
   "id": "5b03747a-fc99-4127-bd46-2f9bf5af8e6c",
   "metadata": {},
   "source": [
    "Expressões regulares são contruídas de três formas:\n",
    "* Caracteres literais que correspondem com eles mesmos;\n",
    "* Classes de caracteres que corresponde com tipos de dados;\n",
    "* Modificadores que operam tanto com um quanto com outro;"
   ]
  },
  {
   "cell_type": "markdown",
   "id": "785f3240-f5b3-42a1-bf71-80c963e8aade",
   "metadata": {},
   "source": [
    "Qualquer caractere em um padrão, exceto os caracteres de padrões especiais (***metacaracteres***).\n",
    "\n"
   ]
  },
  {
   "cell_type": "markdown",
   "id": "6c6a5df1-4e4b-4ccd-a76f-a3fcfafc7799",
   "metadata": {},
   "source": [
    "**Observação:** POSIX.2 regex possuí dois tipos de sintaxe (flavors) para trabalhar com expressôes regulares. A extendida e a básica (obsoleta). A extendida tem metacaracteres ``` () e {} ``` que podem ser passadas dentro das aspas em uma busca por expressão regulares. Enquanto a sintaxe básica exige que os metacaracteres sejam sejam designados com as barras invertidas ```\\(\\) e \\{\\}```. Vamos generalizar para usar a sintaxe extendida usando a flag *-E* nos comandos."
   ]
  },
  {
   "cell_type": "markdown",
   "id": "2286c802-af0f-458d-9f3a-1b0b807f4258",
   "metadata": {},
   "source": [
    "| Metacaractere                    | Função                      | Tipo |\n",
    "|:--------------------------------:|:----------------------------|--|\n",
    "| .                 | Corresponde com qualquer frase. Ou melhor, qualquer caractere menos linhas novas (\\n); |  |\n",
    "| ^                  | Corresponde com o ínicio de uma linha        |  |\n",
    "| $                  | Corresponde com o final de uma linha                 |  |\n",
    "| ( )                              | Agrupa expressões. Define uma lista de padrões             |  |\n",
    "| [ ]                              | Define um conjunto de caractes a serem correspondidos.     |  |\n",
    "| { }                              | Define uma classe de caracteres(!).                        |  |\n",
    "| Pipe                             |                  |  |\n",
    "| \\                                | Anula o efeito dos metacaracteres                  |  |\n",
    "| ?(pattern-list)                  |                  |  |\n",
    "| *(pattern-list)                  |                  |  |\n",
    "| +(pattern-list)                  |                  |  |\n",
    "| @(pattern-list)                  |                  |  |\n",
    "| !(pattern-list)                  |                  |  |\n"
   ]
  },
  {
   "cell_type": "markdown",
   "id": "a59071c4-ac76-49e7-b354-c6adcf6a7bc2",
   "metadata": {},
   "source": [
    "## Conjuntos e Classes"
   ]
  },
  {
   "cell_type": "markdown",
   "id": "e8a5e2c2-2548-4fce-88f1-50d54eefca5b",
   "metadata": {},
   "source": [
    "| Operadores          |    Descrição     | Exemplo | \n",
    "|:-------------------:|:-----------------|---------|\n",
    "| [abc]             | Corresponde com qualquer caractere presente nos colchetes. | |\n",
    "| [a-d]             | Abreviação da comando anterior. Corresponderá todos os caracteres dentro do alcance.           | |\n",
    "| [^abc]            | Corresponderá com qualquer caractere que não está na lista (*negação*)           | |\n",
    "| [^a-d]            | Corresponderá com qualquer caractere que não esteja listado no alcance.           | |\n",
    "| []             | Abreviação da comando anterior.           | |\n",
    "| []             | Abreviação da comando anterior.           | |\n",
    "| []             | Abreviação da comando anterior.           | |\n",
    "| []             | Abreviação da comando anterior.           | |"
   ]
  },
  {
   "cell_type": "code",
   "execution_count": 1,
   "id": "5938ea1e-93cc-4e47-a1b9-f74ca05bc69a",
   "metadata": {
    "scrolled": true
   },
   "outputs": [
    {
     "name": "stdout",
     "output_type": "stream",
     "text": [
      "+\u001b[01;31m\u001b[K5\u001b[m\u001b[K\u001b[01;31m\u001b[K5\u001b[m\u001b[K \u001b[01;31m\u001b[K1\u001b[m\u001b[K\u001b[01;31m\u001b[K1\u001b[m\u001b[K \u001b[01;31m\u001b[K9\u001b[m\u001b[K\u001b[01;31m\u001b[K1\u001b[m\u001b[K\u001b[01;31m\u001b[K2\u001b[m\u001b[K\u001b[01;31m\u001b[K3\u001b[m\u001b[K\u001b[01;31m\u001b[K4\u001b[m\u001b[K-\u001b[01;31m\u001b[K5\u001b[m\u001b[K\u001b[01;31m\u001b[K6\u001b[m\u001b[K\u001b[01;31m\u001b[K7\u001b[m\u001b[K\u001b[01;31m\u001b[K8\u001b[m\u001b[K\n",
      "(\u001b[01;31m\u001b[K1\u001b[m\u001b[K\u001b[01;31m\u001b[K1\u001b[m\u001b[K) \u001b[01;31m\u001b[K9\u001b[m\u001b[K\u001b[01;31m\u001b[K1\u001b[m\u001b[K\u001b[01;31m\u001b[K2\u001b[m\u001b[K\u001b[01;31m\u001b[K3\u001b[m\u001b[K\u001b[01;31m\u001b[K4\u001b[m\u001b[K-\u001b[01;31m\u001b[K5\u001b[m\u001b[K\u001b[01;31m\u001b[K6\u001b[m\u001b[K\u001b[01;31m\u001b[K7\u001b[m\u001b[K\u001b[01;31m\u001b[K8\u001b[m\u001b[K\n",
      "\u001b[01;31m\u001b[K1\u001b[m\u001b[K\u001b[01;31m\u001b[K1\u001b[m\u001b[K \u001b[01;31m\u001b[K9\u001b[m\u001b[K\u001b[01;31m\u001b[K1\u001b[m\u001b[K\u001b[01;31m\u001b[K2\u001b[m\u001b[K\u001b[01;31m\u001b[K3\u001b[m\u001b[K\u001b[01;31m\u001b[K4\u001b[m\u001b[K-\u001b[01;31m\u001b[K5\u001b[m\u001b[K\u001b[01;31m\u001b[K6\u001b[m\u001b[K\u001b[01;31m\u001b[K7\u001b[m\u001b[K\u001b[01;31m\u001b[K8\u001b[m\u001b[K\n",
      "+\u001b[01;31m\u001b[K1\u001b[m\u001b[K \u001b[01;31m\u001b[K8\u001b[m\u001b[K\u001b[01;31m\u001b[K0\u001b[m\u001b[K\u001b[01;31m\u001b[K0\u001b[m\u001b[K-\u001b[01;31m\u001b[K1\u001b[m\u001b[K\u001b[01;31m\u001b[K2\u001b[m\u001b[K\u001b[01;31m\u001b[K3\u001b[m\u001b[K-\u001b[01;31m\u001b[K4\u001b[m\u001b[K\u001b[01;31m\u001b[K5\u001b[m\u001b[K\u001b[01;31m\u001b[K6\u001b[m\u001b[K\u001b[01;31m\u001b[K7\u001b[m\u001b[K\n",
      "\u001b[01;31m\u001b[K1\u001b[m\u001b[K\u001b[01;31m\u001b[K2\u001b[m\u001b[K\u001b[01;31m\u001b[K3\u001b[m\u001b[K\u001b[01;31m\u001b[K4\u001b[m\u001b[K\u001b[01;31m\u001b[K5\u001b[m\u001b[K\u001b[01;31m\u001b[K6\u001b[m\u001b[K\u001b[01;31m\u001b[K7\u001b[m\u001b[K\u001b[01;31m\u001b[K8\u001b[m\u001b[K\n",
      "(\u001b[01;31m\u001b[K1\u001b[m\u001b[K\u001b[01;31m\u001b[K1\u001b[m\u001b[K \u001b[01;31m\u001b[K9\u001b[m\u001b[K\u001b[01;31m\u001b[K1\u001b[m\u001b[K\u001b[01;31m\u001b[K2\u001b[m\u001b[K\u001b[01;31m\u001b[K3\u001b[m\u001b[K\u001b[01;31m\u001b[K4\u001b[m\u001b[K-\u001b[01;31m\u001b[K5\u001b[m\u001b[K\u001b[01;31m\u001b[K6\u001b[m\u001b[K\u001b[01;31m\u001b[K7\u001b[m\u001b[K\u001b[01;31m\u001b[K8\u001b[m\u001b[K\n",
      "\u001b[01;31m\u001b[K1\u001b[m\u001b[K\u001b[01;31m\u001b[K1\u001b[m\u001b[K \u001b[01;31m\u001b[K9\u001b[m\u001b[K\u001b[01;31m\u001b[K1\u001b[m\u001b[K\u001b[01;31m\u001b[K2\u001b[m\u001b[K\u001b[01;31m\u001b[K3\u001b[m\u001b[K\u001b[01;31m\u001b[K4\u001b[m\u001b[K-\u001b[01;31m\u001b[K5\u001b[m\u001b[K\u001b[01;31m\u001b[K6\u001b[m\u001b[K\u001b[01;31m\u001b[K7\u001b[m\u001b[K\u001b[01;31m\u001b[K8\u001b[m\u001b[K\u001b[01;31m\u001b[K9\u001b[m\u001b[K\n",
      "\u001b[01;31m\u001b[K1\u001b[m\u001b[K\u001b[01;31m\u001b[K9\u001b[m\u001b[K\u001b[01;31m\u001b[K2\u001b[m\u001b[K.\u001b[01;31m\u001b[K1\u001b[m\u001b[K\u001b[01;31m\u001b[K6\u001b[m\u001b[K\u001b[01;31m\u001b[K8\u001b[m\u001b[K.\u001b[01;31m\u001b[K0\u001b[m\u001b[K.\u001b[01;31m\u001b[K1\u001b[m\u001b[K\n",
      "\u001b[01;31m\u001b[K2\u001b[m\u001b[K\u001b[01;31m\u001b[K5\u001b[m\u001b[K\u001b[01;31m\u001b[K5\u001b[m\u001b[K.\u001b[01;31m\u001b[K2\u001b[m\u001b[K\u001b[01;31m\u001b[K5\u001b[m\u001b[K\u001b[01;31m\u001b[K5\u001b[m\u001b[K.\u001b[01;31m\u001b[K2\u001b[m\u001b[K\u001b[01;31m\u001b[K5\u001b[m\u001b[K\u001b[01;31m\u001b[K5\u001b[m\u001b[K.\u001b[01;31m\u001b[K2\u001b[m\u001b[K\u001b[01;31m\u001b[K5\u001b[m\u001b[K\u001b[01;31m\u001b[K5\u001b[m\u001b[K\\?*\n",
      "\u001b[01;31m\u001b[K1\u001b[m\u001b[K\u001b[01;31m\u001b[K0\u001b[m\u001b[K.\u001b[01;31m\u001b[K0\u001b[m\u001b[K.\u001b[01;31m\u001b[K0\u001b[m\u001b[K.\u001b[01;31m\u001b[K1\u001b[m\u001b[K\n",
      "\u001b[01;31m\u001b[K1\u001b[m\u001b[K\u001b[01;31m\u001b[K7\u001b[m\u001b[K\u001b[01;31m\u001b[K2\u001b[m\u001b[K.\u001b[01;31m\u001b[K1\u001b[m\u001b[K\u001b[01;31m\u001b[K6\u001b[m\u001b[K.\u001b[01;31m\u001b[K2\u001b[m\u001b[K\u001b[01;31m\u001b[K5\u001b[m\u001b[K\u001b[01;31m\u001b[K4\u001b[m\u001b[K.\u001b[01;31m\u001b[K1\u001b[m\u001b[K\n",
      "\u001b[01;31m\u001b[K1\u001b[m\u001b[K\u001b[01;31m\u001b[K9\u001b[m\u001b[K\u001b[01;31m\u001b[K2\u001b[m\u001b[K.\u001b[01;31m\u001b[K1\u001b[m\u001b[K\u001b[01;31m\u001b[K6\u001b[m\u001b[K\u001b[01;31m\u001b[K8\u001b[m\u001b[K.\u001b[01;31m\u001b[K0\u001b[m\u001b[K.\u001b[01;31m\u001b[K2\u001b[m\u001b[K\u001b[01;31m\u001b[K5\u001b[m\u001b[K\u001b[01;31m\u001b[K6\u001b[m\u001b[K\n",
      "\u001b[01;31m\u001b[K2\u001b[m\u001b[K\u001b[01;31m\u001b[K5\u001b[m\u001b[K\u001b[01;31m\u001b[K6\u001b[m\u001b[K.\u001b[01;31m\u001b[K2\u001b[m\u001b[K\u001b[01;31m\u001b[K5\u001b[m\u001b[K\u001b[01;31m\u001b[K5\u001b[m\u001b[K.\u001b[01;31m\u001b[K2\u001b[m\u001b[K\u001b[01;31m\u001b[K5\u001b[m\u001b[K\u001b[01;31m\u001b[K5\u001b[m\u001b[K.\u001b[01;31m\u001b[K2\u001b[m\u001b[K\u001b[01;31m\u001b[K5\u001b[m\u001b[K\u001b[01;31m\u001b[K5\u001b[m\u001b[K\n",
      "\u001b[01;31m\u001b[K1\u001b[m\u001b[K\u001b[01;31m\u001b[K0\u001b[m\u001b[K.\u001b[01;31m\u001b[K0\u001b[m\u001b[K.\u001b[01;31m\u001b[K0\u001b[m\u001b[K\n",
      "\u001b[01;31m\u001b[K1\u001b[m\u001b[K\u001b[01;31m\u001b[K7\u001b[m\u001b[K\u001b[01;31m\u001b[K2\u001b[m\u001b[K.\u001b[01;31m\u001b[K1\u001b[m\u001b[K\u001b[01;31m\u001b[K6\u001b[m\u001b[K.\u001b[01;31m\u001b[K2\u001b[m\u001b[K\u001b[01;31m\u001b[K5\u001b[m\u001b[K\u001b[01;31m\u001b[K4\u001b[m\u001b[K.\u001b[01;31m\u001b[K9\u001b[m\u001b[K\u001b[01;31m\u001b[K9\u001b[m\u001b[K\u001b[01;31m\u001b[K9\u001b[m\u001b[K\n",
      "\u001b[01;31m\u001b[K2\u001b[m\u001b[K\u001b[01;31m\u001b[K0\u001b[m\u001b[K\u001b[01;31m\u001b[K2\u001b[m\u001b[K\u001b[01;31m\u001b[K5\u001b[m\u001b[K-\u001b[01;31m\u001b[K0\u001b[m\u001b[K\u001b[01;31m\u001b[K1\u001b[m\u001b[K-\u001b[01;31m\u001b[K2\u001b[m\u001b[K\u001b[01;31m\u001b[K8\u001b[m\u001b[K\n",
      "\u001b[01;31m\u001b[K2\u001b[m\u001b[K\u001b[01;31m\u001b[K8\u001b[m\u001b[K/\u001b[01;31m\u001b[K0\u001b[m\u001b[K\u001b[01;31m\u001b[K1\u001b[m\u001b[K/\u001b[01;31m\u001b[K2\u001b[m\u001b[K\u001b[01;31m\u001b[K0\u001b[m\u001b[K\u001b[01;31m\u001b[K2\u001b[m\u001b[K\u001b[01;31m\u001b[K5\u001b[m\u001b[K\n",
      "\u001b[01;31m\u001b[K0\u001b[m\u001b[K\u001b[01;31m\u001b[K1\u001b[m\u001b[K/\u001b[01;31m\u001b[K2\u001b[m\u001b[K\u001b[01;31m\u001b[K8\u001b[m\u001b[K/\u001b[01;31m\u001b[K2\u001b[m\u001b[K\u001b[01;31m\u001b[K0\u001b[m\u001b[K\u001b[01;31m\u001b[K2\u001b[m\u001b[K\u001b[01;31m\u001b[K5\u001b[m\u001b[K\n",
      "\u001b[01;31m\u001b[K2\u001b[m\u001b[K\u001b[01;31m\u001b[K0\u001b[m\u001b[K\u001b[01;31m\u001b[K2\u001b[m\u001b[K\u001b[01;31m\u001b[K5\u001b[m\u001b[K-\u001b[01;31m\u001b[K1\u001b[m\u001b[K\u001b[01;31m\u001b[K3\u001b[m\u001b[K-\u001b[01;31m\u001b[K2\u001b[m\u001b[K\u001b[01;31m\u001b[K8\u001b[m\u001b[K\n",
      "\u001b[01;31m\u001b[K2\u001b[m\u001b[K\u001b[01;31m\u001b[K8\u001b[m\u001b[K-\u001b[01;31m\u001b[K0\u001b[m\u001b[K\u001b[01;31m\u001b[K1\u001b[m\u001b[K-\u001b[01;31m\u001b[K2\u001b[m\u001b[K\u001b[01;31m\u001b[K0\u001b[m\u001b[K\u001b[01;31m\u001b[K2\u001b[m\u001b[K\u001b[01;31m\u001b[K5\u001b[m\u001b[K\n",
      "\u001b[01;31m\u001b[K3\u001b[m\u001b[K\u001b[01;31m\u001b[K1\u001b[m\u001b[K/\u001b[01;31m\u001b[K0\u001b[m\u001b[K\u001b[01;31m\u001b[K2\u001b[m\u001b[K/\u001b[01;31m\u001b[K2\u001b[m\u001b[K\u001b[01;31m\u001b[K0\u001b[m\u001b[K\u001b[01;31m\u001b[K2\u001b[m\u001b[K\u001b[01;31m\u001b[K5\u001b[m\u001b[K\n",
      "\u001b[01;31m\u001b[K0\u001b[m\u001b[K\u001b[01;31m\u001b[K1\u001b[m\u001b[K\u001b[01;31m\u001b[K0\u001b[m\u001b[K\u001b[01;31m\u001b[K0\u001b[m\u001b[K\u001b[01;31m\u001b[K1\u001b[m\u001b[K-\u001b[01;31m\u001b[K0\u001b[m\u001b[K\u001b[01;31m\u001b[K0\u001b[m\u001b[K\u001b[01;31m\u001b[K0\u001b[m\u001b[K\n",
      "\u001b[01;31m\u001b[K1\u001b[m\u001b[K\u001b[01;31m\u001b[K2\u001b[m\u001b[K\u001b[01;31m\u001b[K3\u001b[m\u001b[K\u001b[01;31m\u001b[K4\u001b[m\u001b[K\u001b[01;31m\u001b[K5\u001b[m\u001b[K-\u001b[01;31m\u001b[K6\u001b[m\u001b[K\u001b[01;31m\u001b[K7\u001b[m\u001b[K\u001b[01;31m\u001b[K8\u001b[m\u001b[K\n",
      "\u001b[01;31m\u001b[K1\u001b[m\u001b[K\u001b[01;31m\u001b[K2\u001b[m\u001b[K\u001b[01;31m\u001b[K3\u001b[m\u001b[K\u001b[01;31m\u001b[K4\u001b[m\u001b[K\u001b[01;31m\u001b[K5\u001b[m\u001b[K\u001b[01;31m\u001b[K6\u001b[m\u001b[K\u001b[01;31m\u001b[K7\u001b[m\u001b[K\u001b[01;31m\u001b[K8\u001b[m\u001b[K\n",
      "\u001b[01;31m\u001b[K1\u001b[m\u001b[K\u001b[01;31m\u001b[K2\u001b[m\u001b[K-\u001b[01;31m\u001b[K3\u001b[m\u001b[K\u001b[01;31m\u001b[K4\u001b[m\u001b[K\u001b[01;31m\u001b[K5\u001b[m\u001b[K\n",
      "\u001b[01;31m\u001b[K1\u001b[m\u001b[K\u001b[01;31m\u001b[K2\u001b[m\u001b[K\u001b[01;31m\u001b[K3\u001b[m\u001b[K\n",
      "\u001b[01;31m\u001b[K0\u001b[m\u001b[K.\u001b[01;31m\u001b[K4\u001b[m\u001b[K\u001b[01;31m\u001b[K5\u001b[m\u001b[K\u001b[01;31m\u001b[K6\u001b[m\u001b[K\n",
      "-\u001b[01;31m\u001b[K7\u001b[m\u001b[K\u001b[01;31m\u001b[K8\u001b[m\u001b[K\u001b[01;31m\u001b[K9\u001b[m\u001b[K\n",
      "+\u001b[01;31m\u001b[K0\u001b[m\u001b[K.\u001b[01;31m\u001b[K1\u001b[m\u001b[K\u001b[01;31m\u001b[K2\u001b[m\u001b[K\n",
      "\u001b[01;31m\u001b[K1\u001b[m\u001b[K\u001b[01;31m\u001b[K2\u001b[m\u001b[K\u001b[01;31m\u001b[K3\u001b[m\u001b[Kabc\n",
      "- \u001b[01;31m\u001b[K4\u001b[m\u001b[K\u001b[01;31m\u001b[K5\u001b[m\u001b[K\u001b[01;31m\u001b[K6\u001b[m\u001b[K\n",
      "+ \u001b[01;31m\u001b[K0\u001b[m\u001b[K.\u001b[01;31m\u001b[K1\u001b[m\u001b[K\u001b[01;31m\u001b[K2\u001b[m\u001b[K\n",
      "regex\u001b[01;31m\u001b[K1\u001b[m\u001b[K\u001b[01;31m\u001b[K2\u001b[m\u001b[K\u001b[01;31m\u001b[K3\u001b[m\u001b[K\n",
      "\u001b[01;31m\u001b[K1\u001b[m\u001b[K\u001b[01;31m\u001b[K2\u001b[m\u001b[K\u001b[01;31m\u001b[K3\u001b[m\u001b[Kregex\n",
      "dahdjk\u001b[01;31m\u001b[K1\u001b[m\u001b[Kabcslklsad\n"
     ]
    }
   ],
   "source": [
    "# Exemplos usando grep.\n",
    "# Encontrar todos as linhas com valores numéricos em um documento.\n",
    "\n",
    "grep -E [0-9] regex.txt"
   ]
  },
  {
   "cell_type": "code",
   "execution_count": 2,
   "id": "3cbb5a4a-3cf7-4b65-8fa9-d95508838fb4",
   "metadata": {},
   "outputs": [
    {
     "name": "stdout",
     "output_type": "stream",
     "text": [
      "55119123456781191234567811912345678180012345671234567811912345678119123456789192168012552552552551000117216254119216802562562552552551000172162549992025012828012025012820252025132828012025310220250100100012345678123456781234512304567890121234560121231231\n"
     ]
    }
   ],
   "source": [
    "# Usando a flag -o para encontrar apenas os números\n",
    "grep -E -o [0-9] regex.txt | tr -d '\\n' # Pipe para evitar que cada número seja impresso em uma nova linha"
   ]
  },
  {
   "cell_type": "markdown",
   "id": "64649e75-ac4b-4c40-8221-f7b1652a0b9f",
   "metadata": {},
   "source": [
    "Existem conjuntos de caracteres que já estão definidos em classes para agilizar algumas buscas. A sintaxe é [:CLASS:]. Onde classe pode ser qualquer* um dos valores. Lembrando que a sintaxe [:CLASS:] tem que ir dentro do [] para buscar um conjunto da classe.\n",
    "| Classe| Descrição |\n",
    "|-------|-----------|\n",
    "| \"alnum\"| Classe dos (?). |\n",
    "| \"alpha\"| Classe dos alfanuméricos. |\n",
    "| \"ascii\"| Classe dos ascii ((?) não funcionou, acredito que seja por conta do meu teclado estar em uft8 (?)). |\n",
    "| \"blank\"| Encontra frases, linhas que possuem espaço(s) em sua composição.|\n",
    "| \"cntrl\"| (?) Também não funcionou, eu pensei que poderia ser caracteres de controle, como nova linha e etc). |\n",
    "| \"digit\"| Retorna todas as linhas com números em sua composição. |\n",
    "| \"graph\"| (?). No meu teste imprimiu o texto inteiro do arquivo. |\n",
    "| \"lower\"| Retorna todas as minúsculas. |\n",
    "| \"upper\"| Corresponde com as maiúsculas. | \n",
    "| \"print\"| (?). Também retornou o arquivo todo. |\n",
    "| \"punct\"| Corresponde com os símbolos no texto. |\n",
    "| \"space\"| (?). Qual a diferença do space para o blank? | \n",
    "| \"word\" | (?). Não funcionou. Talvez não funciona com o grep? |\n",
    "|\"xdigit\"| Classe que corresponderá com todos os digitos hexadecimais. |"
   ]
  },
  {
   "cell_type": "code",
   "execution_count": 3,
   "id": "13a8b373-2f16-4390-94b1-abe61f802bb1",
   "metadata": {},
   "outputs": [],
   "source": [
    "# Não sei\n",
    "# grep -E [[:cntrl:]] regex.txt"
   ]
  },
  {
   "cell_type": "code",
   "execution_count": 4,
   "id": "b9b6af8c-a2ed-4801-a68f-1695437b13cb",
   "metadata": {
    "scrolled": true
   },
   "outputs": [
    {
     "name": "stdout",
     "output_type": "stream",
     "text": [
      "#\u001b[01;31m\u001b[KA\u001b[m\u001b[Krquivo\u001b[01;31m\u001b[Kd\u001b[m\u001b[K\u001b[01;31m\u001b[Ke\u001b[m\u001b[K \u001b[01;31m\u001b[Ke\u001b[m\u001b[Kx\u001b[01;31m\u001b[Ke\u001b[m\u001b[Kmplosp\u001b[01;31m\u001b[Ka\u001b[m\u001b[Kr\u001b[01;31m\u001b[Ka\u001b[m\u001b[Kpráti\u001b[01;31m\u001b[Kc\u001b[m\u001b[K\u001b[01;31m\u001b[Ka\u001b[m\u001b[K\u001b[01;31m\u001b[Kd\u001b[m\u001b[K\u001b[01;31m\u001b[Ke\u001b[m\u001b[K\n",
      "#R\u001b[01;31m\u001b[Ke\u001b[m\u001b[Kg\u001b[01;31m\u001b[Ke\u001b[m\u001b[Kx\n",
      "# \u001b[01;31m\u001b[KE\u001b[m\u001b[Km\u001b[01;31m\u001b[Ka\u001b[m\u001b[Kils váli\u001b[01;31m\u001b[Kd\u001b[m\u001b[Kos\n",
      "usu\u001b[01;31m\u001b[Ka\u001b[m\u001b[Krio@\u001b[01;31m\u001b[Ke\u001b[m\u001b[Kx\u001b[01;31m\u001b[Ke\u001b[m\u001b[Kmplo.\u001b[01;31m\u001b[Kc\u001b[m\u001b[Kom\n",
      "\u001b[01;31m\u001b[Ke\u001b[m\u001b[Km\u001b[01;31m\u001b[Ka\u001b[m\u001b[Kil.t\u001b[01;31m\u001b[Ke\u001b[m\u001b[Kst@\u001b[01;31m\u001b[Kd\u001b[m\u001b[Kom\u001b[01;31m\u001b[Ka\u001b[m\u001b[Kin.org\n",
      "prim\u001b[01;31m\u001b[Ke\u001b[m\u001b[Kiro_ultimo@\u001b[01;31m\u001b[Ke\u001b[m\u001b[Kmpr\u001b[01;31m\u001b[Ke\u001b[m\u001b[Ks\u001b[01;31m\u001b[Ka\u001b[m\u001b[K.\u001b[01;31m\u001b[Kc\u001b[m\u001b[Ko\n",
      "\u001b[01;31m\u001b[Ke\u001b[m\u001b[Km\u001b[01;31m\u001b[Ka\u001b[m\u001b[Kil+\u001b[01;31m\u001b[Ka\u001b[m\u001b[Kli\u001b[01;31m\u001b[Ka\u001b[m\u001b[Ks@gm\u001b[01;31m\u001b[Ka\u001b[m\u001b[Kil.\u001b[01;31m\u001b[Kc\u001b[m\u001b[Kom\n",
      "# \u001b[01;31m\u001b[KE\u001b[m\u001b[Km\u001b[01;31m\u001b[Ka\u001b[m\u001b[Kils inváli\u001b[01;31m\u001b[Kd\u001b[m\u001b[Kos\n",
      "usu\u001b[01;31m\u001b[Ka\u001b[m\u001b[Krio@@\u001b[01;31m\u001b[Ke\u001b[m\u001b[Kx\u001b[01;31m\u001b[Ke\u001b[m\u001b[Kmplo.\u001b[01;31m\u001b[Kc\u001b[m\u001b[Kom\n",
      "\u001b[01;31m\u001b[Ke\u001b[m\u001b[Km\u001b[01;31m\u001b[Ka\u001b[m\u001b[Kil..t\u001b[01;31m\u001b[Ke\u001b[m\u001b[Kst@\u001b[01;31m\u001b[Kd\u001b[m\u001b[Kom\u001b[01;31m\u001b[Ka\u001b[m\u001b[Kin.org\n",
      "usu\u001b[01;31m\u001b[Ka\u001b[m\u001b[Krio@.\u001b[01;31m\u001b[Kc\u001b[m\u001b[Kom\n",
      "\u001b[01;31m\u001b[Ke\u001b[m\u001b[Km\u001b[01;31m\u001b[Ka\u001b[m\u001b[Kil-s\u001b[01;31m\u001b[Ke\u001b[m\u001b[Km-\u001b[01;31m\u001b[Ka\u001b[m\u001b[Krro\u001b[01;31m\u001b[Kb\u001b[m\u001b[K\u001b[01;31m\u001b[Ka\u001b[m\u001b[K.\u001b[01;31m\u001b[Kc\u001b[m\u001b[Kom\n",
      "# T\u001b[01;31m\u001b[Ke\u001b[m\u001b[Kl\u001b[01;31m\u001b[Ke\u001b[m\u001b[K\u001b[01;31m\u001b[Kf\u001b[m\u001b[Kon\u001b[01;31m\u001b[Ke\u001b[m\u001b[Ks váli\u001b[01;31m\u001b[Kd\u001b[m\u001b[Kos\n",
      "+\u001b[01;31m\u001b[K5\u001b[m\u001b[K\u001b[01;31m\u001b[K5\u001b[m\u001b[K \u001b[01;31m\u001b[K1\u001b[m\u001b[K\u001b[01;31m\u001b[K1\u001b[m\u001b[K \u001b[01;31m\u001b[K9\u001b[m\u001b[K\u001b[01;31m\u001b[K1\u001b[m\u001b[K\u001b[01;31m\u001b[K2\u001b[m\u001b[K\u001b[01;31m\u001b[K3\u001b[m\u001b[K\u001b[01;31m\u001b[K4\u001b[m\u001b[K-\u001b[01;31m\u001b[K5\u001b[m\u001b[K\u001b[01;31m\u001b[K6\u001b[m\u001b[K\u001b[01;31m\u001b[K7\u001b[m\u001b[K\u001b[01;31m\u001b[K8\u001b[m\u001b[K\n",
      "(\u001b[01;31m\u001b[K1\u001b[m\u001b[K\u001b[01;31m\u001b[K1\u001b[m\u001b[K) \u001b[01;31m\u001b[K9\u001b[m\u001b[K\u001b[01;31m\u001b[K1\u001b[m\u001b[K\u001b[01;31m\u001b[K2\u001b[m\u001b[K\u001b[01;31m\u001b[K3\u001b[m\u001b[K\u001b[01;31m\u001b[K4\u001b[m\u001b[K-\u001b[01;31m\u001b[K5\u001b[m\u001b[K\u001b[01;31m\u001b[K6\u001b[m\u001b[K\u001b[01;31m\u001b[K7\u001b[m\u001b[K\u001b[01;31m\u001b[K8\u001b[m\u001b[K\n",
      "\u001b[01;31m\u001b[K1\u001b[m\u001b[K\u001b[01;31m\u001b[K1\u001b[m\u001b[K \u001b[01;31m\u001b[K9\u001b[m\u001b[K\u001b[01;31m\u001b[K1\u001b[m\u001b[K\u001b[01;31m\u001b[K2\u001b[m\u001b[K\u001b[01;31m\u001b[K3\u001b[m\u001b[K\u001b[01;31m\u001b[K4\u001b[m\u001b[K-\u001b[01;31m\u001b[K5\u001b[m\u001b[K\u001b[01;31m\u001b[K6\u001b[m\u001b[K\u001b[01;31m\u001b[K7\u001b[m\u001b[K\u001b[01;31m\u001b[K8\u001b[m\u001b[K\n",
      "+\u001b[01;31m\u001b[K1\u001b[m\u001b[K \u001b[01;31m\u001b[K8\u001b[m\u001b[K\u001b[01;31m\u001b[K0\u001b[m\u001b[K\u001b[01;31m\u001b[K0\u001b[m\u001b[K-\u001b[01;31m\u001b[K1\u001b[m\u001b[K\u001b[01;31m\u001b[K2\u001b[m\u001b[K\u001b[01;31m\u001b[K3\u001b[m\u001b[K-\u001b[01;31m\u001b[K4\u001b[m\u001b[K\u001b[01;31m\u001b[K5\u001b[m\u001b[K\u001b[01;31m\u001b[K6\u001b[m\u001b[K\u001b[01;31m\u001b[K7\u001b[m\u001b[K\n",
      "# T\u001b[01;31m\u001b[Ke\u001b[m\u001b[Kl\u001b[01;31m\u001b[Ke\u001b[m\u001b[K\u001b[01;31m\u001b[Kf\u001b[m\u001b[Kon\u001b[01;31m\u001b[Ke\u001b[m\u001b[Ks inváli\u001b[01;31m\u001b[Kd\u001b[m\u001b[Kos\n",
      "\u001b[01;31m\u001b[K1\u001b[m\u001b[K\u001b[01;31m\u001b[K2\u001b[m\u001b[K\u001b[01;31m\u001b[K3\u001b[m\u001b[K\u001b[01;31m\u001b[K4\u001b[m\u001b[K\u001b[01;31m\u001b[K5\u001b[m\u001b[K\u001b[01;31m\u001b[K6\u001b[m\u001b[K\u001b[01;31m\u001b[K7\u001b[m\u001b[K\u001b[01;31m\u001b[K8\u001b[m\u001b[K\n",
      "(\u001b[01;31m\u001b[K1\u001b[m\u001b[K\u001b[01;31m\u001b[K1\u001b[m\u001b[K \u001b[01;31m\u001b[K9\u001b[m\u001b[K\u001b[01;31m\u001b[K1\u001b[m\u001b[K\u001b[01;31m\u001b[K2\u001b[m\u001b[K\u001b[01;31m\u001b[K3\u001b[m\u001b[K\u001b[01;31m\u001b[K4\u001b[m\u001b[K-\u001b[01;31m\u001b[K5\u001b[m\u001b[K\u001b[01;31m\u001b[K6\u001b[m\u001b[K\u001b[01;31m\u001b[K7\u001b[m\u001b[K\u001b[01;31m\u001b[K8\u001b[m\u001b[K\n",
      "\u001b[01;31m\u001b[K1\u001b[m\u001b[K\u001b[01;31m\u001b[K1\u001b[m\u001b[K \u001b[01;31m\u001b[K9\u001b[m\u001b[K\u001b[01;31m\u001b[K1\u001b[m\u001b[K\u001b[01;31m\u001b[K2\u001b[m\u001b[K\u001b[01;31m\u001b[K3\u001b[m\u001b[K\u001b[01;31m\u001b[K4\u001b[m\u001b[K-\u001b[01;31m\u001b[K5\u001b[m\u001b[K\u001b[01;31m\u001b[K6\u001b[m\u001b[K\u001b[01;31m\u001b[K7\u001b[m\u001b[K\u001b[01;31m\u001b[K8\u001b[m\u001b[K\u001b[01;31m\u001b[K9\u001b[m\u001b[K\n",
      "# \u001b[01;31m\u001b[KE\u001b[m\u001b[Kn\u001b[01;31m\u001b[Kd\u001b[m\u001b[K\u001b[01;31m\u001b[Ke\u001b[m\u001b[Kr\u001b[01;31m\u001b[Ke\u001b[m\u001b[Kços IP váli\u001b[01;31m\u001b[Kd\u001b[m\u001b[Kos\n",
      "\u001b[01;31m\u001b[K1\u001b[m\u001b[K\u001b[01;31m\u001b[K9\u001b[m\u001b[K\u001b[01;31m\u001b[K2\u001b[m\u001b[K.\u001b[01;31m\u001b[K1\u001b[m\u001b[K\u001b[01;31m\u001b[K6\u001b[m\u001b[K\u001b[01;31m\u001b[K8\u001b[m\u001b[K.\u001b[01;31m\u001b[K0\u001b[m\u001b[K.\u001b[01;31m\u001b[K1\u001b[m\u001b[K\n",
      "\u001b[01;31m\u001b[K2\u001b[m\u001b[K\u001b[01;31m\u001b[K5\u001b[m\u001b[K\u001b[01;31m\u001b[K5\u001b[m\u001b[K.\u001b[01;31m\u001b[K2\u001b[m\u001b[K\u001b[01;31m\u001b[K5\u001b[m\u001b[K\u001b[01;31m\u001b[K5\u001b[m\u001b[K.\u001b[01;31m\u001b[K2\u001b[m\u001b[K\u001b[01;31m\u001b[K5\u001b[m\u001b[K\u001b[01;31m\u001b[K5\u001b[m\u001b[K.\u001b[01;31m\u001b[K2\u001b[m\u001b[K\u001b[01;31m\u001b[K5\u001b[m\u001b[K\u001b[01;31m\u001b[K5\u001b[m\u001b[K\\?*\n",
      "\u001b[01;31m\u001b[K1\u001b[m\u001b[K\u001b[01;31m\u001b[K0\u001b[m\u001b[K.\u001b[01;31m\u001b[K0\u001b[m\u001b[K.\u001b[01;31m\u001b[K0\u001b[m\u001b[K.\u001b[01;31m\u001b[K1\u001b[m\u001b[K\n",
      "\u001b[01;31m\u001b[K1\u001b[m\u001b[K\u001b[01;31m\u001b[K7\u001b[m\u001b[K\u001b[01;31m\u001b[K2\u001b[m\u001b[K.\u001b[01;31m\u001b[K1\u001b[m\u001b[K\u001b[01;31m\u001b[K6\u001b[m\u001b[K.\u001b[01;31m\u001b[K2\u001b[m\u001b[K\u001b[01;31m\u001b[K5\u001b[m\u001b[K\u001b[01;31m\u001b[K4\u001b[m\u001b[K.\u001b[01;31m\u001b[K1\u001b[m\u001b[K\n",
      "# \u001b[01;31m\u001b[KE\u001b[m\u001b[Kn\u001b[01;31m\u001b[Kd\u001b[m\u001b[K\u001b[01;31m\u001b[Ke\u001b[m\u001b[Kr\u001b[01;31m\u001b[Ke\u001b[m\u001b[Kços IP inváli\u001b[01;31m\u001b[Kd\u001b[m\u001b[Kos\n",
      "\u001b[01;31m\u001b[K1\u001b[m\u001b[K\u001b[01;31m\u001b[K9\u001b[m\u001b[K\u001b[01;31m\u001b[K2\u001b[m\u001b[K.\u001b[01;31m\u001b[K1\u001b[m\u001b[K\u001b[01;31m\u001b[K6\u001b[m\u001b[K\u001b[01;31m\u001b[K8\u001b[m\u001b[K.\u001b[01;31m\u001b[K0\u001b[m\u001b[K.\u001b[01;31m\u001b[K2\u001b[m\u001b[K\u001b[01;31m\u001b[K5\u001b[m\u001b[K\u001b[01;31m\u001b[K6\u001b[m\u001b[K\n",
      "\u001b[01;31m\u001b[K2\u001b[m\u001b[K\u001b[01;31m\u001b[K5\u001b[m\u001b[K\u001b[01;31m\u001b[K6\u001b[m\u001b[K.\u001b[01;31m\u001b[K2\u001b[m\u001b[K\u001b[01;31m\u001b[K5\u001b[m\u001b[K\u001b[01;31m\u001b[K5\u001b[m\u001b[K.\u001b[01;31m\u001b[K2\u001b[m\u001b[K\u001b[01;31m\u001b[K5\u001b[m\u001b[K\u001b[01;31m\u001b[K5\u001b[m\u001b[K.\u001b[01;31m\u001b[K2\u001b[m\u001b[K\u001b[01;31m\u001b[K5\u001b[m\u001b[K\u001b[01;31m\u001b[K5\u001b[m\u001b[K\n",
      "\u001b[01;31m\u001b[K1\u001b[m\u001b[K\u001b[01;31m\u001b[K0\u001b[m\u001b[K.\u001b[01;31m\u001b[K0\u001b[m\u001b[K.\u001b[01;31m\u001b[K0\u001b[m\u001b[K\n",
      "\u001b[01;31m\u001b[K1\u001b[m\u001b[K\u001b[01;31m\u001b[K7\u001b[m\u001b[K\u001b[01;31m\u001b[K2\u001b[m\u001b[K.\u001b[01;31m\u001b[K1\u001b[m\u001b[K\u001b[01;31m\u001b[K6\u001b[m\u001b[K.\u001b[01;31m\u001b[K2\u001b[m\u001b[K\u001b[01;31m\u001b[K5\u001b[m\u001b[K\u001b[01;31m\u001b[K4\u001b[m\u001b[K.\u001b[01;31m\u001b[K9\u001b[m\u001b[K\u001b[01;31m\u001b[K9\u001b[m\u001b[K\u001b[01;31m\u001b[K9\u001b[m\u001b[K\n",
      "# \u001b[01;31m\u001b[KD\u001b[m\u001b[K\u001b[01;31m\u001b[Ka\u001b[m\u001b[Kt\u001b[01;31m\u001b[Ka\u001b[m\u001b[Ks váli\u001b[01;31m\u001b[Kd\u001b[m\u001b[K\u001b[01;31m\u001b[Ka\u001b[m\u001b[Ks\n",
      "\u001b[01;31m\u001b[K2\u001b[m\u001b[K\u001b[01;31m\u001b[K0\u001b[m\u001b[K\u001b[01;31m\u001b[K2\u001b[m\u001b[K\u001b[01;31m\u001b[K5\u001b[m\u001b[K-\u001b[01;31m\u001b[K0\u001b[m\u001b[K\u001b[01;31m\u001b[K1\u001b[m\u001b[K-\u001b[01;31m\u001b[K2\u001b[m\u001b[K\u001b[01;31m\u001b[K8\u001b[m\u001b[K\n",
      "\u001b[01;31m\u001b[K2\u001b[m\u001b[K\u001b[01;31m\u001b[K8\u001b[m\u001b[K/\u001b[01;31m\u001b[K0\u001b[m\u001b[K\u001b[01;31m\u001b[K1\u001b[m\u001b[K/\u001b[01;31m\u001b[K2\u001b[m\u001b[K\u001b[01;31m\u001b[K0\u001b[m\u001b[K\u001b[01;31m\u001b[K2\u001b[m\u001b[K\u001b[01;31m\u001b[K5\u001b[m\u001b[K\n",
      "\u001b[01;31m\u001b[K0\u001b[m\u001b[K\u001b[01;31m\u001b[K1\u001b[m\u001b[K/\u001b[01;31m\u001b[K2\u001b[m\u001b[K\u001b[01;31m\u001b[K8\u001b[m\u001b[K/\u001b[01;31m\u001b[K2\u001b[m\u001b[K\u001b[01;31m\u001b[K0\u001b[m\u001b[K\u001b[01;31m\u001b[K2\u001b[m\u001b[K\u001b[01;31m\u001b[K5\u001b[m\u001b[K\n",
      "# \u001b[01;31m\u001b[KD\u001b[m\u001b[K\u001b[01;31m\u001b[Ka\u001b[m\u001b[Kt\u001b[01;31m\u001b[Ka\u001b[m\u001b[Ks inváli\u001b[01;31m\u001b[Kd\u001b[m\u001b[K\u001b[01;31m\u001b[Ka\u001b[m\u001b[Ks\n",
      "\u001b[01;31m\u001b[K2\u001b[m\u001b[K\u001b[01;31m\u001b[K0\u001b[m\u001b[K\u001b[01;31m\u001b[K2\u001b[m\u001b[K\u001b[01;31m\u001b[K5\u001b[m\u001b[K-\u001b[01;31m\u001b[K1\u001b[m\u001b[K\u001b[01;31m\u001b[K3\u001b[m\u001b[K-\u001b[01;31m\u001b[K2\u001b[m\u001b[K\u001b[01;31m\u001b[K8\u001b[m\u001b[K\n",
      "\u001b[01;31m\u001b[K2\u001b[m\u001b[K\u001b[01;31m\u001b[K8\u001b[m\u001b[K-\u001b[01;31m\u001b[K0\u001b[m\u001b[K\u001b[01;31m\u001b[K1\u001b[m\u001b[K-\u001b[01;31m\u001b[K2\u001b[m\u001b[K\u001b[01;31m\u001b[K0\u001b[m\u001b[K\u001b[01;31m\u001b[K2\u001b[m\u001b[K\u001b[01;31m\u001b[K5\u001b[m\u001b[K\n",
      "\u001b[01;31m\u001b[K3\u001b[m\u001b[K\u001b[01;31m\u001b[K1\u001b[m\u001b[K/\u001b[01;31m\u001b[K0\u001b[m\u001b[K\u001b[01;31m\u001b[K2\u001b[m\u001b[K/\u001b[01;31m\u001b[K2\u001b[m\u001b[K\u001b[01;31m\u001b[K0\u001b[m\u001b[K\u001b[01;31m\u001b[K2\u001b[m\u001b[K\u001b[01;31m\u001b[K5\u001b[m\u001b[K\n",
      "# URLs váli\u001b[01;31m\u001b[Kd\u001b[m\u001b[K\u001b[01;31m\u001b[Ka\u001b[m\u001b[Ks\n",
      "https://www.googl\u001b[01;31m\u001b[Ke\u001b[m\u001b[K.\u001b[01;31m\u001b[Kc\u001b[m\u001b[Kom\n",
      "http://\u001b[01;31m\u001b[Ke\u001b[m\u001b[Kx\u001b[01;31m\u001b[Ka\u001b[m\u001b[Kmpl\u001b[01;31m\u001b[Ke\u001b[m\u001b[K.org\n",
      "www.m\u001b[01;31m\u001b[Ke\u001b[m\u001b[Kusit\u001b[01;31m\u001b[Ke\u001b[m\u001b[K.\u001b[01;31m\u001b[Kc\u001b[m\u001b[Kom\n",
      "\u001b[01;31m\u001b[Kf\u001b[m\u001b[Ktp://\u001b[01;31m\u001b[Kf\u001b[m\u001b[Ktp.\u001b[01;31m\u001b[Ke\u001b[m\u001b[Kx\u001b[01;31m\u001b[Ke\u001b[m\u001b[Kmplo.\u001b[01;31m\u001b[Kc\u001b[m\u001b[Kom\n",
      "# URLs inváli\u001b[01;31m\u001b[Kd\u001b[m\u001b[K\u001b[01;31m\u001b[Ka\u001b[m\u001b[Ks\n",
      "htp://www.googl\u001b[01;31m\u001b[Ke\u001b[m\u001b[K.\u001b[01;31m\u001b[Kc\u001b[m\u001b[Kom\n",
      "http:/\u001b[01;31m\u001b[Ke\u001b[m\u001b[Kx\u001b[01;31m\u001b[Ka\u001b[m\u001b[Kmpl\u001b[01;31m\u001b[Ke\u001b[m\u001b[K.org\n",
      "m\u001b[01;31m\u001b[Ke\u001b[m\u001b[Kusit\u001b[01;31m\u001b[Ke\u001b[m\u001b[K,\u001b[01;31m\u001b[Kc\u001b[m\u001b[Kom\n",
      "\u001b[01;31m\u001b[Kf\u001b[m\u001b[Ktp:/\u001b[01;31m\u001b[Kf\u001b[m\u001b[Ktp.\u001b[01;31m\u001b[Ke\u001b[m\u001b[Kx\u001b[01;31m\u001b[Ke\u001b[m\u001b[Kmplo.\u001b[01;31m\u001b[Kc\u001b[m\u001b[Kom\n",
      "# \u001b[01;31m\u001b[KC\u001b[m\u001b[Kó\u001b[01;31m\u001b[Kd\u001b[m\u001b[Kigos Post\u001b[01;31m\u001b[Ka\u001b[m\u001b[Kis (\u001b[01;31m\u001b[KB\u001b[m\u001b[Kr\u001b[01;31m\u001b[Ka\u001b[m\u001b[Ksil)\n",
      "\u001b[01;31m\u001b[K0\u001b[m\u001b[K\u001b[01;31m\u001b[K1\u001b[m\u001b[K\u001b[01;31m\u001b[K0\u001b[m\u001b[K\u001b[01;31m\u001b[K0\u001b[m\u001b[K\u001b[01;31m\u001b[K1\u001b[m\u001b[K-\u001b[01;31m\u001b[K0\u001b[m\u001b[K\u001b[01;31m\u001b[K0\u001b[m\u001b[K\u001b[01;31m\u001b[K0\u001b[m\u001b[K\n",
      "\u001b[01;31m\u001b[K1\u001b[m\u001b[K\u001b[01;31m\u001b[K2\u001b[m\u001b[K\u001b[01;31m\u001b[K3\u001b[m\u001b[K\u001b[01;31m\u001b[K4\u001b[m\u001b[K\u001b[01;31m\u001b[K5\u001b[m\u001b[K-\u001b[01;31m\u001b[K6\u001b[m\u001b[K\u001b[01;31m\u001b[K7\u001b[m\u001b[K\u001b[01;31m\u001b[K8\u001b[m\u001b[K\n",
      "# \u001b[01;31m\u001b[KC\u001b[m\u001b[Kó\u001b[01;31m\u001b[Kd\u001b[m\u001b[Kigos Post\u001b[01;31m\u001b[Ka\u001b[m\u001b[Kis inváli\u001b[01;31m\u001b[Kd\u001b[m\u001b[Kos\n",
      "\u001b[01;31m\u001b[K1\u001b[m\u001b[K\u001b[01;31m\u001b[K2\u001b[m\u001b[K\u001b[01;31m\u001b[K3\u001b[m\u001b[K\u001b[01;31m\u001b[K4\u001b[m\u001b[K\u001b[01;31m\u001b[K5\u001b[m\u001b[K\u001b[01;31m\u001b[K6\u001b[m\u001b[K\u001b[01;31m\u001b[K7\u001b[m\u001b[K\u001b[01;31m\u001b[K8\u001b[m\u001b[K\n",
      "\u001b[01;31m\u001b[K1\u001b[m\u001b[K\u001b[01;31m\u001b[K2\u001b[m\u001b[K-\u001b[01;31m\u001b[K3\u001b[m\u001b[K\u001b[01;31m\u001b[K4\u001b[m\u001b[K\u001b[01;31m\u001b[K5\u001b[m\u001b[K\n",
      "# Núm\u001b[01;31m\u001b[Ke\u001b[m\u001b[Kros váli\u001b[01;31m\u001b[Kd\u001b[m\u001b[Kos\n",
      "\u001b[01;31m\u001b[K1\u001b[m\u001b[K\u001b[01;31m\u001b[K2\u001b[m\u001b[K\u001b[01;31m\u001b[K3\u001b[m\u001b[K\n",
      "\u001b[01;31m\u001b[K0\u001b[m\u001b[K.\u001b[01;31m\u001b[K4\u001b[m\u001b[K\u001b[01;31m\u001b[K5\u001b[m\u001b[K\u001b[01;31m\u001b[K6\u001b[m\u001b[K\n",
      "-\u001b[01;31m\u001b[K7\u001b[m\u001b[K\u001b[01;31m\u001b[K8\u001b[m\u001b[K\u001b[01;31m\u001b[K9\u001b[m\u001b[K\n",
      "+\u001b[01;31m\u001b[K0\u001b[m\u001b[K.\u001b[01;31m\u001b[K1\u001b[m\u001b[K\u001b[01;31m\u001b[K2\u001b[m\u001b[K\n",
      "# Núm\u001b[01;31m\u001b[Ke\u001b[m\u001b[Kros inváli\u001b[01;31m\u001b[Kd\u001b[m\u001b[Kos\n",
      "\u001b[01;31m\u001b[K1\u001b[m\u001b[K\u001b[01;31m\u001b[K2\u001b[m\u001b[K\u001b[01;31m\u001b[K3\u001b[m\u001b[K\u001b[01;31m\u001b[Ka\u001b[m\u001b[K\u001b[01;31m\u001b[Kb\u001b[m\u001b[K\u001b[01;31m\u001b[Kc\u001b[m\u001b[K\n",
      "- \u001b[01;31m\u001b[K4\u001b[m\u001b[K\u001b[01;31m\u001b[K5\u001b[m\u001b[K\u001b[01;31m\u001b[K6\u001b[m\u001b[K\n",
      "+ \u001b[01;31m\u001b[K0\u001b[m\u001b[K.\u001b[01;31m\u001b[K1\u001b[m\u001b[K\u001b[01;31m\u001b[K2\u001b[m\u001b[K\n",
      "# P\u001b[01;31m\u001b[Ka\u001b[m\u001b[Kl\u001b[01;31m\u001b[Ka\u001b[m\u001b[Kvr\u001b[01;31m\u001b[Ka\u001b[m\u001b[Ks váli\u001b[01;31m\u001b[Kd\u001b[m\u001b[K\u001b[01;31m\u001b[Ka\u001b[m\u001b[Ks (\u001b[01;31m\u001b[Ka\u001b[m\u001b[Kl\u001b[01;31m\u001b[Kf\u001b[m\u001b[K\u001b[01;31m\u001b[Ka\u001b[m\u001b[K\u001b[01;31m\u001b[Kb\u001b[m\u001b[Kéti\u001b[01;31m\u001b[Kc\u001b[m\u001b[K\u001b[01;31m\u001b[Ka\u001b[m\u001b[Ks \u001b[01;31m\u001b[Ka\u001b[m\u001b[Kp\u001b[01;31m\u001b[Ke\u001b[m\u001b[Kn\u001b[01;31m\u001b[Ka\u001b[m\u001b[Ks)\n",
      "r\u001b[01;31m\u001b[Ke\u001b[m\u001b[Kg\u001b[01;31m\u001b[Ke\u001b[m\u001b[Kx\n",
      "\u001b[01;31m\u001b[Kf\u001b[m\u001b[Kun\u001b[01;31m\u001b[Kc\u001b[m\u001b[Kion\u001b[01;31m\u001b[Ka\u001b[m\u001b[Kli\u001b[01;31m\u001b[Kd\u001b[m\u001b[K\u001b[01;31m\u001b[Ka\u001b[m\u001b[K\u001b[01;31m\u001b[Kd\u001b[m\u001b[K\u001b[01;31m\u001b[Ke\u001b[m\u001b[K\n",
      "pr\u001b[01;31m\u001b[Ka\u001b[m\u001b[Kti\u001b[01;31m\u001b[Kc\u001b[m\u001b[K\u001b[01;31m\u001b[Ka\u001b[m\u001b[K\n",
      "# P\u001b[01;31m\u001b[Ka\u001b[m\u001b[Kl\u001b[01;31m\u001b[Ka\u001b[m\u001b[Kvr\u001b[01;31m\u001b[Ka\u001b[m\u001b[Ks inváli\u001b[01;31m\u001b[Kd\u001b[m\u001b[K\u001b[01;31m\u001b[Ka\u001b[m\u001b[Ks\n",
      "r\u001b[01;31m\u001b[Ke\u001b[m\u001b[Kg\u001b[01;31m\u001b[Ke\u001b[m\u001b[Kx\u001b[01;31m\u001b[K1\u001b[m\u001b[K\u001b[01;31m\u001b[K2\u001b[m\u001b[K\u001b[01;31m\u001b[K3\u001b[m\u001b[K\n",
      "\u001b[01;31m\u001b[K1\u001b[m\u001b[K\u001b[01;31m\u001b[K2\u001b[m\u001b[K\u001b[01;31m\u001b[K3\u001b[m\u001b[Kr\u001b[01;31m\u001b[Ke\u001b[m\u001b[Kg\u001b[01;31m\u001b[Ke\u001b[m\u001b[Kx\n",
      "_\u001b[01;31m\u001b[Kf\u001b[m\u001b[Kunçáo\n",
      "\u001b[01;31m\u001b[Ka\u001b[m\u001b[K\u001b[01;31m\u001b[Kb\u001b[m\u001b[K\u001b[01;31m\u001b[Kc\u001b[m\u001b[K\u001b[01;31m\u001b[Kd\u001b[m\u001b[Kxyz\u001b[01;31m\u001b[Ka\u001b[m\u001b[K\u001b[01;31m\u001b[Kd\u001b[m\u001b[K\n",
      "\u001b[01;31m\u001b[Ka\u001b[m\u001b[K\u001b[01;31m\u001b[Kc\u001b[m\u001b[K\u001b[01;31m\u001b[Kd\u001b[m\u001b[K\u001b[01;31m\u001b[Ka\u001b[m\u001b[Kn\n",
      "\u001b[01;31m\u001b[Kd\u001b[m\u001b[K\u001b[01;31m\u001b[Ka\u001b[m\u001b[Kh\u001b[01;31m\u001b[Kd\u001b[m\u001b[Kjk\u001b[01;31m\u001b[K1\u001b[m\u001b[K\u001b[01;31m\u001b[Ka\u001b[m\u001b[K\u001b[01;31m\u001b[Kb\u001b[m\u001b[K\u001b[01;31m\u001b[Kc\u001b[m\u001b[Kslkls\u001b[01;31m\u001b[Ka\u001b[m\u001b[K\u001b[01;31m\u001b[Kd\u001b[m\u001b[K\n",
      "\u001b[01;31m\u001b[Ka\u001b[m\u001b[K\u001b[01;31m\u001b[Kb\u001b[m\u001b[Kv\n",
      "\u001b[01;31m\u001b[KA\u001b[m\u001b[K\u001b[01;31m\u001b[KB\u001b[m\u001b[K\u001b[01;31m\u001b[KC\u001b[m\u001b[K\u001b[01;31m\u001b[KA\u001b[m\u001b[K\u001b[01;31m\u001b[KD\u001b[m\u001b[K\u001b[01;31m\u001b[KB\u001b[m\u001b[K\u001b[01;31m\u001b[KA\u001b[m\u001b[K\u001b[01;31m\u001b[KC\u001b[m\u001b[K\u001b[01;31m\u001b[KC\u001b[m\u001b[K\u001b[01;31m\u001b[KA\u001b[m\u001b[KTG\n",
      "\u001b[01;31m\u001b[Kb\u001b[m\u001b[K\u001b[01;31m\u001b[Kc\u001b[m\u001b[K\u001b[01;31m\u001b[Kd\u001b[m\u001b[Kkhg\n",
      "joão m\u001b[01;31m\u001b[Ka\u001b[m\u001b[Krroquino m\u001b[01;31m\u001b[Ka\u001b[m\u001b[Kl\u001b[01;31m\u001b[Ka\u001b[m\u001b[Kqui\u001b[01;31m\u001b[Ka\u001b[m\u001b[Ks\n",
      "j\u001b[01;31m\u001b[Kd\u001b[m\u001b[K\u001b[01;31m\u001b[Ka\u001b[m\u001b[Ki\u001b[01;31m\u001b[Kd\u001b[m\u001b[Kk\u001b[01;31m\u001b[Kd\u001b[m\u001b[K\u001b[01;31m\u001b[Kd\u001b[m\u001b[K*\u001b[01;31m\u001b[Kf\u001b[m\u001b[Kl\u001b[01;31m\u001b[Ka\u001b[m\u001b[K\n"
     ]
    }
   ],
   "source": [
    "grep -E [[:xdigit:]] regex.txt"
   ]
  },
  {
   "cell_type": "code",
   "execution_count": 5,
   "id": "eb36e402-e408-4b9e-812c-7e639e12008c",
   "metadata": {
    "scrolled": true
   },
   "outputs": [
    {
     "name": "stdout",
     "output_type": "stream",
     "text": [
      "usuario@exemplo\u001b[01;31m\u001b[K.\u001b[m\u001b[Kcom\n",
      "email\u001b[01;31m\u001b[K.\u001b[m\u001b[Ktest@domain\u001b[01;31m\u001b[K.\u001b[m\u001b[Korg\n",
      "primeiro_ultimo@empresa\u001b[01;31m\u001b[K.\u001b[m\u001b[Kco\n",
      "email+alias@gmail\u001b[01;31m\u001b[K.\u001b[m\u001b[Kcom\n",
      "usuario@@exemplo\u001b[01;31m\u001b[K.\u001b[m\u001b[Kcom\n",
      "email\u001b[01;31m\u001b[K.\u001b[m\u001b[K\u001b[01;31m\u001b[K.\u001b[m\u001b[Ktest@domain\u001b[01;31m\u001b[K.\u001b[m\u001b[Korg\n",
      "usuario@\u001b[01;31m\u001b[K.\u001b[m\u001b[Kcom\n",
      "email-sem-arroba\u001b[01;31m\u001b[K.\u001b[m\u001b[Kcom\n",
      "+\u001b[01;31m\u001b[K5\u001b[m\u001b[K\u001b[01;31m\u001b[K5\u001b[m\u001b[K \u001b[01;31m\u001b[K1\u001b[m\u001b[K\u001b[01;31m\u001b[K1\u001b[m\u001b[K \u001b[01;31m\u001b[K9\u001b[m\u001b[K\u001b[01;31m\u001b[K1\u001b[m\u001b[K\u001b[01;31m\u001b[K2\u001b[m\u001b[K\u001b[01;31m\u001b[K3\u001b[m\u001b[K\u001b[01;31m\u001b[K4\u001b[m\u001b[K-\u001b[01;31m\u001b[K5\u001b[m\u001b[K\u001b[01;31m\u001b[K6\u001b[m\u001b[K\u001b[01;31m\u001b[K7\u001b[m\u001b[K\u001b[01;31m\u001b[K8\u001b[m\u001b[K\n",
      "(\u001b[01;31m\u001b[K1\u001b[m\u001b[K\u001b[01;31m\u001b[K1\u001b[m\u001b[K) \u001b[01;31m\u001b[K9\u001b[m\u001b[K\u001b[01;31m\u001b[K1\u001b[m\u001b[K\u001b[01;31m\u001b[K2\u001b[m\u001b[K\u001b[01;31m\u001b[K3\u001b[m\u001b[K\u001b[01;31m\u001b[K4\u001b[m\u001b[K-\u001b[01;31m\u001b[K5\u001b[m\u001b[K\u001b[01;31m\u001b[K6\u001b[m\u001b[K\u001b[01;31m\u001b[K7\u001b[m\u001b[K\u001b[01;31m\u001b[K8\u001b[m\u001b[K\n",
      "\u001b[01;31m\u001b[K1\u001b[m\u001b[K\u001b[01;31m\u001b[K1\u001b[m\u001b[K \u001b[01;31m\u001b[K9\u001b[m\u001b[K\u001b[01;31m\u001b[K1\u001b[m\u001b[K\u001b[01;31m\u001b[K2\u001b[m\u001b[K\u001b[01;31m\u001b[K3\u001b[m\u001b[K\u001b[01;31m\u001b[K4\u001b[m\u001b[K-\u001b[01;31m\u001b[K5\u001b[m\u001b[K\u001b[01;31m\u001b[K6\u001b[m\u001b[K\u001b[01;31m\u001b[K7\u001b[m\u001b[K\u001b[01;31m\u001b[K8\u001b[m\u001b[K\n",
      "+\u001b[01;31m\u001b[K1\u001b[m\u001b[K \u001b[01;31m\u001b[K8\u001b[m\u001b[K\u001b[01;31m\u001b[K0\u001b[m\u001b[K\u001b[01;31m\u001b[K0\u001b[m\u001b[K-\u001b[01;31m\u001b[K1\u001b[m\u001b[K\u001b[01;31m\u001b[K2\u001b[m\u001b[K\u001b[01;31m\u001b[K3\u001b[m\u001b[K-\u001b[01;31m\u001b[K4\u001b[m\u001b[K\u001b[01;31m\u001b[K5\u001b[m\u001b[K\u001b[01;31m\u001b[K6\u001b[m\u001b[K\u001b[01;31m\u001b[K7\u001b[m\u001b[K\n",
      "\u001b[01;31m\u001b[K1\u001b[m\u001b[K\u001b[01;31m\u001b[K2\u001b[m\u001b[K\u001b[01;31m\u001b[K3\u001b[m\u001b[K\u001b[01;31m\u001b[K4\u001b[m\u001b[K\u001b[01;31m\u001b[K5\u001b[m\u001b[K\u001b[01;31m\u001b[K6\u001b[m\u001b[K\u001b[01;31m\u001b[K7\u001b[m\u001b[K\u001b[01;31m\u001b[K8\u001b[m\u001b[K\n",
      "(\u001b[01;31m\u001b[K1\u001b[m\u001b[K\u001b[01;31m\u001b[K1\u001b[m\u001b[K \u001b[01;31m\u001b[K9\u001b[m\u001b[K\u001b[01;31m\u001b[K1\u001b[m\u001b[K\u001b[01;31m\u001b[K2\u001b[m\u001b[K\u001b[01;31m\u001b[K3\u001b[m\u001b[K\u001b[01;31m\u001b[K4\u001b[m\u001b[K-\u001b[01;31m\u001b[K5\u001b[m\u001b[K\u001b[01;31m\u001b[K6\u001b[m\u001b[K\u001b[01;31m\u001b[K7\u001b[m\u001b[K\u001b[01;31m\u001b[K8\u001b[m\u001b[K\n",
      "\u001b[01;31m\u001b[K1\u001b[m\u001b[K\u001b[01;31m\u001b[K1\u001b[m\u001b[K \u001b[01;31m\u001b[K9\u001b[m\u001b[K\u001b[01;31m\u001b[K1\u001b[m\u001b[K\u001b[01;31m\u001b[K2\u001b[m\u001b[K\u001b[01;31m\u001b[K3\u001b[m\u001b[K\u001b[01;31m\u001b[K4\u001b[m\u001b[K-\u001b[01;31m\u001b[K5\u001b[m\u001b[K\u001b[01;31m\u001b[K6\u001b[m\u001b[K\u001b[01;31m\u001b[K7\u001b[m\u001b[K\u001b[01;31m\u001b[K8\u001b[m\u001b[K\u001b[01;31m\u001b[K9\u001b[m\u001b[K\n",
      "\u001b[01;31m\u001b[K1\u001b[m\u001b[K\u001b[01;31m\u001b[K9\u001b[m\u001b[K\u001b[01;31m\u001b[K2\u001b[m\u001b[K\u001b[01;31m\u001b[K.\u001b[m\u001b[K\u001b[01;31m\u001b[K1\u001b[m\u001b[K\u001b[01;31m\u001b[K6\u001b[m\u001b[K\u001b[01;31m\u001b[K8\u001b[m\u001b[K\u001b[01;31m\u001b[K.\u001b[m\u001b[K\u001b[01;31m\u001b[K0\u001b[m\u001b[K\u001b[01;31m\u001b[K.\u001b[m\u001b[K\u001b[01;31m\u001b[K1\u001b[m\u001b[K\n",
      "\u001b[01;31m\u001b[K2\u001b[m\u001b[K\u001b[01;31m\u001b[K5\u001b[m\u001b[K\u001b[01;31m\u001b[K5\u001b[m\u001b[K\u001b[01;31m\u001b[K.\u001b[m\u001b[K\u001b[01;31m\u001b[K2\u001b[m\u001b[K\u001b[01;31m\u001b[K5\u001b[m\u001b[K\u001b[01;31m\u001b[K5\u001b[m\u001b[K\u001b[01;31m\u001b[K.\u001b[m\u001b[K\u001b[01;31m\u001b[K2\u001b[m\u001b[K\u001b[01;31m\u001b[K5\u001b[m\u001b[K\u001b[01;31m\u001b[K5\u001b[m\u001b[K\u001b[01;31m\u001b[K.\u001b[m\u001b[K\u001b[01;31m\u001b[K2\u001b[m\u001b[K\u001b[01;31m\u001b[K5\u001b[m\u001b[K\u001b[01;31m\u001b[K5\u001b[m\u001b[K\\?*\n",
      "\u001b[01;31m\u001b[K1\u001b[m\u001b[K\u001b[01;31m\u001b[K0\u001b[m\u001b[K\u001b[01;31m\u001b[K.\u001b[m\u001b[K\u001b[01;31m\u001b[K0\u001b[m\u001b[K\u001b[01;31m\u001b[K.\u001b[m\u001b[K\u001b[01;31m\u001b[K0\u001b[m\u001b[K\u001b[01;31m\u001b[K.\u001b[m\u001b[K\u001b[01;31m\u001b[K1\u001b[m\u001b[K\n",
      "\u001b[01;31m\u001b[K1\u001b[m\u001b[K\u001b[01;31m\u001b[K7\u001b[m\u001b[K\u001b[01;31m\u001b[K2\u001b[m\u001b[K\u001b[01;31m\u001b[K.\u001b[m\u001b[K\u001b[01;31m\u001b[K1\u001b[m\u001b[K\u001b[01;31m\u001b[K6\u001b[m\u001b[K\u001b[01;31m\u001b[K.\u001b[m\u001b[K\u001b[01;31m\u001b[K2\u001b[m\u001b[K\u001b[01;31m\u001b[K5\u001b[m\u001b[K\u001b[01;31m\u001b[K4\u001b[m\u001b[K\u001b[01;31m\u001b[K.\u001b[m\u001b[K\u001b[01;31m\u001b[K1\u001b[m\u001b[K\n",
      "\u001b[01;31m\u001b[K1\u001b[m\u001b[K\u001b[01;31m\u001b[K9\u001b[m\u001b[K\u001b[01;31m\u001b[K2\u001b[m\u001b[K\u001b[01;31m\u001b[K.\u001b[m\u001b[K\u001b[01;31m\u001b[K1\u001b[m\u001b[K\u001b[01;31m\u001b[K6\u001b[m\u001b[K\u001b[01;31m\u001b[K8\u001b[m\u001b[K\u001b[01;31m\u001b[K.\u001b[m\u001b[K\u001b[01;31m\u001b[K0\u001b[m\u001b[K\u001b[01;31m\u001b[K.\u001b[m\u001b[K\u001b[01;31m\u001b[K2\u001b[m\u001b[K\u001b[01;31m\u001b[K5\u001b[m\u001b[K\u001b[01;31m\u001b[K6\u001b[m\u001b[K\n",
      "\u001b[01;31m\u001b[K2\u001b[m\u001b[K\u001b[01;31m\u001b[K5\u001b[m\u001b[K\u001b[01;31m\u001b[K6\u001b[m\u001b[K\u001b[01;31m\u001b[K.\u001b[m\u001b[K\u001b[01;31m\u001b[K2\u001b[m\u001b[K\u001b[01;31m\u001b[K5\u001b[m\u001b[K\u001b[01;31m\u001b[K5\u001b[m\u001b[K\u001b[01;31m\u001b[K.\u001b[m\u001b[K\u001b[01;31m\u001b[K2\u001b[m\u001b[K\u001b[01;31m\u001b[K5\u001b[m\u001b[K\u001b[01;31m\u001b[K5\u001b[m\u001b[K\u001b[01;31m\u001b[K.\u001b[m\u001b[K\u001b[01;31m\u001b[K2\u001b[m\u001b[K\u001b[01;31m\u001b[K5\u001b[m\u001b[K\u001b[01;31m\u001b[K5\u001b[m\u001b[K\n",
      "\u001b[01;31m\u001b[K1\u001b[m\u001b[K\u001b[01;31m\u001b[K0\u001b[m\u001b[K\u001b[01;31m\u001b[K.\u001b[m\u001b[K\u001b[01;31m\u001b[K0\u001b[m\u001b[K\u001b[01;31m\u001b[K.\u001b[m\u001b[K\u001b[01;31m\u001b[K0\u001b[m\u001b[K\n",
      "\u001b[01;31m\u001b[K1\u001b[m\u001b[K\u001b[01;31m\u001b[K7\u001b[m\u001b[K\u001b[01;31m\u001b[K2\u001b[m\u001b[K\u001b[01;31m\u001b[K.\u001b[m\u001b[K\u001b[01;31m\u001b[K1\u001b[m\u001b[K\u001b[01;31m\u001b[K6\u001b[m\u001b[K\u001b[01;31m\u001b[K.\u001b[m\u001b[K\u001b[01;31m\u001b[K2\u001b[m\u001b[K\u001b[01;31m\u001b[K5\u001b[m\u001b[K\u001b[01;31m\u001b[K4\u001b[m\u001b[K\u001b[01;31m\u001b[K.\u001b[m\u001b[K\u001b[01;31m\u001b[K9\u001b[m\u001b[K\u001b[01;31m\u001b[K9\u001b[m\u001b[K\u001b[01;31m\u001b[K9\u001b[m\u001b[K\n",
      "\u001b[01;31m\u001b[K2\u001b[m\u001b[K\u001b[01;31m\u001b[K0\u001b[m\u001b[K\u001b[01;31m\u001b[K2\u001b[m\u001b[K\u001b[01;31m\u001b[K5\u001b[m\u001b[K-\u001b[01;31m\u001b[K0\u001b[m\u001b[K\u001b[01;31m\u001b[K1\u001b[m\u001b[K-\u001b[01;31m\u001b[K2\u001b[m\u001b[K\u001b[01;31m\u001b[K8\u001b[m\u001b[K\n",
      "\u001b[01;31m\u001b[K2\u001b[m\u001b[K\u001b[01;31m\u001b[K8\u001b[m\u001b[K/\u001b[01;31m\u001b[K0\u001b[m\u001b[K\u001b[01;31m\u001b[K1\u001b[m\u001b[K/\u001b[01;31m\u001b[K2\u001b[m\u001b[K\u001b[01;31m\u001b[K0\u001b[m\u001b[K\u001b[01;31m\u001b[K2\u001b[m\u001b[K\u001b[01;31m\u001b[K5\u001b[m\u001b[K\n",
      "\u001b[01;31m\u001b[K0\u001b[m\u001b[K\u001b[01;31m\u001b[K1\u001b[m\u001b[K/\u001b[01;31m\u001b[K2\u001b[m\u001b[K\u001b[01;31m\u001b[K8\u001b[m\u001b[K/\u001b[01;31m\u001b[K2\u001b[m\u001b[K\u001b[01;31m\u001b[K0\u001b[m\u001b[K\u001b[01;31m\u001b[K2\u001b[m\u001b[K\u001b[01;31m\u001b[K5\u001b[m\u001b[K\n",
      "\u001b[01;31m\u001b[K2\u001b[m\u001b[K\u001b[01;31m\u001b[K0\u001b[m\u001b[K\u001b[01;31m\u001b[K2\u001b[m\u001b[K\u001b[01;31m\u001b[K5\u001b[m\u001b[K-\u001b[01;31m\u001b[K1\u001b[m\u001b[K\u001b[01;31m\u001b[K3\u001b[m\u001b[K-\u001b[01;31m\u001b[K2\u001b[m\u001b[K\u001b[01;31m\u001b[K8\u001b[m\u001b[K\n",
      "\u001b[01;31m\u001b[K2\u001b[m\u001b[K\u001b[01;31m\u001b[K8\u001b[m\u001b[K-\u001b[01;31m\u001b[K0\u001b[m\u001b[K\u001b[01;31m\u001b[K1\u001b[m\u001b[K-\u001b[01;31m\u001b[K2\u001b[m\u001b[K\u001b[01;31m\u001b[K0\u001b[m\u001b[K\u001b[01;31m\u001b[K2\u001b[m\u001b[K\u001b[01;31m\u001b[K5\u001b[m\u001b[K\n",
      "\u001b[01;31m\u001b[K3\u001b[m\u001b[K\u001b[01;31m\u001b[K1\u001b[m\u001b[K/\u001b[01;31m\u001b[K0\u001b[m\u001b[K\u001b[01;31m\u001b[K2\u001b[m\u001b[K/\u001b[01;31m\u001b[K2\u001b[m\u001b[K\u001b[01;31m\u001b[K0\u001b[m\u001b[K\u001b[01;31m\u001b[K2\u001b[m\u001b[K\u001b[01;31m\u001b[K5\u001b[m\u001b[K\n",
      "https://www\u001b[01;31m\u001b[K.\u001b[m\u001b[Kgoogle\u001b[01;31m\u001b[K.\u001b[m\u001b[Kcom\n",
      "http://example\u001b[01;31m\u001b[K.\u001b[m\u001b[Korg\n",
      "www\u001b[01;31m\u001b[K.\u001b[m\u001b[Kmeusite\u001b[01;31m\u001b[K.\u001b[m\u001b[Kcom\n",
      "ftp://ftp\u001b[01;31m\u001b[K.\u001b[m\u001b[Kexemplo\u001b[01;31m\u001b[K.\u001b[m\u001b[Kcom\n",
      "htp://www\u001b[01;31m\u001b[K.\u001b[m\u001b[Kgoogle\u001b[01;31m\u001b[K.\u001b[m\u001b[Kcom\n",
      "http:/example\u001b[01;31m\u001b[K.\u001b[m\u001b[Korg\n",
      "meusite\u001b[01;31m\u001b[K,\u001b[m\u001b[Kcom\n",
      "ftp:/ftp\u001b[01;31m\u001b[K.\u001b[m\u001b[Kexemplo\u001b[01;31m\u001b[K.\u001b[m\u001b[Kcom\n",
      "\u001b[01;31m\u001b[K0\u001b[m\u001b[K\u001b[01;31m\u001b[K1\u001b[m\u001b[K\u001b[01;31m\u001b[K0\u001b[m\u001b[K\u001b[01;31m\u001b[K0\u001b[m\u001b[K\u001b[01;31m\u001b[K1\u001b[m\u001b[K-\u001b[01;31m\u001b[K0\u001b[m\u001b[K\u001b[01;31m\u001b[K0\u001b[m\u001b[K\u001b[01;31m\u001b[K0\u001b[m\u001b[K\n",
      "\u001b[01;31m\u001b[K1\u001b[m\u001b[K\u001b[01;31m\u001b[K2\u001b[m\u001b[K\u001b[01;31m\u001b[K3\u001b[m\u001b[K\u001b[01;31m\u001b[K4\u001b[m\u001b[K\u001b[01;31m\u001b[K5\u001b[m\u001b[K-\u001b[01;31m\u001b[K6\u001b[m\u001b[K\u001b[01;31m\u001b[K7\u001b[m\u001b[K\u001b[01;31m\u001b[K8\u001b[m\u001b[K\n",
      "\u001b[01;31m\u001b[K1\u001b[m\u001b[K\u001b[01;31m\u001b[K2\u001b[m\u001b[K\u001b[01;31m\u001b[K3\u001b[m\u001b[K\u001b[01;31m\u001b[K4\u001b[m\u001b[K\u001b[01;31m\u001b[K5\u001b[m\u001b[K\u001b[01;31m\u001b[K6\u001b[m\u001b[K\u001b[01;31m\u001b[K7\u001b[m\u001b[K\u001b[01;31m\u001b[K8\u001b[m\u001b[K\n",
      "\u001b[01;31m\u001b[K1\u001b[m\u001b[K\u001b[01;31m\u001b[K2\u001b[m\u001b[K-\u001b[01;31m\u001b[K3\u001b[m\u001b[K\u001b[01;31m\u001b[K4\u001b[m\u001b[K\u001b[01;31m\u001b[K5\u001b[m\u001b[K\n",
      "\u001b[01;31m\u001b[K1\u001b[m\u001b[K\u001b[01;31m\u001b[K2\u001b[m\u001b[K\u001b[01;31m\u001b[K3\u001b[m\u001b[K\n",
      "\u001b[01;31m\u001b[K0\u001b[m\u001b[K\u001b[01;31m\u001b[K.\u001b[m\u001b[K\u001b[01;31m\u001b[K4\u001b[m\u001b[K\u001b[01;31m\u001b[K5\u001b[m\u001b[K\u001b[01;31m\u001b[K6\u001b[m\u001b[K\n",
      "-\u001b[01;31m\u001b[K7\u001b[m\u001b[K\u001b[01;31m\u001b[K8\u001b[m\u001b[K\u001b[01;31m\u001b[K9\u001b[m\u001b[K\n",
      "+\u001b[01;31m\u001b[K0\u001b[m\u001b[K\u001b[01;31m\u001b[K.\u001b[m\u001b[K\u001b[01;31m\u001b[K1\u001b[m\u001b[K\u001b[01;31m\u001b[K2\u001b[m\u001b[K\n",
      "\u001b[01;31m\u001b[K1\u001b[m\u001b[K\u001b[01;31m\u001b[K2\u001b[m\u001b[K\u001b[01;31m\u001b[K3\u001b[m\u001b[Kabc\n",
      "- \u001b[01;31m\u001b[K4\u001b[m\u001b[K\u001b[01;31m\u001b[K5\u001b[m\u001b[K\u001b[01;31m\u001b[K6\u001b[m\u001b[K\n",
      "+ \u001b[01;31m\u001b[K0\u001b[m\u001b[K\u001b[01;31m\u001b[K.\u001b[m\u001b[K\u001b[01;31m\u001b[K1\u001b[m\u001b[K\u001b[01;31m\u001b[K2\u001b[m\u001b[K\n",
      "regex\u001b[01;31m\u001b[K1\u001b[m\u001b[K\u001b[01;31m\u001b[K2\u001b[m\u001b[K\u001b[01;31m\u001b[K3\u001b[m\u001b[K\n",
      "\u001b[01;31m\u001b[K1\u001b[m\u001b[K\u001b[01;31m\u001b[K2\u001b[m\u001b[K\u001b[01;31m\u001b[K3\u001b[m\u001b[Kregex\n",
      "dahdjk\u001b[01;31m\u001b[K1\u001b[m\u001b[Kabcslklsad\n"
     ]
    }
   ],
   "source": [
    "# Apenas pra mostrar que podemos combinar a busca de classes com outros caracteres\n",
    "# Encontrar qualquer linha com digito, ponto final ou vírgula.\n",
    "grep [[:digit:],.] regex.txt"
   ]
  },
  {
   "cell_type": "markdown",
   "id": "e2cfc17e-6197-41cf-8d94-2c85dd8f05f3",
   "metadata": {},
   "source": [
    "## Correspondência pela posição do padrão"
   ]
  },
  {
   "cell_type": "code",
   "execution_count": 6,
   "id": "dc2f6668-46f5-457a-be19-5ba99f9d9b12",
   "metadata": {},
   "outputs": [
    {
     "name": "stdout",
     "output_type": "stream",
     "text": [
      "\u001b[01;31m\u001b[Ka\u001b[m\u001b[Kbcdxyzad\n",
      "\u001b[01;31m\u001b[Ka\u001b[m\u001b[Kcdan\n",
      "\u001b[01;31m\u001b[Ka\u001b[m\u001b[Kbv\n",
      "\u001b[01;31m\u001b[Kb\u001b[m\u001b[Kcdkhg\n"
     ]
    }
   ],
   "source": [
    "# Foi dito que podemos usar os os metacaracteres ^ e $ para fazer a ancoragem.\n",
    "# Para exemplificar:\n",
    "\n",
    "grep -E ^[abc] regex.txt # Buscando qualquer palavra que comece em a, b, ou c"
   ]
  },
  {
   "cell_type": "code",
   "execution_count": 7,
   "id": "751e348e-cf40-48d8-a135-1923f11d9dad",
   "metadata": {},
   "outputs": [
    {
     "name": "stdout",
     "output_type": "stream",
     "text": [
      "\u001b[01;31m\u001b[Kabc\u001b[m\u001b[Kdxyzad\n"
     ]
    }
   ],
   "source": [
    "grep -E ^abc regex.txt # Buscando todas as ocorrencias que comecem em abc literalmente"
   ]
  },
  {
   "cell_type": "code",
   "execution_count": 8,
   "id": "608d1bd8-d441-4312-87ce-840e3220a9c1",
   "metadata": {
    "scrolled": true
   },
   "outputs": [
    {
     "name": "stdout",
     "output_type": "stream",
     "text": [
      "\u001b[01;31m\u001b[K#\u001b[m\u001b[KArquivode exemplosparapráticade\n",
      "\u001b[01;31m\u001b[K#\u001b[m\u001b[KRegex\n",
      "\u001b[01;31m\u001b[K#\u001b[m\u001b[K Emails válidos\n",
      "\u001b[01;31m\u001b[Ku\u001b[m\u001b[Ksuario@exemplo.com\n",
      "\u001b[01;31m\u001b[Ke\u001b[m\u001b[Kmail.test@domain.org\n",
      "\u001b[01;31m\u001b[Kp\u001b[m\u001b[Krimeiro_ultimo@empresa.co\n",
      "\u001b[01;31m\u001b[Ke\u001b[m\u001b[Kmail+alias@gmail.com\n",
      "\u001b[01;31m\u001b[K#\u001b[m\u001b[K Emails inválidos\n",
      "\u001b[01;31m\u001b[Ku\u001b[m\u001b[Ksuario@@exemplo.com\n",
      "\u001b[01;31m\u001b[Ke\u001b[m\u001b[Kmail..test@domain.org\n",
      "\u001b[01;31m\u001b[Ku\u001b[m\u001b[Ksuario@.com\n",
      "\u001b[01;31m\u001b[Ke\u001b[m\u001b[Kmail-sem-arroba.com\n",
      "\u001b[01;31m\u001b[K#\u001b[m\u001b[K Telefones válidos\n",
      "\u001b[01;31m\u001b[K+\u001b[m\u001b[K55 11 91234-5678\n",
      "\u001b[01;31m\u001b[K(\u001b[m\u001b[K11) 91234-5678\n",
      "\u001b[01;31m\u001b[K1\u001b[m\u001b[K1 91234-5678\n",
      "\u001b[01;31m\u001b[K+\u001b[m\u001b[K1 800-123-4567\n",
      "\u001b[01;31m\u001b[K#\u001b[m\u001b[K Telefones inválidos\n",
      "\u001b[01;31m\u001b[K1\u001b[m\u001b[K2345678\n",
      "\u001b[01;31m\u001b[K(\u001b[m\u001b[K11 91234-5678\n",
      "\u001b[01;31m\u001b[K1\u001b[m\u001b[K1 91234-56789\n",
      "\u001b[01;31m\u001b[K#\u001b[m\u001b[K Endereços IP válidos\n",
      "\u001b[01;31m\u001b[K1\u001b[m\u001b[K92.168.0.1\n",
      "\u001b[01;31m\u001b[K2\u001b[m\u001b[K55.255.255.255\\?*\n",
      "\u001b[01;31m\u001b[K1\u001b[m\u001b[K0.0.0.1\n",
      "\u001b[01;31m\u001b[K1\u001b[m\u001b[K72.16.254.1\n",
      "\u001b[01;31m\u001b[K#\u001b[m\u001b[K Endereços IP inválidos\n",
      "\u001b[01;31m\u001b[K1\u001b[m\u001b[K92.168.0.256\n",
      "\u001b[01;31m\u001b[K2\u001b[m\u001b[K56.255.255.255\n",
      "\u001b[01;31m\u001b[K1\u001b[m\u001b[K0.0.0\n",
      "\u001b[01;31m\u001b[K1\u001b[m\u001b[K72.16.254.999\n",
      "\u001b[01;31m\u001b[K#\u001b[m\u001b[K Datas válidas\n",
      "\u001b[01;31m\u001b[K2\u001b[m\u001b[K025-01-28\n",
      "\u001b[01;31m\u001b[K2\u001b[m\u001b[K8/01/2025\n",
      "\u001b[01;31m\u001b[K0\u001b[m\u001b[K1/28/2025\n",
      "\u001b[01;31m\u001b[K#\u001b[m\u001b[K Datas inválidas\n",
      "\u001b[01;31m\u001b[K2\u001b[m\u001b[K025-13-28\n",
      "\u001b[01;31m\u001b[K2\u001b[m\u001b[K8-01-2025\n",
      "\u001b[01;31m\u001b[K3\u001b[m\u001b[K1/02/2025\n",
      "\u001b[01;31m\u001b[K#\u001b[m\u001b[K URLs válidas\n",
      "\u001b[01;31m\u001b[Kh\u001b[m\u001b[Kttps://www.google.com\n",
      "\u001b[01;31m\u001b[Kh\u001b[m\u001b[Kttp://example.org\n",
      "\u001b[01;31m\u001b[Kw\u001b[m\u001b[Kww.meusite.com\n",
      "\u001b[01;31m\u001b[Kf\u001b[m\u001b[Ktp://ftp.exemplo.com\n",
      "\u001b[01;31m\u001b[K#\u001b[m\u001b[K URLs inválidas\n",
      "\u001b[01;31m\u001b[Kh\u001b[m\u001b[Ktp://www.google.com\n",
      "\u001b[01;31m\u001b[Kh\u001b[m\u001b[Kttp:/example.org\n",
      "\u001b[01;31m\u001b[Km\u001b[m\u001b[Keusite,com\n",
      "\u001b[01;31m\u001b[Kf\u001b[m\u001b[Ktp:/ftp.exemplo.com\n",
      "\u001b[01;31m\u001b[K#\u001b[m\u001b[K Códigos Postais (Brasil)\n",
      "\u001b[01;31m\u001b[K0\u001b[m\u001b[K1001-000\n",
      "\u001b[01;31m\u001b[K1\u001b[m\u001b[K2345-678\n",
      "\u001b[01;31m\u001b[K#\u001b[m\u001b[K Códigos Postais inválidos\n",
      "\u001b[01;31m\u001b[K1\u001b[m\u001b[K2345678\n",
      "\u001b[01;31m\u001b[K1\u001b[m\u001b[K2-345\n",
      "\u001b[01;31m\u001b[K#\u001b[m\u001b[K Números válidos\n",
      "\u001b[01;31m\u001b[K1\u001b[m\u001b[K23\n",
      "\u001b[01;31m\u001b[K0\u001b[m\u001b[K.456\n",
      "\u001b[01;31m\u001b[K-\u001b[m\u001b[K789\n",
      "\u001b[01;31m\u001b[K+\u001b[m\u001b[K0.12\n",
      "\u001b[01;31m\u001b[K#\u001b[m\u001b[K Números inválidos\n",
      "\u001b[01;31m\u001b[K1\u001b[m\u001b[K23abc\n",
      "\u001b[01;31m\u001b[K-\u001b[m\u001b[K 456\n",
      "\u001b[01;31m\u001b[K+\u001b[m\u001b[K 0.12\n",
      "\u001b[01;31m\u001b[K#\u001b[m\u001b[K Palavras válidas (alfabéticas apenas)\n",
      "\u001b[01;31m\u001b[Kr\u001b[m\u001b[Kegex\n",
      "\u001b[01;31m\u001b[Kf\u001b[m\u001b[Kuncionalidade\n",
      "\u001b[01;31m\u001b[Kp\u001b[m\u001b[Kratica\n",
      "\u001b[01;31m\u001b[K#\u001b[m\u001b[K Palavras inválidas\n",
      "\u001b[01;31m\u001b[Kr\u001b[m\u001b[Kegex123\n",
      "\u001b[01;31m\u001b[K1\u001b[m\u001b[K23regex\n",
      "\u001b[01;31m\u001b[K_\u001b[m\u001b[Kfunçáo\n",
      "\u001b[01;31m\u001b[Kd\u001b[m\u001b[Kahdjk1abcslklsad\n",
      "\u001b[01;31m\u001b[KA\u001b[m\u001b[KBCADBACCATG\n",
      "\u001b[01;31m\u001b[K\\\u001b[m\u001b[Kn\n",
      "\u001b[01;31m\u001b[Kj\u001b[m\u001b[Koão marroquino malaquias\n",
      "\u001b[01;31m\u001b[Kj\u001b[m\u001b[Kdaidkdd*fla\n"
     ]
    }
   ],
   "source": [
    "grep -E ^[^abc] regex.txt # Buscando todos as linhas que comecem com qualquer valor que não seja a, b ou c.\n",
    "\n",
    "# Isso que me pega um pouco no regex, o ^ funciona como ancoragem fora do conjunto definido [ ].\n",
    "# Porém, dentro dos colchetes ele funciona como negação do conjunto.\n",
    "\n"
   ]
  },
  {
   "cell_type": "code",
   "execution_count": 9,
   "id": "79e3ed5a-264f-4c5e-86ee-67f8393c8358",
   "metadata": {},
   "outputs": [
    {
     "name": "stdout",
     "output_type": "stream",
     "text": [
      "usuario@exemplo.co\u001b[01;31m\u001b[Km\u001b[m\u001b[K\n",
      "primeiro_ultimo@empresa.c\u001b[01;31m\u001b[Ko\u001b[m\u001b[K\n",
      "email+alias@gmail.co\u001b[01;31m\u001b[Km\u001b[m\u001b[K\n",
      "usuario@@exemplo.co\u001b[01;31m\u001b[Km\u001b[m\u001b[K\n",
      "usuario@.co\u001b[01;31m\u001b[Km\u001b[m\u001b[K\n",
      "email-sem-arroba.co\u001b[01;31m\u001b[Km\u001b[m\u001b[K\n",
      "https://www.google.co\u001b[01;31m\u001b[Km\u001b[m\u001b[K\n",
      "www.meusite.co\u001b[01;31m\u001b[Km\u001b[m\u001b[K\n",
      "ftp://ftp.exemplo.co\u001b[01;31m\u001b[Km\u001b[m\u001b[K\n",
      "htp://www.google.co\u001b[01;31m\u001b[Km\u001b[m\u001b[K\n",
      "meusite,co\u001b[01;31m\u001b[Km\u001b[m\u001b[K\n",
      "ftp:/ftp.exemplo.co\u001b[01;31m\u001b[Km\u001b[m\u001b[K\n",
      "123ab\u001b[01;31m\u001b[Kc\u001b[m\u001b[K\n",
      "_funçá\u001b[01;31m\u001b[Ko\u001b[m\u001b[K\n"
     ]
    }
   ],
   "source": [
    "grep -E [.com]$ regex.txt # Analogamente ao caso anterior, iria buscar as linhas terminadas em algum caractere do conjunto"
   ]
  },
  {
   "cell_type": "code",
   "execution_count": 10,
   "id": "d89bfae3-6f6d-4d7d-85e8-42a4c31639b4",
   "metadata": {},
   "outputs": [
    {
     "name": "stdout",
     "output_type": "stream",
     "text": [
      "usuario@exemplo\u001b[01;31m\u001b[K.com\u001b[m\u001b[K\n",
      "email+alias@gmail\u001b[01;31m\u001b[K.com\u001b[m\u001b[K\n",
      "usuario@@exemplo\u001b[01;31m\u001b[K.com\u001b[m\u001b[K\n",
      "usuario@\u001b[01;31m\u001b[K.com\u001b[m\u001b[K\n",
      "email-sem-arroba\u001b[01;31m\u001b[K.com\u001b[m\u001b[K\n",
      "https://www.google\u001b[01;31m\u001b[K.com\u001b[m\u001b[K\n",
      "www.meusite\u001b[01;31m\u001b[K.com\u001b[m\u001b[K\n",
      "ftp://ftp.exemplo\u001b[01;31m\u001b[K.com\u001b[m\u001b[K\n",
      "htp://www.google\u001b[01;31m\u001b[K.com\u001b[m\u001b[K\n",
      "meusite\u001b[01;31m\u001b[K,com\u001b[m\u001b[K\n",
      "ftp:/ftp.exemplo\u001b[01;31m\u001b[K.com\u001b[m\u001b[K\n"
     ]
    }
   ],
   "source": [
    "grep -E .com$ regex.txt # Irá buscar todas as linhas terminadas em .com literalmente"
   ]
  },
  {
   "cell_type": "markdown",
   "id": "3a4a5a1e-3fc9-415c-abb0-f93f9c8571be",
   "metadata": {},
   "source": [
    "## Repetições, agrupamentos e referências"
   ]
  },
  {
   "cell_type": "markdown",
   "id": "7756d8ff-b497-41ad-af7b-268854170587",
   "metadata": {},
   "source": [
    "Supomos que queremos detectar número ou emails. Teremos que constantemente estar lidando com repetições ou conjuntos de caracteres.\n",
    "\n",
    "\n"
   ]
  },
  {
   "cell_type": "markdown",
   "id": "000ac8e0-d1ce-4f23-8f91-6a52cd09b69a",
   "metadata": {},
   "source": [
    "| Operador | Descrição |\n",
    "|:--------:|-----------|\n",
    "|    *     | Corresponde com nenhuma ou mais instâncias do caractere/expressão anterior.   |\n",
    "|    ?     | Corresponde nenhuma ou uma instâncias do caractere/expressão anterior.        |\n",
    "|    +     | Corresponde com uma ou mais instâncias do caractere/expressão anterior.       |\n",
    "|  {n,m}   | Corresponde à um alcance de ocorrências, de n até m.             |\n",
    "|    \\|    | Corresponde com o caracteres/expressão à díreita ou esquerda do símbolo pipe. |\n"
   ]
  },
  {
   "cell_type": "code",
   "execution_count": 22,
   "id": "1cf1b05c-f396-4720-8090-f134300a11fa",
   "metadata": {
    "scrolled": true
   },
   "outputs": [
    {
     "name": "stdout",
     "output_type": "stream",
     "text": [
      "#Arquivode exemplosparapráticade\n",
      "#Regex\n",
      "\n",
      "# Emails válidos\n",
      "usuario@exemplo.com\n",
      "email.test@domain.org\n",
      "primeiro_ultimo@empresa.co\n",
      "email+alias@gmail.com\n",
      "\n",
      "# Emails inválidos\n",
      "usuario@@exemplo.com\n",
      "email..test@domain.org\n",
      "usuario@.com\n",
      "email-sem-arroba.com\n",
      "\n",
      "# Telefones válidos\n",
      "+\u001b[01;31m\u001b[K5\u001b[m\u001b[K\u001b[01;31m\u001b[K5\u001b[m\u001b[K \u001b[01;31m\u001b[K1\u001b[m\u001b[K\u001b[01;31m\u001b[K1\u001b[m\u001b[K \u001b[01;31m\u001b[K9\u001b[m\u001b[K\u001b[01;31m\u001b[K1\u001b[m\u001b[K\u001b[01;31m\u001b[K2\u001b[m\u001b[K\u001b[01;31m\u001b[K3\u001b[m\u001b[K\u001b[01;31m\u001b[K4\u001b[m\u001b[K-\u001b[01;31m\u001b[K5\u001b[m\u001b[K\u001b[01;31m\u001b[K6\u001b[m\u001b[K\u001b[01;31m\u001b[K7\u001b[m\u001b[K\u001b[01;31m\u001b[K8\u001b[m\u001b[K\n",
      "(\u001b[01;31m\u001b[K1\u001b[m\u001b[K\u001b[01;31m\u001b[K1\u001b[m\u001b[K) \u001b[01;31m\u001b[K9\u001b[m\u001b[K\u001b[01;31m\u001b[K1\u001b[m\u001b[K\u001b[01;31m\u001b[K2\u001b[m\u001b[K\u001b[01;31m\u001b[K3\u001b[m\u001b[K\u001b[01;31m\u001b[K4\u001b[m\u001b[K-\u001b[01;31m\u001b[K5\u001b[m\u001b[K\u001b[01;31m\u001b[K6\u001b[m\u001b[K\u001b[01;31m\u001b[K7\u001b[m\u001b[K\u001b[01;31m\u001b[K8\u001b[m\u001b[K\n",
      "\u001b[01;31m\u001b[K1\u001b[m\u001b[K\u001b[01;31m\u001b[K1\u001b[m\u001b[K \u001b[01;31m\u001b[K9\u001b[m\u001b[K\u001b[01;31m\u001b[K1\u001b[m\u001b[K\u001b[01;31m\u001b[K2\u001b[m\u001b[K\u001b[01;31m\u001b[K3\u001b[m\u001b[K\u001b[01;31m\u001b[K4\u001b[m\u001b[K-\u001b[01;31m\u001b[K5\u001b[m\u001b[K\u001b[01;31m\u001b[K6\u001b[m\u001b[K\u001b[01;31m\u001b[K7\u001b[m\u001b[K\u001b[01;31m\u001b[K8\u001b[m\u001b[K\n",
      "+\u001b[01;31m\u001b[K1\u001b[m\u001b[K \u001b[01;31m\u001b[K8\u001b[m\u001b[K\u001b[01;31m\u001b[K0\u001b[m\u001b[K\u001b[01;31m\u001b[K0\u001b[m\u001b[K-\u001b[01;31m\u001b[K1\u001b[m\u001b[K\u001b[01;31m\u001b[K2\u001b[m\u001b[K\u001b[01;31m\u001b[K3\u001b[m\u001b[K-\u001b[01;31m\u001b[K4\u001b[m\u001b[K\u001b[01;31m\u001b[K5\u001b[m\u001b[K\u001b[01;31m\u001b[K6\u001b[m\u001b[K\u001b[01;31m\u001b[K7\u001b[m\u001b[K\n",
      "\n",
      "# Telefones inválidos\n",
      "\u001b[01;31m\u001b[K1\u001b[m\u001b[K\u001b[01;31m\u001b[K2\u001b[m\u001b[K\u001b[01;31m\u001b[K3\u001b[m\u001b[K\u001b[01;31m\u001b[K4\u001b[m\u001b[K\u001b[01;31m\u001b[K5\u001b[m\u001b[K\u001b[01;31m\u001b[K6\u001b[m\u001b[K\u001b[01;31m\u001b[K7\u001b[m\u001b[K\u001b[01;31m\u001b[K8\u001b[m\u001b[K\n",
      "(\u001b[01;31m\u001b[K1\u001b[m\u001b[K\u001b[01;31m\u001b[K1\u001b[m\u001b[K \u001b[01;31m\u001b[K9\u001b[m\u001b[K\u001b[01;31m\u001b[K1\u001b[m\u001b[K\u001b[01;31m\u001b[K2\u001b[m\u001b[K\u001b[01;31m\u001b[K3\u001b[m\u001b[K\u001b[01;31m\u001b[K4\u001b[m\u001b[K-\u001b[01;31m\u001b[K5\u001b[m\u001b[K\u001b[01;31m\u001b[K6\u001b[m\u001b[K\u001b[01;31m\u001b[K7\u001b[m\u001b[K\u001b[01;31m\u001b[K8\u001b[m\u001b[K\n",
      "\u001b[01;31m\u001b[K1\u001b[m\u001b[K\u001b[01;31m\u001b[K1\u001b[m\u001b[K \u001b[01;31m\u001b[K9\u001b[m\u001b[K\u001b[01;31m\u001b[K1\u001b[m\u001b[K\u001b[01;31m\u001b[K2\u001b[m\u001b[K\u001b[01;31m\u001b[K3\u001b[m\u001b[K\u001b[01;31m\u001b[K4\u001b[m\u001b[K-\u001b[01;31m\u001b[K5\u001b[m\u001b[K\u001b[01;31m\u001b[K6\u001b[m\u001b[K\u001b[01;31m\u001b[K7\u001b[m\u001b[K\u001b[01;31m\u001b[K8\u001b[m\u001b[K\u001b[01;31m\u001b[K9\u001b[m\u001b[K\n",
      "\n",
      "# Endereços IP válidos\n",
      "\u001b[01;31m\u001b[K1\u001b[m\u001b[K\u001b[01;31m\u001b[K9\u001b[m\u001b[K\u001b[01;31m\u001b[K2\u001b[m\u001b[K.\u001b[01;31m\u001b[K1\u001b[m\u001b[K\u001b[01;31m\u001b[K6\u001b[m\u001b[K\u001b[01;31m\u001b[K8\u001b[m\u001b[K.\u001b[01;31m\u001b[K0\u001b[m\u001b[K.\u001b[01;31m\u001b[K1\u001b[m\u001b[K\n",
      "\u001b[01;31m\u001b[K2\u001b[m\u001b[K\u001b[01;31m\u001b[K5\u001b[m\u001b[K\u001b[01;31m\u001b[K5\u001b[m\u001b[K.\u001b[01;31m\u001b[K2\u001b[m\u001b[K\u001b[01;31m\u001b[K5\u001b[m\u001b[K\u001b[01;31m\u001b[K5\u001b[m\u001b[K.\u001b[01;31m\u001b[K2\u001b[m\u001b[K\u001b[01;31m\u001b[K5\u001b[m\u001b[K\u001b[01;31m\u001b[K5\u001b[m\u001b[K.\u001b[01;31m\u001b[K2\u001b[m\u001b[K\u001b[01;31m\u001b[K5\u001b[m\u001b[K\u001b[01;31m\u001b[K5\u001b[m\u001b[K\\?*\n",
      "\u001b[01;31m\u001b[K1\u001b[m\u001b[K\u001b[01;31m\u001b[K0\u001b[m\u001b[K.\u001b[01;31m\u001b[K0\u001b[m\u001b[K.\u001b[01;31m\u001b[K0\u001b[m\u001b[K.\u001b[01;31m\u001b[K1\u001b[m\u001b[K\n",
      "\u001b[01;31m\u001b[K1\u001b[m\u001b[K\u001b[01;31m\u001b[K7\u001b[m\u001b[K\u001b[01;31m\u001b[K2\u001b[m\u001b[K.\u001b[01;31m\u001b[K1\u001b[m\u001b[K\u001b[01;31m\u001b[K6\u001b[m\u001b[K.\u001b[01;31m\u001b[K2\u001b[m\u001b[K\u001b[01;31m\u001b[K5\u001b[m\u001b[K\u001b[01;31m\u001b[K4\u001b[m\u001b[K.\u001b[01;31m\u001b[K1\u001b[m\u001b[K\n",
      "\n",
      "# Endereços IP inválidos\n",
      "\u001b[01;31m\u001b[K1\u001b[m\u001b[K\u001b[01;31m\u001b[K9\u001b[m\u001b[K\u001b[01;31m\u001b[K2\u001b[m\u001b[K.\u001b[01;31m\u001b[K1\u001b[m\u001b[K\u001b[01;31m\u001b[K6\u001b[m\u001b[K\u001b[01;31m\u001b[K8\u001b[m\u001b[K.\u001b[01;31m\u001b[K0\u001b[m\u001b[K.\u001b[01;31m\u001b[K2\u001b[m\u001b[K\u001b[01;31m\u001b[K5\u001b[m\u001b[K\u001b[01;31m\u001b[K6\u001b[m\u001b[K\n",
      "\u001b[01;31m\u001b[K2\u001b[m\u001b[K\u001b[01;31m\u001b[K5\u001b[m\u001b[K\u001b[01;31m\u001b[K6\u001b[m\u001b[K.\u001b[01;31m\u001b[K2\u001b[m\u001b[K\u001b[01;31m\u001b[K5\u001b[m\u001b[K\u001b[01;31m\u001b[K5\u001b[m\u001b[K.\u001b[01;31m\u001b[K2\u001b[m\u001b[K\u001b[01;31m\u001b[K5\u001b[m\u001b[K\u001b[01;31m\u001b[K5\u001b[m\u001b[K.\u001b[01;31m\u001b[K2\u001b[m\u001b[K\u001b[01;31m\u001b[K5\u001b[m\u001b[K\u001b[01;31m\u001b[K5\u001b[m\u001b[K\n",
      "\u001b[01;31m\u001b[K1\u001b[m\u001b[K\u001b[01;31m\u001b[K0\u001b[m\u001b[K.\u001b[01;31m\u001b[K0\u001b[m\u001b[K.\u001b[01;31m\u001b[K0\u001b[m\u001b[K\n",
      "\u001b[01;31m\u001b[K1\u001b[m\u001b[K\u001b[01;31m\u001b[K7\u001b[m\u001b[K\u001b[01;31m\u001b[K2\u001b[m\u001b[K.\u001b[01;31m\u001b[K1\u001b[m\u001b[K\u001b[01;31m\u001b[K6\u001b[m\u001b[K.\u001b[01;31m\u001b[K2\u001b[m\u001b[K\u001b[01;31m\u001b[K5\u001b[m\u001b[K\u001b[01;31m\u001b[K4\u001b[m\u001b[K.\u001b[01;31m\u001b[K9\u001b[m\u001b[K\u001b[01;31m\u001b[K9\u001b[m\u001b[K\u001b[01;31m\u001b[K9\u001b[m\u001b[K\n",
      "\n",
      "# Datas válidas\n",
      "\u001b[01;31m\u001b[K2\u001b[m\u001b[K\u001b[01;31m\u001b[K0\u001b[m\u001b[K\u001b[01;31m\u001b[K2\u001b[m\u001b[K\u001b[01;31m\u001b[K5\u001b[m\u001b[K-\u001b[01;31m\u001b[K0\u001b[m\u001b[K\u001b[01;31m\u001b[K1\u001b[m\u001b[K-\u001b[01;31m\u001b[K2\u001b[m\u001b[K\u001b[01;31m\u001b[K8\u001b[m\u001b[K\n",
      "\u001b[01;31m\u001b[K2\u001b[m\u001b[K\u001b[01;31m\u001b[K8\u001b[m\u001b[K/\u001b[01;31m\u001b[K0\u001b[m\u001b[K\u001b[01;31m\u001b[K1\u001b[m\u001b[K/\u001b[01;31m\u001b[K2\u001b[m\u001b[K\u001b[01;31m\u001b[K0\u001b[m\u001b[K\u001b[01;31m\u001b[K2\u001b[m\u001b[K\u001b[01;31m\u001b[K5\u001b[m\u001b[K\n",
      "\u001b[01;31m\u001b[K0\u001b[m\u001b[K\u001b[01;31m\u001b[K1\u001b[m\u001b[K/\u001b[01;31m\u001b[K2\u001b[m\u001b[K\u001b[01;31m\u001b[K8\u001b[m\u001b[K/\u001b[01;31m\u001b[K2\u001b[m\u001b[K\u001b[01;31m\u001b[K0\u001b[m\u001b[K\u001b[01;31m\u001b[K2\u001b[m\u001b[K\u001b[01;31m\u001b[K5\u001b[m\u001b[K\n",
      "\n",
      "# Datas inválidas\n",
      "\u001b[01;31m\u001b[K2\u001b[m\u001b[K\u001b[01;31m\u001b[K0\u001b[m\u001b[K\u001b[01;31m\u001b[K2\u001b[m\u001b[K\u001b[01;31m\u001b[K5\u001b[m\u001b[K-\u001b[01;31m\u001b[K1\u001b[m\u001b[K\u001b[01;31m\u001b[K3\u001b[m\u001b[K-\u001b[01;31m\u001b[K2\u001b[m\u001b[K\u001b[01;31m\u001b[K8\u001b[m\u001b[K\n",
      "\u001b[01;31m\u001b[K2\u001b[m\u001b[K\u001b[01;31m\u001b[K8\u001b[m\u001b[K-\u001b[01;31m\u001b[K0\u001b[m\u001b[K\u001b[01;31m\u001b[K1\u001b[m\u001b[K-\u001b[01;31m\u001b[K2\u001b[m\u001b[K\u001b[01;31m\u001b[K0\u001b[m\u001b[K\u001b[01;31m\u001b[K2\u001b[m\u001b[K\u001b[01;31m\u001b[K5\u001b[m\u001b[K\n",
      "\u001b[01;31m\u001b[K3\u001b[m\u001b[K\u001b[01;31m\u001b[K1\u001b[m\u001b[K/\u001b[01;31m\u001b[K0\u001b[m\u001b[K\u001b[01;31m\u001b[K2\u001b[m\u001b[K/\u001b[01;31m\u001b[K2\u001b[m\u001b[K\u001b[01;31m\u001b[K0\u001b[m\u001b[K\u001b[01;31m\u001b[K2\u001b[m\u001b[K\u001b[01;31m\u001b[K5\u001b[m\u001b[K\n",
      "\n",
      "# URLs válidas\n",
      "https://www.google.com\n",
      "http://example.org\n",
      "www.meusite.com\n",
      "ftp://ftp.exemplo.com\n",
      "\n",
      "# URLs inválidas\n",
      "htp://www.google.com\n",
      "http:/example.org\n",
      "meusite,com\n",
      "ftp:/ftp.exemplo.com\n",
      "\n",
      "# Códigos Postais (Brasil)\n",
      "\u001b[01;31m\u001b[K0\u001b[m\u001b[K\u001b[01;31m\u001b[K1\u001b[m\u001b[K\u001b[01;31m\u001b[K0\u001b[m\u001b[K\u001b[01;31m\u001b[K0\u001b[m\u001b[K\u001b[01;31m\u001b[K1\u001b[m\u001b[K-\u001b[01;31m\u001b[K0\u001b[m\u001b[K\u001b[01;31m\u001b[K0\u001b[m\u001b[K\u001b[01;31m\u001b[K0\u001b[m\u001b[K\n",
      "\u001b[01;31m\u001b[K1\u001b[m\u001b[K\u001b[01;31m\u001b[K2\u001b[m\u001b[K\u001b[01;31m\u001b[K3\u001b[m\u001b[K\u001b[01;31m\u001b[K4\u001b[m\u001b[K\u001b[01;31m\u001b[K5\u001b[m\u001b[K-\u001b[01;31m\u001b[K6\u001b[m\u001b[K\u001b[01;31m\u001b[K7\u001b[m\u001b[K\u001b[01;31m\u001b[K8\u001b[m\u001b[K\n",
      "\n",
      "# Códigos Postais inválidos\n",
      "\u001b[01;31m\u001b[K1\u001b[m\u001b[K\u001b[01;31m\u001b[K2\u001b[m\u001b[K\u001b[01;31m\u001b[K3\u001b[m\u001b[K\u001b[01;31m\u001b[K4\u001b[m\u001b[K\u001b[01;31m\u001b[K5\u001b[m\u001b[K\u001b[01;31m\u001b[K6\u001b[m\u001b[K\u001b[01;31m\u001b[K7\u001b[m\u001b[K\u001b[01;31m\u001b[K8\u001b[m\u001b[K\n",
      "\u001b[01;31m\u001b[K1\u001b[m\u001b[K\u001b[01;31m\u001b[K2\u001b[m\u001b[K-\u001b[01;31m\u001b[K3\u001b[m\u001b[K\u001b[01;31m\u001b[K4\u001b[m\u001b[K\u001b[01;31m\u001b[K5\u001b[m\u001b[K\n",
      "\n",
      "# Números válidos\n",
      "\u001b[01;31m\u001b[K1\u001b[m\u001b[K\u001b[01;31m\u001b[K2\u001b[m\u001b[K\u001b[01;31m\u001b[K3\u001b[m\u001b[K\n",
      "\u001b[01;31m\u001b[K0\u001b[m\u001b[K.\u001b[01;31m\u001b[K4\u001b[m\u001b[K\u001b[01;31m\u001b[K5\u001b[m\u001b[K\u001b[01;31m\u001b[K6\u001b[m\u001b[K\n",
      "-\u001b[01;31m\u001b[K7\u001b[m\u001b[K\u001b[01;31m\u001b[K8\u001b[m\u001b[K\u001b[01;31m\u001b[K9\u001b[m\u001b[K\n",
      "+\u001b[01;31m\u001b[K0\u001b[m\u001b[K.\u001b[01;31m\u001b[K1\u001b[m\u001b[K\u001b[01;31m\u001b[K2\u001b[m\u001b[K\n",
      "\n",
      "# Números inválidos\n",
      "\u001b[01;31m\u001b[K1\u001b[m\u001b[K\u001b[01;31m\u001b[K2\u001b[m\u001b[K\u001b[01;31m\u001b[K3\u001b[m\u001b[Kabc\n",
      "- \u001b[01;31m\u001b[K4\u001b[m\u001b[K\u001b[01;31m\u001b[K5\u001b[m\u001b[K\u001b[01;31m\u001b[K6\u001b[m\u001b[K\n",
      "+ \u001b[01;31m\u001b[K0\u001b[m\u001b[K.\u001b[01;31m\u001b[K1\u001b[m\u001b[K\u001b[01;31m\u001b[K2\u001b[m\u001b[K\n",
      "\n",
      "# Palavras válidas (alfabéticas apenas)\n",
      "regex\n",
      "funcionalidade\n",
      "pratica\n",
      "\n",
      "# Palavras inválidas\n",
      "regex\u001b[01;31m\u001b[K1\u001b[m\u001b[K\u001b[01;31m\u001b[K2\u001b[m\u001b[K\u001b[01;31m\u001b[K3\u001b[m\u001b[K\n",
      "\u001b[01;31m\u001b[K1\u001b[m\u001b[K\u001b[01;31m\u001b[K2\u001b[m\u001b[K\u001b[01;31m\u001b[K3\u001b[m\u001b[Kregex\n",
      "_funçáo\n",
      "\n",
      "abcdxyzad\n",
      "acdan\n",
      "dahdjk\u001b[01;31m\u001b[K1\u001b[m\u001b[Kabcslklsad\n",
      "abv\n",
      "ABCADBACCATG\n",
      "\\n\n",
      "bcdkhg\n",
      "joão marroquino malaquias\n",
      "jdaidkdd*fla\n"
     ]
    }
   ],
   "source": [
    "# Alguns exemplos de repetições\n",
    "\n",
    "# Diferente de [[:digit:]] sem o asterisco, devolveu o arquivo inteiro, mas somente os números foram destacados\n",
    "grep -E '[[:digit:]]?' regex.txt"
   ]
  },
  {
   "cell_type": "code",
   "execution_count": 21,
   "id": "370ccaa5-db97-4c76-80c6-6369a8a561c0",
   "metadata": {},
   "outputs": [
    {
     "name": "stdout",
     "output_type": "stream",
     "text": [
      "+55 11 \u001b[01;31m\u001b[K91234-5678\u001b[m\u001b[K\n",
      "(11) \u001b[01;31m\u001b[K91234-5678\u001b[m\u001b[K\n",
      "11 \u001b[01;31m\u001b[K91234-5678\u001b[m\u001b[K\n",
      "(11 \u001b[01;31m\u001b[K91234-5678\u001b[m\u001b[K\n",
      "11 \u001b[01;31m\u001b[K91234-5678\u001b[m\u001b[K9\n"
     ]
    }
   ],
   "source": [
    "# Não entendi muito bem como funciona o alcance (?)\n",
    "# Na teoria deveria retornar de 3 a 5 ocorrencias\n",
    "grep -E '[[:digit:]]{5}-[[:digit:]]{4}' regex.txt"
   ]
  },
  {
   "cell_type": "code",
   "execution_count": 18,
   "id": "06335b3b-9f9b-4a26-8219-14206c11f411",
   "metadata": {},
   "outputs": [
    {
     "name": "stdout",
     "output_type": "stream",
     "text": [
      "#Arquivode exemplosparapráticade\n",
      "#Regex\n",
      "\n",
      "# Emails válidos\n",
      "usuario@exemplo.com\n",
      "email.test@domain.org\n",
      "primeiro_ultimo@empresa.co\n",
      "email+alias@gmail.com\n",
      "\n",
      "# Emails inválidos\n",
      "usuario@@exemplo.com\n",
      "email..test@domain.org\n",
      "usuario@.com\n",
      "email-sem-arroba.com\n",
      "\n",
      "# Telefones válidos\n",
      "+\u001b[01;31m\u001b[K55\u001b[m\u001b[K \u001b[01;31m\u001b[K11\u001b[m\u001b[K \u001b[01;31m\u001b[K912\u001b[m\u001b[K\u001b[01;31m\u001b[K34\u001b[m\u001b[K-\u001b[01;31m\u001b[K567\u001b[m\u001b[K\u001b[01;31m\u001b[K8\u001b[m\u001b[K\n",
      "(\u001b[01;31m\u001b[K11\u001b[m\u001b[K) \u001b[01;31m\u001b[K912\u001b[m\u001b[K\u001b[01;31m\u001b[K34\u001b[m\u001b[K-\u001b[01;31m\u001b[K567\u001b[m\u001b[K\u001b[01;31m\u001b[K8\u001b[m\u001b[K\n",
      "\u001b[01;31m\u001b[K11\u001b[m\u001b[K \u001b[01;31m\u001b[K912\u001b[m\u001b[K\u001b[01;31m\u001b[K34\u001b[m\u001b[K-\u001b[01;31m\u001b[K567\u001b[m\u001b[K\u001b[01;31m\u001b[K8\u001b[m\u001b[K\n",
      "+\u001b[01;31m\u001b[K1\u001b[m\u001b[K \u001b[01;31m\u001b[K800\u001b[m\u001b[K-\u001b[01;31m\u001b[K123\u001b[m\u001b[K-\u001b[01;31m\u001b[K456\u001b[m\u001b[K\u001b[01;31m\u001b[K7\u001b[m\u001b[K\n",
      "\n",
      "# Telefones inválidos\n",
      "\u001b[01;31m\u001b[K123\u001b[m\u001b[K\u001b[01;31m\u001b[K456\u001b[m\u001b[K\u001b[01;31m\u001b[K78\u001b[m\u001b[K\n",
      "(\u001b[01;31m\u001b[K11\u001b[m\u001b[K \u001b[01;31m\u001b[K912\u001b[m\u001b[K\u001b[01;31m\u001b[K34\u001b[m\u001b[K-\u001b[01;31m\u001b[K567\u001b[m\u001b[K\u001b[01;31m\u001b[K8\u001b[m\u001b[K\n",
      "\u001b[01;31m\u001b[K11\u001b[m\u001b[K \u001b[01;31m\u001b[K912\u001b[m\u001b[K\u001b[01;31m\u001b[K34\u001b[m\u001b[K-\u001b[01;31m\u001b[K567\u001b[m\u001b[K\u001b[01;31m\u001b[K89\u001b[m\u001b[K\n",
      "\n",
      "# Endereços IP válidos\n",
      "\u001b[01;31m\u001b[K192\u001b[m\u001b[K.\u001b[01;31m\u001b[K168\u001b[m\u001b[K.\u001b[01;31m\u001b[K0\u001b[m\u001b[K.\u001b[01;31m\u001b[K1\u001b[m\u001b[K\n",
      "\u001b[01;31m\u001b[K255\u001b[m\u001b[K.\u001b[01;31m\u001b[K255\u001b[m\u001b[K.\u001b[01;31m\u001b[K255\u001b[m\u001b[K.\u001b[01;31m\u001b[K255\u001b[m\u001b[K\\?*\n",
      "\u001b[01;31m\u001b[K10\u001b[m\u001b[K.\u001b[01;31m\u001b[K0\u001b[m\u001b[K.\u001b[01;31m\u001b[K0\u001b[m\u001b[K.\u001b[01;31m\u001b[K1\u001b[m\u001b[K\n",
      "\u001b[01;31m\u001b[K172\u001b[m\u001b[K.\u001b[01;31m\u001b[K16\u001b[m\u001b[K.\u001b[01;31m\u001b[K254\u001b[m\u001b[K.\u001b[01;31m\u001b[K1\u001b[m\u001b[K\n",
      "\n",
      "# Endereços IP inválidos\n",
      "\u001b[01;31m\u001b[K192\u001b[m\u001b[K.\u001b[01;31m\u001b[K168\u001b[m\u001b[K.\u001b[01;31m\u001b[K0\u001b[m\u001b[K.\u001b[01;31m\u001b[K256\u001b[m\u001b[K\n",
      "\u001b[01;31m\u001b[K256\u001b[m\u001b[K.\u001b[01;31m\u001b[K255\u001b[m\u001b[K.\u001b[01;31m\u001b[K255\u001b[m\u001b[K.\u001b[01;31m\u001b[K255\u001b[m\u001b[K\n",
      "\u001b[01;31m\u001b[K10\u001b[m\u001b[K.\u001b[01;31m\u001b[K0\u001b[m\u001b[K.\u001b[01;31m\u001b[K0\u001b[m\u001b[K\n",
      "\u001b[01;31m\u001b[K172\u001b[m\u001b[K.\u001b[01;31m\u001b[K16\u001b[m\u001b[K.\u001b[01;31m\u001b[K254\u001b[m\u001b[K.\u001b[01;31m\u001b[K999\u001b[m\u001b[K\n",
      "\n",
      "# Datas válidas\n",
      "\u001b[01;31m\u001b[K202\u001b[m\u001b[K\u001b[01;31m\u001b[K5\u001b[m\u001b[K-\u001b[01;31m\u001b[K01\u001b[m\u001b[K-\u001b[01;31m\u001b[K28\u001b[m\u001b[K\n",
      "\u001b[01;31m\u001b[K28\u001b[m\u001b[K/\u001b[01;31m\u001b[K01\u001b[m\u001b[K/\u001b[01;31m\u001b[K202\u001b[m\u001b[K\u001b[01;31m\u001b[K5\u001b[m\u001b[K\n",
      "\u001b[01;31m\u001b[K01\u001b[m\u001b[K/\u001b[01;31m\u001b[K28\u001b[m\u001b[K/\u001b[01;31m\u001b[K202\u001b[m\u001b[K\u001b[01;31m\u001b[K5\u001b[m\u001b[K\n",
      "\n",
      "# Datas inválidas\n",
      "\u001b[01;31m\u001b[K202\u001b[m\u001b[K\u001b[01;31m\u001b[K5\u001b[m\u001b[K-\u001b[01;31m\u001b[K13\u001b[m\u001b[K-\u001b[01;31m\u001b[K28\u001b[m\u001b[K\n",
      "\u001b[01;31m\u001b[K28\u001b[m\u001b[K-\u001b[01;31m\u001b[K01\u001b[m\u001b[K-\u001b[01;31m\u001b[K202\u001b[m\u001b[K\u001b[01;31m\u001b[K5\u001b[m\u001b[K\n",
      "\u001b[01;31m\u001b[K31\u001b[m\u001b[K/\u001b[01;31m\u001b[K02\u001b[m\u001b[K/\u001b[01;31m\u001b[K202\u001b[m\u001b[K\u001b[01;31m\u001b[K5\u001b[m\u001b[K\n",
      "\n",
      "# URLs válidas\n",
      "https://www.google.com\n",
      "http://example.org\n",
      "www.meusite.com\n",
      "ftp://ftp.exemplo.com\n",
      "\n",
      "# URLs inválidas\n",
      "htp://www.google.com\n",
      "http:/example.org\n",
      "meusite,com\n",
      "ftp:/ftp.exemplo.com\n",
      "\n",
      "# Códigos Postais (Brasil)\n",
      "\u001b[01;31m\u001b[K010\u001b[m\u001b[K\u001b[01;31m\u001b[K01\u001b[m\u001b[K-\u001b[01;31m\u001b[K000\u001b[m\u001b[K\n",
      "\u001b[01;31m\u001b[K123\u001b[m\u001b[K\u001b[01;31m\u001b[K45\u001b[m\u001b[K-\u001b[01;31m\u001b[K678\u001b[m\u001b[K\n",
      "\n",
      "# Códigos Postais inválidos\n",
      "\u001b[01;31m\u001b[K123\u001b[m\u001b[K\u001b[01;31m\u001b[K456\u001b[m\u001b[K\u001b[01;31m\u001b[K78\u001b[m\u001b[K\n",
      "\u001b[01;31m\u001b[K12\u001b[m\u001b[K-\u001b[01;31m\u001b[K345\u001b[m\u001b[K\n",
      "\n",
      "# Números válidos\n",
      "\u001b[01;31m\u001b[K123\u001b[m\u001b[K\n",
      "\u001b[01;31m\u001b[K0\u001b[m\u001b[K.\u001b[01;31m\u001b[K456\u001b[m\u001b[K\n",
      "-\u001b[01;31m\u001b[K789\u001b[m\u001b[K\n",
      "+\u001b[01;31m\u001b[K0\u001b[m\u001b[K.\u001b[01;31m\u001b[K12\u001b[m\u001b[K\n",
      "\n",
      "# Números inválidos\n",
      "\u001b[01;31m\u001b[K123\u001b[m\u001b[Kabc\n",
      "- \u001b[01;31m\u001b[K456\u001b[m\u001b[K\n",
      "+ \u001b[01;31m\u001b[K0\u001b[m\u001b[K.\u001b[01;31m\u001b[K12\u001b[m\u001b[K\n",
      "\n",
      "# Palavras válidas (alfabéticas apenas)\n",
      "regex\n",
      "funcionalidade\n",
      "pratica\n",
      "\n",
      "# Palavras inválidas\n",
      "regex\u001b[01;31m\u001b[K123\u001b[m\u001b[K\n",
      "\u001b[01;31m\u001b[K123\u001b[m\u001b[Kregex\n",
      "_funçáo\n",
      "\n",
      "abcdxyzad\n",
      "acdan\n",
      "dahdjk\u001b[01;31m\u001b[K1\u001b[m\u001b[Kabcslklsad\n",
      "abv\n",
      "ABCADBACCATG\n",
      "\\n\n",
      "bcdkhg\n",
      "joão marroquino malaquias\n",
      "jdaidkdd*fla\n"
     ]
    }
   ],
   "source": [
    "grep -E '[[:digit:]]{,3}' regex.txt"
   ]
  },
  {
   "cell_type": "code",
   "execution_count": 14,
   "id": "3d3cd6f4-396d-4869-a18d-0e405a76e90f",
   "metadata": {},
   "outputs": [
    {
     "name": "stdout",
     "output_type": "stream",
     "text": [
      "\u001b[01;31m\u001b[K(11)\u001b[m\u001b[K 91234-5678\n",
      "# Códigos Postais \u001b[01;31m\u001b[K(Brasil)\u001b[m\u001b[K\n",
      "# Palavras válidas \u001b[01;31m\u001b[K(alfabéticas apenas)\u001b[m\u001b[K\n"
     ]
    }
   ],
   "source": [
    "# Encontrando tudo que esteja entre parenteses\n",
    "# Lembrando dos backslashes para tratar os metacaracteres literalmente\n",
    "grep -E \"\\(.*\\)\" regex.txt"
   ]
  },
  {
   "cell_type": "code",
   "execution_count": 15,
   "id": "994ea812-f711-42ae-b2b1-1dfc64dca50a",
   "metadata": {},
   "outputs": [
    {
     "name": "stdout",
     "output_type": "stream",
     "text": [
      "\u001b[01;31m\u001b[Khttp\u001b[m\u001b[Ks://www.google.com\n",
      "\u001b[01;31m\u001b[Khttp\u001b[m\u001b[K://example.org\n",
      "\u001b[01;31m\u001b[Kftp\u001b[m\u001b[K://\u001b[01;31m\u001b[Kftp\u001b[m\u001b[K.exemplo.com\n",
      "\u001b[01;31m\u001b[Khttp\u001b[m\u001b[K:/example.org\n",
      "\u001b[01;31m\u001b[Kftp\u001b[m\u001b[K:/\u001b[01;31m\u001b[Kftp\u001b[m\u001b[K.exemplo.com\n"
     ]
    }
   ],
   "source": [
    "# Exemplo usando pipe\n",
    "# Estamos encontrando ou a expressão a direita, ou á a esquerda.\n",
    "# Lembrando que precisamos usar com aspas para funcionar e o parenteses não ser tratado como parte da sintaxe regex\n",
    "\n",
    "grep -E \"(http|ftp)\" regex.txt"
   ]
  },
  {
   "cell_type": "code",
   "execution_count": 16,
   "id": "7dd01c2e-eebf-40ef-b9c0-b98e14d90a47",
   "metadata": {},
   "outputs": [
    {
     "name": "stdout",
     "output_type": "stream",
     "text": [
      "\u001b[01;31m\u001b[Khttp\u001b[m\u001b[K\n",
      "\u001b[01;31m\u001b[Khttp\u001b[m\u001b[K\n",
      "\u001b[01;31m\u001b[Kftp\u001b[m\u001b[K\n",
      "\u001b[01;31m\u001b[Kftp\u001b[m\u001b[K\n",
      "\u001b[01;31m\u001b[Khttp\u001b[m\u001b[K\n",
      "\u001b[01;31m\u001b[Kftp\u001b[m\u001b[K\n",
      "\u001b[01;31m\u001b[Kftp\u001b[m\u001b[K\n"
     ]
    }
   ],
   "source": [
    "# A forma básica (obsoleta) também funciona com o uso dos backslashs\n",
    "grep -E -o \\('http|ftp'\\) regex.txt"
   ]
  },
  {
   "cell_type": "code",
   "execution_count": null,
   "id": "8f8a9797-7d82-4b1d-9ed3-03b16a3279b3",
   "metadata": {},
   "outputs": [],
   "source": []
  },
  {
   "cell_type": "code",
   "execution_count": 27,
   "id": "02e50a81-b48f-4891-91e4-69ecd2fe360d",
   "metadata": {},
   "outputs": [
    {
     "name": "stdout",
     "output_type": "stream",
     "text": [
      "+1 \u001b[01;31m\u001b[K800-123-4567\u001b[m\u001b[K\n"
     ]
    }
   ],
   "source": [
    "# Exemplos de aplicações mais complexas\n",
    "# Queremos encontrar todos os números de telefones que comecem com 1 ou não\n",
    "\n",
    "grep -E '(1-)?[[:digit:]]{3}-[[:digit:]]{3}-[[:digit:]]{4}' regex.txt\n",
    "\n",
    "# (1-)? : Corresponde com 1 ou nenhuma ocorrencia de 1-\n",
    "# [[:digit:]]{3} : Corresponde com quaisquer 3 digitos em sequencia\n"
   ]
  },
  {
   "cell_type": "code",
   "execution_count": 25,
   "id": "99c42d43-7d5c-4814-a456-7da1f853e942",
   "metadata": {},
   "outputs": [],
   "source": [
    "touch file2.txt\n",
    "echo \"Here is my number: 919-543-3300.\n",
    "hi John, good to meet you\n",
    "They bought 731 bananas\n",
    "Please call 1.919.554.3800\n",
    "I think he said it was 337.4355\" > file2.txt"
   ]
  },
  {
   "cell_type": "code",
   "execution_count": 26,
   "id": "ef0da507-69f9-468f-8b0e-b09b821bd3c1",
   "metadata": {},
   "outputs": [
    {
     "name": "stdout",
     "output_type": "stream",
     "text": [
      "Here is my number: 919-543-3300.\n",
      "hi John, good to meet you\n",
      "They bought 731 bananas\n",
      "Please call 1.919.554.3800\n",
      "I think he said it was 337.4355\n"
     ]
    }
   ],
   "source": [
    "cat file2.txt"
   ]
  },
  {
   "cell_type": "markdown",
   "id": "2e2d3da9-d380-457f-8bdf-318e8877d3a1",
   "metadata": {},
   "source": [
    "# Funcionalidades que eu entendi nada"
   ]
  },
  {
   "cell_type": "markdown",
   "id": "186881a2-6437-4381-861a-95c802c60147",
   "metadata": {},
   "source": [
    "globstar shell option: Permite usar ** da mesma forma que * para corresponder em um contexto de nomes de arquivos e diretórios.\n"
   ]
  },
  {
   "cell_type": "code",
   "execution_count": null,
   "id": "b9b34ccc-946a-4cb8-9cb6-f527d4c4e6f9",
   "metadata": {},
   "outputs": [],
   "source": []
  },
  {
   "cell_type": "markdown",
   "id": "28746ac3-dc87-4b57-a40c-68c2a7f8c309",
   "metadata": {},
   "source": [
    "# Referências"
   ]
  },
  {
   "cell_type": "markdown",
   "id": "5ce3da3a-89bd-4856-bb5d-4e1546e1a9e6",
   "metadata": {},
   "source": [
    "https://regex101.com/\n",
    "\n",
    "https://computing.stat.berkeley.edu/tutorial-using-bash/regex.html\n",
    "\n",
    "https://www.gnu.org/software/bash/manual/bash.html#Pattern-Matching\n"
   ]
  },
  {
   "cell_type": "code",
   "execution_count": null,
   "id": "96594e2f-6937-4010-a6cf-bf03e3c14df9",
   "metadata": {
    "scrolled": true
   },
   "outputs": [],
   "source": [
    "# Manual no bash\n",
    "man 7 regex"
   ]
  },
  {
   "cell_type": "code",
   "execution_count": null,
   "id": "b96ff80d-5dfd-47e5-beca-662083b747ce",
   "metadata": {},
   "outputs": [],
   "source": []
  }
 ],
 "metadata": {
  "kernelspec": {
   "display_name": "Bash",
   "language": "bash",
   "name": "bash"
  },
  "language_info": {
   "codemirror_mode": "shell",
   "file_extension": ".sh",
   "mimetype": "text/x-sh",
   "name": "bash"
  }
 },
 "nbformat": 4,
 "nbformat_minor": 5
}
