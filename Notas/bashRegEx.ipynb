{
 "cells": [
  {
   "cell_type": "markdown",
   "id": "e4ec81b8-bac3-4044-beb4-68164ea36627",
   "metadata": {},
   "source": [
    "# Correspondência de Padrões"
   ]
  },
  {
   "cell_type": "markdown",
   "id": "0d975eda-7190-44b0-bc6f-ccf06c11d74e",
   "metadata": {},
   "source": [
    "Sinceramente. Ta complicado. \n",
    "\n",
    "A própria documentação do bash tem muita coisa errada e que  não funciona.\n",
    "\n",
    "GPT não é muito confiável, também está induzindo alguns erros.\n",
    "\n",
    "Vou deixar registrado o que eu entendi até agora e vou ir melhorando essa documentação ao longo do tempo.\n",
    "\n",
    "Todo lugar diz que a linguagem é similar para outras linguagens. Mas a biblioteca em python tem muitas diferenças."
   ]
  },
  {
   "cell_type": "markdown",
   "id": "2690f256-ae54-4796-993f-29b9995f9b65",
   "metadata": {},
   "source": [
    "# Expressões Regulares"
   ]
  },
  {
   "cell_type": "markdown",
   "id": "b84ba353-e929-41da-a612-dacd19a720b5",
   "metadata": {},
   "source": [
    "Expressões Regulares (regex) é a linguagem padrão utilizada para buscar padrões, combinar e manipular texto. Em bash, usamos em conjunto com outras ferramentas como **grep**, **sed**, **awk** e em estruturas condicionais como ```[[  ]]```.\n",
    "\n",
    "O regex é uma ótima ferramenta para:\n",
    "* Extrair partes de textos;\n",
    "* Criar váriaveis com informações encontradas em um texto;\n",
    "* Limpar e formatar textos e dados;\n",
    "* Tratar documentos como dados;\n",
    "* Web scraping;"
   ]
  },
  {
   "cell_type": "markdown",
   "id": "5b03747a-fc99-4127-bd46-2f9bf5af8e6c",
   "metadata": {},
   "source": [
    "Expressões regulares são contruídas de três formas:\n",
    "* Caracteres literais que correspondem com eles mesmos;\n",
    "* Classes de caracteres que corresponde com tipos de dados;\n",
    "* Modificadores que operam tanto com um quanto com outro;"
   ]
  },
  {
   "cell_type": "markdown",
   "id": "785f3240-f5b3-42a1-bf71-80c963e8aade",
   "metadata": {},
   "source": [
    "Qualquer caractere em um padrão, exceto os caracteres de padrões especiais (***metacaracteres***).\n",
    "\n"
   ]
  },
  {
   "cell_type": "markdown",
   "id": "6c6a5df1-4e4b-4ccd-a76f-a3fcfafc7799",
   "metadata": {},
   "source": [
    "**Observação:** POSIX.2 regex possuí dois tipos de sintaxe (flavors) para trabalhar com expressôes regulares. A extendida e a básica (obsoleta). A extendida tem metacaracteres ``` () e {} ```. Enquanto a sintaxe básica exige que os metacaracteres sejam sejam designados com as barras invertidas ```\\(\\) e \\{\\}```. Vamos generalizar para usar a sintaxe extendida usando a flag *-E* nos comandos."
   ]
  },
  {
   "cell_type": "markdown",
   "id": "2286c802-af0f-458d-9f3a-1b0b807f4258",
   "metadata": {},
   "source": [
    "| Metacaractere                    | Função                      | Tipo |\n",
    "|:--------------------------------:|:----------------------------|--|\n",
    "| .                 | Corresponde com qualquer frase. Ou melhor, qualquer caractere menos linhas novas (\\n); |  |\n",
    "| ^                  | Corresponde com o ínicio de uma linha        |  |\n",
    "| $                  | Corresponde com o final de uma linha                 |  |\n",
    "| ( )                              | Agrupa expressões. Define uma lista de padrões             |  |\n",
    "| [ ]                              | Define um conjunto de caractes a serem correspondidos.     |  |\n",
    "| { }                              | Define uma classe de caracteres(!).                        |  |\n",
    "| Pipe                             |                  |  |\n",
    "| \\                                | Anula o efeito dos metacaracteres                  |  |\n",
    "| ?(pattern-list)                  |                  |  |\n",
    "| *(pattern-list)                  |                  |  |\n",
    "| +(pattern-list)                  |                  |  |\n",
    "| @(pattern-list)                  |                  |  |\n",
    "| !(pattern-list)                  |                  |  |\n"
   ]
  },
  {
   "cell_type": "markdown",
   "id": "a59071c4-ac76-49e7-b354-c6adcf6a7bc2",
   "metadata": {},
   "source": [
    "## Conjuntos e Classes"
   ]
  },
  {
   "cell_type": "markdown",
   "id": "e8a5e2c2-2548-4fce-88f1-50d54eefca5b",
   "metadata": {},
   "source": [
    "| Operadores          |    Descrição     | Exemplo | \n",
    "|:-------------------:|:-----------------|---------|\n",
    "| [abc]             | Corresponde com qualquer caractere presente nos colchetes. | |\n",
    "| [a-d]             | Abreviação da comando anterior. Corresponderá todos os caracteres dentro do alcance.           | |\n",
    "| [^abc]            | Corresponderá com qualquer caractere que não está na lista (*negação*)           | |\n",
    "| [^a-d]            | Corresponderá com qualquer caractere que não esteja listado no alcance.           | |\n",
    "| []             | Abreviação da comando anterior.           | |\n",
    "| []             | Abreviação da comando anterior.           | |\n",
    "| []             | Abreviação da comando anterior.           | |\n",
    "| []             | Abreviação da comando anterior.           | |"
   ]
  },
  {
   "cell_type": "code",
   "execution_count": 1,
   "id": "5938ea1e-93cc-4e47-a1b9-f74ca05bc69a",
   "metadata": {
    "scrolled": true
   },
   "outputs": [
    {
     "name": "stdout",
     "output_type": "stream",
     "text": [
      "+\u001b[01;31m\u001b[K5\u001b[m\u001b[K\u001b[01;31m\u001b[K5\u001b[m\u001b[K \u001b[01;31m\u001b[K1\u001b[m\u001b[K\u001b[01;31m\u001b[K1\u001b[m\u001b[K \u001b[01;31m\u001b[K9\u001b[m\u001b[K\u001b[01;31m\u001b[K1\u001b[m\u001b[K\u001b[01;31m\u001b[K2\u001b[m\u001b[K\u001b[01;31m\u001b[K3\u001b[m\u001b[K\u001b[01;31m\u001b[K4\u001b[m\u001b[K-\u001b[01;31m\u001b[K5\u001b[m\u001b[K\u001b[01;31m\u001b[K6\u001b[m\u001b[K\u001b[01;31m\u001b[K7\u001b[m\u001b[K\u001b[01;31m\u001b[K8\u001b[m\u001b[K\n",
      "(\u001b[01;31m\u001b[K1\u001b[m\u001b[K\u001b[01;31m\u001b[K1\u001b[m\u001b[K) \u001b[01;31m\u001b[K9\u001b[m\u001b[K\u001b[01;31m\u001b[K1\u001b[m\u001b[K\u001b[01;31m\u001b[K2\u001b[m\u001b[K\u001b[01;31m\u001b[K3\u001b[m\u001b[K\u001b[01;31m\u001b[K4\u001b[m\u001b[K-\u001b[01;31m\u001b[K5\u001b[m\u001b[K\u001b[01;31m\u001b[K6\u001b[m\u001b[K\u001b[01;31m\u001b[K7\u001b[m\u001b[K\u001b[01;31m\u001b[K8\u001b[m\u001b[K\n",
      "\u001b[01;31m\u001b[K1\u001b[m\u001b[K\u001b[01;31m\u001b[K1\u001b[m\u001b[K \u001b[01;31m\u001b[K9\u001b[m\u001b[K\u001b[01;31m\u001b[K1\u001b[m\u001b[K\u001b[01;31m\u001b[K2\u001b[m\u001b[K\u001b[01;31m\u001b[K3\u001b[m\u001b[K\u001b[01;31m\u001b[K4\u001b[m\u001b[K-\u001b[01;31m\u001b[K5\u001b[m\u001b[K\u001b[01;31m\u001b[K6\u001b[m\u001b[K\u001b[01;31m\u001b[K7\u001b[m\u001b[K\u001b[01;31m\u001b[K8\u001b[m\u001b[K\n",
      "+\u001b[01;31m\u001b[K1\u001b[m\u001b[K \u001b[01;31m\u001b[K8\u001b[m\u001b[K\u001b[01;31m\u001b[K0\u001b[m\u001b[K\u001b[01;31m\u001b[K0\u001b[m\u001b[K-\u001b[01;31m\u001b[K1\u001b[m\u001b[K\u001b[01;31m\u001b[K2\u001b[m\u001b[K\u001b[01;31m\u001b[K3\u001b[m\u001b[K-\u001b[01;31m\u001b[K4\u001b[m\u001b[K\u001b[01;31m\u001b[K5\u001b[m\u001b[K\u001b[01;31m\u001b[K6\u001b[m\u001b[K\u001b[01;31m\u001b[K7\u001b[m\u001b[K\n",
      "\u001b[01;31m\u001b[K1\u001b[m\u001b[K\u001b[01;31m\u001b[K2\u001b[m\u001b[K\u001b[01;31m\u001b[K3\u001b[m\u001b[K\u001b[01;31m\u001b[K4\u001b[m\u001b[K\u001b[01;31m\u001b[K5\u001b[m\u001b[K\u001b[01;31m\u001b[K6\u001b[m\u001b[K\u001b[01;31m\u001b[K7\u001b[m\u001b[K\u001b[01;31m\u001b[K8\u001b[m\u001b[K\n",
      "(\u001b[01;31m\u001b[K1\u001b[m\u001b[K\u001b[01;31m\u001b[K1\u001b[m\u001b[K \u001b[01;31m\u001b[K9\u001b[m\u001b[K\u001b[01;31m\u001b[K1\u001b[m\u001b[K\u001b[01;31m\u001b[K2\u001b[m\u001b[K\u001b[01;31m\u001b[K3\u001b[m\u001b[K\u001b[01;31m\u001b[K4\u001b[m\u001b[K-\u001b[01;31m\u001b[K5\u001b[m\u001b[K\u001b[01;31m\u001b[K6\u001b[m\u001b[K\u001b[01;31m\u001b[K7\u001b[m\u001b[K\u001b[01;31m\u001b[K8\u001b[m\u001b[K\n",
      "\u001b[01;31m\u001b[K1\u001b[m\u001b[K\u001b[01;31m\u001b[K1\u001b[m\u001b[K \u001b[01;31m\u001b[K9\u001b[m\u001b[K\u001b[01;31m\u001b[K1\u001b[m\u001b[K\u001b[01;31m\u001b[K2\u001b[m\u001b[K\u001b[01;31m\u001b[K3\u001b[m\u001b[K\u001b[01;31m\u001b[K4\u001b[m\u001b[K-\u001b[01;31m\u001b[K5\u001b[m\u001b[K\u001b[01;31m\u001b[K6\u001b[m\u001b[K\u001b[01;31m\u001b[K7\u001b[m\u001b[K\u001b[01;31m\u001b[K8\u001b[m\u001b[K\u001b[01;31m\u001b[K9\u001b[m\u001b[K\n",
      "\u001b[01;31m\u001b[K1\u001b[m\u001b[K\u001b[01;31m\u001b[K9\u001b[m\u001b[K\u001b[01;31m\u001b[K2\u001b[m\u001b[K.\u001b[01;31m\u001b[K1\u001b[m\u001b[K\u001b[01;31m\u001b[K6\u001b[m\u001b[K\u001b[01;31m\u001b[K8\u001b[m\u001b[K.\u001b[01;31m\u001b[K0\u001b[m\u001b[K.\u001b[01;31m\u001b[K1\u001b[m\u001b[K\n",
      "\u001b[01;31m\u001b[K2\u001b[m\u001b[K\u001b[01;31m\u001b[K5\u001b[m\u001b[K\u001b[01;31m\u001b[K5\u001b[m\u001b[K.\u001b[01;31m\u001b[K2\u001b[m\u001b[K\u001b[01;31m\u001b[K5\u001b[m\u001b[K\u001b[01;31m\u001b[K5\u001b[m\u001b[K.\u001b[01;31m\u001b[K2\u001b[m\u001b[K\u001b[01;31m\u001b[K5\u001b[m\u001b[K\u001b[01;31m\u001b[K5\u001b[m\u001b[K.\u001b[01;31m\u001b[K2\u001b[m\u001b[K\u001b[01;31m\u001b[K5\u001b[m\u001b[K\u001b[01;31m\u001b[K5\u001b[m\u001b[K\\?*\n",
      "\u001b[01;31m\u001b[K1\u001b[m\u001b[K\u001b[01;31m\u001b[K0\u001b[m\u001b[K.\u001b[01;31m\u001b[K0\u001b[m\u001b[K.\u001b[01;31m\u001b[K0\u001b[m\u001b[K.\u001b[01;31m\u001b[K1\u001b[m\u001b[K\n",
      "\u001b[01;31m\u001b[K1\u001b[m\u001b[K\u001b[01;31m\u001b[K7\u001b[m\u001b[K\u001b[01;31m\u001b[K2\u001b[m\u001b[K.\u001b[01;31m\u001b[K1\u001b[m\u001b[K\u001b[01;31m\u001b[K6\u001b[m\u001b[K.\u001b[01;31m\u001b[K2\u001b[m\u001b[K\u001b[01;31m\u001b[K5\u001b[m\u001b[K\u001b[01;31m\u001b[K4\u001b[m\u001b[K.\u001b[01;31m\u001b[K1\u001b[m\u001b[K\n",
      "\u001b[01;31m\u001b[K1\u001b[m\u001b[K\u001b[01;31m\u001b[K9\u001b[m\u001b[K\u001b[01;31m\u001b[K2\u001b[m\u001b[K.\u001b[01;31m\u001b[K1\u001b[m\u001b[K\u001b[01;31m\u001b[K6\u001b[m\u001b[K\u001b[01;31m\u001b[K8\u001b[m\u001b[K.\u001b[01;31m\u001b[K0\u001b[m\u001b[K.\u001b[01;31m\u001b[K2\u001b[m\u001b[K\u001b[01;31m\u001b[K5\u001b[m\u001b[K\u001b[01;31m\u001b[K6\u001b[m\u001b[K\n",
      "\u001b[01;31m\u001b[K2\u001b[m\u001b[K\u001b[01;31m\u001b[K5\u001b[m\u001b[K\u001b[01;31m\u001b[K6\u001b[m\u001b[K.\u001b[01;31m\u001b[K2\u001b[m\u001b[K\u001b[01;31m\u001b[K5\u001b[m\u001b[K\u001b[01;31m\u001b[K5\u001b[m\u001b[K.\u001b[01;31m\u001b[K2\u001b[m\u001b[K\u001b[01;31m\u001b[K5\u001b[m\u001b[K\u001b[01;31m\u001b[K5\u001b[m\u001b[K.\u001b[01;31m\u001b[K2\u001b[m\u001b[K\u001b[01;31m\u001b[K5\u001b[m\u001b[K\u001b[01;31m\u001b[K5\u001b[m\u001b[K\n",
      "\u001b[01;31m\u001b[K1\u001b[m\u001b[K\u001b[01;31m\u001b[K0\u001b[m\u001b[K.\u001b[01;31m\u001b[K0\u001b[m\u001b[K.\u001b[01;31m\u001b[K0\u001b[m\u001b[K\n",
      "\u001b[01;31m\u001b[K1\u001b[m\u001b[K\u001b[01;31m\u001b[K7\u001b[m\u001b[K\u001b[01;31m\u001b[K2\u001b[m\u001b[K.\u001b[01;31m\u001b[K1\u001b[m\u001b[K\u001b[01;31m\u001b[K6\u001b[m\u001b[K.\u001b[01;31m\u001b[K2\u001b[m\u001b[K\u001b[01;31m\u001b[K5\u001b[m\u001b[K\u001b[01;31m\u001b[K4\u001b[m\u001b[K.\u001b[01;31m\u001b[K9\u001b[m\u001b[K\u001b[01;31m\u001b[K9\u001b[m\u001b[K\u001b[01;31m\u001b[K9\u001b[m\u001b[K\n",
      "\u001b[01;31m\u001b[K2\u001b[m\u001b[K\u001b[01;31m\u001b[K0\u001b[m\u001b[K\u001b[01;31m\u001b[K2\u001b[m\u001b[K\u001b[01;31m\u001b[K5\u001b[m\u001b[K-\u001b[01;31m\u001b[K0\u001b[m\u001b[K\u001b[01;31m\u001b[K1\u001b[m\u001b[K-\u001b[01;31m\u001b[K2\u001b[m\u001b[K\u001b[01;31m\u001b[K8\u001b[m\u001b[K\n",
      "\u001b[01;31m\u001b[K2\u001b[m\u001b[K\u001b[01;31m\u001b[K8\u001b[m\u001b[K/\u001b[01;31m\u001b[K0\u001b[m\u001b[K\u001b[01;31m\u001b[K1\u001b[m\u001b[K/\u001b[01;31m\u001b[K2\u001b[m\u001b[K\u001b[01;31m\u001b[K0\u001b[m\u001b[K\u001b[01;31m\u001b[K2\u001b[m\u001b[K\u001b[01;31m\u001b[K5\u001b[m\u001b[K\n",
      "\u001b[01;31m\u001b[K0\u001b[m\u001b[K\u001b[01;31m\u001b[K1\u001b[m\u001b[K/\u001b[01;31m\u001b[K2\u001b[m\u001b[K\u001b[01;31m\u001b[K8\u001b[m\u001b[K/\u001b[01;31m\u001b[K2\u001b[m\u001b[K\u001b[01;31m\u001b[K0\u001b[m\u001b[K\u001b[01;31m\u001b[K2\u001b[m\u001b[K\u001b[01;31m\u001b[K5\u001b[m\u001b[K\n",
      "\u001b[01;31m\u001b[K2\u001b[m\u001b[K\u001b[01;31m\u001b[K0\u001b[m\u001b[K\u001b[01;31m\u001b[K2\u001b[m\u001b[K\u001b[01;31m\u001b[K5\u001b[m\u001b[K-\u001b[01;31m\u001b[K1\u001b[m\u001b[K\u001b[01;31m\u001b[K3\u001b[m\u001b[K-\u001b[01;31m\u001b[K2\u001b[m\u001b[K\u001b[01;31m\u001b[K8\u001b[m\u001b[K\n",
      "\u001b[01;31m\u001b[K2\u001b[m\u001b[K\u001b[01;31m\u001b[K8\u001b[m\u001b[K-\u001b[01;31m\u001b[K0\u001b[m\u001b[K\u001b[01;31m\u001b[K1\u001b[m\u001b[K-\u001b[01;31m\u001b[K2\u001b[m\u001b[K\u001b[01;31m\u001b[K0\u001b[m\u001b[K\u001b[01;31m\u001b[K2\u001b[m\u001b[K\u001b[01;31m\u001b[K5\u001b[m\u001b[K\n",
      "\u001b[01;31m\u001b[K3\u001b[m\u001b[K\u001b[01;31m\u001b[K1\u001b[m\u001b[K/\u001b[01;31m\u001b[K0\u001b[m\u001b[K\u001b[01;31m\u001b[K2\u001b[m\u001b[K/\u001b[01;31m\u001b[K2\u001b[m\u001b[K\u001b[01;31m\u001b[K0\u001b[m\u001b[K\u001b[01;31m\u001b[K2\u001b[m\u001b[K\u001b[01;31m\u001b[K5\u001b[m\u001b[K\n",
      "\u001b[01;31m\u001b[K0\u001b[m\u001b[K\u001b[01;31m\u001b[K1\u001b[m\u001b[K\u001b[01;31m\u001b[K0\u001b[m\u001b[K\u001b[01;31m\u001b[K0\u001b[m\u001b[K\u001b[01;31m\u001b[K1\u001b[m\u001b[K-\u001b[01;31m\u001b[K0\u001b[m\u001b[K\u001b[01;31m\u001b[K0\u001b[m\u001b[K\u001b[01;31m\u001b[K0\u001b[m\u001b[K\n",
      "\u001b[01;31m\u001b[K1\u001b[m\u001b[K\u001b[01;31m\u001b[K2\u001b[m\u001b[K\u001b[01;31m\u001b[K3\u001b[m\u001b[K\u001b[01;31m\u001b[K4\u001b[m\u001b[K\u001b[01;31m\u001b[K5\u001b[m\u001b[K-\u001b[01;31m\u001b[K6\u001b[m\u001b[K\u001b[01;31m\u001b[K7\u001b[m\u001b[K\u001b[01;31m\u001b[K8\u001b[m\u001b[K\n",
      "\u001b[01;31m\u001b[K1\u001b[m\u001b[K\u001b[01;31m\u001b[K2\u001b[m\u001b[K\u001b[01;31m\u001b[K3\u001b[m\u001b[K\u001b[01;31m\u001b[K4\u001b[m\u001b[K\u001b[01;31m\u001b[K5\u001b[m\u001b[K\u001b[01;31m\u001b[K6\u001b[m\u001b[K\u001b[01;31m\u001b[K7\u001b[m\u001b[K\u001b[01;31m\u001b[K8\u001b[m\u001b[K\n",
      "\u001b[01;31m\u001b[K1\u001b[m\u001b[K\u001b[01;31m\u001b[K2\u001b[m\u001b[K-\u001b[01;31m\u001b[K3\u001b[m\u001b[K\u001b[01;31m\u001b[K4\u001b[m\u001b[K\u001b[01;31m\u001b[K5\u001b[m\u001b[K\n",
      "\u001b[01;31m\u001b[K1\u001b[m\u001b[K\u001b[01;31m\u001b[K2\u001b[m\u001b[K\u001b[01;31m\u001b[K3\u001b[m\u001b[K\n",
      "\u001b[01;31m\u001b[K0\u001b[m\u001b[K.\u001b[01;31m\u001b[K4\u001b[m\u001b[K\u001b[01;31m\u001b[K5\u001b[m\u001b[K\u001b[01;31m\u001b[K6\u001b[m\u001b[K\n",
      "-\u001b[01;31m\u001b[K7\u001b[m\u001b[K\u001b[01;31m\u001b[K8\u001b[m\u001b[K\u001b[01;31m\u001b[K9\u001b[m\u001b[K\n",
      "+\u001b[01;31m\u001b[K0\u001b[m\u001b[K.\u001b[01;31m\u001b[K1\u001b[m\u001b[K\u001b[01;31m\u001b[K2\u001b[m\u001b[K\n",
      "\u001b[01;31m\u001b[K1\u001b[m\u001b[K\u001b[01;31m\u001b[K2\u001b[m\u001b[K\u001b[01;31m\u001b[K3\u001b[m\u001b[Kabc\n",
      "- \u001b[01;31m\u001b[K4\u001b[m\u001b[K\u001b[01;31m\u001b[K5\u001b[m\u001b[K\u001b[01;31m\u001b[K6\u001b[m\u001b[K\n",
      "+ \u001b[01;31m\u001b[K0\u001b[m\u001b[K.\u001b[01;31m\u001b[K1\u001b[m\u001b[K\u001b[01;31m\u001b[K2\u001b[m\u001b[K\n",
      "regex\u001b[01;31m\u001b[K1\u001b[m\u001b[K\u001b[01;31m\u001b[K2\u001b[m\u001b[K\u001b[01;31m\u001b[K3\u001b[m\u001b[K\n",
      "\u001b[01;31m\u001b[K1\u001b[m\u001b[K\u001b[01;31m\u001b[K2\u001b[m\u001b[K\u001b[01;31m\u001b[K3\u001b[m\u001b[Kregex\n",
      "dahdjk\u001b[01;31m\u001b[K1\u001b[m\u001b[Kabcslklsad\n"
     ]
    }
   ],
   "source": [
    "# Exemplos usando grep.\n",
    "# Encontrar todos as linhas com valores numéricos em um documento.\n",
    "\n",
    "grep -E [0-9] regex.txt"
   ]
  },
  {
   "cell_type": "code",
   "execution_count": 2,
   "id": "3cbb5a4a-3cf7-4b65-8fa9-d95508838fb4",
   "metadata": {},
   "outputs": [
    {
     "name": "stdout",
     "output_type": "stream",
     "text": [
      "55119123456781191234567811912345678180012345671234567811912345678119123456789192168012552552552551000117216254119216802562562552552551000172162549992025012828012025012820252025132828012025310220250100100012345678123456781234512304567890121234560121231231\n"
     ]
    }
   ],
   "source": [
    "# Usando a flag -o para encontrar apenas os números\n",
    "grep -E -o [0-9] regex.txt | tr -d '\\n' # Pipe para evitar que cada número seja impresso em uma nova linha"
   ]
  },
  {
   "cell_type": "markdown",
   "id": "64649e75-ac4b-4c40-8221-f7b1652a0b9f",
   "metadata": {},
   "source": [
    "Existem conjuntos de caracteres que já estão definidos em classes para agilizar algumas buscas. A sintaxe é [:CLASS:]. Onde classe pode ser qualquer* um dos valores. Lembrando que a sintaxe [:CLASS:] tem que ir dentro do [] para buscar um conjunto da classe.\n",
    "\n",
    "* \"alnum\"       # Classe dos (?);\n",
    "* \"alpha\"       # Classe dos alfanuméricos\n",
    "* \"ascii\"       # Classe dos ascii ((?) não funcionou, acredito que seja por conta do meu teclado estar em uft8 (?))\n",
    "* \"blank\"       # Encontra frases, linhas que possuem espaço(s) em sua composição.\n",
    "* \"ctrl\"        # (?) Também não funcionou, eu pensei que poderia ser caracteres de controle, como nova linha e etc)\n",
    "* \"digit\"       # Retorna todas as linhas com números em sua composição\n",
    "* \"graph\"       # (?). No meu teste imprimiu o texto inteiro do arquivo\n",
    "* \"lower\"       # Retorna todas as minúsculas\n",
    "* \"upper\"       # Corresponde com as maiúsculas \n",
    "* \"print\"       # (?). Também retornou o arquivo todo\n",
    "* \"punct\"       # Corresponde com os símbolos no texto\n",
    "* \"space\"       # (?). Qual a diferença do space para o blank? \n",
    "* \"word\"        # (?). Não funcionou. Talvez não funciona com o grep?\n",
    "* \"xdigit\"      # Classe que corresponderá com todos os digitos hexadecimais."
   ]
  },
  {
   "cell_type": "code",
   "execution_count": 3,
   "id": "b9b6af8c-a2ed-4801-a68f-1695437b13cb",
   "metadata": {
    "scrolled": true
   },
   "outputs": [
    {
     "name": "stdout",
     "output_type": "stream",
     "text": [
      "#\u001b[01;31m\u001b[KA\u001b[m\u001b[Krquivo\u001b[01;31m\u001b[Kd\u001b[m\u001b[K\u001b[01;31m\u001b[Ke\u001b[m\u001b[K \u001b[01;31m\u001b[Ke\u001b[m\u001b[Kx\u001b[01;31m\u001b[Ke\u001b[m\u001b[Kmplosp\u001b[01;31m\u001b[Ka\u001b[m\u001b[Kr\u001b[01;31m\u001b[Ka\u001b[m\u001b[Kpráti\u001b[01;31m\u001b[Kc\u001b[m\u001b[K\u001b[01;31m\u001b[Ka\u001b[m\u001b[K\u001b[01;31m\u001b[Kd\u001b[m\u001b[K\u001b[01;31m\u001b[Ke\u001b[m\u001b[K\n",
      "#R\u001b[01;31m\u001b[Ke\u001b[m\u001b[Kg\u001b[01;31m\u001b[Ke\u001b[m\u001b[Kx\n",
      "# \u001b[01;31m\u001b[KE\u001b[m\u001b[Km\u001b[01;31m\u001b[Ka\u001b[m\u001b[Kils váli\u001b[01;31m\u001b[Kd\u001b[m\u001b[Kos\n",
      "usu\u001b[01;31m\u001b[Ka\u001b[m\u001b[Krio@\u001b[01;31m\u001b[Ke\u001b[m\u001b[Kx\u001b[01;31m\u001b[Ke\u001b[m\u001b[Kmplo.\u001b[01;31m\u001b[Kc\u001b[m\u001b[Kom\n",
      "\u001b[01;31m\u001b[Ke\u001b[m\u001b[Km\u001b[01;31m\u001b[Ka\u001b[m\u001b[Kil.t\u001b[01;31m\u001b[Ke\u001b[m\u001b[Kst@\u001b[01;31m\u001b[Kd\u001b[m\u001b[Kom\u001b[01;31m\u001b[Ka\u001b[m\u001b[Kin.org\n",
      "prim\u001b[01;31m\u001b[Ke\u001b[m\u001b[Kiro_ultimo@\u001b[01;31m\u001b[Ke\u001b[m\u001b[Kmpr\u001b[01;31m\u001b[Ke\u001b[m\u001b[Ks\u001b[01;31m\u001b[Ka\u001b[m\u001b[K.\u001b[01;31m\u001b[Kc\u001b[m\u001b[Ko\n",
      "\u001b[01;31m\u001b[Ke\u001b[m\u001b[Km\u001b[01;31m\u001b[Ka\u001b[m\u001b[Kil+\u001b[01;31m\u001b[Ka\u001b[m\u001b[Kli\u001b[01;31m\u001b[Ka\u001b[m\u001b[Ks@gm\u001b[01;31m\u001b[Ka\u001b[m\u001b[Kil.\u001b[01;31m\u001b[Kc\u001b[m\u001b[Kom\n",
      "# \u001b[01;31m\u001b[KE\u001b[m\u001b[Km\u001b[01;31m\u001b[Ka\u001b[m\u001b[Kils inváli\u001b[01;31m\u001b[Kd\u001b[m\u001b[Kos\n",
      "usu\u001b[01;31m\u001b[Ka\u001b[m\u001b[Krio@@\u001b[01;31m\u001b[Ke\u001b[m\u001b[Kx\u001b[01;31m\u001b[Ke\u001b[m\u001b[Kmplo.\u001b[01;31m\u001b[Kc\u001b[m\u001b[Kom\n",
      "\u001b[01;31m\u001b[Ke\u001b[m\u001b[Km\u001b[01;31m\u001b[Ka\u001b[m\u001b[Kil..t\u001b[01;31m\u001b[Ke\u001b[m\u001b[Kst@\u001b[01;31m\u001b[Kd\u001b[m\u001b[Kom\u001b[01;31m\u001b[Ka\u001b[m\u001b[Kin.org\n",
      "usu\u001b[01;31m\u001b[Ka\u001b[m\u001b[Krio@.\u001b[01;31m\u001b[Kc\u001b[m\u001b[Kom\n",
      "\u001b[01;31m\u001b[Ke\u001b[m\u001b[Km\u001b[01;31m\u001b[Ka\u001b[m\u001b[Kil-s\u001b[01;31m\u001b[Ke\u001b[m\u001b[Km-\u001b[01;31m\u001b[Ka\u001b[m\u001b[Krro\u001b[01;31m\u001b[Kb\u001b[m\u001b[K\u001b[01;31m\u001b[Ka\u001b[m\u001b[K.\u001b[01;31m\u001b[Kc\u001b[m\u001b[Kom\n",
      "# T\u001b[01;31m\u001b[Ke\u001b[m\u001b[Kl\u001b[01;31m\u001b[Ke\u001b[m\u001b[K\u001b[01;31m\u001b[Kf\u001b[m\u001b[Kon\u001b[01;31m\u001b[Ke\u001b[m\u001b[Ks váli\u001b[01;31m\u001b[Kd\u001b[m\u001b[Kos\n",
      "+\u001b[01;31m\u001b[K5\u001b[m\u001b[K\u001b[01;31m\u001b[K5\u001b[m\u001b[K \u001b[01;31m\u001b[K1\u001b[m\u001b[K\u001b[01;31m\u001b[K1\u001b[m\u001b[K \u001b[01;31m\u001b[K9\u001b[m\u001b[K\u001b[01;31m\u001b[K1\u001b[m\u001b[K\u001b[01;31m\u001b[K2\u001b[m\u001b[K\u001b[01;31m\u001b[K3\u001b[m\u001b[K\u001b[01;31m\u001b[K4\u001b[m\u001b[K-\u001b[01;31m\u001b[K5\u001b[m\u001b[K\u001b[01;31m\u001b[K6\u001b[m\u001b[K\u001b[01;31m\u001b[K7\u001b[m\u001b[K\u001b[01;31m\u001b[K8\u001b[m\u001b[K\n",
      "(\u001b[01;31m\u001b[K1\u001b[m\u001b[K\u001b[01;31m\u001b[K1\u001b[m\u001b[K) \u001b[01;31m\u001b[K9\u001b[m\u001b[K\u001b[01;31m\u001b[K1\u001b[m\u001b[K\u001b[01;31m\u001b[K2\u001b[m\u001b[K\u001b[01;31m\u001b[K3\u001b[m\u001b[K\u001b[01;31m\u001b[K4\u001b[m\u001b[K-\u001b[01;31m\u001b[K5\u001b[m\u001b[K\u001b[01;31m\u001b[K6\u001b[m\u001b[K\u001b[01;31m\u001b[K7\u001b[m\u001b[K\u001b[01;31m\u001b[K8\u001b[m\u001b[K\n",
      "\u001b[01;31m\u001b[K1\u001b[m\u001b[K\u001b[01;31m\u001b[K1\u001b[m\u001b[K \u001b[01;31m\u001b[K9\u001b[m\u001b[K\u001b[01;31m\u001b[K1\u001b[m\u001b[K\u001b[01;31m\u001b[K2\u001b[m\u001b[K\u001b[01;31m\u001b[K3\u001b[m\u001b[K\u001b[01;31m\u001b[K4\u001b[m\u001b[K-\u001b[01;31m\u001b[K5\u001b[m\u001b[K\u001b[01;31m\u001b[K6\u001b[m\u001b[K\u001b[01;31m\u001b[K7\u001b[m\u001b[K\u001b[01;31m\u001b[K8\u001b[m\u001b[K\n",
      "+\u001b[01;31m\u001b[K1\u001b[m\u001b[K \u001b[01;31m\u001b[K8\u001b[m\u001b[K\u001b[01;31m\u001b[K0\u001b[m\u001b[K\u001b[01;31m\u001b[K0\u001b[m\u001b[K-\u001b[01;31m\u001b[K1\u001b[m\u001b[K\u001b[01;31m\u001b[K2\u001b[m\u001b[K\u001b[01;31m\u001b[K3\u001b[m\u001b[K-\u001b[01;31m\u001b[K4\u001b[m\u001b[K\u001b[01;31m\u001b[K5\u001b[m\u001b[K\u001b[01;31m\u001b[K6\u001b[m\u001b[K\u001b[01;31m\u001b[K7\u001b[m\u001b[K\n",
      "# T\u001b[01;31m\u001b[Ke\u001b[m\u001b[Kl\u001b[01;31m\u001b[Ke\u001b[m\u001b[K\u001b[01;31m\u001b[Kf\u001b[m\u001b[Kon\u001b[01;31m\u001b[Ke\u001b[m\u001b[Ks inváli\u001b[01;31m\u001b[Kd\u001b[m\u001b[Kos\n",
      "\u001b[01;31m\u001b[K1\u001b[m\u001b[K\u001b[01;31m\u001b[K2\u001b[m\u001b[K\u001b[01;31m\u001b[K3\u001b[m\u001b[K\u001b[01;31m\u001b[K4\u001b[m\u001b[K\u001b[01;31m\u001b[K5\u001b[m\u001b[K\u001b[01;31m\u001b[K6\u001b[m\u001b[K\u001b[01;31m\u001b[K7\u001b[m\u001b[K\u001b[01;31m\u001b[K8\u001b[m\u001b[K\n",
      "(\u001b[01;31m\u001b[K1\u001b[m\u001b[K\u001b[01;31m\u001b[K1\u001b[m\u001b[K \u001b[01;31m\u001b[K9\u001b[m\u001b[K\u001b[01;31m\u001b[K1\u001b[m\u001b[K\u001b[01;31m\u001b[K2\u001b[m\u001b[K\u001b[01;31m\u001b[K3\u001b[m\u001b[K\u001b[01;31m\u001b[K4\u001b[m\u001b[K-\u001b[01;31m\u001b[K5\u001b[m\u001b[K\u001b[01;31m\u001b[K6\u001b[m\u001b[K\u001b[01;31m\u001b[K7\u001b[m\u001b[K\u001b[01;31m\u001b[K8\u001b[m\u001b[K\n",
      "\u001b[01;31m\u001b[K1\u001b[m\u001b[K\u001b[01;31m\u001b[K1\u001b[m\u001b[K \u001b[01;31m\u001b[K9\u001b[m\u001b[K\u001b[01;31m\u001b[K1\u001b[m\u001b[K\u001b[01;31m\u001b[K2\u001b[m\u001b[K\u001b[01;31m\u001b[K3\u001b[m\u001b[K\u001b[01;31m\u001b[K4\u001b[m\u001b[K-\u001b[01;31m\u001b[K5\u001b[m\u001b[K\u001b[01;31m\u001b[K6\u001b[m\u001b[K\u001b[01;31m\u001b[K7\u001b[m\u001b[K\u001b[01;31m\u001b[K8\u001b[m\u001b[K\u001b[01;31m\u001b[K9\u001b[m\u001b[K\n",
      "# \u001b[01;31m\u001b[KE\u001b[m\u001b[Kn\u001b[01;31m\u001b[Kd\u001b[m\u001b[K\u001b[01;31m\u001b[Ke\u001b[m\u001b[Kr\u001b[01;31m\u001b[Ke\u001b[m\u001b[Kços IP váli\u001b[01;31m\u001b[Kd\u001b[m\u001b[Kos\n",
      "\u001b[01;31m\u001b[K1\u001b[m\u001b[K\u001b[01;31m\u001b[K9\u001b[m\u001b[K\u001b[01;31m\u001b[K2\u001b[m\u001b[K.\u001b[01;31m\u001b[K1\u001b[m\u001b[K\u001b[01;31m\u001b[K6\u001b[m\u001b[K\u001b[01;31m\u001b[K8\u001b[m\u001b[K.\u001b[01;31m\u001b[K0\u001b[m\u001b[K.\u001b[01;31m\u001b[K1\u001b[m\u001b[K\n",
      "\u001b[01;31m\u001b[K2\u001b[m\u001b[K\u001b[01;31m\u001b[K5\u001b[m\u001b[K\u001b[01;31m\u001b[K5\u001b[m\u001b[K.\u001b[01;31m\u001b[K2\u001b[m\u001b[K\u001b[01;31m\u001b[K5\u001b[m\u001b[K\u001b[01;31m\u001b[K5\u001b[m\u001b[K.\u001b[01;31m\u001b[K2\u001b[m\u001b[K\u001b[01;31m\u001b[K5\u001b[m\u001b[K\u001b[01;31m\u001b[K5\u001b[m\u001b[K.\u001b[01;31m\u001b[K2\u001b[m\u001b[K\u001b[01;31m\u001b[K5\u001b[m\u001b[K\u001b[01;31m\u001b[K5\u001b[m\u001b[K\\?*\n",
      "\u001b[01;31m\u001b[K1\u001b[m\u001b[K\u001b[01;31m\u001b[K0\u001b[m\u001b[K.\u001b[01;31m\u001b[K0\u001b[m\u001b[K.\u001b[01;31m\u001b[K0\u001b[m\u001b[K.\u001b[01;31m\u001b[K1\u001b[m\u001b[K\n",
      "\u001b[01;31m\u001b[K1\u001b[m\u001b[K\u001b[01;31m\u001b[K7\u001b[m\u001b[K\u001b[01;31m\u001b[K2\u001b[m\u001b[K.\u001b[01;31m\u001b[K1\u001b[m\u001b[K\u001b[01;31m\u001b[K6\u001b[m\u001b[K.\u001b[01;31m\u001b[K2\u001b[m\u001b[K\u001b[01;31m\u001b[K5\u001b[m\u001b[K\u001b[01;31m\u001b[K4\u001b[m\u001b[K.\u001b[01;31m\u001b[K1\u001b[m\u001b[K\n",
      "# \u001b[01;31m\u001b[KE\u001b[m\u001b[Kn\u001b[01;31m\u001b[Kd\u001b[m\u001b[K\u001b[01;31m\u001b[Ke\u001b[m\u001b[Kr\u001b[01;31m\u001b[Ke\u001b[m\u001b[Kços IP inváli\u001b[01;31m\u001b[Kd\u001b[m\u001b[Kos\n",
      "\u001b[01;31m\u001b[K1\u001b[m\u001b[K\u001b[01;31m\u001b[K9\u001b[m\u001b[K\u001b[01;31m\u001b[K2\u001b[m\u001b[K.\u001b[01;31m\u001b[K1\u001b[m\u001b[K\u001b[01;31m\u001b[K6\u001b[m\u001b[K\u001b[01;31m\u001b[K8\u001b[m\u001b[K.\u001b[01;31m\u001b[K0\u001b[m\u001b[K.\u001b[01;31m\u001b[K2\u001b[m\u001b[K\u001b[01;31m\u001b[K5\u001b[m\u001b[K\u001b[01;31m\u001b[K6\u001b[m\u001b[K\n",
      "\u001b[01;31m\u001b[K2\u001b[m\u001b[K\u001b[01;31m\u001b[K5\u001b[m\u001b[K\u001b[01;31m\u001b[K6\u001b[m\u001b[K.\u001b[01;31m\u001b[K2\u001b[m\u001b[K\u001b[01;31m\u001b[K5\u001b[m\u001b[K\u001b[01;31m\u001b[K5\u001b[m\u001b[K.\u001b[01;31m\u001b[K2\u001b[m\u001b[K\u001b[01;31m\u001b[K5\u001b[m\u001b[K\u001b[01;31m\u001b[K5\u001b[m\u001b[K.\u001b[01;31m\u001b[K2\u001b[m\u001b[K\u001b[01;31m\u001b[K5\u001b[m\u001b[K\u001b[01;31m\u001b[K5\u001b[m\u001b[K\n",
      "\u001b[01;31m\u001b[K1\u001b[m\u001b[K\u001b[01;31m\u001b[K0\u001b[m\u001b[K.\u001b[01;31m\u001b[K0\u001b[m\u001b[K.\u001b[01;31m\u001b[K0\u001b[m\u001b[K\n",
      "\u001b[01;31m\u001b[K1\u001b[m\u001b[K\u001b[01;31m\u001b[K7\u001b[m\u001b[K\u001b[01;31m\u001b[K2\u001b[m\u001b[K.\u001b[01;31m\u001b[K1\u001b[m\u001b[K\u001b[01;31m\u001b[K6\u001b[m\u001b[K.\u001b[01;31m\u001b[K2\u001b[m\u001b[K\u001b[01;31m\u001b[K5\u001b[m\u001b[K\u001b[01;31m\u001b[K4\u001b[m\u001b[K.\u001b[01;31m\u001b[K9\u001b[m\u001b[K\u001b[01;31m\u001b[K9\u001b[m\u001b[K\u001b[01;31m\u001b[K9\u001b[m\u001b[K\n",
      "# \u001b[01;31m\u001b[KD\u001b[m\u001b[K\u001b[01;31m\u001b[Ka\u001b[m\u001b[Kt\u001b[01;31m\u001b[Ka\u001b[m\u001b[Ks váli\u001b[01;31m\u001b[Kd\u001b[m\u001b[K\u001b[01;31m\u001b[Ka\u001b[m\u001b[Ks\n",
      "\u001b[01;31m\u001b[K2\u001b[m\u001b[K\u001b[01;31m\u001b[K0\u001b[m\u001b[K\u001b[01;31m\u001b[K2\u001b[m\u001b[K\u001b[01;31m\u001b[K5\u001b[m\u001b[K-\u001b[01;31m\u001b[K0\u001b[m\u001b[K\u001b[01;31m\u001b[K1\u001b[m\u001b[K-\u001b[01;31m\u001b[K2\u001b[m\u001b[K\u001b[01;31m\u001b[K8\u001b[m\u001b[K\n",
      "\u001b[01;31m\u001b[K2\u001b[m\u001b[K\u001b[01;31m\u001b[K8\u001b[m\u001b[K/\u001b[01;31m\u001b[K0\u001b[m\u001b[K\u001b[01;31m\u001b[K1\u001b[m\u001b[K/\u001b[01;31m\u001b[K2\u001b[m\u001b[K\u001b[01;31m\u001b[K0\u001b[m\u001b[K\u001b[01;31m\u001b[K2\u001b[m\u001b[K\u001b[01;31m\u001b[K5\u001b[m\u001b[K\n",
      "\u001b[01;31m\u001b[K0\u001b[m\u001b[K\u001b[01;31m\u001b[K1\u001b[m\u001b[K/\u001b[01;31m\u001b[K2\u001b[m\u001b[K\u001b[01;31m\u001b[K8\u001b[m\u001b[K/\u001b[01;31m\u001b[K2\u001b[m\u001b[K\u001b[01;31m\u001b[K0\u001b[m\u001b[K\u001b[01;31m\u001b[K2\u001b[m\u001b[K\u001b[01;31m\u001b[K5\u001b[m\u001b[K\n",
      "# \u001b[01;31m\u001b[KD\u001b[m\u001b[K\u001b[01;31m\u001b[Ka\u001b[m\u001b[Kt\u001b[01;31m\u001b[Ka\u001b[m\u001b[Ks inváli\u001b[01;31m\u001b[Kd\u001b[m\u001b[K\u001b[01;31m\u001b[Ka\u001b[m\u001b[Ks\n",
      "\u001b[01;31m\u001b[K2\u001b[m\u001b[K\u001b[01;31m\u001b[K0\u001b[m\u001b[K\u001b[01;31m\u001b[K2\u001b[m\u001b[K\u001b[01;31m\u001b[K5\u001b[m\u001b[K-\u001b[01;31m\u001b[K1\u001b[m\u001b[K\u001b[01;31m\u001b[K3\u001b[m\u001b[K-\u001b[01;31m\u001b[K2\u001b[m\u001b[K\u001b[01;31m\u001b[K8\u001b[m\u001b[K\n",
      "\u001b[01;31m\u001b[K2\u001b[m\u001b[K\u001b[01;31m\u001b[K8\u001b[m\u001b[K-\u001b[01;31m\u001b[K0\u001b[m\u001b[K\u001b[01;31m\u001b[K1\u001b[m\u001b[K-\u001b[01;31m\u001b[K2\u001b[m\u001b[K\u001b[01;31m\u001b[K0\u001b[m\u001b[K\u001b[01;31m\u001b[K2\u001b[m\u001b[K\u001b[01;31m\u001b[K5\u001b[m\u001b[K\n",
      "\u001b[01;31m\u001b[K3\u001b[m\u001b[K\u001b[01;31m\u001b[K1\u001b[m\u001b[K/\u001b[01;31m\u001b[K0\u001b[m\u001b[K\u001b[01;31m\u001b[K2\u001b[m\u001b[K/\u001b[01;31m\u001b[K2\u001b[m\u001b[K\u001b[01;31m\u001b[K0\u001b[m\u001b[K\u001b[01;31m\u001b[K2\u001b[m\u001b[K\u001b[01;31m\u001b[K5\u001b[m\u001b[K\n",
      "# URLs váli\u001b[01;31m\u001b[Kd\u001b[m\u001b[K\u001b[01;31m\u001b[Ka\u001b[m\u001b[Ks\n",
      "https://www.googl\u001b[01;31m\u001b[Ke\u001b[m\u001b[K.\u001b[01;31m\u001b[Kc\u001b[m\u001b[Kom\n",
      "http://\u001b[01;31m\u001b[Ke\u001b[m\u001b[Kx\u001b[01;31m\u001b[Ka\u001b[m\u001b[Kmpl\u001b[01;31m\u001b[Ke\u001b[m\u001b[K.org\n",
      "www.m\u001b[01;31m\u001b[Ke\u001b[m\u001b[Kusit\u001b[01;31m\u001b[Ke\u001b[m\u001b[K.\u001b[01;31m\u001b[Kc\u001b[m\u001b[Kom\n",
      "\u001b[01;31m\u001b[Kf\u001b[m\u001b[Ktp://\u001b[01;31m\u001b[Kf\u001b[m\u001b[Ktp.\u001b[01;31m\u001b[Ke\u001b[m\u001b[Kx\u001b[01;31m\u001b[Ke\u001b[m\u001b[Kmplo.\u001b[01;31m\u001b[Kc\u001b[m\u001b[Kom\n",
      "# URLs inváli\u001b[01;31m\u001b[Kd\u001b[m\u001b[K\u001b[01;31m\u001b[Ka\u001b[m\u001b[Ks\n",
      "htp://www.googl\u001b[01;31m\u001b[Ke\u001b[m\u001b[K.\u001b[01;31m\u001b[Kc\u001b[m\u001b[Kom\n",
      "http:/\u001b[01;31m\u001b[Ke\u001b[m\u001b[Kx\u001b[01;31m\u001b[Ka\u001b[m\u001b[Kmpl\u001b[01;31m\u001b[Ke\u001b[m\u001b[K.org\n",
      "m\u001b[01;31m\u001b[Ke\u001b[m\u001b[Kusit\u001b[01;31m\u001b[Ke\u001b[m\u001b[K,\u001b[01;31m\u001b[Kc\u001b[m\u001b[Kom\n",
      "\u001b[01;31m\u001b[Kf\u001b[m\u001b[Ktp:/\u001b[01;31m\u001b[Kf\u001b[m\u001b[Ktp.\u001b[01;31m\u001b[Ke\u001b[m\u001b[Kx\u001b[01;31m\u001b[Ke\u001b[m\u001b[Kmplo.\u001b[01;31m\u001b[Kc\u001b[m\u001b[Kom\n",
      "# \u001b[01;31m\u001b[KC\u001b[m\u001b[Kó\u001b[01;31m\u001b[Kd\u001b[m\u001b[Kigos Post\u001b[01;31m\u001b[Ka\u001b[m\u001b[Kis (\u001b[01;31m\u001b[KB\u001b[m\u001b[Kr\u001b[01;31m\u001b[Ka\u001b[m\u001b[Ksil)\n",
      "\u001b[01;31m\u001b[K0\u001b[m\u001b[K\u001b[01;31m\u001b[K1\u001b[m\u001b[K\u001b[01;31m\u001b[K0\u001b[m\u001b[K\u001b[01;31m\u001b[K0\u001b[m\u001b[K\u001b[01;31m\u001b[K1\u001b[m\u001b[K-\u001b[01;31m\u001b[K0\u001b[m\u001b[K\u001b[01;31m\u001b[K0\u001b[m\u001b[K\u001b[01;31m\u001b[K0\u001b[m\u001b[K\n",
      "\u001b[01;31m\u001b[K1\u001b[m\u001b[K\u001b[01;31m\u001b[K2\u001b[m\u001b[K\u001b[01;31m\u001b[K3\u001b[m\u001b[K\u001b[01;31m\u001b[K4\u001b[m\u001b[K\u001b[01;31m\u001b[K5\u001b[m\u001b[K-\u001b[01;31m\u001b[K6\u001b[m\u001b[K\u001b[01;31m\u001b[K7\u001b[m\u001b[K\u001b[01;31m\u001b[K8\u001b[m\u001b[K\n",
      "# \u001b[01;31m\u001b[KC\u001b[m\u001b[Kó\u001b[01;31m\u001b[Kd\u001b[m\u001b[Kigos Post\u001b[01;31m\u001b[Ka\u001b[m\u001b[Kis inváli\u001b[01;31m\u001b[Kd\u001b[m\u001b[Kos\n",
      "\u001b[01;31m\u001b[K1\u001b[m\u001b[K\u001b[01;31m\u001b[K2\u001b[m\u001b[K\u001b[01;31m\u001b[K3\u001b[m\u001b[K\u001b[01;31m\u001b[K4\u001b[m\u001b[K\u001b[01;31m\u001b[K5\u001b[m\u001b[K\u001b[01;31m\u001b[K6\u001b[m\u001b[K\u001b[01;31m\u001b[K7\u001b[m\u001b[K\u001b[01;31m\u001b[K8\u001b[m\u001b[K\n",
      "\u001b[01;31m\u001b[K1\u001b[m\u001b[K\u001b[01;31m\u001b[K2\u001b[m\u001b[K-\u001b[01;31m\u001b[K3\u001b[m\u001b[K\u001b[01;31m\u001b[K4\u001b[m\u001b[K\u001b[01;31m\u001b[K5\u001b[m\u001b[K\n",
      "# Núm\u001b[01;31m\u001b[Ke\u001b[m\u001b[Kros váli\u001b[01;31m\u001b[Kd\u001b[m\u001b[Kos\n",
      "\u001b[01;31m\u001b[K1\u001b[m\u001b[K\u001b[01;31m\u001b[K2\u001b[m\u001b[K\u001b[01;31m\u001b[K3\u001b[m\u001b[K\n",
      "\u001b[01;31m\u001b[K0\u001b[m\u001b[K.\u001b[01;31m\u001b[K4\u001b[m\u001b[K\u001b[01;31m\u001b[K5\u001b[m\u001b[K\u001b[01;31m\u001b[K6\u001b[m\u001b[K\n",
      "-\u001b[01;31m\u001b[K7\u001b[m\u001b[K\u001b[01;31m\u001b[K8\u001b[m\u001b[K\u001b[01;31m\u001b[K9\u001b[m\u001b[K\n",
      "+\u001b[01;31m\u001b[K0\u001b[m\u001b[K.\u001b[01;31m\u001b[K1\u001b[m\u001b[K\u001b[01;31m\u001b[K2\u001b[m\u001b[K\n",
      "# Núm\u001b[01;31m\u001b[Ke\u001b[m\u001b[Kros inváli\u001b[01;31m\u001b[Kd\u001b[m\u001b[Kos\n",
      "\u001b[01;31m\u001b[K1\u001b[m\u001b[K\u001b[01;31m\u001b[K2\u001b[m\u001b[K\u001b[01;31m\u001b[K3\u001b[m\u001b[K\u001b[01;31m\u001b[Ka\u001b[m\u001b[K\u001b[01;31m\u001b[Kb\u001b[m\u001b[K\u001b[01;31m\u001b[Kc\u001b[m\u001b[K\n",
      "- \u001b[01;31m\u001b[K4\u001b[m\u001b[K\u001b[01;31m\u001b[K5\u001b[m\u001b[K\u001b[01;31m\u001b[K6\u001b[m\u001b[K\n",
      "+ \u001b[01;31m\u001b[K0\u001b[m\u001b[K.\u001b[01;31m\u001b[K1\u001b[m\u001b[K\u001b[01;31m\u001b[K2\u001b[m\u001b[K\n",
      "# P\u001b[01;31m\u001b[Ka\u001b[m\u001b[Kl\u001b[01;31m\u001b[Ka\u001b[m\u001b[Kvr\u001b[01;31m\u001b[Ka\u001b[m\u001b[Ks váli\u001b[01;31m\u001b[Kd\u001b[m\u001b[K\u001b[01;31m\u001b[Ka\u001b[m\u001b[Ks (\u001b[01;31m\u001b[Ka\u001b[m\u001b[Kl\u001b[01;31m\u001b[Kf\u001b[m\u001b[K\u001b[01;31m\u001b[Ka\u001b[m\u001b[K\u001b[01;31m\u001b[Kb\u001b[m\u001b[Kéti\u001b[01;31m\u001b[Kc\u001b[m\u001b[K\u001b[01;31m\u001b[Ka\u001b[m\u001b[Ks \u001b[01;31m\u001b[Ka\u001b[m\u001b[Kp\u001b[01;31m\u001b[Ke\u001b[m\u001b[Kn\u001b[01;31m\u001b[Ka\u001b[m\u001b[Ks)\n",
      "r\u001b[01;31m\u001b[Ke\u001b[m\u001b[Kg\u001b[01;31m\u001b[Ke\u001b[m\u001b[Kx\n",
      "\u001b[01;31m\u001b[Kf\u001b[m\u001b[Kun\u001b[01;31m\u001b[Kc\u001b[m\u001b[Kion\u001b[01;31m\u001b[Ka\u001b[m\u001b[Kli\u001b[01;31m\u001b[Kd\u001b[m\u001b[K\u001b[01;31m\u001b[Ka\u001b[m\u001b[K\u001b[01;31m\u001b[Kd\u001b[m\u001b[K\u001b[01;31m\u001b[Ke\u001b[m\u001b[K\n",
      "pr\u001b[01;31m\u001b[Ka\u001b[m\u001b[Kti\u001b[01;31m\u001b[Kc\u001b[m\u001b[K\u001b[01;31m\u001b[Ka\u001b[m\u001b[K\n",
      "# P\u001b[01;31m\u001b[Ka\u001b[m\u001b[Kl\u001b[01;31m\u001b[Ka\u001b[m\u001b[Kvr\u001b[01;31m\u001b[Ka\u001b[m\u001b[Ks inváli\u001b[01;31m\u001b[Kd\u001b[m\u001b[K\u001b[01;31m\u001b[Ka\u001b[m\u001b[Ks\n",
      "r\u001b[01;31m\u001b[Ke\u001b[m\u001b[Kg\u001b[01;31m\u001b[Ke\u001b[m\u001b[Kx\u001b[01;31m\u001b[K1\u001b[m\u001b[K\u001b[01;31m\u001b[K2\u001b[m\u001b[K\u001b[01;31m\u001b[K3\u001b[m\u001b[K\n",
      "\u001b[01;31m\u001b[K1\u001b[m\u001b[K\u001b[01;31m\u001b[K2\u001b[m\u001b[K\u001b[01;31m\u001b[K3\u001b[m\u001b[Kr\u001b[01;31m\u001b[Ke\u001b[m\u001b[Kg\u001b[01;31m\u001b[Ke\u001b[m\u001b[Kx\n",
      "_\u001b[01;31m\u001b[Kf\u001b[m\u001b[Kunçáo\n",
      "\u001b[01;31m\u001b[Ka\u001b[m\u001b[K\u001b[01;31m\u001b[Kb\u001b[m\u001b[K\u001b[01;31m\u001b[Kc\u001b[m\u001b[K\u001b[01;31m\u001b[Kd\u001b[m\u001b[Kxyz\u001b[01;31m\u001b[Ka\u001b[m\u001b[K\u001b[01;31m\u001b[Kd\u001b[m\u001b[K\n",
      "\u001b[01;31m\u001b[Ka\u001b[m\u001b[K\u001b[01;31m\u001b[Kc\u001b[m\u001b[K\u001b[01;31m\u001b[Kd\u001b[m\u001b[K\u001b[01;31m\u001b[Ka\u001b[m\u001b[Kn\n",
      "\u001b[01;31m\u001b[Kd\u001b[m\u001b[K\u001b[01;31m\u001b[Ka\u001b[m\u001b[Kh\u001b[01;31m\u001b[Kd\u001b[m\u001b[Kjk\u001b[01;31m\u001b[K1\u001b[m\u001b[K\u001b[01;31m\u001b[Ka\u001b[m\u001b[K\u001b[01;31m\u001b[Kb\u001b[m\u001b[K\u001b[01;31m\u001b[Kc\u001b[m\u001b[Kslkls\u001b[01;31m\u001b[Ka\u001b[m\u001b[K\u001b[01;31m\u001b[Kd\u001b[m\u001b[K\n",
      "\u001b[01;31m\u001b[Ka\u001b[m\u001b[K\u001b[01;31m\u001b[Kb\u001b[m\u001b[Kv\n",
      "\u001b[01;31m\u001b[KA\u001b[m\u001b[K\u001b[01;31m\u001b[KB\u001b[m\u001b[K\u001b[01;31m\u001b[KC\u001b[m\u001b[K\u001b[01;31m\u001b[KA\u001b[m\u001b[K\u001b[01;31m\u001b[KD\u001b[m\u001b[K\u001b[01;31m\u001b[KB\u001b[m\u001b[K\u001b[01;31m\u001b[KA\u001b[m\u001b[K\u001b[01;31m\u001b[KC\u001b[m\u001b[K\u001b[01;31m\u001b[KC\u001b[m\u001b[K\u001b[01;31m\u001b[KA\u001b[m\u001b[KTG\n",
      "\u001b[01;31m\u001b[Kb\u001b[m\u001b[K\u001b[01;31m\u001b[Kc\u001b[m\u001b[K\u001b[01;31m\u001b[Kd\u001b[m\u001b[Kkhg\n",
      "joão m\u001b[01;31m\u001b[Ka\u001b[m\u001b[Krroquino m\u001b[01;31m\u001b[Ka\u001b[m\u001b[Kl\u001b[01;31m\u001b[Ka\u001b[m\u001b[Kqui\u001b[01;31m\u001b[Ka\u001b[m\u001b[Ks\n",
      "j\u001b[01;31m\u001b[Kd\u001b[m\u001b[K\u001b[01;31m\u001b[Ka\u001b[m\u001b[Ki\u001b[01;31m\u001b[Kd\u001b[m\u001b[Kk\u001b[01;31m\u001b[Kd\u001b[m\u001b[K\u001b[01;31m\u001b[Kd\u001b[m\u001b[K*\u001b[01;31m\u001b[Kf\u001b[m\u001b[Kl\u001b[01;31m\u001b[Ka\u001b[m\u001b[K\n"
     ]
    }
   ],
   "source": [
    "grep -E [[:xdigit:]] regex.txt"
   ]
  },
  {
   "cell_type": "code",
   "execution_count": 4,
   "id": "eb36e402-e408-4b9e-812c-7e639e12008c",
   "metadata": {
    "scrolled": true
   },
   "outputs": [
    {
     "name": "stdout",
     "output_type": "stream",
     "text": [
      "usuario@exemplo\u001b[01;31m\u001b[K.\u001b[m\u001b[Kcom\n",
      "email\u001b[01;31m\u001b[K.\u001b[m\u001b[Ktest@domain\u001b[01;31m\u001b[K.\u001b[m\u001b[Korg\n",
      "primeiro_ultimo@empresa\u001b[01;31m\u001b[K.\u001b[m\u001b[Kco\n",
      "email+alias@gmail\u001b[01;31m\u001b[K.\u001b[m\u001b[Kcom\n",
      "usuario@@exemplo\u001b[01;31m\u001b[K.\u001b[m\u001b[Kcom\n",
      "email\u001b[01;31m\u001b[K.\u001b[m\u001b[K\u001b[01;31m\u001b[K.\u001b[m\u001b[Ktest@domain\u001b[01;31m\u001b[K.\u001b[m\u001b[Korg\n",
      "usuario@\u001b[01;31m\u001b[K.\u001b[m\u001b[Kcom\n",
      "email-sem-arroba\u001b[01;31m\u001b[K.\u001b[m\u001b[Kcom\n",
      "+\u001b[01;31m\u001b[K5\u001b[m\u001b[K\u001b[01;31m\u001b[K5\u001b[m\u001b[K \u001b[01;31m\u001b[K1\u001b[m\u001b[K\u001b[01;31m\u001b[K1\u001b[m\u001b[K \u001b[01;31m\u001b[K9\u001b[m\u001b[K\u001b[01;31m\u001b[K1\u001b[m\u001b[K\u001b[01;31m\u001b[K2\u001b[m\u001b[K\u001b[01;31m\u001b[K3\u001b[m\u001b[K\u001b[01;31m\u001b[K4\u001b[m\u001b[K-\u001b[01;31m\u001b[K5\u001b[m\u001b[K\u001b[01;31m\u001b[K6\u001b[m\u001b[K\u001b[01;31m\u001b[K7\u001b[m\u001b[K\u001b[01;31m\u001b[K8\u001b[m\u001b[K\n",
      "(\u001b[01;31m\u001b[K1\u001b[m\u001b[K\u001b[01;31m\u001b[K1\u001b[m\u001b[K) \u001b[01;31m\u001b[K9\u001b[m\u001b[K\u001b[01;31m\u001b[K1\u001b[m\u001b[K\u001b[01;31m\u001b[K2\u001b[m\u001b[K\u001b[01;31m\u001b[K3\u001b[m\u001b[K\u001b[01;31m\u001b[K4\u001b[m\u001b[K-\u001b[01;31m\u001b[K5\u001b[m\u001b[K\u001b[01;31m\u001b[K6\u001b[m\u001b[K\u001b[01;31m\u001b[K7\u001b[m\u001b[K\u001b[01;31m\u001b[K8\u001b[m\u001b[K\n",
      "\u001b[01;31m\u001b[K1\u001b[m\u001b[K\u001b[01;31m\u001b[K1\u001b[m\u001b[K \u001b[01;31m\u001b[K9\u001b[m\u001b[K\u001b[01;31m\u001b[K1\u001b[m\u001b[K\u001b[01;31m\u001b[K2\u001b[m\u001b[K\u001b[01;31m\u001b[K3\u001b[m\u001b[K\u001b[01;31m\u001b[K4\u001b[m\u001b[K-\u001b[01;31m\u001b[K5\u001b[m\u001b[K\u001b[01;31m\u001b[K6\u001b[m\u001b[K\u001b[01;31m\u001b[K7\u001b[m\u001b[K\u001b[01;31m\u001b[K8\u001b[m\u001b[K\n",
      "+\u001b[01;31m\u001b[K1\u001b[m\u001b[K \u001b[01;31m\u001b[K8\u001b[m\u001b[K\u001b[01;31m\u001b[K0\u001b[m\u001b[K\u001b[01;31m\u001b[K0\u001b[m\u001b[K-\u001b[01;31m\u001b[K1\u001b[m\u001b[K\u001b[01;31m\u001b[K2\u001b[m\u001b[K\u001b[01;31m\u001b[K3\u001b[m\u001b[K-\u001b[01;31m\u001b[K4\u001b[m\u001b[K\u001b[01;31m\u001b[K5\u001b[m\u001b[K\u001b[01;31m\u001b[K6\u001b[m\u001b[K\u001b[01;31m\u001b[K7\u001b[m\u001b[K\n",
      "\u001b[01;31m\u001b[K1\u001b[m\u001b[K\u001b[01;31m\u001b[K2\u001b[m\u001b[K\u001b[01;31m\u001b[K3\u001b[m\u001b[K\u001b[01;31m\u001b[K4\u001b[m\u001b[K\u001b[01;31m\u001b[K5\u001b[m\u001b[K\u001b[01;31m\u001b[K6\u001b[m\u001b[K\u001b[01;31m\u001b[K7\u001b[m\u001b[K\u001b[01;31m\u001b[K8\u001b[m\u001b[K\n",
      "(\u001b[01;31m\u001b[K1\u001b[m\u001b[K\u001b[01;31m\u001b[K1\u001b[m\u001b[K \u001b[01;31m\u001b[K9\u001b[m\u001b[K\u001b[01;31m\u001b[K1\u001b[m\u001b[K\u001b[01;31m\u001b[K2\u001b[m\u001b[K\u001b[01;31m\u001b[K3\u001b[m\u001b[K\u001b[01;31m\u001b[K4\u001b[m\u001b[K-\u001b[01;31m\u001b[K5\u001b[m\u001b[K\u001b[01;31m\u001b[K6\u001b[m\u001b[K\u001b[01;31m\u001b[K7\u001b[m\u001b[K\u001b[01;31m\u001b[K8\u001b[m\u001b[K\n",
      "\u001b[01;31m\u001b[K1\u001b[m\u001b[K\u001b[01;31m\u001b[K1\u001b[m\u001b[K \u001b[01;31m\u001b[K9\u001b[m\u001b[K\u001b[01;31m\u001b[K1\u001b[m\u001b[K\u001b[01;31m\u001b[K2\u001b[m\u001b[K\u001b[01;31m\u001b[K3\u001b[m\u001b[K\u001b[01;31m\u001b[K4\u001b[m\u001b[K-\u001b[01;31m\u001b[K5\u001b[m\u001b[K\u001b[01;31m\u001b[K6\u001b[m\u001b[K\u001b[01;31m\u001b[K7\u001b[m\u001b[K\u001b[01;31m\u001b[K8\u001b[m\u001b[K\u001b[01;31m\u001b[K9\u001b[m\u001b[K\n",
      "\u001b[01;31m\u001b[K1\u001b[m\u001b[K\u001b[01;31m\u001b[K9\u001b[m\u001b[K\u001b[01;31m\u001b[K2\u001b[m\u001b[K\u001b[01;31m\u001b[K.\u001b[m\u001b[K\u001b[01;31m\u001b[K1\u001b[m\u001b[K\u001b[01;31m\u001b[K6\u001b[m\u001b[K\u001b[01;31m\u001b[K8\u001b[m\u001b[K\u001b[01;31m\u001b[K.\u001b[m\u001b[K\u001b[01;31m\u001b[K0\u001b[m\u001b[K\u001b[01;31m\u001b[K.\u001b[m\u001b[K\u001b[01;31m\u001b[K1\u001b[m\u001b[K\n",
      "\u001b[01;31m\u001b[K2\u001b[m\u001b[K\u001b[01;31m\u001b[K5\u001b[m\u001b[K\u001b[01;31m\u001b[K5\u001b[m\u001b[K\u001b[01;31m\u001b[K.\u001b[m\u001b[K\u001b[01;31m\u001b[K2\u001b[m\u001b[K\u001b[01;31m\u001b[K5\u001b[m\u001b[K\u001b[01;31m\u001b[K5\u001b[m\u001b[K\u001b[01;31m\u001b[K.\u001b[m\u001b[K\u001b[01;31m\u001b[K2\u001b[m\u001b[K\u001b[01;31m\u001b[K5\u001b[m\u001b[K\u001b[01;31m\u001b[K5\u001b[m\u001b[K\u001b[01;31m\u001b[K.\u001b[m\u001b[K\u001b[01;31m\u001b[K2\u001b[m\u001b[K\u001b[01;31m\u001b[K5\u001b[m\u001b[K\u001b[01;31m\u001b[K5\u001b[m\u001b[K\\?*\n",
      "\u001b[01;31m\u001b[K1\u001b[m\u001b[K\u001b[01;31m\u001b[K0\u001b[m\u001b[K\u001b[01;31m\u001b[K.\u001b[m\u001b[K\u001b[01;31m\u001b[K0\u001b[m\u001b[K\u001b[01;31m\u001b[K.\u001b[m\u001b[K\u001b[01;31m\u001b[K0\u001b[m\u001b[K\u001b[01;31m\u001b[K.\u001b[m\u001b[K\u001b[01;31m\u001b[K1\u001b[m\u001b[K\n",
      "\u001b[01;31m\u001b[K1\u001b[m\u001b[K\u001b[01;31m\u001b[K7\u001b[m\u001b[K\u001b[01;31m\u001b[K2\u001b[m\u001b[K\u001b[01;31m\u001b[K.\u001b[m\u001b[K\u001b[01;31m\u001b[K1\u001b[m\u001b[K\u001b[01;31m\u001b[K6\u001b[m\u001b[K\u001b[01;31m\u001b[K.\u001b[m\u001b[K\u001b[01;31m\u001b[K2\u001b[m\u001b[K\u001b[01;31m\u001b[K5\u001b[m\u001b[K\u001b[01;31m\u001b[K4\u001b[m\u001b[K\u001b[01;31m\u001b[K.\u001b[m\u001b[K\u001b[01;31m\u001b[K1\u001b[m\u001b[K\n",
      "\u001b[01;31m\u001b[K1\u001b[m\u001b[K\u001b[01;31m\u001b[K9\u001b[m\u001b[K\u001b[01;31m\u001b[K2\u001b[m\u001b[K\u001b[01;31m\u001b[K.\u001b[m\u001b[K\u001b[01;31m\u001b[K1\u001b[m\u001b[K\u001b[01;31m\u001b[K6\u001b[m\u001b[K\u001b[01;31m\u001b[K8\u001b[m\u001b[K\u001b[01;31m\u001b[K.\u001b[m\u001b[K\u001b[01;31m\u001b[K0\u001b[m\u001b[K\u001b[01;31m\u001b[K.\u001b[m\u001b[K\u001b[01;31m\u001b[K2\u001b[m\u001b[K\u001b[01;31m\u001b[K5\u001b[m\u001b[K\u001b[01;31m\u001b[K6\u001b[m\u001b[K\n",
      "\u001b[01;31m\u001b[K2\u001b[m\u001b[K\u001b[01;31m\u001b[K5\u001b[m\u001b[K\u001b[01;31m\u001b[K6\u001b[m\u001b[K\u001b[01;31m\u001b[K.\u001b[m\u001b[K\u001b[01;31m\u001b[K2\u001b[m\u001b[K\u001b[01;31m\u001b[K5\u001b[m\u001b[K\u001b[01;31m\u001b[K5\u001b[m\u001b[K\u001b[01;31m\u001b[K.\u001b[m\u001b[K\u001b[01;31m\u001b[K2\u001b[m\u001b[K\u001b[01;31m\u001b[K5\u001b[m\u001b[K\u001b[01;31m\u001b[K5\u001b[m\u001b[K\u001b[01;31m\u001b[K.\u001b[m\u001b[K\u001b[01;31m\u001b[K2\u001b[m\u001b[K\u001b[01;31m\u001b[K5\u001b[m\u001b[K\u001b[01;31m\u001b[K5\u001b[m\u001b[K\n",
      "\u001b[01;31m\u001b[K1\u001b[m\u001b[K\u001b[01;31m\u001b[K0\u001b[m\u001b[K\u001b[01;31m\u001b[K.\u001b[m\u001b[K\u001b[01;31m\u001b[K0\u001b[m\u001b[K\u001b[01;31m\u001b[K.\u001b[m\u001b[K\u001b[01;31m\u001b[K0\u001b[m\u001b[K\n",
      "\u001b[01;31m\u001b[K1\u001b[m\u001b[K\u001b[01;31m\u001b[K7\u001b[m\u001b[K\u001b[01;31m\u001b[K2\u001b[m\u001b[K\u001b[01;31m\u001b[K.\u001b[m\u001b[K\u001b[01;31m\u001b[K1\u001b[m\u001b[K\u001b[01;31m\u001b[K6\u001b[m\u001b[K\u001b[01;31m\u001b[K.\u001b[m\u001b[K\u001b[01;31m\u001b[K2\u001b[m\u001b[K\u001b[01;31m\u001b[K5\u001b[m\u001b[K\u001b[01;31m\u001b[K4\u001b[m\u001b[K\u001b[01;31m\u001b[K.\u001b[m\u001b[K\u001b[01;31m\u001b[K9\u001b[m\u001b[K\u001b[01;31m\u001b[K9\u001b[m\u001b[K\u001b[01;31m\u001b[K9\u001b[m\u001b[K\n",
      "\u001b[01;31m\u001b[K2\u001b[m\u001b[K\u001b[01;31m\u001b[K0\u001b[m\u001b[K\u001b[01;31m\u001b[K2\u001b[m\u001b[K\u001b[01;31m\u001b[K5\u001b[m\u001b[K-\u001b[01;31m\u001b[K0\u001b[m\u001b[K\u001b[01;31m\u001b[K1\u001b[m\u001b[K-\u001b[01;31m\u001b[K2\u001b[m\u001b[K\u001b[01;31m\u001b[K8\u001b[m\u001b[K\n",
      "\u001b[01;31m\u001b[K2\u001b[m\u001b[K\u001b[01;31m\u001b[K8\u001b[m\u001b[K/\u001b[01;31m\u001b[K0\u001b[m\u001b[K\u001b[01;31m\u001b[K1\u001b[m\u001b[K/\u001b[01;31m\u001b[K2\u001b[m\u001b[K\u001b[01;31m\u001b[K0\u001b[m\u001b[K\u001b[01;31m\u001b[K2\u001b[m\u001b[K\u001b[01;31m\u001b[K5\u001b[m\u001b[K\n",
      "\u001b[01;31m\u001b[K0\u001b[m\u001b[K\u001b[01;31m\u001b[K1\u001b[m\u001b[K/\u001b[01;31m\u001b[K2\u001b[m\u001b[K\u001b[01;31m\u001b[K8\u001b[m\u001b[K/\u001b[01;31m\u001b[K2\u001b[m\u001b[K\u001b[01;31m\u001b[K0\u001b[m\u001b[K\u001b[01;31m\u001b[K2\u001b[m\u001b[K\u001b[01;31m\u001b[K5\u001b[m\u001b[K\n",
      "\u001b[01;31m\u001b[K2\u001b[m\u001b[K\u001b[01;31m\u001b[K0\u001b[m\u001b[K\u001b[01;31m\u001b[K2\u001b[m\u001b[K\u001b[01;31m\u001b[K5\u001b[m\u001b[K-\u001b[01;31m\u001b[K1\u001b[m\u001b[K\u001b[01;31m\u001b[K3\u001b[m\u001b[K-\u001b[01;31m\u001b[K2\u001b[m\u001b[K\u001b[01;31m\u001b[K8\u001b[m\u001b[K\n",
      "\u001b[01;31m\u001b[K2\u001b[m\u001b[K\u001b[01;31m\u001b[K8\u001b[m\u001b[K-\u001b[01;31m\u001b[K0\u001b[m\u001b[K\u001b[01;31m\u001b[K1\u001b[m\u001b[K-\u001b[01;31m\u001b[K2\u001b[m\u001b[K\u001b[01;31m\u001b[K0\u001b[m\u001b[K\u001b[01;31m\u001b[K2\u001b[m\u001b[K\u001b[01;31m\u001b[K5\u001b[m\u001b[K\n",
      "\u001b[01;31m\u001b[K3\u001b[m\u001b[K\u001b[01;31m\u001b[K1\u001b[m\u001b[K/\u001b[01;31m\u001b[K0\u001b[m\u001b[K\u001b[01;31m\u001b[K2\u001b[m\u001b[K/\u001b[01;31m\u001b[K2\u001b[m\u001b[K\u001b[01;31m\u001b[K0\u001b[m\u001b[K\u001b[01;31m\u001b[K2\u001b[m\u001b[K\u001b[01;31m\u001b[K5\u001b[m\u001b[K\n",
      "https://www\u001b[01;31m\u001b[K.\u001b[m\u001b[Kgoogle\u001b[01;31m\u001b[K.\u001b[m\u001b[Kcom\n",
      "http://example\u001b[01;31m\u001b[K.\u001b[m\u001b[Korg\n",
      "www\u001b[01;31m\u001b[K.\u001b[m\u001b[Kmeusite\u001b[01;31m\u001b[K.\u001b[m\u001b[Kcom\n",
      "ftp://ftp\u001b[01;31m\u001b[K.\u001b[m\u001b[Kexemplo\u001b[01;31m\u001b[K.\u001b[m\u001b[Kcom\n",
      "htp://www\u001b[01;31m\u001b[K.\u001b[m\u001b[Kgoogle\u001b[01;31m\u001b[K.\u001b[m\u001b[Kcom\n",
      "http:/example\u001b[01;31m\u001b[K.\u001b[m\u001b[Korg\n",
      "meusite\u001b[01;31m\u001b[K,\u001b[m\u001b[Kcom\n",
      "ftp:/ftp\u001b[01;31m\u001b[K.\u001b[m\u001b[Kexemplo\u001b[01;31m\u001b[K.\u001b[m\u001b[Kcom\n",
      "\u001b[01;31m\u001b[K0\u001b[m\u001b[K\u001b[01;31m\u001b[K1\u001b[m\u001b[K\u001b[01;31m\u001b[K0\u001b[m\u001b[K\u001b[01;31m\u001b[K0\u001b[m\u001b[K\u001b[01;31m\u001b[K1\u001b[m\u001b[K-\u001b[01;31m\u001b[K0\u001b[m\u001b[K\u001b[01;31m\u001b[K0\u001b[m\u001b[K\u001b[01;31m\u001b[K0\u001b[m\u001b[K\n",
      "\u001b[01;31m\u001b[K1\u001b[m\u001b[K\u001b[01;31m\u001b[K2\u001b[m\u001b[K\u001b[01;31m\u001b[K3\u001b[m\u001b[K\u001b[01;31m\u001b[K4\u001b[m\u001b[K\u001b[01;31m\u001b[K5\u001b[m\u001b[K-\u001b[01;31m\u001b[K6\u001b[m\u001b[K\u001b[01;31m\u001b[K7\u001b[m\u001b[K\u001b[01;31m\u001b[K8\u001b[m\u001b[K\n",
      "\u001b[01;31m\u001b[K1\u001b[m\u001b[K\u001b[01;31m\u001b[K2\u001b[m\u001b[K\u001b[01;31m\u001b[K3\u001b[m\u001b[K\u001b[01;31m\u001b[K4\u001b[m\u001b[K\u001b[01;31m\u001b[K5\u001b[m\u001b[K\u001b[01;31m\u001b[K6\u001b[m\u001b[K\u001b[01;31m\u001b[K7\u001b[m\u001b[K\u001b[01;31m\u001b[K8\u001b[m\u001b[K\n",
      "\u001b[01;31m\u001b[K1\u001b[m\u001b[K\u001b[01;31m\u001b[K2\u001b[m\u001b[K-\u001b[01;31m\u001b[K3\u001b[m\u001b[K\u001b[01;31m\u001b[K4\u001b[m\u001b[K\u001b[01;31m\u001b[K5\u001b[m\u001b[K\n",
      "\u001b[01;31m\u001b[K1\u001b[m\u001b[K\u001b[01;31m\u001b[K2\u001b[m\u001b[K\u001b[01;31m\u001b[K3\u001b[m\u001b[K\n",
      "\u001b[01;31m\u001b[K0\u001b[m\u001b[K\u001b[01;31m\u001b[K.\u001b[m\u001b[K\u001b[01;31m\u001b[K4\u001b[m\u001b[K\u001b[01;31m\u001b[K5\u001b[m\u001b[K\u001b[01;31m\u001b[K6\u001b[m\u001b[K\n",
      "-\u001b[01;31m\u001b[K7\u001b[m\u001b[K\u001b[01;31m\u001b[K8\u001b[m\u001b[K\u001b[01;31m\u001b[K9\u001b[m\u001b[K\n",
      "+\u001b[01;31m\u001b[K0\u001b[m\u001b[K\u001b[01;31m\u001b[K.\u001b[m\u001b[K\u001b[01;31m\u001b[K1\u001b[m\u001b[K\u001b[01;31m\u001b[K2\u001b[m\u001b[K\n",
      "\u001b[01;31m\u001b[K1\u001b[m\u001b[K\u001b[01;31m\u001b[K2\u001b[m\u001b[K\u001b[01;31m\u001b[K3\u001b[m\u001b[Kabc\n",
      "- \u001b[01;31m\u001b[K4\u001b[m\u001b[K\u001b[01;31m\u001b[K5\u001b[m\u001b[K\u001b[01;31m\u001b[K6\u001b[m\u001b[K\n",
      "+ \u001b[01;31m\u001b[K0\u001b[m\u001b[K\u001b[01;31m\u001b[K.\u001b[m\u001b[K\u001b[01;31m\u001b[K1\u001b[m\u001b[K\u001b[01;31m\u001b[K2\u001b[m\u001b[K\n",
      "regex\u001b[01;31m\u001b[K1\u001b[m\u001b[K\u001b[01;31m\u001b[K2\u001b[m\u001b[K\u001b[01;31m\u001b[K3\u001b[m\u001b[K\n",
      "\u001b[01;31m\u001b[K1\u001b[m\u001b[K\u001b[01;31m\u001b[K2\u001b[m\u001b[K\u001b[01;31m\u001b[K3\u001b[m\u001b[Kregex\n",
      "dahdjk\u001b[01;31m\u001b[K1\u001b[m\u001b[Kabcslklsad\n"
     ]
    }
   ],
   "source": [
    "# Apenas pra mostrar que podemos combinar a busca de classes com outros caracteres\n",
    "# Encontrar qualquer linha com digito, ponto final ou vírgula.\n",
    "grep [[:digit:],.] regex.txt"
   ]
  },
  {
   "cell_type": "code",
   "execution_count": null,
   "id": "b7f50e7c-21da-49b2-a620-f9837ebf5264",
   "metadata": {},
   "outputs": [],
   "source": []
  },
  {
   "cell_type": "markdown",
   "id": "e2cfc17e-6197-41cf-8d94-2c85dd8f05f3",
   "metadata": {},
   "source": [
    "## Correspondência pela posição do padrão"
   ]
  },
  {
   "cell_type": "code",
   "execution_count": 8,
   "id": "dc2f6668-46f5-457a-be19-5ba99f9d9b12",
   "metadata": {},
   "outputs": [
    {
     "name": "stdout",
     "output_type": "stream",
     "text": [
      "\u001b[01;31m\u001b[Ka\u001b[m\u001b[Kbcdxyzad\n",
      "\u001b[01;31m\u001b[Ka\u001b[m\u001b[Kcdan\n",
      "\u001b[01;31m\u001b[Ka\u001b[m\u001b[Kbv\n",
      "\u001b[01;31m\u001b[Kb\u001b[m\u001b[Kcdkhg\n"
     ]
    }
   ],
   "source": [
    "# Foi dito que podemos usar os os metacaracteres ^ e $ para fazer a ancoragem.\n",
    "# Para exemplificar:\n",
    "\n",
    "grep -E ^[abc] regex.txt # Buscando qualquer palavra que comece em a, b, ou c"
   ]
  },
  {
   "cell_type": "code",
   "execution_count": 11,
   "id": "751e348e-cf40-48d8-a135-1923f11d9dad",
   "metadata": {},
   "outputs": [
    {
     "name": "stdout",
     "output_type": "stream",
     "text": [
      "\u001b[01;31m\u001b[Kabc\u001b[m\u001b[Kdxyzad\n"
     ]
    }
   ],
   "source": [
    "grep -E ^abc regex.txt # Buscando todas as ocorrencias que comecem em abc literalmente"
   ]
  },
  {
   "cell_type": "code",
   "execution_count": 13,
   "id": "608d1bd8-d441-4312-87ce-840e3220a9c1",
   "metadata": {
    "scrolled": true
   },
   "outputs": [
    {
     "name": "stdout",
     "output_type": "stream",
     "text": [
      "\u001b[01;31m\u001b[K#\u001b[m\u001b[KArquivode exemplosparapráticade\n",
      "\u001b[01;31m\u001b[K#\u001b[m\u001b[KRegex\n",
      "\u001b[01;31m\u001b[K#\u001b[m\u001b[K Emails válidos\n",
      "\u001b[01;31m\u001b[Ku\u001b[m\u001b[Ksuario@exemplo.com\n",
      "\u001b[01;31m\u001b[Ke\u001b[m\u001b[Kmail.test@domain.org\n",
      "\u001b[01;31m\u001b[Kp\u001b[m\u001b[Krimeiro_ultimo@empresa.co\n",
      "\u001b[01;31m\u001b[Ke\u001b[m\u001b[Kmail+alias@gmail.com\n",
      "\u001b[01;31m\u001b[K#\u001b[m\u001b[K Emails inválidos\n",
      "\u001b[01;31m\u001b[Ku\u001b[m\u001b[Ksuario@@exemplo.com\n",
      "\u001b[01;31m\u001b[Ke\u001b[m\u001b[Kmail..test@domain.org\n",
      "\u001b[01;31m\u001b[Ku\u001b[m\u001b[Ksuario@.com\n",
      "\u001b[01;31m\u001b[Ke\u001b[m\u001b[Kmail-sem-arroba.com\n",
      "\u001b[01;31m\u001b[K#\u001b[m\u001b[K Telefones válidos\n",
      "\u001b[01;31m\u001b[K+\u001b[m\u001b[K55 11 91234-5678\n",
      "\u001b[01;31m\u001b[K(\u001b[m\u001b[K11) 91234-5678\n",
      "\u001b[01;31m\u001b[K1\u001b[m\u001b[K1 91234-5678\n",
      "\u001b[01;31m\u001b[K+\u001b[m\u001b[K1 800-123-4567\n",
      "\u001b[01;31m\u001b[K#\u001b[m\u001b[K Telefones inválidos\n",
      "\u001b[01;31m\u001b[K1\u001b[m\u001b[K2345678\n",
      "\u001b[01;31m\u001b[K(\u001b[m\u001b[K11 91234-5678\n",
      "\u001b[01;31m\u001b[K1\u001b[m\u001b[K1 91234-56789\n",
      "\u001b[01;31m\u001b[K#\u001b[m\u001b[K Endereços IP válidos\n",
      "\u001b[01;31m\u001b[K1\u001b[m\u001b[K92.168.0.1\n",
      "\u001b[01;31m\u001b[K2\u001b[m\u001b[K55.255.255.255\\?*\n",
      "\u001b[01;31m\u001b[K1\u001b[m\u001b[K0.0.0.1\n",
      "\u001b[01;31m\u001b[K1\u001b[m\u001b[K72.16.254.1\n",
      "\u001b[01;31m\u001b[K#\u001b[m\u001b[K Endereços IP inválidos\n",
      "\u001b[01;31m\u001b[K1\u001b[m\u001b[K92.168.0.256\n",
      "\u001b[01;31m\u001b[K2\u001b[m\u001b[K56.255.255.255\n",
      "\u001b[01;31m\u001b[K1\u001b[m\u001b[K0.0.0\n",
      "\u001b[01;31m\u001b[K1\u001b[m\u001b[K72.16.254.999\n",
      "\u001b[01;31m\u001b[K#\u001b[m\u001b[K Datas válidas\n",
      "\u001b[01;31m\u001b[K2\u001b[m\u001b[K025-01-28\n",
      "\u001b[01;31m\u001b[K2\u001b[m\u001b[K8/01/2025\n",
      "\u001b[01;31m\u001b[K0\u001b[m\u001b[K1/28/2025\n",
      "\u001b[01;31m\u001b[K#\u001b[m\u001b[K Datas inválidas\n",
      "\u001b[01;31m\u001b[K2\u001b[m\u001b[K025-13-28\n",
      "\u001b[01;31m\u001b[K2\u001b[m\u001b[K8-01-2025\n",
      "\u001b[01;31m\u001b[K3\u001b[m\u001b[K1/02/2025\n",
      "\u001b[01;31m\u001b[K#\u001b[m\u001b[K URLs válidas\n",
      "\u001b[01;31m\u001b[Kh\u001b[m\u001b[Kttps://www.google.com\n",
      "\u001b[01;31m\u001b[Kh\u001b[m\u001b[Kttp://example.org\n",
      "\u001b[01;31m\u001b[Kw\u001b[m\u001b[Kww.meusite.com\n",
      "\u001b[01;31m\u001b[Kf\u001b[m\u001b[Ktp://ftp.exemplo.com\n",
      "\u001b[01;31m\u001b[K#\u001b[m\u001b[K URLs inválidas\n",
      "\u001b[01;31m\u001b[Kh\u001b[m\u001b[Ktp://www.google.com\n",
      "\u001b[01;31m\u001b[Kh\u001b[m\u001b[Kttp:/example.org\n",
      "\u001b[01;31m\u001b[Km\u001b[m\u001b[Keusite,com\n",
      "\u001b[01;31m\u001b[Kf\u001b[m\u001b[Ktp:/ftp.exemplo.com\n",
      "\u001b[01;31m\u001b[K#\u001b[m\u001b[K Códigos Postais (Brasil)\n",
      "\u001b[01;31m\u001b[K0\u001b[m\u001b[K1001-000\n",
      "\u001b[01;31m\u001b[K1\u001b[m\u001b[K2345-678\n",
      "\u001b[01;31m\u001b[K#\u001b[m\u001b[K Códigos Postais inválidos\n",
      "\u001b[01;31m\u001b[K1\u001b[m\u001b[K2345678\n",
      "\u001b[01;31m\u001b[K1\u001b[m\u001b[K2-345\n",
      "\u001b[01;31m\u001b[K#\u001b[m\u001b[K Números válidos\n",
      "\u001b[01;31m\u001b[K1\u001b[m\u001b[K23\n",
      "\u001b[01;31m\u001b[K0\u001b[m\u001b[K.456\n",
      "\u001b[01;31m\u001b[K-\u001b[m\u001b[K789\n",
      "\u001b[01;31m\u001b[K+\u001b[m\u001b[K0.12\n",
      "\u001b[01;31m\u001b[K#\u001b[m\u001b[K Números inválidos\n",
      "\u001b[01;31m\u001b[K1\u001b[m\u001b[K23abc\n",
      "\u001b[01;31m\u001b[K-\u001b[m\u001b[K 456\n",
      "\u001b[01;31m\u001b[K+\u001b[m\u001b[K 0.12\n",
      "\u001b[01;31m\u001b[K#\u001b[m\u001b[K Palavras válidas (alfabéticas apenas)\n",
      "\u001b[01;31m\u001b[Kr\u001b[m\u001b[Kegex\n",
      "\u001b[01;31m\u001b[Kf\u001b[m\u001b[Kuncionalidade\n",
      "\u001b[01;31m\u001b[Kp\u001b[m\u001b[Kratica\n",
      "\u001b[01;31m\u001b[K#\u001b[m\u001b[K Palavras inválidas\n",
      "\u001b[01;31m\u001b[Kr\u001b[m\u001b[Kegex123\n",
      "\u001b[01;31m\u001b[K1\u001b[m\u001b[K23regex\n",
      "\u001b[01;31m\u001b[K_\u001b[m\u001b[Kfunçáo\n",
      "\u001b[01;31m\u001b[Kd\u001b[m\u001b[Kahdjk1abcslklsad\n",
      "\u001b[01;31m\u001b[KA\u001b[m\u001b[KBCADBACCATG\n",
      "\u001b[01;31m\u001b[K\\\u001b[m\u001b[Kn\n",
      "\u001b[01;31m\u001b[Kj\u001b[m\u001b[Koão marroquino malaquias\n",
      "\u001b[01;31m\u001b[Kj\u001b[m\u001b[Kdaidkdd*fla\n"
     ]
    }
   ],
   "source": [
    "grep -E ^[^abc] regex.txt # Buscando todos as linhas que comecem com qualquer valor que não seja a, b ou c.\n",
    "\n",
    "# Isso que me pega um pouco no regex, o ^ funciona como ancoragem fora do conjunto definido [ ].\n",
    "# Porém, dentro dos colchetes ele funciona como negação do conjunto.\n",
    "\n"
   ]
  },
  {
   "cell_type": "code",
   "execution_count": 23,
   "id": "79e3ed5a-264f-4c5e-86ee-67f8393c8358",
   "metadata": {},
   "outputs": [
    {
     "name": "stdout",
     "output_type": "stream",
     "text": [
      "usuario@exemplo.co\u001b[01;31m\u001b[Km\u001b[m\u001b[K\n",
      "primeiro_ultimo@empresa.c\u001b[01;31m\u001b[Ko\u001b[m\u001b[K\n",
      "email+alias@gmail.co\u001b[01;31m\u001b[Km\u001b[m\u001b[K\n",
      "usuario@@exemplo.co\u001b[01;31m\u001b[Km\u001b[m\u001b[K\n",
      "usuario@.co\u001b[01;31m\u001b[Km\u001b[m\u001b[K\n",
      "email-sem-arroba.co\u001b[01;31m\u001b[Km\u001b[m\u001b[K\n",
      "https://www.google.co\u001b[01;31m\u001b[Km\u001b[m\u001b[K\n",
      "www.meusite.co\u001b[01;31m\u001b[Km\u001b[m\u001b[K\n",
      "ftp://ftp.exemplo.co\u001b[01;31m\u001b[Km\u001b[m\u001b[K\n",
      "htp://www.google.co\u001b[01;31m\u001b[Km\u001b[m\u001b[K\n",
      "meusite,co\u001b[01;31m\u001b[Km\u001b[m\u001b[K\n",
      "ftp:/ftp.exemplo.co\u001b[01;31m\u001b[Km\u001b[m\u001b[K\n",
      "123ab\u001b[01;31m\u001b[Kc\u001b[m\u001b[K\n",
      "_funçá\u001b[01;31m\u001b[Ko\u001b[m\u001b[K\n"
     ]
    }
   ],
   "source": [
    "grep -E [.com]$ regex.txt # Analogamente ao caso anterior, iria buscar as linhas terminadas em algum caractere do conjunto"
   ]
  },
  {
   "cell_type": "code",
   "execution_count": 24,
   "id": "d89bfae3-6f6d-4d7d-85e8-42a4c31639b4",
   "metadata": {},
   "outputs": [
    {
     "name": "stdout",
     "output_type": "stream",
     "text": [
      "usuario@exemplo\u001b[01;31m\u001b[K.com\u001b[m\u001b[K\n",
      "email+alias@gmail\u001b[01;31m\u001b[K.com\u001b[m\u001b[K\n",
      "usuario@@exemplo\u001b[01;31m\u001b[K.com\u001b[m\u001b[K\n",
      "usuario@\u001b[01;31m\u001b[K.com\u001b[m\u001b[K\n",
      "email-sem-arroba\u001b[01;31m\u001b[K.com\u001b[m\u001b[K\n",
      "https://www.google\u001b[01;31m\u001b[K.com\u001b[m\u001b[K\n",
      "www.meusite\u001b[01;31m\u001b[K.com\u001b[m\u001b[K\n",
      "ftp://ftp.exemplo\u001b[01;31m\u001b[K.com\u001b[m\u001b[K\n",
      "htp://www.google\u001b[01;31m\u001b[K.com\u001b[m\u001b[K\n",
      "meusite\u001b[01;31m\u001b[K,com\u001b[m\u001b[K\n",
      "ftp:/ftp.exemplo\u001b[01;31m\u001b[K.com\u001b[m\u001b[K\n"
     ]
    }
   ],
   "source": [
    "grep -E .com$ regex.txt # Irá buscar todas as linhas terminadas em .com"
   ]
  },
  {
   "cell_type": "markdown",
   "id": "3a4a5a1e-3fc9-415c-abb0-f93f9c8571be",
   "metadata": {},
   "source": [
    "## Repetições, agrupaments e referências"
   ]
  },
  {
   "cell_type": "code",
   "execution_count": null,
   "id": "85d8cab4-1e2a-4633-abc5-bc2c5d74485b",
   "metadata": {},
   "outputs": [],
   "source": [
    "# Estou cansado Jefe"
   ]
  },
  {
   "cell_type": "markdown",
   "id": "2e2d3da9-d380-457f-8bdf-318e8877d3a1",
   "metadata": {},
   "source": [
    "# Funcionalidades que eu entendi nada"
   ]
  },
  {
   "cell_type": "markdown",
   "id": "186881a2-6437-4381-861a-95c802c60147",
   "metadata": {},
   "source": [
    "globstar shell option: Permite usar ** da mesma forma que * para corresponder em um contexto de nomes de arquivos e diretórios.\n"
   ]
  },
  {
   "cell_type": "code",
   "execution_count": null,
   "id": "b9b34ccc-946a-4cb8-9cb6-f527d4c4e6f9",
   "metadata": {},
   "outputs": [],
   "source": []
  },
  {
   "cell_type": "markdown",
   "id": "28746ac3-dc87-4b57-a40c-68c2a7f8c309",
   "metadata": {
    "jp-MarkdownHeadingCollapsed": true
   },
   "source": [
    "# Referências"
   ]
  },
  {
   "cell_type": "markdown",
   "id": "5ce3da3a-89bd-4856-bb5d-4e1546e1a9e6",
   "metadata": {},
   "source": [
    "https://regex101.com/\n",
    "\n",
    "https://computing.stat.berkeley.edu/tutorial-using-bash/regex.html\n",
    "\n",
    "https://www.gnu.org/software/bash/manual/bash.html#Pattern-Matching\n"
   ]
  },
  {
   "cell_type": "code",
   "execution_count": 25,
   "id": "96594e2f-6937-4010-a6cf-bf03e3c14df9",
   "metadata": {
    "scrolled": true
   },
   "outputs": [
    {
     "name": "stdout",
     "output_type": "stream",
     "text": [
      "\u001b[4mregex\u001b[24m(7)               Miscellaneous Information Manual               \u001b[4mregex\u001b[24m(7)\n",
      "\n",
      "\u001b[1mNAME\u001b[0m\n",
      "       regex - POSIX.2 regular expressions\n",
      "\n",
      "\u001b[1mDESCRIPTION\u001b[0m\n",
      "       Regular  expressions (\"RE\"s), as defined in POSIX.2, come in two forms:\n",
      "       modern REs (roughly those of \u001b[1megrep\u001b[22m(1); POSIX.2 calls  these  \"extended\"\n",
      "       REs)  and  obsolete  REs (roughly those of \u001b[1med\u001b[22m(1); POSIX.2 \"basic\" REs).\n",
      "       Obsolete REs mostly exist for backward compatibility in some  old  pro‐\n",
      "       grams;  they will be discussed at the end.  POSIX.2 leaves some aspects\n",
      "       of RE syntax and semantics open; \"(!)\" marks decisions on these aspects\n",
      "       that may not be fully portable to other POSIX.2 implementations.\n",
      "\n",
      "       A (modern) RE is one(!) or more nonempty(!) \u001b[4mbranches\u001b[24m, separated by '|'.\n",
      "       It matches anything that matches one of the branches.\n",
      "\n",
      "       A branch is one(!) or more \u001b[4mpieces\u001b[24m, concatenated.  It  matches  a  match\n",
      "       for the first, followed by a match for the second, and so on.\n",
      "\n",
      "       A  piece  is an \u001b[4matom\u001b[24m possibly followed by a single(!) '*', '+', '?', or\n",
      "       \u001b[4mbound\u001b[24m.  An atom followed by '*' matches a sequence of 0 or more matches\n",
      "       of the atom.  An atom followed by '+' matches a sequence of 1  or  more\n",
      "       matches  of  the atom.  An atom followed by '?' matches a sequence of 0\n",
      "       or 1 matches of the atom.\n",
      "\n",
      "       A \u001b[4mbound\u001b[24m is '{' followed by an unsigned decimal integer,  possibly  fol‐\n",
      "       lowed by ',' possibly followed by another unsigned decimal integer, al‐\n",
      "       ways  followed  by '}'.  The integers must lie between 0 and \u001b[1mRE_DUP_MAX\u001b[0m\n",
      "       (255(!)) inclusive, and if there are two of them, the first may not ex‐\n",
      "       ceed the second.  An atom followed by a bound containing one integer  \u001b[4mi\u001b[0m\n",
      "       and  no  comma matches a sequence of exactly \u001b[4mi\u001b[24m matches of the atom.  An\n",
      "       atom followed by a bound containing one integer \u001b[4mi\u001b[24m and a comma matches a\n",
      "       sequence of \u001b[4mi\u001b[24m or more matches of the atom.  An atom followed by a bound\n",
      "       containing two integers \u001b[4mi\u001b[24m and \u001b[4mj\u001b[24m matches a sequence of \u001b[4mi\u001b[24m through \u001b[4mj\u001b[24m  (in‐\n",
      "       clusive) matches of the atom.\n",
      "\n",
      "       An  atom is a regular expression enclosed in \"\u001b[4m()\u001b[24m\" (matching a match for\n",
      "       the regular expression), an  empty  set  of  \"\u001b[4m()\u001b[24m\"  (matching  the  null\n",
      "       string)(!),  a \u001b[4mbracket\u001b[24m \u001b[4mexpression\u001b[24m (see below), '.' (matching any single\n",
      "       character), '^' (matching the null string at the beginning of a  line),\n",
      "       '$'  (matching the null string at the end of a line), a '\\' followed by\n",
      "       one of the characters \"\u001b[4m^.[$()|*+?{\\\u001b[24m\" (matching that character taken  as\n",
      "       an  ordinary  character),  a  '\\'  followed  by  any other character(!)\n",
      "       (matching that character taken as an ordinary character, as if the  '\\'\n",
      "       had  not been present(!)), or a single character with no other signifi‐\n",
      "       cance (matching that character).  A '{' followed by a  character  other\n",
      "       than a digit is an ordinary character, not the beginning of a bound(!).\n",
      "       It is illegal to end an RE with '\\'.\n",
      "\n",
      "       A \u001b[4mbracket\u001b[24m \u001b[4mexpression\u001b[24m is a list of characters enclosed in \"\u001b[4m[]\u001b[24m\".  It nor‐\n",
      "       mally  matches  any single character from the list (but see below).  If\n",
      "       the list begins with '^', it matches any single character (but see  be‐\n",
      "       low)  \u001b[4mnot\u001b[24m from the rest of the list.  If two characters in the list are\n",
      "       separated by '-', this is shorthand for the full  \u001b[4mrange\u001b[24m  of  characters\n",
      "       between  those  two (inclusive) in the collating sequence, for example,\n",
      "       \"\u001b[4m[0-9]\u001b[24m\" in ASCII matches any decimal digit.  It is illegal(!)  for  two\n",
      "       ranges  to  share  an  endpoint, for example, \"\u001b[4ma-c-e\u001b[24m\".  Ranges are very\n",
      "       collating-sequence-dependent, and portable programs should avoid  rely‐\n",
      "       ing on them.\n",
      "\n",
      "       To include a literal ']' in the list, make it the first character (fol‐\n",
      "       lowing a possible '^').  To include a literal '-', make it the first or\n",
      "       last  character,  or  the second endpoint of a range.  To use a literal\n",
      "       '-' as the first endpoint of a range, enclose it in \"\u001b[4m[.\u001b[24m\" and  \"\u001b[4m.]\u001b[24m\"   to\n",
      "       make  it  a collating element (see below).  With the exception of these\n",
      "       and some combinations using '[' (see next paragraphs), all  other  spe‐\n",
      "       cial  characters, including '\\', lose their special significance within\n",
      "       a bracket expression.\n",
      "\n",
      "       Within a bracket expression, a collating element (a character, a multi‐\n",
      "       character sequence that collates as if it were a single character, or a\n",
      "       collating-sequence name for either) enclosed in \"\u001b[4m[.\u001b[24m\"  and  \"\u001b[4m.]\u001b[24m\"  stands\n",
      "       for the sequence of characters of that collating element.  The sequence\n",
      "       is  a  single  element of the bracket expression's list.  A bracket ex‐\n",
      "       pression containing a multicharacter collating element can  thus  match\n",
      "       more  than  one  character,  for example, if the collating sequence in‐\n",
      "       cludes a \"ch\" collating element, then the RE \"\u001b[4m[[.ch.]]*c\u001b[24m\"  matches  the\n",
      "       first five characters of \"chchcc\".\n",
      "\n",
      "       Within  a  bracket expression, a collating element enclosed in \"\u001b[4m[=\u001b[24m\" and\n",
      "       \"\u001b[4m=]\u001b[24m\" is an equivalence class, standing for the sequences of  characters\n",
      "       of  all  collating  elements  equivalent to that one, including itself.\n",
      "       (If there are no other equivalent collating elements, the treatment  is\n",
      "       as  if the enclosing delimiters were \"\u001b[4m[.\u001b[24m\" and \"\u001b[4m.]\u001b[24m\".)  For example, if o\n",
      "       and ô  are  the  members  of  an  equivalence  class,  then  \"\u001b[4m[[=o=]]\u001b[24m\",\n",
      "       \"\u001b[4m[[=ô=]]\u001b[24m\",  and  \"\u001b[4m[oô]\u001b[24m\"  are  all synonymous.  An equivalence class may\n",
      "       not(!) be an endpoint of a range.\n",
      "\n",
      "       Within a bracket expression, the name of a \u001b[4mcharacter\u001b[24m \u001b[4mclass\u001b[24m enclosed  in\n",
      "       \"\u001b[4m[:\u001b[24m\"  and  \"\u001b[4m:]\u001b[24m\" stands for the list of all characters belonging to that\n",
      "       class.  Standard character class names are:\n",
      "\n",
      "              alnum   digit   punct\n",
      "              alpha   graph   space\n",
      "              blank   lower   upper\n",
      "              cntrl   print   xdigit\n",
      "\n",
      "       These stand for the character classes defined in \u001b[1mwctype\u001b[22m(3).   A  locale\n",
      "       may  provide  others.  A character class may not be used as an endpoint\n",
      "       of a range.\n",
      "\n",
      "       In the event that an RE could match more than one substring of a  given\n",
      "       string, the RE matches the one starting earliest in the string.  If the\n",
      "       RE  could  match  more  than  one  substring starting at that point, it\n",
      "       matches the longest.  Subexpressions also match  the  longest  possible\n",
      "       substrings,  subject  to the constraint that the whole match be as long\n",
      "       as possible, with subexpressions starting earlier in the RE taking pri‐\n",
      "       ority over ones starting later.  Note that higher-level  subexpressions\n",
      "       thus take priority over their lower-level component subexpressions.\n",
      "\n",
      "       Match  lengths  are  measured in characters, not collating elements.  A\n",
      "       null string is considered longer than no match at  all.   For  example,\n",
      "       \"\u001b[4mbb*\u001b[24m\"    matches    the    three    middle   characters   of   \"abbbc\",\n",
      "       \"\u001b[4m(wee|week)(knights|nights)\u001b[24m\"  matches  all  ten  characters  of  \"week‐\n",
      "       nights\",  when  \"\u001b[4m(.*).*\u001b[24m\"  is  matched  against  \"abc\" the parenthesized\n",
      "       subexpression matches all three characters, and when \"\u001b[4m(a*)*\u001b[24m\" is matched\n",
      "       against \"bc\" both the whole  RE  and  the  parenthesized  subexpression\n",
      "       match the null string.\n",
      "\n",
      "       If case-independent matching is specified, the effect is much as if all\n",
      "       case  distinctions  had vanished from the alphabet.  When an alphabetic\n",
      "       that exists in multiple cases appears as an ordinary character  outside\n",
      "       a  bracket expression, it is effectively transformed into a bracket ex‐\n",
      "       pression containing both cases, for example, 'x' becomes \"\u001b[4m[xX]\u001b[24m\".   When\n",
      "       it appears inside a bracket expression, all case counterparts of it are\n",
      "       added  to  the  bracket expression, so that, for example, \"\u001b[4m[x]\u001b[24m\" becomes\n",
      "       \"\u001b[4m[xX]\u001b[24m\" and \"\u001b[4m[^x]\u001b[24m\" becomes \"\u001b[4m[^xX]\u001b[24m\".\n",
      "\n",
      "       No particular limit is imposed on the length of REs(!).   Programs  in‐\n",
      "       tended  to  be portable should not employ REs longer than 256 bytes, as\n",
      "       an implementation can refuse to accept such REs and  remain  POSIX-com‐\n",
      "       pliant.\n",
      "\n",
      "       Obsolete  (\"basic\")  regular  expressions  differ  in several respects.\n",
      "       '|', '+', and '?' are ordinary characters and there  is  no  equivalent\n",
      "       for  their functionality.  The delimiters for bounds are \"\u001b[4m\\{\u001b[24m\" and \"\u001b[4m\\}\u001b[24m\",\n",
      "       with '{' and '}' by themselves ordinary  characters.   The  parentheses\n",
      "       for  nested subexpressions are \"\u001b[4m\\(\u001b[24m\" and \"\u001b[4m\\)\u001b[24m\", with '(' and ')' by them‐\n",
      "       selves ordinary characters.  '^' is an ordinary character except at the\n",
      "       beginning of the RE or(!) the beginning of a  parenthesized  subexpres‐\n",
      "       sion,  '$'  is  an ordinary character except at the end of the RE or(!)\n",
      "       the end of a parenthesized subexpression, and '*' is an ordinary  char‐\n",
      "       acter  if  it  appears at the beginning of the RE or the beginning of a\n",
      "       parenthesized subexpression (after a possible leading '^').\n",
      "\n",
      "       Finally, there is one new type of atom, a \u001b[4mback\u001b[24m \u001b[4mreference\u001b[24m: '\\'  followed\n",
      "       by  a  nonzero  decimal digit \u001b[4md\u001b[24m matches the same sequence of characters\n",
      "       matched by the \u001b[4md\u001b[24mth parenthesized  subexpression  (numbering  subexpres‐\n",
      "       sions by the positions of their opening parentheses, left to right), so\n",
      "       that, for example, \"\u001b[4m\\([bc]\\)\\1\u001b[24m\" matches \"bb\" or \"cc\" but not \"bc\".\n",
      "\n",
      "\u001b[1mBUGS\u001b[0m\n",
      "       Having two kinds of REs is a botch.\n",
      "\n",
      "       The  current POSIX.2 spec says that ')' is an ordinary character in the\n",
      "       absence of an unmatched '('; this was  an  unintentional  result  of  a\n",
      "       wording error, and change is likely.  Avoid relying on it.\n",
      "\n",
      "       Back  references  are a dreadful botch, posing major problems for effi‐\n",
      "       cient implementations.  They are also somewhat  vaguely  defined  (does\n",
      "       \"\u001b[4ma\\(\\(b\\)*\\2\\)*d\u001b[24m\" match \"abbbd\"?).  Avoid using them.\n",
      "\n",
      "       POSIX.2's  specification  of  case-independent  matching is vague.  The\n",
      "       \"one case implies all cases\" definition given above is current  consen‐\n",
      "       sus among implementors as to the right interpretation.\n",
      "\n",
      "\u001b[1mAUTHOR\u001b[0m\n",
      "       This page was taken from Henry Spencer's regex package.\n",
      "\n",
      "\u001b[1mSEE ALSO\u001b[0m\n",
      "       \u001b[1mgrep\u001b[22m(1), \u001b[1mregex\u001b[22m(3)\n",
      "\n",
      "       POSIX.2, section 2.8 (Regular Expression Notation).\n",
      "\n",
      "Linux man-pages 6.7               2023-11-01                          \u001b[4mregex\u001b[24m(7)\n"
     ]
    }
   ],
   "source": [
    "# Manual no bash\n",
    "man 7 regex"
   ]
  },
  {
   "cell_type": "code",
   "execution_count": null,
   "id": "b96ff80d-5dfd-47e5-beca-662083b747ce",
   "metadata": {},
   "outputs": [],
   "source": []
  }
 ],
 "metadata": {
  "kernelspec": {
   "display_name": "Bash",
   "language": "bash",
   "name": "bash"
  },
  "language_info": {
   "codemirror_mode": "shell",
   "file_extension": ".sh",
   "mimetype": "text/x-sh",
   "name": "bash"
  }
 },
 "nbformat": 4,
 "nbformat_minor": 5
}
