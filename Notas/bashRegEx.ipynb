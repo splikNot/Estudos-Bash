{
 "cells": [
  {
   "cell_type": "markdown",
   "id": "e4ec81b8-bac3-4044-beb4-68164ea36627",
   "metadata": {},
   "source": [
    "# **Correspondência de Padrões**"
   ]
  },
  {
   "cell_type": "markdown",
   "id": "0c490946-c216-48f5-a9db-c1c1afbda81f",
   "metadata": {},
   "source": [
    "**Observação:** POSIX.2 regex possuí dois tipos de sintaxe (flavors) para trabalhar com expressôes regulares. A extendida e a básica (obsoleta). A extendida tem metacaracteres ``` () e {} ``` que podem ser passadas dentro das aspas em uma busca por expressão regulares. Enquanto a sintaxe básica exige que os metacaracteres sejam sejam designados com as barras invertidas ```\\(\\) e \\{\\}```. Vamos generalizar para usar a sintaxe extendida usando a flag *-E* nos comandos."
   ]
  },
  {
   "cell_type": "code",
   "execution_count": 1,
   "id": "2eb7ecc7-490d-4b30-add8-2eff8a3ec66d",
   "metadata": {},
   "outputs": [],
   "source": [
    "# Criando um arquivo para ir realizando testes \n",
    "echo \"#Arquivode exemplosparapráticade\n",
    "#Regex\n",
    "\n",
    "# Emails válidos\n",
    "usuario@exemplo.com\n",
    "email.test@domain.org\n",
    "primeiro_ultimo@empresa.co\n",
    "email+alias@gmail.com\n",
    "\n",
    "# Emails inválidos\n",
    "usuario@@exemplo.com\n",
    "email..test@domain.org\n",
    "usuario@.com\n",
    "email-sem-arroba.com\n",
    "\n",
    "# Telefones válidos\n",
    "+55 11 91234-5678\n",
    "(11) 91234-5678\n",
    "11 91234-5678\n",
    "+1 800-123-4567\n",
    "\n",
    "# Telefones inválidos\n",
    "12345678\n",
    "(11 91234-5678\n",
    "11 91234-56789\n",
    "\n",
    "# Endereços IP válidos\n",
    "192.168.0.1\n",
    "255.255.255.255\\?*\n",
    "10.0.0.1\n",
    "172.16.254.1\n",
    "\n",
    "# Endereços IP inválidos\n",
    "192.168.0.256\n",
    "256.255.255.255\n",
    "10.0.0\n",
    "172.16.254.999\n",
    "\n",
    "# Datas válidas\n",
    "2025-01-28\n",
    "28/01/2025\n",
    "01/28/2025\n",
    "\n",
    "# Datas inválidas\n",
    "2025-13-28\n",
    "28-01-2025\n",
    "31/02/2025\n",
    "\n",
    "# URLs válidas\n",
    "https://www.google.com\n",
    "http://example.org\n",
    "www.meusite.com\n",
    "ftp://ftp.exemplo.com\n",
    "\n",
    "# URLs inválidas\n",
    "htp://www.google.com\n",
    "http:/example.org\n",
    "meusite,com\n",
    "ftp:/ftp.exemplo.com\n",
    "\n",
    "# Códigos Postais (Brasil)\n",
    "01001-000\n",
    "12345-678\n",
    "\n",
    "# Códigos Postais inválidos\n",
    "12345678\n",
    "12-345\n",
    "\n",
    "# Números válidos\n",
    "123\n",
    "0.456\n",
    "-789\n",
    "+0.12\n",
    "\n",
    "# Números inválidos\n",
    "123abc\n",
    "- 456\n",
    "+ 0.12\n",
    "\n",
    "# Palavras válidas (alfabéticas apenas)\n",
    "regex\n",
    "funcionalidade\n",
    "pratica\n",
    "\n",
    "# Palavras inválidas\n",
    "regex123\n",
    "123regex\n",
    "_funçáo\n",
    "\n",
    "abcdxyzad\n",
    "acdan\n",
    "dahdjk1abcslklsad\n",
    "abv\n",
    "ABCADBACCATG\n",
    "\\n\n",
    "bcdkhg\n",
    "joão comeu mamão usando sua mão\n",
    "jdaidkdd*fla\" > regex.txt"
   ]
  },
  {
   "cell_type": "markdown",
   "id": "0570e81c-ebeb-45dd-bb9a-0bc2796ed206",
   "metadata": {},
   "source": [
    "## Comandos"
   ]
  },
  {
   "cell_type": "markdown",
   "id": "ab87e48b-1d65-40d5-8208-be72b7acd10e",
   "metadata": {},
   "source": [
    "### **grep**"
   ]
  },
  {
   "cell_type": "markdown",
   "id": "a0b5107f-16f0-4b8c-b29b-b5ab6d1e25b3",
   "metadata": {},
   "source": [
    "*(Global Regular Expression Print)*\n",
    "\n",
    "Busca por padrões de texto em arquivos ou na entrada padrão.\n",
    "\n",
    "```grep [flags] \"Padrão\" arquivo.txt```"
   ]
  },
  {
   "cell_type": "markdown",
   "id": "4fbaad96-de47-454c-9e4b-10c75e4e2a73",
   "metadata": {},
   "source": [
    "**Flags**\n",
    "* **-i:** Ignoraa diferença entre as maiúsculas e minúsculas;\n",
    "* **-v:** Inverte a busca (exibe as linhas que não contém o padrão;\n",
    "* **-c:** Retorna o número de ocorrências do padrão;\n",
    "* **-n:** Mostra o número da linha onde o padrão foi encontrado;\n",
    "* **-o:** Exibe apenas o trecho da linha que corresponde ao padrão;\n",
    "* **-E:** Usa a versão estendidas (equivalente a ```egrep```);\n",
    "* **-r:** Busca recursivamente em diretórios (***-R***);"
   ]
  },
  {
   "cell_type": "markdown",
   "id": "a8103488-9438-4be2-b87b-eb68d44f4e8f",
   "metadata": {},
   "source": [
    "**Exemplos:**\n",
    "\n",
    "```\n",
    "# Encontrar todas as linhas que contêm \"erro\" (-i = insentive)\n",
    "grep -i \"erro\" logs.txt\n",
    "\n",
    "# Contar quantas linhas contêm \"falha\"\n",
    "grep -c \"falha\" sistema.log\n",
    "\n",
    "# Exibir apenas os números em um arquivo\n",
    "grep -o '[0-9]+' dados.txt\n",
    "```"
   ]
  },
  {
   "cell_type": "markdown",
   "id": "6d85931d-9228-4934-8ba3-e9cc6373d3e4",
   "metadata": {},
   "source": [
    "### **sed**"
   ]
  },
  {
   "cell_type": "markdown",
   "id": "0916db28-8be1-4178-a742-7e22fa74734b",
   "metadata": {},
   "source": [
    "*(Stream Editor)*\n",
    "\n",
    "É usado para buscar, substituir, excluir ou modificar texto de maneira eficiente.\n",
    "\n",
    "```sed [flag] 'COMANDO' arquivo.txt```"
   ]
  },
  {
   "cell_type": "markdown",
   "id": "8e3f15e4-95fb-41f3-8937-fe9a945672cd",
   "metadata": {},
   "source": [
    "**Flags**\n",
    "* **-i:** Edita o arquivo original (--in-place);\n",
    "* **-f:** Passa um script para ser executado (--file=script.sh);\n",
    "* **-e:** Permite executar multiplos comandos, scripts (--expression=script);\n",
    "* **-n:** Silencia a saída (--quiet);\n",
    "* **-E:** Usa a versão estendidas, também pode ser a flag **-r** (--regexp-extended);\n",
    "* **-s:** Considera os arquivos ao invés de como uma única longa string; (***-R***);"
   ]
  },
  {
   "cell_type": "markdown",
   "id": "c9351dbb-512c-4c09-986d-aae2e7056358",
   "metadata": {},
   "source": [
    "**Exemplos**\n",
    "\n",
    "```\n",
    "# Substituir a palavra erro por corrigido;\n",
    "sed 's/erro/corrigido/g' arquivo.txt\n",
    "\n",
    "# Remover todas as linhas vázias;\n",
    "sed '/^$/d' arquivo .txt\n",
    "\n",
    "# Deixar apenas os números em uma linha.\n",
    "echo \"abc123dff456\" | sed 's[^0-9]//g'"
   ]
  },
  {
   "cell_type": "markdown",
   "id": "de50a535-2b48-4877-8b73-5cc73ba65a13",
   "metadata": {},
   "source": [
    "### **awk**"
   ]
  },
  {
   "cell_type": "markdown",
   "id": "2da03ee1-7ec8-48aa-b6e2-c61f374a47c3",
   "metadata": {},
   "source": [
    "*Advanced Text Processing*\n",
    "\n",
    "O ```awk``` é uma linguagem poderosa para manipulação de texto baseada em padrões e colunas.\n",
    "\n",
    "```awk [flag] 'CONDICAO {AÇÃO}' arquivos.txt```"
   ]
  },
  {
   "cell_type": "markdown",
   "id": "165ea3b4-6b1d-486a-8a6d-e150459016b6",
   "metadata": {},
   "source": [
    "**Flags**\n",
    "* **-F:** Delimitador que define o separação (por padrão, é espaço).\n",
    "* **-v:** var=VALOR: Define váriaveis para serem usadas no script.\n",
    "* **NR** Número da linha atual;\n",
    "* **NF** Número total de colunas e linhas.\n",
    "\n",
    "**Obs:** Tem tantas outras flags que vale a pena dar uma lida na documentação.\n",
    "\n",
    "**Exemplos**\n",
    "\n",
    "```\n",
    "# Exibir apenas a primeira coluna de um arquivo CSV\n",
    "awk -F, '{print $1}' dados.csv\n",
    "\n",
    "# Somar todos os valores da segunda coluna\n",
    "awk '{soma += $2} END {print soma}' arquivo.txt\n",
    "\n",
    "# Filtrar linhas em que a terceira coluna é maior que 100\n",
    "awk '$3 > 100' dados.txt\n",
    "```\n",
    "  "
   ]
  },
  {
   "cell_type": "markdown",
   "id": "2690f256-ae54-4796-993f-29b9995f9b65",
   "metadata": {},
   "source": [
    "## **Expressões Regulares**"
   ]
  },
  {
   "cell_type": "markdown",
   "id": "b84ba353-e929-41da-a612-dacd19a720b5",
   "metadata": {},
   "source": [
    "Expressões Regulares (regex) é a linguagem padrão utilizada para buscar padrões, combinar e manipular texto. Em bash, usamos em conjunto com outras ferramentas como **grep**, **sed**, **awk** e em estruturas condicionais como ```[[  ]]```.\n",
    "\n",
    "O regex é uma ótima ferramenta para:\n",
    "* Extrair partes de textos;\n",
    "* Criar váriaveis com informações encontradas em um texto;\n",
    "* Limpar e formatar textos e dados;\n",
    "* Tratar documentos como dados;\n",
    "* Web scraping;"
   ]
  },
  {
   "cell_type": "markdown",
   "id": "5b03747a-fc99-4127-bd46-2f9bf5af8e6c",
   "metadata": {},
   "source": [
    "Expressões regulares são contruídas de três formas:\n",
    "* Caracteres literais que correspondem com eles mesmos;\n",
    "* Classes de caracteres que corresponde com tipos de dados;\n",
    "* Modificadores que operam tanto com um quanto com outro;"
   ]
  },
  {
   "cell_type": "markdown",
   "id": "785f3240-f5b3-42a1-bf71-80c963e8aade",
   "metadata": {},
   "source": [
    "Qualquer caractere em um padrão, exceto os caracteres de padrões especiais (***metacaracteres***).\n",
    "\n"
   ]
  },
  {
   "cell_type": "markdown",
   "id": "2286c802-af0f-458d-9f3a-1b0b807f4258",
   "metadata": {},
   "source": [
    "| Metacaractere                    | Função                      |\n",
    "|:--------------------------------:|:----------------------------|\n",
    "| .                                | Corresponde com qualquer frase. Ou melhor, qualquer caractere menos linhas novas (\\n); |\n",
    "| ^                                | Corresponde com o ínicio de uma linha                      |\n",
    "| $                                | Corresponde com o final de uma linha                       |\n",
    "| ( )                              | \"Átomo\": expressão regular encapsulada nos parenteses é correspondida literalmente. |\n",
    "| [ ]                              | Define um conjunto de caracteres a serem correspondidos em quantas instâncias houver. |\n",
    "| { }                              | Define a repetição de busca de alguma expressão ou classe |\n",
    "| \\                                | Anula o efeito dos metacaracteres                          |"
   ]
  },
  {
   "cell_type": "markdown",
   "id": "a59071c4-ac76-49e7-b354-c6adcf6a7bc2",
   "metadata": {},
   "source": [
    "### **Conjuntos e Classes**"
   ]
  },
  {
   "cell_type": "markdown",
   "id": "e8a5e2c2-2548-4fce-88f1-50d54eefca5b",
   "metadata": {},
   "source": [
    "| Operadores          |    Descrição     |\n",
    "|:-------------------:|:-----------------|\n",
    "| [abc]             | Corresponde com qualquer caractere presente nos colchetes.                          |\n",
    "| [a-d]             | Abreviação da comando anterior. Corresponderá todos os caracteres dentro do alcance.|\n",
    "| [^abc]            | Corresponderá com qualquer caractere que não está na lista (*negação*)              |\n",
    "| [^a-d]            | Corresponderá com qualquer caractere que não esteja listado no alcance.             |\n"
   ]
  },
  {
   "cell_type": "code",
   "execution_count": 2,
   "id": "5938ea1e-93cc-4e47-a1b9-f74ca05bc69a",
   "metadata": {
    "scrolled": true
   },
   "outputs": [
    {
     "name": "stdout",
     "output_type": "stream",
     "text": [
      "+\u001b[01;31m\u001b[K5\u001b[m\u001b[K\u001b[01;31m\u001b[K5\u001b[m\u001b[K \u001b[01;31m\u001b[K1\u001b[m\u001b[K\u001b[01;31m\u001b[K1\u001b[m\u001b[K \u001b[01;31m\u001b[K9\u001b[m\u001b[K\u001b[01;31m\u001b[K1\u001b[m\u001b[K\u001b[01;31m\u001b[K2\u001b[m\u001b[K\u001b[01;31m\u001b[K3\u001b[m\u001b[K\u001b[01;31m\u001b[K4\u001b[m\u001b[K-\u001b[01;31m\u001b[K5\u001b[m\u001b[K\u001b[01;31m\u001b[K6\u001b[m\u001b[K\u001b[01;31m\u001b[K7\u001b[m\u001b[K\u001b[01;31m\u001b[K8\u001b[m\u001b[K\n",
      "(\u001b[01;31m\u001b[K1\u001b[m\u001b[K\u001b[01;31m\u001b[K1\u001b[m\u001b[K) \u001b[01;31m\u001b[K9\u001b[m\u001b[K\u001b[01;31m\u001b[K1\u001b[m\u001b[K\u001b[01;31m\u001b[K2\u001b[m\u001b[K\u001b[01;31m\u001b[K3\u001b[m\u001b[K\u001b[01;31m\u001b[K4\u001b[m\u001b[K-\u001b[01;31m\u001b[K5\u001b[m\u001b[K\u001b[01;31m\u001b[K6\u001b[m\u001b[K\u001b[01;31m\u001b[K7\u001b[m\u001b[K\u001b[01;31m\u001b[K8\u001b[m\u001b[K\n",
      "\u001b[01;31m\u001b[K1\u001b[m\u001b[K\u001b[01;31m\u001b[K1\u001b[m\u001b[K \u001b[01;31m\u001b[K9\u001b[m\u001b[K\u001b[01;31m\u001b[K1\u001b[m\u001b[K\u001b[01;31m\u001b[K2\u001b[m\u001b[K\u001b[01;31m\u001b[K3\u001b[m\u001b[K\u001b[01;31m\u001b[K4\u001b[m\u001b[K-\u001b[01;31m\u001b[K5\u001b[m\u001b[K\u001b[01;31m\u001b[K6\u001b[m\u001b[K\u001b[01;31m\u001b[K7\u001b[m\u001b[K\u001b[01;31m\u001b[K8\u001b[m\u001b[K\n",
      "+\u001b[01;31m\u001b[K1\u001b[m\u001b[K \u001b[01;31m\u001b[K8\u001b[m\u001b[K\u001b[01;31m\u001b[K0\u001b[m\u001b[K\u001b[01;31m\u001b[K0\u001b[m\u001b[K-\u001b[01;31m\u001b[K1\u001b[m\u001b[K\u001b[01;31m\u001b[K2\u001b[m\u001b[K\u001b[01;31m\u001b[K3\u001b[m\u001b[K-\u001b[01;31m\u001b[K4\u001b[m\u001b[K\u001b[01;31m\u001b[K5\u001b[m\u001b[K\u001b[01;31m\u001b[K6\u001b[m\u001b[K\u001b[01;31m\u001b[K7\u001b[m\u001b[K\n",
      "\u001b[01;31m\u001b[K1\u001b[m\u001b[K\u001b[01;31m\u001b[K2\u001b[m\u001b[K\u001b[01;31m\u001b[K3\u001b[m\u001b[K\u001b[01;31m\u001b[K4\u001b[m\u001b[K\u001b[01;31m\u001b[K5\u001b[m\u001b[K\u001b[01;31m\u001b[K6\u001b[m\u001b[K\u001b[01;31m\u001b[K7\u001b[m\u001b[K\u001b[01;31m\u001b[K8\u001b[m\u001b[K\n",
      "(\u001b[01;31m\u001b[K1\u001b[m\u001b[K\u001b[01;31m\u001b[K1\u001b[m\u001b[K \u001b[01;31m\u001b[K9\u001b[m\u001b[K\u001b[01;31m\u001b[K1\u001b[m\u001b[K\u001b[01;31m\u001b[K2\u001b[m\u001b[K\u001b[01;31m\u001b[K3\u001b[m\u001b[K\u001b[01;31m\u001b[K4\u001b[m\u001b[K-\u001b[01;31m\u001b[K5\u001b[m\u001b[K\u001b[01;31m\u001b[K6\u001b[m\u001b[K\u001b[01;31m\u001b[K7\u001b[m\u001b[K\u001b[01;31m\u001b[K8\u001b[m\u001b[K\n",
      "\u001b[01;31m\u001b[K1\u001b[m\u001b[K\u001b[01;31m\u001b[K1\u001b[m\u001b[K \u001b[01;31m\u001b[K9\u001b[m\u001b[K\u001b[01;31m\u001b[K1\u001b[m\u001b[K\u001b[01;31m\u001b[K2\u001b[m\u001b[K\u001b[01;31m\u001b[K3\u001b[m\u001b[K\u001b[01;31m\u001b[K4\u001b[m\u001b[K-\u001b[01;31m\u001b[K5\u001b[m\u001b[K\u001b[01;31m\u001b[K6\u001b[m\u001b[K\u001b[01;31m\u001b[K7\u001b[m\u001b[K\u001b[01;31m\u001b[K8\u001b[m\u001b[K\u001b[01;31m\u001b[K9\u001b[m\u001b[K\n",
      "\u001b[01;31m\u001b[K1\u001b[m\u001b[K\u001b[01;31m\u001b[K9\u001b[m\u001b[K\u001b[01;31m\u001b[K2\u001b[m\u001b[K.\u001b[01;31m\u001b[K1\u001b[m\u001b[K\u001b[01;31m\u001b[K6\u001b[m\u001b[K\u001b[01;31m\u001b[K8\u001b[m\u001b[K.\u001b[01;31m\u001b[K0\u001b[m\u001b[K.\u001b[01;31m\u001b[K1\u001b[m\u001b[K\n",
      "\u001b[01;31m\u001b[K2\u001b[m\u001b[K\u001b[01;31m\u001b[K5\u001b[m\u001b[K\u001b[01;31m\u001b[K5\u001b[m\u001b[K.\u001b[01;31m\u001b[K2\u001b[m\u001b[K\u001b[01;31m\u001b[K5\u001b[m\u001b[K\u001b[01;31m\u001b[K5\u001b[m\u001b[K.\u001b[01;31m\u001b[K2\u001b[m\u001b[K\u001b[01;31m\u001b[K5\u001b[m\u001b[K\u001b[01;31m\u001b[K5\u001b[m\u001b[K.\u001b[01;31m\u001b[K2\u001b[m\u001b[K\u001b[01;31m\u001b[K5\u001b[m\u001b[K\u001b[01;31m\u001b[K5\u001b[m\u001b[K\\?*\n",
      "\u001b[01;31m\u001b[K1\u001b[m\u001b[K\u001b[01;31m\u001b[K0\u001b[m\u001b[K.\u001b[01;31m\u001b[K0\u001b[m\u001b[K.\u001b[01;31m\u001b[K0\u001b[m\u001b[K.\u001b[01;31m\u001b[K1\u001b[m\u001b[K\n",
      "\u001b[01;31m\u001b[K1\u001b[m\u001b[K\u001b[01;31m\u001b[K7\u001b[m\u001b[K\u001b[01;31m\u001b[K2\u001b[m\u001b[K.\u001b[01;31m\u001b[K1\u001b[m\u001b[K\u001b[01;31m\u001b[K6\u001b[m\u001b[K.\u001b[01;31m\u001b[K2\u001b[m\u001b[K\u001b[01;31m\u001b[K5\u001b[m\u001b[K\u001b[01;31m\u001b[K4\u001b[m\u001b[K.\u001b[01;31m\u001b[K1\u001b[m\u001b[K\n",
      "\u001b[01;31m\u001b[K1\u001b[m\u001b[K\u001b[01;31m\u001b[K9\u001b[m\u001b[K\u001b[01;31m\u001b[K2\u001b[m\u001b[K.\u001b[01;31m\u001b[K1\u001b[m\u001b[K\u001b[01;31m\u001b[K6\u001b[m\u001b[K\u001b[01;31m\u001b[K8\u001b[m\u001b[K.\u001b[01;31m\u001b[K0\u001b[m\u001b[K.\u001b[01;31m\u001b[K2\u001b[m\u001b[K\u001b[01;31m\u001b[K5\u001b[m\u001b[K\u001b[01;31m\u001b[K6\u001b[m\u001b[K\n",
      "\u001b[01;31m\u001b[K2\u001b[m\u001b[K\u001b[01;31m\u001b[K5\u001b[m\u001b[K\u001b[01;31m\u001b[K6\u001b[m\u001b[K.\u001b[01;31m\u001b[K2\u001b[m\u001b[K\u001b[01;31m\u001b[K5\u001b[m\u001b[K\u001b[01;31m\u001b[K5\u001b[m\u001b[K.\u001b[01;31m\u001b[K2\u001b[m\u001b[K\u001b[01;31m\u001b[K5\u001b[m\u001b[K\u001b[01;31m\u001b[K5\u001b[m\u001b[K.\u001b[01;31m\u001b[K2\u001b[m\u001b[K\u001b[01;31m\u001b[K5\u001b[m\u001b[K\u001b[01;31m\u001b[K5\u001b[m\u001b[K\n",
      "\u001b[01;31m\u001b[K1\u001b[m\u001b[K\u001b[01;31m\u001b[K0\u001b[m\u001b[K.\u001b[01;31m\u001b[K0\u001b[m\u001b[K.\u001b[01;31m\u001b[K0\u001b[m\u001b[K\n",
      "\u001b[01;31m\u001b[K1\u001b[m\u001b[K\u001b[01;31m\u001b[K7\u001b[m\u001b[K\u001b[01;31m\u001b[K2\u001b[m\u001b[K.\u001b[01;31m\u001b[K1\u001b[m\u001b[K\u001b[01;31m\u001b[K6\u001b[m\u001b[K.\u001b[01;31m\u001b[K2\u001b[m\u001b[K\u001b[01;31m\u001b[K5\u001b[m\u001b[K\u001b[01;31m\u001b[K4\u001b[m\u001b[K.\u001b[01;31m\u001b[K9\u001b[m\u001b[K\u001b[01;31m\u001b[K9\u001b[m\u001b[K\u001b[01;31m\u001b[K9\u001b[m\u001b[K\n",
      "\u001b[01;31m\u001b[K2\u001b[m\u001b[K\u001b[01;31m\u001b[K0\u001b[m\u001b[K\u001b[01;31m\u001b[K2\u001b[m\u001b[K\u001b[01;31m\u001b[K5\u001b[m\u001b[K-\u001b[01;31m\u001b[K0\u001b[m\u001b[K\u001b[01;31m\u001b[K1\u001b[m\u001b[K-\u001b[01;31m\u001b[K2\u001b[m\u001b[K\u001b[01;31m\u001b[K8\u001b[m\u001b[K\n",
      "\u001b[01;31m\u001b[K2\u001b[m\u001b[K\u001b[01;31m\u001b[K8\u001b[m\u001b[K/\u001b[01;31m\u001b[K0\u001b[m\u001b[K\u001b[01;31m\u001b[K1\u001b[m\u001b[K/\u001b[01;31m\u001b[K2\u001b[m\u001b[K\u001b[01;31m\u001b[K0\u001b[m\u001b[K\u001b[01;31m\u001b[K2\u001b[m\u001b[K\u001b[01;31m\u001b[K5\u001b[m\u001b[K\n",
      "\u001b[01;31m\u001b[K0\u001b[m\u001b[K\u001b[01;31m\u001b[K1\u001b[m\u001b[K/\u001b[01;31m\u001b[K2\u001b[m\u001b[K\u001b[01;31m\u001b[K8\u001b[m\u001b[K/\u001b[01;31m\u001b[K2\u001b[m\u001b[K\u001b[01;31m\u001b[K0\u001b[m\u001b[K\u001b[01;31m\u001b[K2\u001b[m\u001b[K\u001b[01;31m\u001b[K5\u001b[m\u001b[K\n",
      "\u001b[01;31m\u001b[K2\u001b[m\u001b[K\u001b[01;31m\u001b[K0\u001b[m\u001b[K\u001b[01;31m\u001b[K2\u001b[m\u001b[K\u001b[01;31m\u001b[K5\u001b[m\u001b[K-\u001b[01;31m\u001b[K1\u001b[m\u001b[K\u001b[01;31m\u001b[K3\u001b[m\u001b[K-\u001b[01;31m\u001b[K2\u001b[m\u001b[K\u001b[01;31m\u001b[K8\u001b[m\u001b[K\n",
      "\u001b[01;31m\u001b[K2\u001b[m\u001b[K\u001b[01;31m\u001b[K8\u001b[m\u001b[K-\u001b[01;31m\u001b[K0\u001b[m\u001b[K\u001b[01;31m\u001b[K1\u001b[m\u001b[K-\u001b[01;31m\u001b[K2\u001b[m\u001b[K\u001b[01;31m\u001b[K0\u001b[m\u001b[K\u001b[01;31m\u001b[K2\u001b[m\u001b[K\u001b[01;31m\u001b[K5\u001b[m\u001b[K\n",
      "\u001b[01;31m\u001b[K3\u001b[m\u001b[K\u001b[01;31m\u001b[K1\u001b[m\u001b[K/\u001b[01;31m\u001b[K0\u001b[m\u001b[K\u001b[01;31m\u001b[K2\u001b[m\u001b[K/\u001b[01;31m\u001b[K2\u001b[m\u001b[K\u001b[01;31m\u001b[K0\u001b[m\u001b[K\u001b[01;31m\u001b[K2\u001b[m\u001b[K\u001b[01;31m\u001b[K5\u001b[m\u001b[K\n",
      "\u001b[01;31m\u001b[K0\u001b[m\u001b[K\u001b[01;31m\u001b[K1\u001b[m\u001b[K\u001b[01;31m\u001b[K0\u001b[m\u001b[K\u001b[01;31m\u001b[K0\u001b[m\u001b[K\u001b[01;31m\u001b[K1\u001b[m\u001b[K-\u001b[01;31m\u001b[K0\u001b[m\u001b[K\u001b[01;31m\u001b[K0\u001b[m\u001b[K\u001b[01;31m\u001b[K0\u001b[m\u001b[K\n",
      "\u001b[01;31m\u001b[K1\u001b[m\u001b[K\u001b[01;31m\u001b[K2\u001b[m\u001b[K\u001b[01;31m\u001b[K3\u001b[m\u001b[K\u001b[01;31m\u001b[K4\u001b[m\u001b[K\u001b[01;31m\u001b[K5\u001b[m\u001b[K-\u001b[01;31m\u001b[K6\u001b[m\u001b[K\u001b[01;31m\u001b[K7\u001b[m\u001b[K\u001b[01;31m\u001b[K8\u001b[m\u001b[K\n",
      "\u001b[01;31m\u001b[K1\u001b[m\u001b[K\u001b[01;31m\u001b[K2\u001b[m\u001b[K\u001b[01;31m\u001b[K3\u001b[m\u001b[K\u001b[01;31m\u001b[K4\u001b[m\u001b[K\u001b[01;31m\u001b[K5\u001b[m\u001b[K\u001b[01;31m\u001b[K6\u001b[m\u001b[K\u001b[01;31m\u001b[K7\u001b[m\u001b[K\u001b[01;31m\u001b[K8\u001b[m\u001b[K\n",
      "\u001b[01;31m\u001b[K1\u001b[m\u001b[K\u001b[01;31m\u001b[K2\u001b[m\u001b[K-\u001b[01;31m\u001b[K3\u001b[m\u001b[K\u001b[01;31m\u001b[K4\u001b[m\u001b[K\u001b[01;31m\u001b[K5\u001b[m\u001b[K\n",
      "\u001b[01;31m\u001b[K1\u001b[m\u001b[K\u001b[01;31m\u001b[K2\u001b[m\u001b[K\u001b[01;31m\u001b[K3\u001b[m\u001b[K\n",
      "\u001b[01;31m\u001b[K0\u001b[m\u001b[K.\u001b[01;31m\u001b[K4\u001b[m\u001b[K\u001b[01;31m\u001b[K5\u001b[m\u001b[K\u001b[01;31m\u001b[K6\u001b[m\u001b[K\n",
      "-\u001b[01;31m\u001b[K7\u001b[m\u001b[K\u001b[01;31m\u001b[K8\u001b[m\u001b[K\u001b[01;31m\u001b[K9\u001b[m\u001b[K\n",
      "+\u001b[01;31m\u001b[K0\u001b[m\u001b[K.\u001b[01;31m\u001b[K1\u001b[m\u001b[K\u001b[01;31m\u001b[K2\u001b[m\u001b[K\n",
      "\u001b[01;31m\u001b[K1\u001b[m\u001b[K\u001b[01;31m\u001b[K2\u001b[m\u001b[K\u001b[01;31m\u001b[K3\u001b[m\u001b[Kabc\n",
      "- \u001b[01;31m\u001b[K4\u001b[m\u001b[K\u001b[01;31m\u001b[K5\u001b[m\u001b[K\u001b[01;31m\u001b[K6\u001b[m\u001b[K\n",
      "+ \u001b[01;31m\u001b[K0\u001b[m\u001b[K.\u001b[01;31m\u001b[K1\u001b[m\u001b[K\u001b[01;31m\u001b[K2\u001b[m\u001b[K\n",
      "regex\u001b[01;31m\u001b[K1\u001b[m\u001b[K\u001b[01;31m\u001b[K2\u001b[m\u001b[K\u001b[01;31m\u001b[K3\u001b[m\u001b[K\n",
      "\u001b[01;31m\u001b[K1\u001b[m\u001b[K\u001b[01;31m\u001b[K2\u001b[m\u001b[K\u001b[01;31m\u001b[K3\u001b[m\u001b[Kregex\n",
      "dahdjk\u001b[01;31m\u001b[K1\u001b[m\u001b[Kabcslklsad\n"
     ]
    }
   ],
   "source": [
    "# Exemplos usando grep.\n",
    "# Encontrar todos as linhas com valores numéricos em um documento.\n",
    "\n",
    "grep -E [0-9] regex.txt"
   ]
  },
  {
   "cell_type": "code",
   "execution_count": 3,
   "id": "3cbb5a4a-3cf7-4b65-8fa9-d95508838fb4",
   "metadata": {},
   "outputs": [
    {
     "name": "stdout",
     "output_type": "stream",
     "text": [
      "55119123456781191234567811912345678180012345671234567811912345678119123456789192168012552552552551000117216254119216802562562552552551000172162549992025012828012025012820252025132828012025310220250100100012345678123456781234512304567890121234560121231231\n"
     ]
    }
   ],
   "source": [
    "# Usando a flag -o para encontrar apenas os números\n",
    "grep -E -o [0-9] regex.txt | tr -d '\\n' # Pipe para evitar que cada número seja impresso em uma nova linha"
   ]
  },
  {
   "cell_type": "markdown",
   "id": "81d0aa0d-823a-40e7-b837-dd5ec2141609",
   "metadata": {},
   "source": [
    "#### **Classes**"
   ]
  },
  {
   "cell_type": "markdown",
   "id": "64649e75-ac4b-4c40-8221-f7b1652a0b9f",
   "metadata": {},
   "source": [
    "Existem conjuntos de caracteres que já estão definidos em classes para agilizar algumas buscas. A sintaxe é [:CLASS:]. Onde classe pode ser qualquer* um dos valores. Lembrando que a sintaxe [:CLASS:] tem que ir dentro do [] para buscar um conjunto da classe.\n",
    "| Classe| Descrição |\n",
    "|-------|-----------|\n",
    "| \"alnum\"| Classe dos (?). |\n",
    "| \"alpha\"| Classe dos alfanuméricos. |\n",
    "| \"ascii\"| Classe dos ascii ((?) não funcionou, acredito que seja por conta do meu teclado estar em uft8 (?)). |\n",
    "| \"blank\"| Encontra frases, linhas que possuem espaço(s) em sua composição.|\n",
    "| \"cntrl\"| (?) Também não funcionou, eu pensei que poderia ser caracteres de controle, como nova linha e etc). |\n",
    "| \"digit\"| Retorna todas as linhas com números em sua composição. |\n",
    "| \"graph\"| (?). No meu teste imprimiu o texto inteiro do arquivo. |\n",
    "| \"lower\"| Retorna todas as minúsculas. |\n",
    "| \"upper\"| Corresponde com as maiúsculas. | \n",
    "| \"print\"| (?). Também retornou o arquivo todo. |\n",
    "| \"punct\"| Corresponde com os símbolos no texto. |\n",
    "| \"space\"| (?). Qual a diferença do space para o blank? | \n",
    "| \"word\" | (?). Não funcionou. Talvez não funciona com o grep? |\n",
    "|\"xdigit\"| Classe que corresponderá com todos os digitos hexadecimais. |"
   ]
  },
  {
   "cell_type": "code",
   "execution_count": 24,
   "id": "26b2404d-8593-436a-a2d8-27931a922c71",
   "metadata": {},
   "outputs": [],
   "source": [
    "# Alguns dos erros eu entendo que possa ser da decodificação do texto, utf8, ascii e etc.\n",
    "# Outros o GPT me contou que pode ser problema da impressão do terminal\n",
    "# E que alguns funcionam no pacote perl.\n",
    "# Enfim, se alguém estiver lendo isso e souber me elucidar essa questão eu agradeceria."
   ]
  },
  {
   "cell_type": "code",
   "execution_count": 25,
   "id": "13a8b373-2f16-4390-94b1-abe61f802bb1",
   "metadata": {},
   "outputs": [],
   "source": [
    "# Não sei\n",
    "#grep -E '[[:cntrl:]]' regex.txt"
   ]
  },
  {
   "cell_type": "code",
   "execution_count": 26,
   "id": "b9b6af8c-a2ed-4801-a68f-1695437b13cb",
   "metadata": {
    "scrolled": true
   },
   "outputs": [
    {
     "name": "stdout",
     "output_type": "stream",
     "text": [
      "#\u001b[01;31m\u001b[KA\u001b[m\u001b[Krquivo\u001b[01;31m\u001b[Kd\u001b[m\u001b[K\u001b[01;31m\u001b[Ke\u001b[m\u001b[K \u001b[01;31m\u001b[Ke\u001b[m\u001b[Kx\u001b[01;31m\u001b[Ke\u001b[m\u001b[Kmplosp\u001b[01;31m\u001b[Ka\u001b[m\u001b[Kr\u001b[01;31m\u001b[Ka\u001b[m\u001b[Kpráti\u001b[01;31m\u001b[Kc\u001b[m\u001b[K\u001b[01;31m\u001b[Ka\u001b[m\u001b[K\u001b[01;31m\u001b[Kd\u001b[m\u001b[K\u001b[01;31m\u001b[Ke\u001b[m\u001b[K\n",
      "#R\u001b[01;31m\u001b[Ke\u001b[m\u001b[Kg\u001b[01;31m\u001b[Ke\u001b[m\u001b[Kx\n",
      "# \u001b[01;31m\u001b[KE\u001b[m\u001b[Km\u001b[01;31m\u001b[Ka\u001b[m\u001b[Kils váli\u001b[01;31m\u001b[Kd\u001b[m\u001b[Kos\n",
      "usu\u001b[01;31m\u001b[Ka\u001b[m\u001b[Krio@\u001b[01;31m\u001b[Ke\u001b[m\u001b[Kx\u001b[01;31m\u001b[Ke\u001b[m\u001b[Kmplo.\u001b[01;31m\u001b[Kc\u001b[m\u001b[Kom\n",
      "\u001b[01;31m\u001b[Ke\u001b[m\u001b[Km\u001b[01;31m\u001b[Ka\u001b[m\u001b[Kil.t\u001b[01;31m\u001b[Ke\u001b[m\u001b[Kst@\u001b[01;31m\u001b[Kd\u001b[m\u001b[Kom\u001b[01;31m\u001b[Ka\u001b[m\u001b[Kin.org\n",
      "prim\u001b[01;31m\u001b[Ke\u001b[m\u001b[Kiro_ultimo@\u001b[01;31m\u001b[Ke\u001b[m\u001b[Kmpr\u001b[01;31m\u001b[Ke\u001b[m\u001b[Ks\u001b[01;31m\u001b[Ka\u001b[m\u001b[K.\u001b[01;31m\u001b[Kc\u001b[m\u001b[Ko\n",
      "\u001b[01;31m\u001b[Ke\u001b[m\u001b[Km\u001b[01;31m\u001b[Ka\u001b[m\u001b[Kil+\u001b[01;31m\u001b[Ka\u001b[m\u001b[Kli\u001b[01;31m\u001b[Ka\u001b[m\u001b[Ks@gm\u001b[01;31m\u001b[Ka\u001b[m\u001b[Kil.\u001b[01;31m\u001b[Kc\u001b[m\u001b[Kom\n",
      "# \u001b[01;31m\u001b[KE\u001b[m\u001b[Km\u001b[01;31m\u001b[Ka\u001b[m\u001b[Kils inváli\u001b[01;31m\u001b[Kd\u001b[m\u001b[Kos\n",
      "usu\u001b[01;31m\u001b[Ka\u001b[m\u001b[Krio@@\u001b[01;31m\u001b[Ke\u001b[m\u001b[Kx\u001b[01;31m\u001b[Ke\u001b[m\u001b[Kmplo.\u001b[01;31m\u001b[Kc\u001b[m\u001b[Kom\n",
      "\u001b[01;31m\u001b[Ke\u001b[m\u001b[Km\u001b[01;31m\u001b[Ka\u001b[m\u001b[Kil..t\u001b[01;31m\u001b[Ke\u001b[m\u001b[Kst@\u001b[01;31m\u001b[Kd\u001b[m\u001b[Kom\u001b[01;31m\u001b[Ka\u001b[m\u001b[Kin.org\n",
      "usu\u001b[01;31m\u001b[Ka\u001b[m\u001b[Krio@.\u001b[01;31m\u001b[Kc\u001b[m\u001b[Kom\n",
      "\u001b[01;31m\u001b[Ke\u001b[m\u001b[Km\u001b[01;31m\u001b[Ka\u001b[m\u001b[Kil-s\u001b[01;31m\u001b[Ke\u001b[m\u001b[Km-\u001b[01;31m\u001b[Ka\u001b[m\u001b[Krro\u001b[01;31m\u001b[Kb\u001b[m\u001b[K\u001b[01;31m\u001b[Ka\u001b[m\u001b[K.\u001b[01;31m\u001b[Kc\u001b[m\u001b[Kom\n",
      "# T\u001b[01;31m\u001b[Ke\u001b[m\u001b[Kl\u001b[01;31m\u001b[Ke\u001b[m\u001b[K\u001b[01;31m\u001b[Kf\u001b[m\u001b[Kon\u001b[01;31m\u001b[Ke\u001b[m\u001b[Ks váli\u001b[01;31m\u001b[Kd\u001b[m\u001b[Kos\n",
      "+\u001b[01;31m\u001b[K5\u001b[m\u001b[K\u001b[01;31m\u001b[K5\u001b[m\u001b[K \u001b[01;31m\u001b[K1\u001b[m\u001b[K\u001b[01;31m\u001b[K1\u001b[m\u001b[K \u001b[01;31m\u001b[K9\u001b[m\u001b[K\u001b[01;31m\u001b[K1\u001b[m\u001b[K\u001b[01;31m\u001b[K2\u001b[m\u001b[K\u001b[01;31m\u001b[K3\u001b[m\u001b[K\u001b[01;31m\u001b[K4\u001b[m\u001b[K-\u001b[01;31m\u001b[K5\u001b[m\u001b[K\u001b[01;31m\u001b[K6\u001b[m\u001b[K\u001b[01;31m\u001b[K7\u001b[m\u001b[K\u001b[01;31m\u001b[K8\u001b[m\u001b[K\n",
      "(\u001b[01;31m\u001b[K1\u001b[m\u001b[K\u001b[01;31m\u001b[K1\u001b[m\u001b[K) \u001b[01;31m\u001b[K9\u001b[m\u001b[K\u001b[01;31m\u001b[K1\u001b[m\u001b[K\u001b[01;31m\u001b[K2\u001b[m\u001b[K\u001b[01;31m\u001b[K3\u001b[m\u001b[K\u001b[01;31m\u001b[K4\u001b[m\u001b[K-\u001b[01;31m\u001b[K5\u001b[m\u001b[K\u001b[01;31m\u001b[K6\u001b[m\u001b[K\u001b[01;31m\u001b[K7\u001b[m\u001b[K\u001b[01;31m\u001b[K8\u001b[m\u001b[K\n",
      "\u001b[01;31m\u001b[K1\u001b[m\u001b[K\u001b[01;31m\u001b[K1\u001b[m\u001b[K \u001b[01;31m\u001b[K9\u001b[m\u001b[K\u001b[01;31m\u001b[K1\u001b[m\u001b[K\u001b[01;31m\u001b[K2\u001b[m\u001b[K\u001b[01;31m\u001b[K3\u001b[m\u001b[K\u001b[01;31m\u001b[K4\u001b[m\u001b[K-\u001b[01;31m\u001b[K5\u001b[m\u001b[K\u001b[01;31m\u001b[K6\u001b[m\u001b[K\u001b[01;31m\u001b[K7\u001b[m\u001b[K\u001b[01;31m\u001b[K8\u001b[m\u001b[K\n",
      "+\u001b[01;31m\u001b[K1\u001b[m\u001b[K \u001b[01;31m\u001b[K8\u001b[m\u001b[K\u001b[01;31m\u001b[K0\u001b[m\u001b[K\u001b[01;31m\u001b[K0\u001b[m\u001b[K-\u001b[01;31m\u001b[K1\u001b[m\u001b[K\u001b[01;31m\u001b[K2\u001b[m\u001b[K\u001b[01;31m\u001b[K3\u001b[m\u001b[K-\u001b[01;31m\u001b[K4\u001b[m\u001b[K\u001b[01;31m\u001b[K5\u001b[m\u001b[K\u001b[01;31m\u001b[K6\u001b[m\u001b[K\u001b[01;31m\u001b[K7\u001b[m\u001b[K\n",
      "# T\u001b[01;31m\u001b[Ke\u001b[m\u001b[Kl\u001b[01;31m\u001b[Ke\u001b[m\u001b[K\u001b[01;31m\u001b[Kf\u001b[m\u001b[Kon\u001b[01;31m\u001b[Ke\u001b[m\u001b[Ks inváli\u001b[01;31m\u001b[Kd\u001b[m\u001b[Kos\n",
      "\u001b[01;31m\u001b[K1\u001b[m\u001b[K\u001b[01;31m\u001b[K2\u001b[m\u001b[K\u001b[01;31m\u001b[K3\u001b[m\u001b[K\u001b[01;31m\u001b[K4\u001b[m\u001b[K\u001b[01;31m\u001b[K5\u001b[m\u001b[K\u001b[01;31m\u001b[K6\u001b[m\u001b[K\u001b[01;31m\u001b[K7\u001b[m\u001b[K\u001b[01;31m\u001b[K8\u001b[m\u001b[K\n",
      "(\u001b[01;31m\u001b[K1\u001b[m\u001b[K\u001b[01;31m\u001b[K1\u001b[m\u001b[K \u001b[01;31m\u001b[K9\u001b[m\u001b[K\u001b[01;31m\u001b[K1\u001b[m\u001b[K\u001b[01;31m\u001b[K2\u001b[m\u001b[K\u001b[01;31m\u001b[K3\u001b[m\u001b[K\u001b[01;31m\u001b[K4\u001b[m\u001b[K-\u001b[01;31m\u001b[K5\u001b[m\u001b[K\u001b[01;31m\u001b[K6\u001b[m\u001b[K\u001b[01;31m\u001b[K7\u001b[m\u001b[K\u001b[01;31m\u001b[K8\u001b[m\u001b[K\n",
      "\u001b[01;31m\u001b[K1\u001b[m\u001b[K\u001b[01;31m\u001b[K1\u001b[m\u001b[K \u001b[01;31m\u001b[K9\u001b[m\u001b[K\u001b[01;31m\u001b[K1\u001b[m\u001b[K\u001b[01;31m\u001b[K2\u001b[m\u001b[K\u001b[01;31m\u001b[K3\u001b[m\u001b[K\u001b[01;31m\u001b[K4\u001b[m\u001b[K-\u001b[01;31m\u001b[K5\u001b[m\u001b[K\u001b[01;31m\u001b[K6\u001b[m\u001b[K\u001b[01;31m\u001b[K7\u001b[m\u001b[K\u001b[01;31m\u001b[K8\u001b[m\u001b[K\u001b[01;31m\u001b[K9\u001b[m\u001b[K\n",
      "# \u001b[01;31m\u001b[KE\u001b[m\u001b[Kn\u001b[01;31m\u001b[Kd\u001b[m\u001b[K\u001b[01;31m\u001b[Ke\u001b[m\u001b[Kr\u001b[01;31m\u001b[Ke\u001b[m\u001b[Kços IP váli\u001b[01;31m\u001b[Kd\u001b[m\u001b[Kos\n",
      "\u001b[01;31m\u001b[K1\u001b[m\u001b[K\u001b[01;31m\u001b[K9\u001b[m\u001b[K\u001b[01;31m\u001b[K2\u001b[m\u001b[K.\u001b[01;31m\u001b[K1\u001b[m\u001b[K\u001b[01;31m\u001b[K6\u001b[m\u001b[K\u001b[01;31m\u001b[K8\u001b[m\u001b[K.\u001b[01;31m\u001b[K0\u001b[m\u001b[K.\u001b[01;31m\u001b[K1\u001b[m\u001b[K\n",
      "\u001b[01;31m\u001b[K2\u001b[m\u001b[K\u001b[01;31m\u001b[K5\u001b[m\u001b[K\u001b[01;31m\u001b[K5\u001b[m\u001b[K.\u001b[01;31m\u001b[K2\u001b[m\u001b[K\u001b[01;31m\u001b[K5\u001b[m\u001b[K\u001b[01;31m\u001b[K5\u001b[m\u001b[K.\u001b[01;31m\u001b[K2\u001b[m\u001b[K\u001b[01;31m\u001b[K5\u001b[m\u001b[K\u001b[01;31m\u001b[K5\u001b[m\u001b[K.\u001b[01;31m\u001b[K2\u001b[m\u001b[K\u001b[01;31m\u001b[K5\u001b[m\u001b[K\u001b[01;31m\u001b[K5\u001b[m\u001b[K\\?*\n",
      "\u001b[01;31m\u001b[K1\u001b[m\u001b[K\u001b[01;31m\u001b[K0\u001b[m\u001b[K.\u001b[01;31m\u001b[K0\u001b[m\u001b[K.\u001b[01;31m\u001b[K0\u001b[m\u001b[K.\u001b[01;31m\u001b[K1\u001b[m\u001b[K\n",
      "\u001b[01;31m\u001b[K1\u001b[m\u001b[K\u001b[01;31m\u001b[K7\u001b[m\u001b[K\u001b[01;31m\u001b[K2\u001b[m\u001b[K.\u001b[01;31m\u001b[K1\u001b[m\u001b[K\u001b[01;31m\u001b[K6\u001b[m\u001b[K.\u001b[01;31m\u001b[K2\u001b[m\u001b[K\u001b[01;31m\u001b[K5\u001b[m\u001b[K\u001b[01;31m\u001b[K4\u001b[m\u001b[K.\u001b[01;31m\u001b[K1\u001b[m\u001b[K\n",
      "# \u001b[01;31m\u001b[KE\u001b[m\u001b[Kn\u001b[01;31m\u001b[Kd\u001b[m\u001b[K\u001b[01;31m\u001b[Ke\u001b[m\u001b[Kr\u001b[01;31m\u001b[Ke\u001b[m\u001b[Kços IP inváli\u001b[01;31m\u001b[Kd\u001b[m\u001b[Kos\n",
      "\u001b[01;31m\u001b[K1\u001b[m\u001b[K\u001b[01;31m\u001b[K9\u001b[m\u001b[K\u001b[01;31m\u001b[K2\u001b[m\u001b[K.\u001b[01;31m\u001b[K1\u001b[m\u001b[K\u001b[01;31m\u001b[K6\u001b[m\u001b[K\u001b[01;31m\u001b[K8\u001b[m\u001b[K.\u001b[01;31m\u001b[K0\u001b[m\u001b[K.\u001b[01;31m\u001b[K2\u001b[m\u001b[K\u001b[01;31m\u001b[K5\u001b[m\u001b[K\u001b[01;31m\u001b[K6\u001b[m\u001b[K\n",
      "\u001b[01;31m\u001b[K2\u001b[m\u001b[K\u001b[01;31m\u001b[K5\u001b[m\u001b[K\u001b[01;31m\u001b[K6\u001b[m\u001b[K.\u001b[01;31m\u001b[K2\u001b[m\u001b[K\u001b[01;31m\u001b[K5\u001b[m\u001b[K\u001b[01;31m\u001b[K5\u001b[m\u001b[K.\u001b[01;31m\u001b[K2\u001b[m\u001b[K\u001b[01;31m\u001b[K5\u001b[m\u001b[K\u001b[01;31m\u001b[K5\u001b[m\u001b[K.\u001b[01;31m\u001b[K2\u001b[m\u001b[K\u001b[01;31m\u001b[K5\u001b[m\u001b[K\u001b[01;31m\u001b[K5\u001b[m\u001b[K\n",
      "\u001b[01;31m\u001b[K1\u001b[m\u001b[K\u001b[01;31m\u001b[K0\u001b[m\u001b[K.\u001b[01;31m\u001b[K0\u001b[m\u001b[K.\u001b[01;31m\u001b[K0\u001b[m\u001b[K\n",
      "\u001b[01;31m\u001b[K1\u001b[m\u001b[K\u001b[01;31m\u001b[K7\u001b[m\u001b[K\u001b[01;31m\u001b[K2\u001b[m\u001b[K.\u001b[01;31m\u001b[K1\u001b[m\u001b[K\u001b[01;31m\u001b[K6\u001b[m\u001b[K.\u001b[01;31m\u001b[K2\u001b[m\u001b[K\u001b[01;31m\u001b[K5\u001b[m\u001b[K\u001b[01;31m\u001b[K4\u001b[m\u001b[K.\u001b[01;31m\u001b[K9\u001b[m\u001b[K\u001b[01;31m\u001b[K9\u001b[m\u001b[K\u001b[01;31m\u001b[K9\u001b[m\u001b[K\n",
      "# \u001b[01;31m\u001b[KD\u001b[m\u001b[K\u001b[01;31m\u001b[Ka\u001b[m\u001b[Kt\u001b[01;31m\u001b[Ka\u001b[m\u001b[Ks váli\u001b[01;31m\u001b[Kd\u001b[m\u001b[K\u001b[01;31m\u001b[Ka\u001b[m\u001b[Ks\n",
      "\u001b[01;31m\u001b[K2\u001b[m\u001b[K\u001b[01;31m\u001b[K0\u001b[m\u001b[K\u001b[01;31m\u001b[K2\u001b[m\u001b[K\u001b[01;31m\u001b[K5\u001b[m\u001b[K-\u001b[01;31m\u001b[K0\u001b[m\u001b[K\u001b[01;31m\u001b[K1\u001b[m\u001b[K-\u001b[01;31m\u001b[K2\u001b[m\u001b[K\u001b[01;31m\u001b[K8\u001b[m\u001b[K\n",
      "\u001b[01;31m\u001b[K2\u001b[m\u001b[K\u001b[01;31m\u001b[K8\u001b[m\u001b[K/\u001b[01;31m\u001b[K0\u001b[m\u001b[K\u001b[01;31m\u001b[K1\u001b[m\u001b[K/\u001b[01;31m\u001b[K2\u001b[m\u001b[K\u001b[01;31m\u001b[K0\u001b[m\u001b[K\u001b[01;31m\u001b[K2\u001b[m\u001b[K\u001b[01;31m\u001b[K5\u001b[m\u001b[K\n",
      "\u001b[01;31m\u001b[K0\u001b[m\u001b[K\u001b[01;31m\u001b[K1\u001b[m\u001b[K/\u001b[01;31m\u001b[K2\u001b[m\u001b[K\u001b[01;31m\u001b[K8\u001b[m\u001b[K/\u001b[01;31m\u001b[K2\u001b[m\u001b[K\u001b[01;31m\u001b[K0\u001b[m\u001b[K\u001b[01;31m\u001b[K2\u001b[m\u001b[K\u001b[01;31m\u001b[K5\u001b[m\u001b[K\n",
      "# \u001b[01;31m\u001b[KD\u001b[m\u001b[K\u001b[01;31m\u001b[Ka\u001b[m\u001b[Kt\u001b[01;31m\u001b[Ka\u001b[m\u001b[Ks inváli\u001b[01;31m\u001b[Kd\u001b[m\u001b[K\u001b[01;31m\u001b[Ka\u001b[m\u001b[Ks\n",
      "\u001b[01;31m\u001b[K2\u001b[m\u001b[K\u001b[01;31m\u001b[K0\u001b[m\u001b[K\u001b[01;31m\u001b[K2\u001b[m\u001b[K\u001b[01;31m\u001b[K5\u001b[m\u001b[K-\u001b[01;31m\u001b[K1\u001b[m\u001b[K\u001b[01;31m\u001b[K3\u001b[m\u001b[K-\u001b[01;31m\u001b[K2\u001b[m\u001b[K\u001b[01;31m\u001b[K8\u001b[m\u001b[K\n",
      "\u001b[01;31m\u001b[K2\u001b[m\u001b[K\u001b[01;31m\u001b[K8\u001b[m\u001b[K-\u001b[01;31m\u001b[K0\u001b[m\u001b[K\u001b[01;31m\u001b[K1\u001b[m\u001b[K-\u001b[01;31m\u001b[K2\u001b[m\u001b[K\u001b[01;31m\u001b[K0\u001b[m\u001b[K\u001b[01;31m\u001b[K2\u001b[m\u001b[K\u001b[01;31m\u001b[K5\u001b[m\u001b[K\n",
      "\u001b[01;31m\u001b[K3\u001b[m\u001b[K\u001b[01;31m\u001b[K1\u001b[m\u001b[K/\u001b[01;31m\u001b[K0\u001b[m\u001b[K\u001b[01;31m\u001b[K2\u001b[m\u001b[K/\u001b[01;31m\u001b[K2\u001b[m\u001b[K\u001b[01;31m\u001b[K0\u001b[m\u001b[K\u001b[01;31m\u001b[K2\u001b[m\u001b[K\u001b[01;31m\u001b[K5\u001b[m\u001b[K\n",
      "# URLs váli\u001b[01;31m\u001b[Kd\u001b[m\u001b[K\u001b[01;31m\u001b[Ka\u001b[m\u001b[Ks\n",
      "https://www.googl\u001b[01;31m\u001b[Ke\u001b[m\u001b[K.\u001b[01;31m\u001b[Kc\u001b[m\u001b[Kom\n",
      "http://\u001b[01;31m\u001b[Ke\u001b[m\u001b[Kx\u001b[01;31m\u001b[Ka\u001b[m\u001b[Kmpl\u001b[01;31m\u001b[Ke\u001b[m\u001b[K.org\n",
      "www.m\u001b[01;31m\u001b[Ke\u001b[m\u001b[Kusit\u001b[01;31m\u001b[Ke\u001b[m\u001b[K.\u001b[01;31m\u001b[Kc\u001b[m\u001b[Kom\n",
      "\u001b[01;31m\u001b[Kf\u001b[m\u001b[Ktp://\u001b[01;31m\u001b[Kf\u001b[m\u001b[Ktp.\u001b[01;31m\u001b[Ke\u001b[m\u001b[Kx\u001b[01;31m\u001b[Ke\u001b[m\u001b[Kmplo.\u001b[01;31m\u001b[Kc\u001b[m\u001b[Kom\n",
      "# URLs inváli\u001b[01;31m\u001b[Kd\u001b[m\u001b[K\u001b[01;31m\u001b[Ka\u001b[m\u001b[Ks\n",
      "htp://www.googl\u001b[01;31m\u001b[Ke\u001b[m\u001b[K.\u001b[01;31m\u001b[Kc\u001b[m\u001b[Kom\n",
      "http:/\u001b[01;31m\u001b[Ke\u001b[m\u001b[Kx\u001b[01;31m\u001b[Ka\u001b[m\u001b[Kmpl\u001b[01;31m\u001b[Ke\u001b[m\u001b[K.org\n",
      "m\u001b[01;31m\u001b[Ke\u001b[m\u001b[Kusit\u001b[01;31m\u001b[Ke\u001b[m\u001b[K,\u001b[01;31m\u001b[Kc\u001b[m\u001b[Kom\n",
      "\u001b[01;31m\u001b[Kf\u001b[m\u001b[Ktp:/\u001b[01;31m\u001b[Kf\u001b[m\u001b[Ktp.\u001b[01;31m\u001b[Ke\u001b[m\u001b[Kx\u001b[01;31m\u001b[Ke\u001b[m\u001b[Kmplo.\u001b[01;31m\u001b[Kc\u001b[m\u001b[Kom\n",
      "# \u001b[01;31m\u001b[KC\u001b[m\u001b[Kó\u001b[01;31m\u001b[Kd\u001b[m\u001b[Kigos Post\u001b[01;31m\u001b[Ka\u001b[m\u001b[Kis (\u001b[01;31m\u001b[KB\u001b[m\u001b[Kr\u001b[01;31m\u001b[Ka\u001b[m\u001b[Ksil)\n",
      "\u001b[01;31m\u001b[K0\u001b[m\u001b[K\u001b[01;31m\u001b[K1\u001b[m\u001b[K\u001b[01;31m\u001b[K0\u001b[m\u001b[K\u001b[01;31m\u001b[K0\u001b[m\u001b[K\u001b[01;31m\u001b[K1\u001b[m\u001b[K-\u001b[01;31m\u001b[K0\u001b[m\u001b[K\u001b[01;31m\u001b[K0\u001b[m\u001b[K\u001b[01;31m\u001b[K0\u001b[m\u001b[K\n",
      "\u001b[01;31m\u001b[K1\u001b[m\u001b[K\u001b[01;31m\u001b[K2\u001b[m\u001b[K\u001b[01;31m\u001b[K3\u001b[m\u001b[K\u001b[01;31m\u001b[K4\u001b[m\u001b[K\u001b[01;31m\u001b[K5\u001b[m\u001b[K-\u001b[01;31m\u001b[K6\u001b[m\u001b[K\u001b[01;31m\u001b[K7\u001b[m\u001b[K\u001b[01;31m\u001b[K8\u001b[m\u001b[K\n",
      "# \u001b[01;31m\u001b[KC\u001b[m\u001b[Kó\u001b[01;31m\u001b[Kd\u001b[m\u001b[Kigos Post\u001b[01;31m\u001b[Ka\u001b[m\u001b[Kis inváli\u001b[01;31m\u001b[Kd\u001b[m\u001b[Kos\n",
      "\u001b[01;31m\u001b[K1\u001b[m\u001b[K\u001b[01;31m\u001b[K2\u001b[m\u001b[K\u001b[01;31m\u001b[K3\u001b[m\u001b[K\u001b[01;31m\u001b[K4\u001b[m\u001b[K\u001b[01;31m\u001b[K5\u001b[m\u001b[K\u001b[01;31m\u001b[K6\u001b[m\u001b[K\u001b[01;31m\u001b[K7\u001b[m\u001b[K\u001b[01;31m\u001b[K8\u001b[m\u001b[K\n",
      "\u001b[01;31m\u001b[K1\u001b[m\u001b[K\u001b[01;31m\u001b[K2\u001b[m\u001b[K-\u001b[01;31m\u001b[K3\u001b[m\u001b[K\u001b[01;31m\u001b[K4\u001b[m\u001b[K\u001b[01;31m\u001b[K5\u001b[m\u001b[K\n",
      "# Núm\u001b[01;31m\u001b[Ke\u001b[m\u001b[Kros váli\u001b[01;31m\u001b[Kd\u001b[m\u001b[Kos\n",
      "\u001b[01;31m\u001b[K1\u001b[m\u001b[K\u001b[01;31m\u001b[K2\u001b[m\u001b[K\u001b[01;31m\u001b[K3\u001b[m\u001b[K\n",
      "\u001b[01;31m\u001b[K0\u001b[m\u001b[K.\u001b[01;31m\u001b[K4\u001b[m\u001b[K\u001b[01;31m\u001b[K5\u001b[m\u001b[K\u001b[01;31m\u001b[K6\u001b[m\u001b[K\n",
      "-\u001b[01;31m\u001b[K7\u001b[m\u001b[K\u001b[01;31m\u001b[K8\u001b[m\u001b[K\u001b[01;31m\u001b[K9\u001b[m\u001b[K\n",
      "+\u001b[01;31m\u001b[K0\u001b[m\u001b[K.\u001b[01;31m\u001b[K1\u001b[m\u001b[K\u001b[01;31m\u001b[K2\u001b[m\u001b[K\n",
      "# Núm\u001b[01;31m\u001b[Ke\u001b[m\u001b[Kros inváli\u001b[01;31m\u001b[Kd\u001b[m\u001b[Kos\n",
      "\u001b[01;31m\u001b[K1\u001b[m\u001b[K\u001b[01;31m\u001b[K2\u001b[m\u001b[K\u001b[01;31m\u001b[K3\u001b[m\u001b[K\u001b[01;31m\u001b[Ka\u001b[m\u001b[K\u001b[01;31m\u001b[Kb\u001b[m\u001b[K\u001b[01;31m\u001b[Kc\u001b[m\u001b[K\n",
      "- \u001b[01;31m\u001b[K4\u001b[m\u001b[K\u001b[01;31m\u001b[K5\u001b[m\u001b[K\u001b[01;31m\u001b[K6\u001b[m\u001b[K\n",
      "+ \u001b[01;31m\u001b[K0\u001b[m\u001b[K.\u001b[01;31m\u001b[K1\u001b[m\u001b[K\u001b[01;31m\u001b[K2\u001b[m\u001b[K\n",
      "# P\u001b[01;31m\u001b[Ka\u001b[m\u001b[Kl\u001b[01;31m\u001b[Ka\u001b[m\u001b[Kvr\u001b[01;31m\u001b[Ka\u001b[m\u001b[Ks váli\u001b[01;31m\u001b[Kd\u001b[m\u001b[K\u001b[01;31m\u001b[Ka\u001b[m\u001b[Ks (\u001b[01;31m\u001b[Ka\u001b[m\u001b[Kl\u001b[01;31m\u001b[Kf\u001b[m\u001b[K\u001b[01;31m\u001b[Ka\u001b[m\u001b[K\u001b[01;31m\u001b[Kb\u001b[m\u001b[Kéti\u001b[01;31m\u001b[Kc\u001b[m\u001b[K\u001b[01;31m\u001b[Ka\u001b[m\u001b[Ks \u001b[01;31m\u001b[Ka\u001b[m\u001b[Kp\u001b[01;31m\u001b[Ke\u001b[m\u001b[Kn\u001b[01;31m\u001b[Ka\u001b[m\u001b[Ks)\n",
      "r\u001b[01;31m\u001b[Ke\u001b[m\u001b[Kg\u001b[01;31m\u001b[Ke\u001b[m\u001b[Kx\n",
      "\u001b[01;31m\u001b[Kf\u001b[m\u001b[Kun\u001b[01;31m\u001b[Kc\u001b[m\u001b[Kion\u001b[01;31m\u001b[Ka\u001b[m\u001b[Kli\u001b[01;31m\u001b[Kd\u001b[m\u001b[K\u001b[01;31m\u001b[Ka\u001b[m\u001b[K\u001b[01;31m\u001b[Kd\u001b[m\u001b[K\u001b[01;31m\u001b[Ke\u001b[m\u001b[K\n",
      "pr\u001b[01;31m\u001b[Ka\u001b[m\u001b[Kti\u001b[01;31m\u001b[Kc\u001b[m\u001b[K\u001b[01;31m\u001b[Ka\u001b[m\u001b[K\n",
      "# P\u001b[01;31m\u001b[Ka\u001b[m\u001b[Kl\u001b[01;31m\u001b[Ka\u001b[m\u001b[Kvr\u001b[01;31m\u001b[Ka\u001b[m\u001b[Ks inváli\u001b[01;31m\u001b[Kd\u001b[m\u001b[K\u001b[01;31m\u001b[Ka\u001b[m\u001b[Ks\n",
      "r\u001b[01;31m\u001b[Ke\u001b[m\u001b[Kg\u001b[01;31m\u001b[Ke\u001b[m\u001b[Kx\u001b[01;31m\u001b[K1\u001b[m\u001b[K\u001b[01;31m\u001b[K2\u001b[m\u001b[K\u001b[01;31m\u001b[K3\u001b[m\u001b[K\n",
      "\u001b[01;31m\u001b[K1\u001b[m\u001b[K\u001b[01;31m\u001b[K2\u001b[m\u001b[K\u001b[01;31m\u001b[K3\u001b[m\u001b[Kr\u001b[01;31m\u001b[Ke\u001b[m\u001b[Kg\u001b[01;31m\u001b[Ke\u001b[m\u001b[Kx\n",
      "_\u001b[01;31m\u001b[Kf\u001b[m\u001b[Kunçáo\n",
      "\u001b[01;31m\u001b[Ka\u001b[m\u001b[K\u001b[01;31m\u001b[Kb\u001b[m\u001b[K\u001b[01;31m\u001b[Kc\u001b[m\u001b[K\u001b[01;31m\u001b[Kd\u001b[m\u001b[Kxyz\u001b[01;31m\u001b[Ka\u001b[m\u001b[K\u001b[01;31m\u001b[Kd\u001b[m\u001b[K\n",
      "\u001b[01;31m\u001b[Ka\u001b[m\u001b[K\u001b[01;31m\u001b[Kc\u001b[m\u001b[K\u001b[01;31m\u001b[Kd\u001b[m\u001b[K\u001b[01;31m\u001b[Ka\u001b[m\u001b[Kn\n",
      "\u001b[01;31m\u001b[Kd\u001b[m\u001b[K\u001b[01;31m\u001b[Ka\u001b[m\u001b[Kh\u001b[01;31m\u001b[Kd\u001b[m\u001b[Kjk\u001b[01;31m\u001b[K1\u001b[m\u001b[K\u001b[01;31m\u001b[Ka\u001b[m\u001b[K\u001b[01;31m\u001b[Kb\u001b[m\u001b[K\u001b[01;31m\u001b[Kc\u001b[m\u001b[Kslkls\u001b[01;31m\u001b[Ka\u001b[m\u001b[K\u001b[01;31m\u001b[Kd\u001b[m\u001b[K\n",
      "\u001b[01;31m\u001b[Ka\u001b[m\u001b[K\u001b[01;31m\u001b[Kb\u001b[m\u001b[Kv\n",
      "\u001b[01;31m\u001b[KA\u001b[m\u001b[K\u001b[01;31m\u001b[KB\u001b[m\u001b[K\u001b[01;31m\u001b[KC\u001b[m\u001b[K\u001b[01;31m\u001b[KA\u001b[m\u001b[K\u001b[01;31m\u001b[KD\u001b[m\u001b[K\u001b[01;31m\u001b[KB\u001b[m\u001b[K\u001b[01;31m\u001b[KA\u001b[m\u001b[K\u001b[01;31m\u001b[KC\u001b[m\u001b[K\u001b[01;31m\u001b[KC\u001b[m\u001b[K\u001b[01;31m\u001b[KA\u001b[m\u001b[KTG\n",
      "\u001b[01;31m\u001b[Kb\u001b[m\u001b[K\u001b[01;31m\u001b[Kc\u001b[m\u001b[K\u001b[01;31m\u001b[Kd\u001b[m\u001b[Kkhg\n",
      "joão \u001b[01;31m\u001b[Kc\u001b[m\u001b[Kom\u001b[01;31m\u001b[Ke\u001b[m\u001b[Ku m\u001b[01;31m\u001b[Ka\u001b[m\u001b[Kmão us\u001b[01;31m\u001b[Ka\u001b[m\u001b[Kn\u001b[01;31m\u001b[Kd\u001b[m\u001b[Ko su\u001b[01;31m\u001b[Ka\u001b[m\u001b[K mão\n",
      "j\u001b[01;31m\u001b[Kd\u001b[m\u001b[K\u001b[01;31m\u001b[Ka\u001b[m\u001b[Ki\u001b[01;31m\u001b[Kd\u001b[m\u001b[Kk\u001b[01;31m\u001b[Kd\u001b[m\u001b[K\u001b[01;31m\u001b[Kd\u001b[m\u001b[K*\u001b[01;31m\u001b[Kf\u001b[m\u001b[Kl\u001b[01;31m\u001b[Ka\u001b[m\u001b[K\n"
     ]
    }
   ],
   "source": [
    "grep -E '[[:xdigit:]]' regex.txt"
   ]
  },
  {
   "cell_type": "code",
   "execution_count": 6,
   "id": "eb36e402-e408-4b9e-812c-7e639e12008c",
   "metadata": {
    "scrolled": true
   },
   "outputs": [
    {
     "name": "stdout",
     "output_type": "stream",
     "text": [
      "usuario@exemplo\u001b[01;31m\u001b[K.\u001b[m\u001b[Kcom\n",
      "email\u001b[01;31m\u001b[K.\u001b[m\u001b[Ktest@domain\u001b[01;31m\u001b[K.\u001b[m\u001b[Korg\n",
      "primeiro_ultimo@empresa\u001b[01;31m\u001b[K.\u001b[m\u001b[Kco\n",
      "email+alias@gmail\u001b[01;31m\u001b[K.\u001b[m\u001b[Kcom\n",
      "usuario@@exemplo\u001b[01;31m\u001b[K.\u001b[m\u001b[Kcom\n",
      "email\u001b[01;31m\u001b[K.\u001b[m\u001b[K\u001b[01;31m\u001b[K.\u001b[m\u001b[Ktest@domain\u001b[01;31m\u001b[K.\u001b[m\u001b[Korg\n",
      "usuario@\u001b[01;31m\u001b[K.\u001b[m\u001b[Kcom\n",
      "email-sem-arroba\u001b[01;31m\u001b[K.\u001b[m\u001b[Kcom\n",
      "+\u001b[01;31m\u001b[K5\u001b[m\u001b[K\u001b[01;31m\u001b[K5\u001b[m\u001b[K \u001b[01;31m\u001b[K1\u001b[m\u001b[K\u001b[01;31m\u001b[K1\u001b[m\u001b[K \u001b[01;31m\u001b[K9\u001b[m\u001b[K\u001b[01;31m\u001b[K1\u001b[m\u001b[K\u001b[01;31m\u001b[K2\u001b[m\u001b[K\u001b[01;31m\u001b[K3\u001b[m\u001b[K\u001b[01;31m\u001b[K4\u001b[m\u001b[K-\u001b[01;31m\u001b[K5\u001b[m\u001b[K\u001b[01;31m\u001b[K6\u001b[m\u001b[K\u001b[01;31m\u001b[K7\u001b[m\u001b[K\u001b[01;31m\u001b[K8\u001b[m\u001b[K\n",
      "(\u001b[01;31m\u001b[K1\u001b[m\u001b[K\u001b[01;31m\u001b[K1\u001b[m\u001b[K) \u001b[01;31m\u001b[K9\u001b[m\u001b[K\u001b[01;31m\u001b[K1\u001b[m\u001b[K\u001b[01;31m\u001b[K2\u001b[m\u001b[K\u001b[01;31m\u001b[K3\u001b[m\u001b[K\u001b[01;31m\u001b[K4\u001b[m\u001b[K-\u001b[01;31m\u001b[K5\u001b[m\u001b[K\u001b[01;31m\u001b[K6\u001b[m\u001b[K\u001b[01;31m\u001b[K7\u001b[m\u001b[K\u001b[01;31m\u001b[K8\u001b[m\u001b[K\n",
      "\u001b[01;31m\u001b[K1\u001b[m\u001b[K\u001b[01;31m\u001b[K1\u001b[m\u001b[K \u001b[01;31m\u001b[K9\u001b[m\u001b[K\u001b[01;31m\u001b[K1\u001b[m\u001b[K\u001b[01;31m\u001b[K2\u001b[m\u001b[K\u001b[01;31m\u001b[K3\u001b[m\u001b[K\u001b[01;31m\u001b[K4\u001b[m\u001b[K-\u001b[01;31m\u001b[K5\u001b[m\u001b[K\u001b[01;31m\u001b[K6\u001b[m\u001b[K\u001b[01;31m\u001b[K7\u001b[m\u001b[K\u001b[01;31m\u001b[K8\u001b[m\u001b[K\n",
      "+\u001b[01;31m\u001b[K1\u001b[m\u001b[K \u001b[01;31m\u001b[K8\u001b[m\u001b[K\u001b[01;31m\u001b[K0\u001b[m\u001b[K\u001b[01;31m\u001b[K0\u001b[m\u001b[K-\u001b[01;31m\u001b[K1\u001b[m\u001b[K\u001b[01;31m\u001b[K2\u001b[m\u001b[K\u001b[01;31m\u001b[K3\u001b[m\u001b[K-\u001b[01;31m\u001b[K4\u001b[m\u001b[K\u001b[01;31m\u001b[K5\u001b[m\u001b[K\u001b[01;31m\u001b[K6\u001b[m\u001b[K\u001b[01;31m\u001b[K7\u001b[m\u001b[K\n",
      "\u001b[01;31m\u001b[K1\u001b[m\u001b[K\u001b[01;31m\u001b[K2\u001b[m\u001b[K\u001b[01;31m\u001b[K3\u001b[m\u001b[K\u001b[01;31m\u001b[K4\u001b[m\u001b[K\u001b[01;31m\u001b[K5\u001b[m\u001b[K\u001b[01;31m\u001b[K6\u001b[m\u001b[K\u001b[01;31m\u001b[K7\u001b[m\u001b[K\u001b[01;31m\u001b[K8\u001b[m\u001b[K\n",
      "(\u001b[01;31m\u001b[K1\u001b[m\u001b[K\u001b[01;31m\u001b[K1\u001b[m\u001b[K \u001b[01;31m\u001b[K9\u001b[m\u001b[K\u001b[01;31m\u001b[K1\u001b[m\u001b[K\u001b[01;31m\u001b[K2\u001b[m\u001b[K\u001b[01;31m\u001b[K3\u001b[m\u001b[K\u001b[01;31m\u001b[K4\u001b[m\u001b[K-\u001b[01;31m\u001b[K5\u001b[m\u001b[K\u001b[01;31m\u001b[K6\u001b[m\u001b[K\u001b[01;31m\u001b[K7\u001b[m\u001b[K\u001b[01;31m\u001b[K8\u001b[m\u001b[K\n",
      "\u001b[01;31m\u001b[K1\u001b[m\u001b[K\u001b[01;31m\u001b[K1\u001b[m\u001b[K \u001b[01;31m\u001b[K9\u001b[m\u001b[K\u001b[01;31m\u001b[K1\u001b[m\u001b[K\u001b[01;31m\u001b[K2\u001b[m\u001b[K\u001b[01;31m\u001b[K3\u001b[m\u001b[K\u001b[01;31m\u001b[K4\u001b[m\u001b[K-\u001b[01;31m\u001b[K5\u001b[m\u001b[K\u001b[01;31m\u001b[K6\u001b[m\u001b[K\u001b[01;31m\u001b[K7\u001b[m\u001b[K\u001b[01;31m\u001b[K8\u001b[m\u001b[K\u001b[01;31m\u001b[K9\u001b[m\u001b[K\n",
      "\u001b[01;31m\u001b[K1\u001b[m\u001b[K\u001b[01;31m\u001b[K9\u001b[m\u001b[K\u001b[01;31m\u001b[K2\u001b[m\u001b[K\u001b[01;31m\u001b[K.\u001b[m\u001b[K\u001b[01;31m\u001b[K1\u001b[m\u001b[K\u001b[01;31m\u001b[K6\u001b[m\u001b[K\u001b[01;31m\u001b[K8\u001b[m\u001b[K\u001b[01;31m\u001b[K.\u001b[m\u001b[K\u001b[01;31m\u001b[K0\u001b[m\u001b[K\u001b[01;31m\u001b[K.\u001b[m\u001b[K\u001b[01;31m\u001b[K1\u001b[m\u001b[K\n",
      "\u001b[01;31m\u001b[K2\u001b[m\u001b[K\u001b[01;31m\u001b[K5\u001b[m\u001b[K\u001b[01;31m\u001b[K5\u001b[m\u001b[K\u001b[01;31m\u001b[K.\u001b[m\u001b[K\u001b[01;31m\u001b[K2\u001b[m\u001b[K\u001b[01;31m\u001b[K5\u001b[m\u001b[K\u001b[01;31m\u001b[K5\u001b[m\u001b[K\u001b[01;31m\u001b[K.\u001b[m\u001b[K\u001b[01;31m\u001b[K2\u001b[m\u001b[K\u001b[01;31m\u001b[K5\u001b[m\u001b[K\u001b[01;31m\u001b[K5\u001b[m\u001b[K\u001b[01;31m\u001b[K.\u001b[m\u001b[K\u001b[01;31m\u001b[K2\u001b[m\u001b[K\u001b[01;31m\u001b[K5\u001b[m\u001b[K\u001b[01;31m\u001b[K5\u001b[m\u001b[K\\?*\n",
      "\u001b[01;31m\u001b[K1\u001b[m\u001b[K\u001b[01;31m\u001b[K0\u001b[m\u001b[K\u001b[01;31m\u001b[K.\u001b[m\u001b[K\u001b[01;31m\u001b[K0\u001b[m\u001b[K\u001b[01;31m\u001b[K.\u001b[m\u001b[K\u001b[01;31m\u001b[K0\u001b[m\u001b[K\u001b[01;31m\u001b[K.\u001b[m\u001b[K\u001b[01;31m\u001b[K1\u001b[m\u001b[K\n",
      "\u001b[01;31m\u001b[K1\u001b[m\u001b[K\u001b[01;31m\u001b[K7\u001b[m\u001b[K\u001b[01;31m\u001b[K2\u001b[m\u001b[K\u001b[01;31m\u001b[K.\u001b[m\u001b[K\u001b[01;31m\u001b[K1\u001b[m\u001b[K\u001b[01;31m\u001b[K6\u001b[m\u001b[K\u001b[01;31m\u001b[K.\u001b[m\u001b[K\u001b[01;31m\u001b[K2\u001b[m\u001b[K\u001b[01;31m\u001b[K5\u001b[m\u001b[K\u001b[01;31m\u001b[K4\u001b[m\u001b[K\u001b[01;31m\u001b[K.\u001b[m\u001b[K\u001b[01;31m\u001b[K1\u001b[m\u001b[K\n",
      "\u001b[01;31m\u001b[K1\u001b[m\u001b[K\u001b[01;31m\u001b[K9\u001b[m\u001b[K\u001b[01;31m\u001b[K2\u001b[m\u001b[K\u001b[01;31m\u001b[K.\u001b[m\u001b[K\u001b[01;31m\u001b[K1\u001b[m\u001b[K\u001b[01;31m\u001b[K6\u001b[m\u001b[K\u001b[01;31m\u001b[K8\u001b[m\u001b[K\u001b[01;31m\u001b[K.\u001b[m\u001b[K\u001b[01;31m\u001b[K0\u001b[m\u001b[K\u001b[01;31m\u001b[K.\u001b[m\u001b[K\u001b[01;31m\u001b[K2\u001b[m\u001b[K\u001b[01;31m\u001b[K5\u001b[m\u001b[K\u001b[01;31m\u001b[K6\u001b[m\u001b[K\n",
      "\u001b[01;31m\u001b[K2\u001b[m\u001b[K\u001b[01;31m\u001b[K5\u001b[m\u001b[K\u001b[01;31m\u001b[K6\u001b[m\u001b[K\u001b[01;31m\u001b[K.\u001b[m\u001b[K\u001b[01;31m\u001b[K2\u001b[m\u001b[K\u001b[01;31m\u001b[K5\u001b[m\u001b[K\u001b[01;31m\u001b[K5\u001b[m\u001b[K\u001b[01;31m\u001b[K.\u001b[m\u001b[K\u001b[01;31m\u001b[K2\u001b[m\u001b[K\u001b[01;31m\u001b[K5\u001b[m\u001b[K\u001b[01;31m\u001b[K5\u001b[m\u001b[K\u001b[01;31m\u001b[K.\u001b[m\u001b[K\u001b[01;31m\u001b[K2\u001b[m\u001b[K\u001b[01;31m\u001b[K5\u001b[m\u001b[K\u001b[01;31m\u001b[K5\u001b[m\u001b[K\n",
      "\u001b[01;31m\u001b[K1\u001b[m\u001b[K\u001b[01;31m\u001b[K0\u001b[m\u001b[K\u001b[01;31m\u001b[K.\u001b[m\u001b[K\u001b[01;31m\u001b[K0\u001b[m\u001b[K\u001b[01;31m\u001b[K.\u001b[m\u001b[K\u001b[01;31m\u001b[K0\u001b[m\u001b[K\n",
      "\u001b[01;31m\u001b[K1\u001b[m\u001b[K\u001b[01;31m\u001b[K7\u001b[m\u001b[K\u001b[01;31m\u001b[K2\u001b[m\u001b[K\u001b[01;31m\u001b[K.\u001b[m\u001b[K\u001b[01;31m\u001b[K1\u001b[m\u001b[K\u001b[01;31m\u001b[K6\u001b[m\u001b[K\u001b[01;31m\u001b[K.\u001b[m\u001b[K\u001b[01;31m\u001b[K2\u001b[m\u001b[K\u001b[01;31m\u001b[K5\u001b[m\u001b[K\u001b[01;31m\u001b[K4\u001b[m\u001b[K\u001b[01;31m\u001b[K.\u001b[m\u001b[K\u001b[01;31m\u001b[K9\u001b[m\u001b[K\u001b[01;31m\u001b[K9\u001b[m\u001b[K\u001b[01;31m\u001b[K9\u001b[m\u001b[K\n",
      "\u001b[01;31m\u001b[K2\u001b[m\u001b[K\u001b[01;31m\u001b[K0\u001b[m\u001b[K\u001b[01;31m\u001b[K2\u001b[m\u001b[K\u001b[01;31m\u001b[K5\u001b[m\u001b[K-\u001b[01;31m\u001b[K0\u001b[m\u001b[K\u001b[01;31m\u001b[K1\u001b[m\u001b[K-\u001b[01;31m\u001b[K2\u001b[m\u001b[K\u001b[01;31m\u001b[K8\u001b[m\u001b[K\n",
      "\u001b[01;31m\u001b[K2\u001b[m\u001b[K\u001b[01;31m\u001b[K8\u001b[m\u001b[K/\u001b[01;31m\u001b[K0\u001b[m\u001b[K\u001b[01;31m\u001b[K1\u001b[m\u001b[K/\u001b[01;31m\u001b[K2\u001b[m\u001b[K\u001b[01;31m\u001b[K0\u001b[m\u001b[K\u001b[01;31m\u001b[K2\u001b[m\u001b[K\u001b[01;31m\u001b[K5\u001b[m\u001b[K\n",
      "\u001b[01;31m\u001b[K0\u001b[m\u001b[K\u001b[01;31m\u001b[K1\u001b[m\u001b[K/\u001b[01;31m\u001b[K2\u001b[m\u001b[K\u001b[01;31m\u001b[K8\u001b[m\u001b[K/\u001b[01;31m\u001b[K2\u001b[m\u001b[K\u001b[01;31m\u001b[K0\u001b[m\u001b[K\u001b[01;31m\u001b[K2\u001b[m\u001b[K\u001b[01;31m\u001b[K5\u001b[m\u001b[K\n",
      "\u001b[01;31m\u001b[K2\u001b[m\u001b[K\u001b[01;31m\u001b[K0\u001b[m\u001b[K\u001b[01;31m\u001b[K2\u001b[m\u001b[K\u001b[01;31m\u001b[K5\u001b[m\u001b[K-\u001b[01;31m\u001b[K1\u001b[m\u001b[K\u001b[01;31m\u001b[K3\u001b[m\u001b[K-\u001b[01;31m\u001b[K2\u001b[m\u001b[K\u001b[01;31m\u001b[K8\u001b[m\u001b[K\n",
      "\u001b[01;31m\u001b[K2\u001b[m\u001b[K\u001b[01;31m\u001b[K8\u001b[m\u001b[K-\u001b[01;31m\u001b[K0\u001b[m\u001b[K\u001b[01;31m\u001b[K1\u001b[m\u001b[K-\u001b[01;31m\u001b[K2\u001b[m\u001b[K\u001b[01;31m\u001b[K0\u001b[m\u001b[K\u001b[01;31m\u001b[K2\u001b[m\u001b[K\u001b[01;31m\u001b[K5\u001b[m\u001b[K\n",
      "\u001b[01;31m\u001b[K3\u001b[m\u001b[K\u001b[01;31m\u001b[K1\u001b[m\u001b[K/\u001b[01;31m\u001b[K0\u001b[m\u001b[K\u001b[01;31m\u001b[K2\u001b[m\u001b[K/\u001b[01;31m\u001b[K2\u001b[m\u001b[K\u001b[01;31m\u001b[K0\u001b[m\u001b[K\u001b[01;31m\u001b[K2\u001b[m\u001b[K\u001b[01;31m\u001b[K5\u001b[m\u001b[K\n",
      "https://www\u001b[01;31m\u001b[K.\u001b[m\u001b[Kgoogle\u001b[01;31m\u001b[K.\u001b[m\u001b[Kcom\n",
      "http://example\u001b[01;31m\u001b[K.\u001b[m\u001b[Korg\n",
      "www\u001b[01;31m\u001b[K.\u001b[m\u001b[Kmeusite\u001b[01;31m\u001b[K.\u001b[m\u001b[Kcom\n",
      "ftp://ftp\u001b[01;31m\u001b[K.\u001b[m\u001b[Kexemplo\u001b[01;31m\u001b[K.\u001b[m\u001b[Kcom\n",
      "htp://www\u001b[01;31m\u001b[K.\u001b[m\u001b[Kgoogle\u001b[01;31m\u001b[K.\u001b[m\u001b[Kcom\n",
      "http:/example\u001b[01;31m\u001b[K.\u001b[m\u001b[Korg\n",
      "meusite\u001b[01;31m\u001b[K,\u001b[m\u001b[Kcom\n",
      "ftp:/ftp\u001b[01;31m\u001b[K.\u001b[m\u001b[Kexemplo\u001b[01;31m\u001b[K.\u001b[m\u001b[Kcom\n",
      "\u001b[01;31m\u001b[K0\u001b[m\u001b[K\u001b[01;31m\u001b[K1\u001b[m\u001b[K\u001b[01;31m\u001b[K0\u001b[m\u001b[K\u001b[01;31m\u001b[K0\u001b[m\u001b[K\u001b[01;31m\u001b[K1\u001b[m\u001b[K-\u001b[01;31m\u001b[K0\u001b[m\u001b[K\u001b[01;31m\u001b[K0\u001b[m\u001b[K\u001b[01;31m\u001b[K0\u001b[m\u001b[K\n",
      "\u001b[01;31m\u001b[K1\u001b[m\u001b[K\u001b[01;31m\u001b[K2\u001b[m\u001b[K\u001b[01;31m\u001b[K3\u001b[m\u001b[K\u001b[01;31m\u001b[K4\u001b[m\u001b[K\u001b[01;31m\u001b[K5\u001b[m\u001b[K-\u001b[01;31m\u001b[K6\u001b[m\u001b[K\u001b[01;31m\u001b[K7\u001b[m\u001b[K\u001b[01;31m\u001b[K8\u001b[m\u001b[K\n",
      "\u001b[01;31m\u001b[K1\u001b[m\u001b[K\u001b[01;31m\u001b[K2\u001b[m\u001b[K\u001b[01;31m\u001b[K3\u001b[m\u001b[K\u001b[01;31m\u001b[K4\u001b[m\u001b[K\u001b[01;31m\u001b[K5\u001b[m\u001b[K\u001b[01;31m\u001b[K6\u001b[m\u001b[K\u001b[01;31m\u001b[K7\u001b[m\u001b[K\u001b[01;31m\u001b[K8\u001b[m\u001b[K\n",
      "\u001b[01;31m\u001b[K1\u001b[m\u001b[K\u001b[01;31m\u001b[K2\u001b[m\u001b[K-\u001b[01;31m\u001b[K3\u001b[m\u001b[K\u001b[01;31m\u001b[K4\u001b[m\u001b[K\u001b[01;31m\u001b[K5\u001b[m\u001b[K\n",
      "\u001b[01;31m\u001b[K1\u001b[m\u001b[K\u001b[01;31m\u001b[K2\u001b[m\u001b[K\u001b[01;31m\u001b[K3\u001b[m\u001b[K\n",
      "\u001b[01;31m\u001b[K0\u001b[m\u001b[K\u001b[01;31m\u001b[K.\u001b[m\u001b[K\u001b[01;31m\u001b[K4\u001b[m\u001b[K\u001b[01;31m\u001b[K5\u001b[m\u001b[K\u001b[01;31m\u001b[K6\u001b[m\u001b[K\n",
      "-\u001b[01;31m\u001b[K7\u001b[m\u001b[K\u001b[01;31m\u001b[K8\u001b[m\u001b[K\u001b[01;31m\u001b[K9\u001b[m\u001b[K\n",
      "+\u001b[01;31m\u001b[K0\u001b[m\u001b[K\u001b[01;31m\u001b[K.\u001b[m\u001b[K\u001b[01;31m\u001b[K1\u001b[m\u001b[K\u001b[01;31m\u001b[K2\u001b[m\u001b[K\n",
      "\u001b[01;31m\u001b[K1\u001b[m\u001b[K\u001b[01;31m\u001b[K2\u001b[m\u001b[K\u001b[01;31m\u001b[K3\u001b[m\u001b[Kabc\n",
      "- \u001b[01;31m\u001b[K4\u001b[m\u001b[K\u001b[01;31m\u001b[K5\u001b[m\u001b[K\u001b[01;31m\u001b[K6\u001b[m\u001b[K\n",
      "+ \u001b[01;31m\u001b[K0\u001b[m\u001b[K\u001b[01;31m\u001b[K.\u001b[m\u001b[K\u001b[01;31m\u001b[K1\u001b[m\u001b[K\u001b[01;31m\u001b[K2\u001b[m\u001b[K\n",
      "regex\u001b[01;31m\u001b[K1\u001b[m\u001b[K\u001b[01;31m\u001b[K2\u001b[m\u001b[K\u001b[01;31m\u001b[K3\u001b[m\u001b[K\n",
      "\u001b[01;31m\u001b[K1\u001b[m\u001b[K\u001b[01;31m\u001b[K2\u001b[m\u001b[K\u001b[01;31m\u001b[K3\u001b[m\u001b[Kregex\n",
      "dahdjk\u001b[01;31m\u001b[K1\u001b[m\u001b[Kabcslklsad\n"
     ]
    }
   ],
   "source": [
    "# Apenas pra mostrar que podemos combinar a busca de classes com outros caracteres\n",
    "# Encontrar qualquer linha com digito, ponto final ou vírgula.\n",
    "grep [[:digit:],.] regex.txt"
   ]
  },
  {
   "cell_type": "markdown",
   "id": "e2cfc17e-6197-41cf-8d94-2c85dd8f05f3",
   "metadata": {},
   "source": [
    "### **Correspondência pela posição**"
   ]
  },
  {
   "cell_type": "code",
   "execution_count": 7,
   "id": "57ff0610-1ff4-4999-9acf-c6d96780a0af",
   "metadata": {},
   "outputs": [
    {
     "name": "stdout",
     "output_type": "stream",
     "text": [
      "123\u001b[01;31m\u001b[Kabc\u001b[m\u001b[K\n",
      "\u001b[01;31m\u001b[Kabc\u001b[m\u001b[Kdxyzad\n",
      "dahdjk1\u001b[01;31m\u001b[Kabc\u001b[m\u001b[Kslklsad\n"
     ]
    }
   ],
   "source": [
    "grep -E '(abc)' regex.txt"
   ]
  },
  {
   "cell_type": "code",
   "execution_count": 8,
   "id": "dc2f6668-46f5-457a-be19-5ba99f9d9b12",
   "metadata": {},
   "outputs": [
    {
     "name": "stdout",
     "output_type": "stream",
     "text": [
      "\u001b[01;31m\u001b[Ka\u001b[m\u001b[Kbcdxyzad\n",
      "\u001b[01;31m\u001b[Ka\u001b[m\u001b[Kcdan\n",
      "\u001b[01;31m\u001b[Ka\u001b[m\u001b[Kbv\n",
      "\u001b[01;31m\u001b[Kb\u001b[m\u001b[Kcdkhg\n"
     ]
    }
   ],
   "source": [
    "# Foi dito que podemos usar os os metacaracteres ^ e $ para fazer a ancoragem.\n",
    "# Para exemplificar:\n",
    "\n",
    "grep -E ^[abc] regex.txt # Buscando qualquer palavra que comece em a, b, ou c"
   ]
  },
  {
   "cell_type": "code",
   "execution_count": 9,
   "id": "751e348e-cf40-48d8-a135-1923f11d9dad",
   "metadata": {},
   "outputs": [
    {
     "name": "stdout",
     "output_type": "stream",
     "text": [
      "\u001b[01;31m\u001b[Kabc\u001b[m\u001b[Kdxyzad\n"
     ]
    }
   ],
   "source": [
    "grep -E ^abc regex.txt # Buscando todas as ocorrencias que comecem em abc literalmente"
   ]
  },
  {
   "cell_type": "code",
   "execution_count": 10,
   "id": "608d1bd8-d441-4312-87ce-840e3220a9c1",
   "metadata": {
    "scrolled": true
   },
   "outputs": [
    {
     "name": "stdout",
     "output_type": "stream",
     "text": [
      "\u001b[01;31m\u001b[K#\u001b[m\u001b[KArquivode exemplosparapráticade\n",
      "\u001b[01;31m\u001b[K#\u001b[m\u001b[KRegex\n",
      "\u001b[01;31m\u001b[K#\u001b[m\u001b[K Emails válidos\n",
      "\u001b[01;31m\u001b[Ku\u001b[m\u001b[Ksuario@exemplo.com\n",
      "\u001b[01;31m\u001b[Ke\u001b[m\u001b[Kmail.test@domain.org\n",
      "\u001b[01;31m\u001b[Kp\u001b[m\u001b[Krimeiro_ultimo@empresa.co\n",
      "\u001b[01;31m\u001b[Ke\u001b[m\u001b[Kmail+alias@gmail.com\n",
      "\u001b[01;31m\u001b[K#\u001b[m\u001b[K Emails inválidos\n",
      "\u001b[01;31m\u001b[Ku\u001b[m\u001b[Ksuario@@exemplo.com\n",
      "\u001b[01;31m\u001b[Ke\u001b[m\u001b[Kmail..test@domain.org\n",
      "\u001b[01;31m\u001b[Ku\u001b[m\u001b[Ksuario@.com\n",
      "\u001b[01;31m\u001b[Ke\u001b[m\u001b[Kmail-sem-arroba.com\n",
      "\u001b[01;31m\u001b[K#\u001b[m\u001b[K Telefones válidos\n",
      "\u001b[01;31m\u001b[K+\u001b[m\u001b[K55 11 91234-5678\n",
      "\u001b[01;31m\u001b[K(\u001b[m\u001b[K11) 91234-5678\n",
      "\u001b[01;31m\u001b[K1\u001b[m\u001b[K1 91234-5678\n",
      "\u001b[01;31m\u001b[K+\u001b[m\u001b[K1 800-123-4567\n",
      "\u001b[01;31m\u001b[K#\u001b[m\u001b[K Telefones inválidos\n",
      "\u001b[01;31m\u001b[K1\u001b[m\u001b[K2345678\n",
      "\u001b[01;31m\u001b[K(\u001b[m\u001b[K11 91234-5678\n",
      "\u001b[01;31m\u001b[K1\u001b[m\u001b[K1 91234-56789\n",
      "\u001b[01;31m\u001b[K#\u001b[m\u001b[K Endereços IP válidos\n",
      "\u001b[01;31m\u001b[K1\u001b[m\u001b[K92.168.0.1\n",
      "\u001b[01;31m\u001b[K2\u001b[m\u001b[K55.255.255.255\\?*\n",
      "\u001b[01;31m\u001b[K1\u001b[m\u001b[K0.0.0.1\n",
      "\u001b[01;31m\u001b[K1\u001b[m\u001b[K72.16.254.1\n",
      "\u001b[01;31m\u001b[K#\u001b[m\u001b[K Endereços IP inválidos\n",
      "\u001b[01;31m\u001b[K1\u001b[m\u001b[K92.168.0.256\n",
      "\u001b[01;31m\u001b[K2\u001b[m\u001b[K56.255.255.255\n",
      "\u001b[01;31m\u001b[K1\u001b[m\u001b[K0.0.0\n",
      "\u001b[01;31m\u001b[K1\u001b[m\u001b[K72.16.254.999\n",
      "\u001b[01;31m\u001b[K#\u001b[m\u001b[K Datas válidas\n",
      "\u001b[01;31m\u001b[K2\u001b[m\u001b[K025-01-28\n",
      "\u001b[01;31m\u001b[K2\u001b[m\u001b[K8/01/2025\n",
      "\u001b[01;31m\u001b[K0\u001b[m\u001b[K1/28/2025\n",
      "\u001b[01;31m\u001b[K#\u001b[m\u001b[K Datas inválidas\n",
      "\u001b[01;31m\u001b[K2\u001b[m\u001b[K025-13-28\n",
      "\u001b[01;31m\u001b[K2\u001b[m\u001b[K8-01-2025\n",
      "\u001b[01;31m\u001b[K3\u001b[m\u001b[K1/02/2025\n",
      "\u001b[01;31m\u001b[K#\u001b[m\u001b[K URLs válidas\n",
      "\u001b[01;31m\u001b[Kh\u001b[m\u001b[Kttps://www.google.com\n",
      "\u001b[01;31m\u001b[Kh\u001b[m\u001b[Kttp://example.org\n",
      "\u001b[01;31m\u001b[Kw\u001b[m\u001b[Kww.meusite.com\n",
      "\u001b[01;31m\u001b[Kf\u001b[m\u001b[Ktp://ftp.exemplo.com\n",
      "\u001b[01;31m\u001b[K#\u001b[m\u001b[K URLs inválidas\n",
      "\u001b[01;31m\u001b[Kh\u001b[m\u001b[Ktp://www.google.com\n",
      "\u001b[01;31m\u001b[Kh\u001b[m\u001b[Kttp:/example.org\n",
      "\u001b[01;31m\u001b[Km\u001b[m\u001b[Keusite,com\n",
      "\u001b[01;31m\u001b[Kf\u001b[m\u001b[Ktp:/ftp.exemplo.com\n",
      "\u001b[01;31m\u001b[K#\u001b[m\u001b[K Códigos Postais (Brasil)\n",
      "\u001b[01;31m\u001b[K0\u001b[m\u001b[K1001-000\n",
      "\u001b[01;31m\u001b[K1\u001b[m\u001b[K2345-678\n",
      "\u001b[01;31m\u001b[K#\u001b[m\u001b[K Códigos Postais inválidos\n",
      "\u001b[01;31m\u001b[K1\u001b[m\u001b[K2345678\n",
      "\u001b[01;31m\u001b[K1\u001b[m\u001b[K2-345\n",
      "\u001b[01;31m\u001b[K#\u001b[m\u001b[K Números válidos\n",
      "\u001b[01;31m\u001b[K1\u001b[m\u001b[K23\n",
      "\u001b[01;31m\u001b[K0\u001b[m\u001b[K.456\n",
      "\u001b[01;31m\u001b[K-\u001b[m\u001b[K789\n",
      "\u001b[01;31m\u001b[K+\u001b[m\u001b[K0.12\n",
      "\u001b[01;31m\u001b[K#\u001b[m\u001b[K Números inválidos\n",
      "\u001b[01;31m\u001b[K1\u001b[m\u001b[K23abc\n",
      "\u001b[01;31m\u001b[K-\u001b[m\u001b[K 456\n",
      "\u001b[01;31m\u001b[K+\u001b[m\u001b[K 0.12\n",
      "\u001b[01;31m\u001b[K#\u001b[m\u001b[K Palavras válidas (alfabéticas apenas)\n",
      "\u001b[01;31m\u001b[Kr\u001b[m\u001b[Kegex\n",
      "\u001b[01;31m\u001b[Kf\u001b[m\u001b[Kuncionalidade\n",
      "\u001b[01;31m\u001b[Kp\u001b[m\u001b[Kratica\n",
      "\u001b[01;31m\u001b[K#\u001b[m\u001b[K Palavras inválidas\n",
      "\u001b[01;31m\u001b[Kr\u001b[m\u001b[Kegex123\n",
      "\u001b[01;31m\u001b[K1\u001b[m\u001b[K23regex\n",
      "\u001b[01;31m\u001b[K_\u001b[m\u001b[Kfunçáo\n",
      "\u001b[01;31m\u001b[Kd\u001b[m\u001b[Kahdjk1abcslklsad\n",
      "\u001b[01;31m\u001b[KA\u001b[m\u001b[KBCADBACCATG\n",
      "\u001b[01;31m\u001b[K\\\u001b[m\u001b[Kn\n",
      "\u001b[01;31m\u001b[Kj\u001b[m\u001b[Koão comeu mamão usando sua mão\n",
      "\u001b[01;31m\u001b[Kj\u001b[m\u001b[Kdaidkdd*fla\n"
     ]
    }
   ],
   "source": [
    "grep -E ^[^abc] regex.txt # Buscando todos as linhas que comecem com qualquer valor que não seja a, b ou c.\n",
    "\n",
    "# Isso que me pega um pouco no regex, o ^ funciona como ancoragem fora do conjunto definido [ ].\n",
    "# Porém, dentro dos colchetes ele funciona como negação do conjunto.\n",
    "\n"
   ]
  },
  {
   "cell_type": "code",
   "execution_count": 11,
   "id": "79e3ed5a-264f-4c5e-86ee-67f8393c8358",
   "metadata": {},
   "outputs": [
    {
     "name": "stdout",
     "output_type": "stream",
     "text": [
      "usuario@exemplo.co\u001b[01;31m\u001b[Km\u001b[m\u001b[K\n",
      "primeiro_ultimo@empresa.c\u001b[01;31m\u001b[Ko\u001b[m\u001b[K\n",
      "email+alias@gmail.co\u001b[01;31m\u001b[Km\u001b[m\u001b[K\n",
      "usuario@@exemplo.co\u001b[01;31m\u001b[Km\u001b[m\u001b[K\n",
      "usuario@.co\u001b[01;31m\u001b[Km\u001b[m\u001b[K\n",
      "email-sem-arroba.co\u001b[01;31m\u001b[Km\u001b[m\u001b[K\n",
      "https://www.google.co\u001b[01;31m\u001b[Km\u001b[m\u001b[K\n",
      "www.meusite.co\u001b[01;31m\u001b[Km\u001b[m\u001b[K\n",
      "ftp://ftp.exemplo.co\u001b[01;31m\u001b[Km\u001b[m\u001b[K\n",
      "htp://www.google.co\u001b[01;31m\u001b[Km\u001b[m\u001b[K\n",
      "meusite,co\u001b[01;31m\u001b[Km\u001b[m\u001b[K\n",
      "ftp:/ftp.exemplo.co\u001b[01;31m\u001b[Km\u001b[m\u001b[K\n",
      "123ab\u001b[01;31m\u001b[Kc\u001b[m\u001b[K\n",
      "_funçá\u001b[01;31m\u001b[Ko\u001b[m\u001b[K\n",
      "joão comeu mamão usando sua mã\u001b[01;31m\u001b[Ko\u001b[m\u001b[K\n"
     ]
    }
   ],
   "source": [
    "grep -E [.com]$ regex.txt # Analogamente ao caso anterior, iria buscar as linhas terminadas em algum caractere do conjunto"
   ]
  },
  {
   "cell_type": "code",
   "execution_count": 12,
   "id": "d89bfae3-6f6d-4d7d-85e8-42a4c31639b4",
   "metadata": {},
   "outputs": [
    {
     "name": "stdout",
     "output_type": "stream",
     "text": [
      "usuario@exemplo\u001b[01;31m\u001b[K.com\u001b[m\u001b[K\n",
      "email+alias@gmail\u001b[01;31m\u001b[K.com\u001b[m\u001b[K\n",
      "usuario@@exemplo\u001b[01;31m\u001b[K.com\u001b[m\u001b[K\n",
      "usuario@\u001b[01;31m\u001b[K.com\u001b[m\u001b[K\n",
      "email-sem-arroba\u001b[01;31m\u001b[K.com\u001b[m\u001b[K\n",
      "https://www.google\u001b[01;31m\u001b[K.com\u001b[m\u001b[K\n",
      "www.meusite\u001b[01;31m\u001b[K.com\u001b[m\u001b[K\n",
      "ftp://ftp.exemplo\u001b[01;31m\u001b[K.com\u001b[m\u001b[K\n",
      "htp://www.google\u001b[01;31m\u001b[K.com\u001b[m\u001b[K\n",
      "meusite\u001b[01;31m\u001b[K,com\u001b[m\u001b[K\n",
      "ftp:/ftp.exemplo\u001b[01;31m\u001b[K.com\u001b[m\u001b[K\n"
     ]
    }
   ],
   "source": [
    "grep -E .com$ regex.txt # Irá buscar todas as linhas terminadas em .com literalmente"
   ]
  },
  {
   "cell_type": "markdown",
   "id": "3a4a5a1e-3fc9-415c-abb0-f93f9c8571be",
   "metadata": {},
   "source": [
    "### **Repetições e agrupamentos**"
   ]
  },
  {
   "cell_type": "markdown",
   "id": "7756d8ff-b497-41ad-af7b-268854170587",
   "metadata": {},
   "source": [
    "Supomos que queremos detectar número ou emails. Teremos que constantemente estar lidando com repetições ou conjuntos de caracteres.\n",
    "\n",
    "\n"
   ]
  },
  {
   "cell_type": "markdown",
   "id": "000ac8e0-d1ce-4f23-8f91-6a52cd09b69a",
   "metadata": {},
   "source": [
    "| Operador | Descrição |\n",
    "|:--------:|-----------|\n",
    "|    *     | Corresponde com nenhuma ou mais instâncias do caractere/expressão anterior.   |\n",
    "|    ?     | Corresponde nenhuma ou uma instâncias do caractere/expressão anterior.        |\n",
    "|    +     | Corresponde com uma ou mais instâncias do caractere/expressão anterior.       |\n",
    "|  {n,m}   | Corresponde à um alcance de ocorrências, de n até m.             |\n",
    "|    \\|    | Corresponde com o caracteres/expressão à díreita ou esquerda do símbolo pipe. |\n"
   ]
  },
  {
   "cell_type": "code",
   "execution_count": 13,
   "id": "1cf1b05c-f396-4720-8090-f134300a11fa",
   "metadata": {
    "scrolled": true
   },
   "outputs": [
    {
     "name": "stdout",
     "output_type": "stream",
     "text": [
      "#Arquivode exemplosparapráticade\n",
      "#Regex\n",
      "\n",
      "# Emails válidos\n",
      "usuario@exemplo.com\n",
      "email.test@domain.org\n",
      "primeiro_ultimo@empresa.co\n",
      "email+alias@gmail.com\n",
      "\n",
      "# Emails inválidos\n",
      "usuario@@exemplo.com\n",
      "email..test@domain.org\n",
      "usuario@.com\n",
      "email-sem-arroba.com\n",
      "\n",
      "# Telefones válidos\n",
      "+\u001b[01;31m\u001b[K5\u001b[m\u001b[K\u001b[01;31m\u001b[K5\u001b[m\u001b[K \u001b[01;31m\u001b[K1\u001b[m\u001b[K\u001b[01;31m\u001b[K1\u001b[m\u001b[K \u001b[01;31m\u001b[K9\u001b[m\u001b[K\u001b[01;31m\u001b[K1\u001b[m\u001b[K\u001b[01;31m\u001b[K2\u001b[m\u001b[K\u001b[01;31m\u001b[K3\u001b[m\u001b[K\u001b[01;31m\u001b[K4\u001b[m\u001b[K-\u001b[01;31m\u001b[K5\u001b[m\u001b[K\u001b[01;31m\u001b[K6\u001b[m\u001b[K\u001b[01;31m\u001b[K7\u001b[m\u001b[K\u001b[01;31m\u001b[K8\u001b[m\u001b[K\n",
      "(\u001b[01;31m\u001b[K1\u001b[m\u001b[K\u001b[01;31m\u001b[K1\u001b[m\u001b[K) \u001b[01;31m\u001b[K9\u001b[m\u001b[K\u001b[01;31m\u001b[K1\u001b[m\u001b[K\u001b[01;31m\u001b[K2\u001b[m\u001b[K\u001b[01;31m\u001b[K3\u001b[m\u001b[K\u001b[01;31m\u001b[K4\u001b[m\u001b[K-\u001b[01;31m\u001b[K5\u001b[m\u001b[K\u001b[01;31m\u001b[K6\u001b[m\u001b[K\u001b[01;31m\u001b[K7\u001b[m\u001b[K\u001b[01;31m\u001b[K8\u001b[m\u001b[K\n",
      "\u001b[01;31m\u001b[K1\u001b[m\u001b[K\u001b[01;31m\u001b[K1\u001b[m\u001b[K \u001b[01;31m\u001b[K9\u001b[m\u001b[K\u001b[01;31m\u001b[K1\u001b[m\u001b[K\u001b[01;31m\u001b[K2\u001b[m\u001b[K\u001b[01;31m\u001b[K3\u001b[m\u001b[K\u001b[01;31m\u001b[K4\u001b[m\u001b[K-\u001b[01;31m\u001b[K5\u001b[m\u001b[K\u001b[01;31m\u001b[K6\u001b[m\u001b[K\u001b[01;31m\u001b[K7\u001b[m\u001b[K\u001b[01;31m\u001b[K8\u001b[m\u001b[K\n",
      "+\u001b[01;31m\u001b[K1\u001b[m\u001b[K \u001b[01;31m\u001b[K8\u001b[m\u001b[K\u001b[01;31m\u001b[K0\u001b[m\u001b[K\u001b[01;31m\u001b[K0\u001b[m\u001b[K-\u001b[01;31m\u001b[K1\u001b[m\u001b[K\u001b[01;31m\u001b[K2\u001b[m\u001b[K\u001b[01;31m\u001b[K3\u001b[m\u001b[K-\u001b[01;31m\u001b[K4\u001b[m\u001b[K\u001b[01;31m\u001b[K5\u001b[m\u001b[K\u001b[01;31m\u001b[K6\u001b[m\u001b[K\u001b[01;31m\u001b[K7\u001b[m\u001b[K\n",
      "\n",
      "# Telefones inválidos\n",
      "\u001b[01;31m\u001b[K1\u001b[m\u001b[K\u001b[01;31m\u001b[K2\u001b[m\u001b[K\u001b[01;31m\u001b[K3\u001b[m\u001b[K\u001b[01;31m\u001b[K4\u001b[m\u001b[K\u001b[01;31m\u001b[K5\u001b[m\u001b[K\u001b[01;31m\u001b[K6\u001b[m\u001b[K\u001b[01;31m\u001b[K7\u001b[m\u001b[K\u001b[01;31m\u001b[K8\u001b[m\u001b[K\n",
      "(\u001b[01;31m\u001b[K1\u001b[m\u001b[K\u001b[01;31m\u001b[K1\u001b[m\u001b[K \u001b[01;31m\u001b[K9\u001b[m\u001b[K\u001b[01;31m\u001b[K1\u001b[m\u001b[K\u001b[01;31m\u001b[K2\u001b[m\u001b[K\u001b[01;31m\u001b[K3\u001b[m\u001b[K\u001b[01;31m\u001b[K4\u001b[m\u001b[K-\u001b[01;31m\u001b[K5\u001b[m\u001b[K\u001b[01;31m\u001b[K6\u001b[m\u001b[K\u001b[01;31m\u001b[K7\u001b[m\u001b[K\u001b[01;31m\u001b[K8\u001b[m\u001b[K\n",
      "\u001b[01;31m\u001b[K1\u001b[m\u001b[K\u001b[01;31m\u001b[K1\u001b[m\u001b[K \u001b[01;31m\u001b[K9\u001b[m\u001b[K\u001b[01;31m\u001b[K1\u001b[m\u001b[K\u001b[01;31m\u001b[K2\u001b[m\u001b[K\u001b[01;31m\u001b[K3\u001b[m\u001b[K\u001b[01;31m\u001b[K4\u001b[m\u001b[K-\u001b[01;31m\u001b[K5\u001b[m\u001b[K\u001b[01;31m\u001b[K6\u001b[m\u001b[K\u001b[01;31m\u001b[K7\u001b[m\u001b[K\u001b[01;31m\u001b[K8\u001b[m\u001b[K\u001b[01;31m\u001b[K9\u001b[m\u001b[K\n",
      "\n",
      "# Endereços IP válidos\n",
      "\u001b[01;31m\u001b[K1\u001b[m\u001b[K\u001b[01;31m\u001b[K9\u001b[m\u001b[K\u001b[01;31m\u001b[K2\u001b[m\u001b[K.\u001b[01;31m\u001b[K1\u001b[m\u001b[K\u001b[01;31m\u001b[K6\u001b[m\u001b[K\u001b[01;31m\u001b[K8\u001b[m\u001b[K.\u001b[01;31m\u001b[K0\u001b[m\u001b[K.\u001b[01;31m\u001b[K1\u001b[m\u001b[K\n",
      "\u001b[01;31m\u001b[K2\u001b[m\u001b[K\u001b[01;31m\u001b[K5\u001b[m\u001b[K\u001b[01;31m\u001b[K5\u001b[m\u001b[K.\u001b[01;31m\u001b[K2\u001b[m\u001b[K\u001b[01;31m\u001b[K5\u001b[m\u001b[K\u001b[01;31m\u001b[K5\u001b[m\u001b[K.\u001b[01;31m\u001b[K2\u001b[m\u001b[K\u001b[01;31m\u001b[K5\u001b[m\u001b[K\u001b[01;31m\u001b[K5\u001b[m\u001b[K.\u001b[01;31m\u001b[K2\u001b[m\u001b[K\u001b[01;31m\u001b[K5\u001b[m\u001b[K\u001b[01;31m\u001b[K5\u001b[m\u001b[K\\?*\n",
      "\u001b[01;31m\u001b[K1\u001b[m\u001b[K\u001b[01;31m\u001b[K0\u001b[m\u001b[K.\u001b[01;31m\u001b[K0\u001b[m\u001b[K.\u001b[01;31m\u001b[K0\u001b[m\u001b[K.\u001b[01;31m\u001b[K1\u001b[m\u001b[K\n",
      "\u001b[01;31m\u001b[K1\u001b[m\u001b[K\u001b[01;31m\u001b[K7\u001b[m\u001b[K\u001b[01;31m\u001b[K2\u001b[m\u001b[K.\u001b[01;31m\u001b[K1\u001b[m\u001b[K\u001b[01;31m\u001b[K6\u001b[m\u001b[K.\u001b[01;31m\u001b[K2\u001b[m\u001b[K\u001b[01;31m\u001b[K5\u001b[m\u001b[K\u001b[01;31m\u001b[K4\u001b[m\u001b[K.\u001b[01;31m\u001b[K1\u001b[m\u001b[K\n",
      "\n",
      "# Endereços IP inválidos\n",
      "\u001b[01;31m\u001b[K1\u001b[m\u001b[K\u001b[01;31m\u001b[K9\u001b[m\u001b[K\u001b[01;31m\u001b[K2\u001b[m\u001b[K.\u001b[01;31m\u001b[K1\u001b[m\u001b[K\u001b[01;31m\u001b[K6\u001b[m\u001b[K\u001b[01;31m\u001b[K8\u001b[m\u001b[K.\u001b[01;31m\u001b[K0\u001b[m\u001b[K.\u001b[01;31m\u001b[K2\u001b[m\u001b[K\u001b[01;31m\u001b[K5\u001b[m\u001b[K\u001b[01;31m\u001b[K6\u001b[m\u001b[K\n",
      "\u001b[01;31m\u001b[K2\u001b[m\u001b[K\u001b[01;31m\u001b[K5\u001b[m\u001b[K\u001b[01;31m\u001b[K6\u001b[m\u001b[K.\u001b[01;31m\u001b[K2\u001b[m\u001b[K\u001b[01;31m\u001b[K5\u001b[m\u001b[K\u001b[01;31m\u001b[K5\u001b[m\u001b[K.\u001b[01;31m\u001b[K2\u001b[m\u001b[K\u001b[01;31m\u001b[K5\u001b[m\u001b[K\u001b[01;31m\u001b[K5\u001b[m\u001b[K.\u001b[01;31m\u001b[K2\u001b[m\u001b[K\u001b[01;31m\u001b[K5\u001b[m\u001b[K\u001b[01;31m\u001b[K5\u001b[m\u001b[K\n",
      "\u001b[01;31m\u001b[K1\u001b[m\u001b[K\u001b[01;31m\u001b[K0\u001b[m\u001b[K.\u001b[01;31m\u001b[K0\u001b[m\u001b[K.\u001b[01;31m\u001b[K0\u001b[m\u001b[K\n",
      "\u001b[01;31m\u001b[K1\u001b[m\u001b[K\u001b[01;31m\u001b[K7\u001b[m\u001b[K\u001b[01;31m\u001b[K2\u001b[m\u001b[K.\u001b[01;31m\u001b[K1\u001b[m\u001b[K\u001b[01;31m\u001b[K6\u001b[m\u001b[K.\u001b[01;31m\u001b[K2\u001b[m\u001b[K\u001b[01;31m\u001b[K5\u001b[m\u001b[K\u001b[01;31m\u001b[K4\u001b[m\u001b[K.\u001b[01;31m\u001b[K9\u001b[m\u001b[K\u001b[01;31m\u001b[K9\u001b[m\u001b[K\u001b[01;31m\u001b[K9\u001b[m\u001b[K\n",
      "\n",
      "# Datas válidas\n",
      "\u001b[01;31m\u001b[K2\u001b[m\u001b[K\u001b[01;31m\u001b[K0\u001b[m\u001b[K\u001b[01;31m\u001b[K2\u001b[m\u001b[K\u001b[01;31m\u001b[K5\u001b[m\u001b[K-\u001b[01;31m\u001b[K0\u001b[m\u001b[K\u001b[01;31m\u001b[K1\u001b[m\u001b[K-\u001b[01;31m\u001b[K2\u001b[m\u001b[K\u001b[01;31m\u001b[K8\u001b[m\u001b[K\n",
      "\u001b[01;31m\u001b[K2\u001b[m\u001b[K\u001b[01;31m\u001b[K8\u001b[m\u001b[K/\u001b[01;31m\u001b[K0\u001b[m\u001b[K\u001b[01;31m\u001b[K1\u001b[m\u001b[K/\u001b[01;31m\u001b[K2\u001b[m\u001b[K\u001b[01;31m\u001b[K0\u001b[m\u001b[K\u001b[01;31m\u001b[K2\u001b[m\u001b[K\u001b[01;31m\u001b[K5\u001b[m\u001b[K\n",
      "\u001b[01;31m\u001b[K0\u001b[m\u001b[K\u001b[01;31m\u001b[K1\u001b[m\u001b[K/\u001b[01;31m\u001b[K2\u001b[m\u001b[K\u001b[01;31m\u001b[K8\u001b[m\u001b[K/\u001b[01;31m\u001b[K2\u001b[m\u001b[K\u001b[01;31m\u001b[K0\u001b[m\u001b[K\u001b[01;31m\u001b[K2\u001b[m\u001b[K\u001b[01;31m\u001b[K5\u001b[m\u001b[K\n",
      "\n",
      "# Datas inválidas\n",
      "\u001b[01;31m\u001b[K2\u001b[m\u001b[K\u001b[01;31m\u001b[K0\u001b[m\u001b[K\u001b[01;31m\u001b[K2\u001b[m\u001b[K\u001b[01;31m\u001b[K5\u001b[m\u001b[K-\u001b[01;31m\u001b[K1\u001b[m\u001b[K\u001b[01;31m\u001b[K3\u001b[m\u001b[K-\u001b[01;31m\u001b[K2\u001b[m\u001b[K\u001b[01;31m\u001b[K8\u001b[m\u001b[K\n",
      "\u001b[01;31m\u001b[K2\u001b[m\u001b[K\u001b[01;31m\u001b[K8\u001b[m\u001b[K-\u001b[01;31m\u001b[K0\u001b[m\u001b[K\u001b[01;31m\u001b[K1\u001b[m\u001b[K-\u001b[01;31m\u001b[K2\u001b[m\u001b[K\u001b[01;31m\u001b[K0\u001b[m\u001b[K\u001b[01;31m\u001b[K2\u001b[m\u001b[K\u001b[01;31m\u001b[K5\u001b[m\u001b[K\n",
      "\u001b[01;31m\u001b[K3\u001b[m\u001b[K\u001b[01;31m\u001b[K1\u001b[m\u001b[K/\u001b[01;31m\u001b[K0\u001b[m\u001b[K\u001b[01;31m\u001b[K2\u001b[m\u001b[K/\u001b[01;31m\u001b[K2\u001b[m\u001b[K\u001b[01;31m\u001b[K0\u001b[m\u001b[K\u001b[01;31m\u001b[K2\u001b[m\u001b[K\u001b[01;31m\u001b[K5\u001b[m\u001b[K\n",
      "\n",
      "# URLs válidas\n",
      "https://www.google.com\n",
      "http://example.org\n",
      "www.meusite.com\n",
      "ftp://ftp.exemplo.com\n",
      "\n",
      "# URLs inválidas\n",
      "htp://www.google.com\n",
      "http:/example.org\n",
      "meusite,com\n",
      "ftp:/ftp.exemplo.com\n",
      "\n",
      "# Códigos Postais (Brasil)\n",
      "\u001b[01;31m\u001b[K0\u001b[m\u001b[K\u001b[01;31m\u001b[K1\u001b[m\u001b[K\u001b[01;31m\u001b[K0\u001b[m\u001b[K\u001b[01;31m\u001b[K0\u001b[m\u001b[K\u001b[01;31m\u001b[K1\u001b[m\u001b[K-\u001b[01;31m\u001b[K0\u001b[m\u001b[K\u001b[01;31m\u001b[K0\u001b[m\u001b[K\u001b[01;31m\u001b[K0\u001b[m\u001b[K\n",
      "\u001b[01;31m\u001b[K1\u001b[m\u001b[K\u001b[01;31m\u001b[K2\u001b[m\u001b[K\u001b[01;31m\u001b[K3\u001b[m\u001b[K\u001b[01;31m\u001b[K4\u001b[m\u001b[K\u001b[01;31m\u001b[K5\u001b[m\u001b[K-\u001b[01;31m\u001b[K6\u001b[m\u001b[K\u001b[01;31m\u001b[K7\u001b[m\u001b[K\u001b[01;31m\u001b[K8\u001b[m\u001b[K\n",
      "\n",
      "# Códigos Postais inválidos\n",
      "\u001b[01;31m\u001b[K1\u001b[m\u001b[K\u001b[01;31m\u001b[K2\u001b[m\u001b[K\u001b[01;31m\u001b[K3\u001b[m\u001b[K\u001b[01;31m\u001b[K4\u001b[m\u001b[K\u001b[01;31m\u001b[K5\u001b[m\u001b[K\u001b[01;31m\u001b[K6\u001b[m\u001b[K\u001b[01;31m\u001b[K7\u001b[m\u001b[K\u001b[01;31m\u001b[K8\u001b[m\u001b[K\n",
      "\u001b[01;31m\u001b[K1\u001b[m\u001b[K\u001b[01;31m\u001b[K2\u001b[m\u001b[K-\u001b[01;31m\u001b[K3\u001b[m\u001b[K\u001b[01;31m\u001b[K4\u001b[m\u001b[K\u001b[01;31m\u001b[K5\u001b[m\u001b[K\n",
      "\n",
      "# Números válidos\n",
      "\u001b[01;31m\u001b[K1\u001b[m\u001b[K\u001b[01;31m\u001b[K2\u001b[m\u001b[K\u001b[01;31m\u001b[K3\u001b[m\u001b[K\n",
      "\u001b[01;31m\u001b[K0\u001b[m\u001b[K.\u001b[01;31m\u001b[K4\u001b[m\u001b[K\u001b[01;31m\u001b[K5\u001b[m\u001b[K\u001b[01;31m\u001b[K6\u001b[m\u001b[K\n",
      "-\u001b[01;31m\u001b[K7\u001b[m\u001b[K\u001b[01;31m\u001b[K8\u001b[m\u001b[K\u001b[01;31m\u001b[K9\u001b[m\u001b[K\n",
      "+\u001b[01;31m\u001b[K0\u001b[m\u001b[K.\u001b[01;31m\u001b[K1\u001b[m\u001b[K\u001b[01;31m\u001b[K2\u001b[m\u001b[K\n",
      "\n",
      "# Números inválidos\n",
      "\u001b[01;31m\u001b[K1\u001b[m\u001b[K\u001b[01;31m\u001b[K2\u001b[m\u001b[K\u001b[01;31m\u001b[K3\u001b[m\u001b[Kabc\n",
      "- \u001b[01;31m\u001b[K4\u001b[m\u001b[K\u001b[01;31m\u001b[K5\u001b[m\u001b[K\u001b[01;31m\u001b[K6\u001b[m\u001b[K\n",
      "+ \u001b[01;31m\u001b[K0\u001b[m\u001b[K.\u001b[01;31m\u001b[K1\u001b[m\u001b[K\u001b[01;31m\u001b[K2\u001b[m\u001b[K\n",
      "\n",
      "# Palavras válidas (alfabéticas apenas)\n",
      "regex\n",
      "funcionalidade\n",
      "pratica\n",
      "\n",
      "# Palavras inválidas\n",
      "regex\u001b[01;31m\u001b[K1\u001b[m\u001b[K\u001b[01;31m\u001b[K2\u001b[m\u001b[K\u001b[01;31m\u001b[K3\u001b[m\u001b[K\n",
      "\u001b[01;31m\u001b[K1\u001b[m\u001b[K\u001b[01;31m\u001b[K2\u001b[m\u001b[K\u001b[01;31m\u001b[K3\u001b[m\u001b[Kregex\n",
      "_funçáo\n",
      "\n",
      "abcdxyzad\n",
      "acdan\n",
      "dahdjk\u001b[01;31m\u001b[K1\u001b[m\u001b[Kabcslklsad\n",
      "abv\n",
      "ABCADBACCATG\n",
      "\\n\n",
      "bcdkhg\n",
      "joão comeu mamão usando sua mão\n",
      "jdaidkdd*fla\n"
     ]
    }
   ],
   "source": [
    "# Alguns exemplos de repetições\n",
    "\n",
    "# Diferente de [[:digit:]] sem o asterisco, devolveu o arquivo inteiro, mas somente os números foram destacados\n",
    "grep -E '[[:digit:]]?' regex.txt"
   ]
  },
  {
   "cell_type": "code",
   "execution_count": 14,
   "id": "370ccaa5-db97-4c76-80c6-6369a8a561c0",
   "metadata": {},
   "outputs": [
    {
     "name": "stdout",
     "output_type": "stream",
     "text": [
      "+55 11 \u001b[01;31m\u001b[K91234-5678\u001b[m\u001b[K\n",
      "(11) \u001b[01;31m\u001b[K91234-5678\u001b[m\u001b[K\n",
      "11 \u001b[01;31m\u001b[K91234-5678\u001b[m\u001b[K\n",
      "(11 \u001b[01;31m\u001b[K91234-5678\u001b[m\u001b[K\n",
      "11 \u001b[01;31m\u001b[K91234-5678\u001b[m\u001b[K9\n"
     ]
    }
   ],
   "source": [
    "# Não entendi muito bem como funciona o alcance (?)\n",
    "# Na teoria deveria retornar de 3 a 5 ocorrencias\n",
    "grep -E '[[:digit:]]{5}-[[:digit:]]{4}' regex.txt"
   ]
  },
  {
   "cell_type": "code",
   "execution_count": 15,
   "id": "06335b3b-9f9b-4a26-8219-14206c11f411",
   "metadata": {},
   "outputs": [
    {
     "name": "stdout",
     "output_type": "stream",
     "text": [
      "#Arquivode exemplosparapráticade\n",
      "#Regex\n",
      "\n",
      "# Emails válidos\n",
      "usuario@exemplo.com\n",
      "email.test@domain.org\n",
      "primeiro_ultimo@empresa.co\n",
      "email+alias@gmail.com\n",
      "\n",
      "# Emails inválidos\n",
      "usuario@@exemplo.com\n",
      "email..test@domain.org\n",
      "usuario@.com\n",
      "email-sem-arroba.com\n",
      "\n",
      "# Telefones válidos\n",
      "+\u001b[01;31m\u001b[K55\u001b[m\u001b[K \u001b[01;31m\u001b[K11\u001b[m\u001b[K \u001b[01;31m\u001b[K912\u001b[m\u001b[K\u001b[01;31m\u001b[K34\u001b[m\u001b[K-\u001b[01;31m\u001b[K567\u001b[m\u001b[K\u001b[01;31m\u001b[K8\u001b[m\u001b[K\n",
      "(\u001b[01;31m\u001b[K11\u001b[m\u001b[K) \u001b[01;31m\u001b[K912\u001b[m\u001b[K\u001b[01;31m\u001b[K34\u001b[m\u001b[K-\u001b[01;31m\u001b[K567\u001b[m\u001b[K\u001b[01;31m\u001b[K8\u001b[m\u001b[K\n",
      "\u001b[01;31m\u001b[K11\u001b[m\u001b[K \u001b[01;31m\u001b[K912\u001b[m\u001b[K\u001b[01;31m\u001b[K34\u001b[m\u001b[K-\u001b[01;31m\u001b[K567\u001b[m\u001b[K\u001b[01;31m\u001b[K8\u001b[m\u001b[K\n",
      "+\u001b[01;31m\u001b[K1\u001b[m\u001b[K \u001b[01;31m\u001b[K800\u001b[m\u001b[K-\u001b[01;31m\u001b[K123\u001b[m\u001b[K-\u001b[01;31m\u001b[K456\u001b[m\u001b[K\u001b[01;31m\u001b[K7\u001b[m\u001b[K\n",
      "\n",
      "# Telefones inválidos\n",
      "\u001b[01;31m\u001b[K123\u001b[m\u001b[K\u001b[01;31m\u001b[K456\u001b[m\u001b[K\u001b[01;31m\u001b[K78\u001b[m\u001b[K\n",
      "(\u001b[01;31m\u001b[K11\u001b[m\u001b[K \u001b[01;31m\u001b[K912\u001b[m\u001b[K\u001b[01;31m\u001b[K34\u001b[m\u001b[K-\u001b[01;31m\u001b[K567\u001b[m\u001b[K\u001b[01;31m\u001b[K8\u001b[m\u001b[K\n",
      "\u001b[01;31m\u001b[K11\u001b[m\u001b[K \u001b[01;31m\u001b[K912\u001b[m\u001b[K\u001b[01;31m\u001b[K34\u001b[m\u001b[K-\u001b[01;31m\u001b[K567\u001b[m\u001b[K\u001b[01;31m\u001b[K89\u001b[m\u001b[K\n",
      "\n",
      "# Endereços IP válidos\n",
      "\u001b[01;31m\u001b[K192\u001b[m\u001b[K.\u001b[01;31m\u001b[K168\u001b[m\u001b[K.\u001b[01;31m\u001b[K0\u001b[m\u001b[K.\u001b[01;31m\u001b[K1\u001b[m\u001b[K\n",
      "\u001b[01;31m\u001b[K255\u001b[m\u001b[K.\u001b[01;31m\u001b[K255\u001b[m\u001b[K.\u001b[01;31m\u001b[K255\u001b[m\u001b[K.\u001b[01;31m\u001b[K255\u001b[m\u001b[K\\?*\n",
      "\u001b[01;31m\u001b[K10\u001b[m\u001b[K.\u001b[01;31m\u001b[K0\u001b[m\u001b[K.\u001b[01;31m\u001b[K0\u001b[m\u001b[K.\u001b[01;31m\u001b[K1\u001b[m\u001b[K\n",
      "\u001b[01;31m\u001b[K172\u001b[m\u001b[K.\u001b[01;31m\u001b[K16\u001b[m\u001b[K.\u001b[01;31m\u001b[K254\u001b[m\u001b[K.\u001b[01;31m\u001b[K1\u001b[m\u001b[K\n",
      "\n",
      "# Endereços IP inválidos\n",
      "\u001b[01;31m\u001b[K192\u001b[m\u001b[K.\u001b[01;31m\u001b[K168\u001b[m\u001b[K.\u001b[01;31m\u001b[K0\u001b[m\u001b[K.\u001b[01;31m\u001b[K256\u001b[m\u001b[K\n",
      "\u001b[01;31m\u001b[K256\u001b[m\u001b[K.\u001b[01;31m\u001b[K255\u001b[m\u001b[K.\u001b[01;31m\u001b[K255\u001b[m\u001b[K.\u001b[01;31m\u001b[K255\u001b[m\u001b[K\n",
      "\u001b[01;31m\u001b[K10\u001b[m\u001b[K.\u001b[01;31m\u001b[K0\u001b[m\u001b[K.\u001b[01;31m\u001b[K0\u001b[m\u001b[K\n",
      "\u001b[01;31m\u001b[K172\u001b[m\u001b[K.\u001b[01;31m\u001b[K16\u001b[m\u001b[K.\u001b[01;31m\u001b[K254\u001b[m\u001b[K.\u001b[01;31m\u001b[K999\u001b[m\u001b[K\n",
      "\n",
      "# Datas válidas\n",
      "\u001b[01;31m\u001b[K202\u001b[m\u001b[K\u001b[01;31m\u001b[K5\u001b[m\u001b[K-\u001b[01;31m\u001b[K01\u001b[m\u001b[K-\u001b[01;31m\u001b[K28\u001b[m\u001b[K\n",
      "\u001b[01;31m\u001b[K28\u001b[m\u001b[K/\u001b[01;31m\u001b[K01\u001b[m\u001b[K/\u001b[01;31m\u001b[K202\u001b[m\u001b[K\u001b[01;31m\u001b[K5\u001b[m\u001b[K\n",
      "\u001b[01;31m\u001b[K01\u001b[m\u001b[K/\u001b[01;31m\u001b[K28\u001b[m\u001b[K/\u001b[01;31m\u001b[K202\u001b[m\u001b[K\u001b[01;31m\u001b[K5\u001b[m\u001b[K\n",
      "\n",
      "# Datas inválidas\n",
      "\u001b[01;31m\u001b[K202\u001b[m\u001b[K\u001b[01;31m\u001b[K5\u001b[m\u001b[K-\u001b[01;31m\u001b[K13\u001b[m\u001b[K-\u001b[01;31m\u001b[K28\u001b[m\u001b[K\n",
      "\u001b[01;31m\u001b[K28\u001b[m\u001b[K-\u001b[01;31m\u001b[K01\u001b[m\u001b[K-\u001b[01;31m\u001b[K202\u001b[m\u001b[K\u001b[01;31m\u001b[K5\u001b[m\u001b[K\n",
      "\u001b[01;31m\u001b[K31\u001b[m\u001b[K/\u001b[01;31m\u001b[K02\u001b[m\u001b[K/\u001b[01;31m\u001b[K202\u001b[m\u001b[K\u001b[01;31m\u001b[K5\u001b[m\u001b[K\n",
      "\n",
      "# URLs válidas\n",
      "https://www.google.com\n",
      "http://example.org\n",
      "www.meusite.com\n",
      "ftp://ftp.exemplo.com\n",
      "\n",
      "# URLs inválidas\n",
      "htp://www.google.com\n",
      "http:/example.org\n",
      "meusite,com\n",
      "ftp:/ftp.exemplo.com\n",
      "\n",
      "# Códigos Postais (Brasil)\n",
      "\u001b[01;31m\u001b[K010\u001b[m\u001b[K\u001b[01;31m\u001b[K01\u001b[m\u001b[K-\u001b[01;31m\u001b[K000\u001b[m\u001b[K\n",
      "\u001b[01;31m\u001b[K123\u001b[m\u001b[K\u001b[01;31m\u001b[K45\u001b[m\u001b[K-\u001b[01;31m\u001b[K678\u001b[m\u001b[K\n",
      "\n",
      "# Códigos Postais inválidos\n",
      "\u001b[01;31m\u001b[K123\u001b[m\u001b[K\u001b[01;31m\u001b[K456\u001b[m\u001b[K\u001b[01;31m\u001b[K78\u001b[m\u001b[K\n",
      "\u001b[01;31m\u001b[K12\u001b[m\u001b[K-\u001b[01;31m\u001b[K345\u001b[m\u001b[K\n",
      "\n",
      "# Números válidos\n",
      "\u001b[01;31m\u001b[K123\u001b[m\u001b[K\n",
      "\u001b[01;31m\u001b[K0\u001b[m\u001b[K.\u001b[01;31m\u001b[K456\u001b[m\u001b[K\n",
      "-\u001b[01;31m\u001b[K789\u001b[m\u001b[K\n",
      "+\u001b[01;31m\u001b[K0\u001b[m\u001b[K.\u001b[01;31m\u001b[K12\u001b[m\u001b[K\n",
      "\n",
      "# Números inválidos\n",
      "\u001b[01;31m\u001b[K123\u001b[m\u001b[Kabc\n",
      "- \u001b[01;31m\u001b[K456\u001b[m\u001b[K\n",
      "+ \u001b[01;31m\u001b[K0\u001b[m\u001b[K.\u001b[01;31m\u001b[K12\u001b[m\u001b[K\n",
      "\n",
      "# Palavras válidas (alfabéticas apenas)\n",
      "regex\n",
      "funcionalidade\n",
      "pratica\n",
      "\n",
      "# Palavras inválidas\n",
      "regex\u001b[01;31m\u001b[K123\u001b[m\u001b[K\n",
      "\u001b[01;31m\u001b[K123\u001b[m\u001b[Kregex\n",
      "_funçáo\n",
      "\n",
      "abcdxyzad\n",
      "acdan\n",
      "dahdjk\u001b[01;31m\u001b[K1\u001b[m\u001b[Kabcslklsad\n",
      "abv\n",
      "ABCADBACCATG\n",
      "\\n\n",
      "bcdkhg\n",
      "joão comeu mamão usando sua mão\n",
      "jdaidkdd*fla\n"
     ]
    }
   ],
   "source": [
    "grep -E '[[:digit:]]{,3}' regex.txt"
   ]
  },
  {
   "cell_type": "code",
   "execution_count": 16,
   "id": "3d3cd6f4-396d-4869-a18d-0e405a76e90f",
   "metadata": {},
   "outputs": [
    {
     "name": "stdout",
     "output_type": "stream",
     "text": [
      "\u001b[01;31m\u001b[K(11)\u001b[m\u001b[K 91234-5678\n",
      "# Códigos Postais \u001b[01;31m\u001b[K(Brasil)\u001b[m\u001b[K\n",
      "# Palavras válidas \u001b[01;31m\u001b[K(alfabéticas apenas)\u001b[m\u001b[K\n"
     ]
    }
   ],
   "source": [
    "# Encontrando tudo que esteja entre parenteses\n",
    "# Lembrando dos backslashes para tratar os metacaracteres literalmente\n",
    "grep -E \"\\(.*\\)\" regex.txt"
   ]
  },
  {
   "cell_type": "code",
   "execution_count": 17,
   "id": "994ea812-f711-42ae-b2b1-1dfc64dca50a",
   "metadata": {},
   "outputs": [
    {
     "name": "stdout",
     "output_type": "stream",
     "text": [
      "\u001b[01;31m\u001b[Khttp\u001b[m\u001b[Ks://www.google.com\n",
      "\u001b[01;31m\u001b[Khttp\u001b[m\u001b[K://example.org\n",
      "\u001b[01;31m\u001b[Kftp\u001b[m\u001b[K://\u001b[01;31m\u001b[Kftp\u001b[m\u001b[K.exemplo.com\n",
      "\u001b[01;31m\u001b[Khttp\u001b[m\u001b[K:/example.org\n",
      "\u001b[01;31m\u001b[Kftp\u001b[m\u001b[K:/\u001b[01;31m\u001b[Kftp\u001b[m\u001b[K.exemplo.com\n"
     ]
    }
   ],
   "source": [
    "# Exemplo usando pipe\n",
    "# Estamos encontrando ou a expressão a direita, ou á a esquerda.\n",
    "# Lembrando que precisamos usar com aspas para funcionar e o parenteses não ser tratado como parte da sintaxe regex\n",
    "\n",
    "grep -E \"(http|ftp)\" regex.txt"
   ]
  },
  {
   "cell_type": "code",
   "execution_count": 18,
   "id": "7dd01c2e-eebf-40ef-b9c0-b98e14d90a47",
   "metadata": {},
   "outputs": [
    {
     "name": "stdout",
     "output_type": "stream",
     "text": [
      "\u001b[01;31m\u001b[Khttp\u001b[m\u001b[K\n",
      "\u001b[01;31m\u001b[Khttp\u001b[m\u001b[K\n",
      "\u001b[01;31m\u001b[Kftp\u001b[m\u001b[K\n",
      "\u001b[01;31m\u001b[Kftp\u001b[m\u001b[K\n",
      "\u001b[01;31m\u001b[Khttp\u001b[m\u001b[K\n",
      "\u001b[01;31m\u001b[Kftp\u001b[m\u001b[K\n",
      "\u001b[01;31m\u001b[Kftp\u001b[m\u001b[K\n"
     ]
    }
   ],
   "source": [
    "# A forma básica (obsoleta) também funciona com o uso dos backslashs\n",
    "grep -E -o \\('http|ftp'\\) regex.txt"
   ]
  },
  {
   "cell_type": "code",
   "execution_count": 19,
   "id": "02e50a81-b48f-4891-91e4-69ecd2fe360d",
   "metadata": {},
   "outputs": [
    {
     "name": "stdout",
     "output_type": "stream",
     "text": [
      "+1 \u001b[01;31m\u001b[K800-123-4567\u001b[m\u001b[K\n"
     ]
    }
   ],
   "source": [
    "# Exemplos de aplicações mais complexas\n",
    "# Queremos encontrar todos os números de telefones que comecem com 1 ou não\n",
    "\n",
    "grep -E '(1-)?[[:digit:]]{3}-[[:digit:]]{3}-[[:digit:]]{4}' regex.txt\n",
    "\n",
    "# (1-)? : Corresponde com 1 ou nenhuma ocorrencia de 1-\n",
    "# [[:digit:]]{3} : Corresponde com quaisquer 3 digitos em sequencia\n"
   ]
  },
  {
   "cell_type": "code",
   "execution_count": 20,
   "id": "99c42d43-7d5c-4814-a456-7da1f853e942",
   "metadata": {},
   "outputs": [],
   "source": [
    "touch file2.txt\n",
    "echo \"Here is my number: 919-543-3300.\n",
    "hi John, good to meet you\n",
    "They bought 731 bananas\n",
    "Please call 1.919.554.3800\n",
    "I think he said it was 337.4355\" > file2.txt"
   ]
  },
  {
   "cell_type": "code",
   "execution_count": 21,
   "id": "ef0da507-69f9-468f-8b0e-b09b821bd3c1",
   "metadata": {},
   "outputs": [
    {
     "name": "stdout",
     "output_type": "stream",
     "text": [
      "Here is my number: 919-543-3300.\n",
      "hi John, good to meet you\n",
      "They bought 731 bananas\n",
      "Please call 1.919.554.3800\n",
      "I think he said it was 337.4355\n"
     ]
    }
   ],
   "source": [
    "cat file2.txt"
   ]
  },
  {
   "cell_type": "code",
   "execution_count": 22,
   "id": "c1219fd6-d2c7-4192-87c1-dc8f3c8dc957",
   "metadata": {},
   "outputs": [
    {
     "ename": "",
     "evalue": "1",
     "output_type": "error",
     "traceback": []
    }
   ],
   "source": [
    "# buscando o número de telefone certo\n",
    "grep '(1-)?[[:digit:]]{3}-[[:digit:]]{4}' file2.txt\n"
   ]
  },
  {
   "cell_type": "code",
   "execution_count": 27,
   "id": "f9631f36-8939-45c1-8456-97da14a5777d",
   "metadata": {},
   "outputs": [
    {
     "name": "stdout",
     "output_type": "stream",
     "text": [
      "Here is my number: 919-\u001b[01;31m\u001b[K543-3300\u001b[m\u001b[K.\n"
     ]
    }
   ],
   "source": [
    "# Esse erro ocorre porque {} não faz parte da sintaxe estendida, por isso a necessidade de uma flag -E, ou...\n",
    "egrep '(1-)?[[:digit:]]{3}-[[:digit:]]{4}' file2.txt"
   ]
  },
  {
   "cell_type": "code",
   "execution_count": 28,
   "id": "cbcd5aff-1234-40ed-bf88-ce29ef9c44b5",
   "metadata": {},
   "outputs": [
    {
     "name": "stdout",
     "output_type": "stream",
     "text": [
      "Here is my number: 919-\u001b[01;31m\u001b[K543-3300\u001b[m\u001b[K.\n",
      "Please call 1.919.\u001b[01;31m\u001b[K554.3800\u001b[m\u001b[K\n",
      "I think he said it was \u001b[01;31m\u001b[K337.4355\u001b[m\u001b[K\n"
     ]
    }
   ],
   "source": [
    "# Se quisermos buscar independentemente se estiver separado por - ou .\n",
    "egrep '(1[-.])?[[:digit:]]{3}[-.][[:digit:]]{4}' file2.txt"
   ]
  },
  {
   "cell_type": "markdown",
   "id": "3c0b8ba3-1469-4712-9042-0d6b8a131d06",
   "metadata": {},
   "source": [
    "### **Greedy Matchings**"
   ]
  },
  {
   "cell_type": "markdown",
   "id": "a6f1d423-7612-4b40-8c13-05a861ca88dc",
   "metadata": {},
   "source": [
    "A correspondência de padrões é \"gananciosa\" porque por padrão, a maior string correspondente é escolhida.\n",
    "\n",
    "Vamos supor que estamos trabalhando com arquivos html e queremos encontrar as tags do html"
   ]
  },
  {
   "cell_type": "code",
   "execution_count": 29,
   "id": "a62de24e-0a4d-432e-bb86-7ac087645d4a",
   "metadata": {},
   "outputs": [
    {
     "name": "stdout",
     "output_type": "stream",
     "text": [
      "\u001b[01;31m\u001b[K<b> in place </b> of <b> one </b>\u001b[m\u001b[K\n"
     ]
    }
   ],
   "source": [
    "echo 'Do an internship <b> in place </b> of <b> one </b> course.' >> file2.txt\n",
    "\n",
    "# Podemos fazer\n",
    "grep -o \"<.*>\" file2.txt"
   ]
  },
  {
   "cell_type": "code",
   "execution_count": 30,
   "id": "db5cefc5-c9fd-4ae3-a30b-4d14adb55f06",
   "metadata": {},
   "outputs": [
    {
     "name": "stdout",
     "output_type": "stream",
     "text": [
      "\u001b[01;31m\u001b[K<b>\u001b[m\u001b[K\n",
      "\u001b[01;31m\u001b[K</b>\u001b[m\u001b[K\n",
      "\u001b[01;31m\u001b[K<b>\u001b[m\u001b[K\n",
      "\u001b[01;31m\u001b[K</b>\u001b[m\u001b[K\n"
     ]
    }
   ],
   "source": [
    "# Para ter uma correspondência não gananciosa, que iria nos retornar somente as tags\n",
    "# A tag -P ativa a sintaxe perl, que também é uma forma de trabalhar com expressões regulares\n",
    "grep -P -o \"<.*?>\" file2.txt\n",
    "\n",
    "# Desafio: Resolver esse problema sem usar \"?\".\n",
    "# Dica: Existe algum tipo de caractere que não queremos que estejam dentro das tags?"
   ]
  },
  {
   "cell_type": "markdown",
   "id": "094c97ea-a3cd-43a6-a9d0-00796e717eb0",
   "metadata": {},
   "source": [
    "### **Condicionais**"
   ]
  },
  {
   "cell_type": "markdown",
   "id": "34ba3571-3e34-4cfe-9d4e-0007f22e6808",
   "metadata": {},
   "source": [
    "Como foi mencionado no ínicio, podemos usar ```[[ ]]``` para usar regex com estruturas condicionais. Por exemplo:\n",
    "\n",
    "```\n",
    "# Verificar se umas string só contem números.\n",
    "\n",
    "read -p \"Digite um número: \" input\n",
    "if [[ \"$input\" =~ ^[0-9]+$ ]]; then # O Símbolo =~ é usado para fazer comparações com expressões regulares\n",
    "    echo \"É um número!\"\n",
    "else\n",
    "    echo \"Não é um número!\"\n",
    "fi\n",
    "```\n",
    "\n",
    "*Dicas:*\n",
    "* Não use aspas duplas no regex porque pode gerar interpretações erroneas\n",
    "* As expressões devem seguir a sintaxe extendida do regex\n",
    "\n",
    "```if [[ \"$texto\" =~ \"[0-9]\" ]]; then  # ERRADO! Regex tratada como string literal```\n",
    "\n",
    "Se for preciso capturar partes de um regex, podemos usar ```BASH_REMATCH```:\n",
    "\n",
    "```\n",
    "if [[ \"2024-01-31\" =~ ([0-9]{4})-([0-9]{2})-([0-9]{2}) ]]; then\n",
    "    echo \"Ano: ${BASH_REMATCH[1]}, Mês: ${BASH_REMATCH[2]}, Dia: ${BASH_REMATCH[3]}\"\n",
    "fi\n",
    "```"
   ]
  },
  {
   "cell_type": "markdown",
   "id": "2e2d3da9-d380-457f-8bdf-318e8877d3a1",
   "metadata": {},
   "source": [
    "### **Globs x Regex**"
   ]
  },
  {
   "cell_type": "markdown",
   "id": "186881a2-6437-4381-861a-95c802c60147",
   "metadata": {},
   "source": [
    "globstar shell option: Permite usar ** da mesma forma que * para corresponder em um contexto de nomes de arquivos e diretórios. Entre outros wildcards.\n",
    "\n",
    "https://computing.stat.berkeley.edu/tutorial-using-bash/file-management#3-filename-matching-globbing\n"
   ]
  },
  {
   "cell_type": "code",
   "execution_count": 31,
   "id": "85877382-3887-4cbb-a6d8-419ae35352cd",
   "metadata": {},
   "outputs": [],
   "source": [
    "# Ia fazer uma seção falando disso, mas o assunto é extenso e merece ser estudado com mais detalhes."
   ]
  },
  {
   "cell_type": "markdown",
   "id": "76b3558b-cef4-4c82-95a1-330acd12c7fb",
   "metadata": {},
   "source": [
    "# **Exercícios**"
   ]
  },
  {
   "cell_type": "markdown",
   "id": "665a1d78-52db-4fc6-bb11-d4d539cde7f4",
   "metadata": {},
   "source": [
    "**1-** Explicar o que a expressão a seguir irá corresponder.\n",
    "```$ grep '^[^T]*is.*$' file1.txt```\n",
    "\n",
    "**2-** Verifique se foi passado um email válido;\n",
    "\n",
    "**3-** Encontre as linhas vazias em um arquivo;\n",
    "\n",
    "**4-** Encontre todas as palavras que comecem com a letra E;\n",
    "\n",
    "**5-** Crie um script que válide senhas de acordo com os critérios:\n",
    "\n",
    "* Pelo  menos 8 caracteres;\n",
    "\n",
    "* Pelo menos uma letra maiúscula;\n",
    "\n",
    "* Pelo menos um número;\n",
    "\n",
    "**6-** Remover comentários de um script."
   ]
  },
  {
   "cell_type": "code",
   "execution_count": 32,
   "id": "535f6bae-3f85-497d-9516-30655042f2b9",
   "metadata": {},
   "outputs": [
    {
     "name": "stdout",
     "output_type": "stream",
     "text": [
      "\u001b[01;31m\u001b[K# Códigos Postais (Brasil)\u001b[m\u001b[K\n",
      "\u001b[01;31m\u001b[K# Códigos Postais inválidos\u001b[m\u001b[K\n"
     ]
    }
   ],
   "source": [
    "# 1\n",
    "# Qualquer ocorrencia de uma linha que não comece com T e seguido de quaisquer sequencia de caracteres que terminem em is.\n",
    "grep -E '^[^T]*is.*$' regex.txt"
   ]
  },
  {
   "cell_type": "markdown",
   "id": "141b1cec-9211-4f28-a7bb-9e924a584558",
   "metadata": {},
   "source": [
    "A explicação do [regex101](https://regex101.com/) para a expressão foi:\n",
    "\n",
    "```^``` asserts position at start of a line;\n",
    "\n",
    "Match a single character not present in the list below ```[^T]```;\n",
    "\n",
    "```*``` matches the previous token between zero and unlimited times, as many times as possible, giving back as needed (*greedy*);\n",
    "\n",
    "```T``` matches the character T with index 8410 (5416 or 1248) literally (*case sensitive*);\n",
    "\n",
    "```is``` matches the characters is literally (*case sensitive*);\n",
    "\n",
    "```.``` matches any character (*except for line terminators*);\n",
    "\n",
    "```*``` matches the previous token between zero and unlimited times, as many times as possible, giving back as needed (*greedy*);\n",
    "\n",
    "```$``` asserts position at the end of a line."
   ]
  },
  {
   "cell_type": "markdown",
   "id": "28746ac3-dc87-4b57-a40c-68c2a7f8c309",
   "metadata": {},
   "source": [
    "# **Referências**"
   ]
  },
  {
   "cell_type": "markdown",
   "id": "5ce3da3a-89bd-4856-bb5d-4e1546e1a9e6",
   "metadata": {},
   "source": [
    "https://regex101.com/\n",
    "\n",
    "https://computing.stat.berkeley.edu/tutorial-using-bash/regex.html\n",
    "\n",
    "https://www.gnu.org/software/bash/manual/bash.html#Pattern-Matching\n"
   ]
  },
  {
   "cell_type": "code",
   "execution_count": 33,
   "id": "c4de6d5b-d35b-4496-bb66-f3031b996c10",
   "metadata": {},
   "outputs": [],
   "source": [
    "# Eu usei ajuda do GPT para entender alguns comandos e conceitos, propor exercicios e criar os arquivos de teste."
   ]
  },
  {
   "cell_type": "code",
   "execution_count": 34,
   "id": "96594e2f-6937-4010-a6cf-bf03e3c14df9",
   "metadata": {
    "scrolled": true
   },
   "outputs": [
    {
     "name": "stdout",
     "output_type": "stream",
     "text": [
      "\u001b[4mregex\u001b[24m(7)               Miscellaneous Information Manual               \u001b[4mregex\u001b[24m(7)\n",
      "\n",
      "\u001b[1mNAME\u001b[0m\n",
      "       regex - POSIX.2 regular expressions\n",
      "\n",
      "\u001b[1mDESCRIPTION\u001b[0m\n",
      "       Regular  expressions (\"RE\"s), as defined in POSIX.2, come in two forms:\n",
      "       modern REs (roughly those of \u001b[1megrep\u001b[22m(1); POSIX.2 calls  these  \"extended\"\n",
      "       REs)  and  obsolete  REs (roughly those of \u001b[1med\u001b[22m(1); POSIX.2 \"basic\" REs).\n",
      "       Obsolete REs mostly exist for backward compatibility in some  old  pro‐\n",
      "       grams;  they will be discussed at the end.  POSIX.2 leaves some aspects\n",
      "       of RE syntax and semantics open; \"(!)\" marks decisions on these aspects\n",
      "       that may not be fully portable to other POSIX.2 implementations.\n",
      "\n",
      "       A (modern) RE is one(!) or more nonempty(!) \u001b[4mbranches\u001b[24m, separated by '|'.\n",
      "       It matches anything that matches one of the branches.\n",
      "\n",
      "       A branch is one(!) or more \u001b[4mpieces\u001b[24m, concatenated.  It  matches  a  match\n",
      "       for the first, followed by a match for the second, and so on.\n",
      "\n",
      "       A  piece  is an \u001b[4matom\u001b[24m possibly followed by a single(!) '*', '+', '?', or\n",
      "       \u001b[4mbound\u001b[24m.  An atom followed by '*' matches a sequence of 0 or more matches\n",
      "       of the atom.  An atom followed by '+' matches a sequence of 1  or  more\n",
      "       matches  of  the atom.  An atom followed by '?' matches a sequence of 0\n",
      "       or 1 matches of the atom.\n",
      "\n",
      "       A \u001b[4mbound\u001b[24m is '{' followed by an unsigned decimal integer,  possibly  fol‐\n",
      "       lowed by ',' possibly followed by another unsigned decimal integer, al‐\n",
      "       ways  followed  by '}'.  The integers must lie between 0 and \u001b[1mRE_DUP_MAX\u001b[0m\n",
      "       (255(!)) inclusive, and if there are two of them, the first may not ex‐\n",
      "       ceed the second.  An atom followed by a bound containing one integer  \u001b[4mi\u001b[0m\n",
      "       and  no  comma matches a sequence of exactly \u001b[4mi\u001b[24m matches of the atom.  An\n",
      "       atom followed by a bound containing one integer \u001b[4mi\u001b[24m and a comma matches a\n",
      "       sequence of \u001b[4mi\u001b[24m or more matches of the atom.  An atom followed by a bound\n",
      "       containing two integers \u001b[4mi\u001b[24m and \u001b[4mj\u001b[24m matches a sequence of \u001b[4mi\u001b[24m through \u001b[4mj\u001b[24m  (in‐\n",
      "       clusive) matches of the atom.\n",
      "\n",
      "       An  atom is a regular expression enclosed in \"\u001b[4m()\u001b[24m\" (matching a match for\n",
      "       the regular expression), an  empty  set  of  \"\u001b[4m()\u001b[24m\"  (matching  the  null\n",
      "       string)(!),  a \u001b[4mbracket\u001b[24m \u001b[4mexpression\u001b[24m (see below), '.' (matching any single\n",
      "       character), '^' (matching the null string at the beginning of a  line),\n",
      "       '$'  (matching the null string at the end of a line), a '\\' followed by\n",
      "       one of the characters \"\u001b[4m^.[$()|*+?{\\\u001b[24m\" (matching that character taken  as\n",
      "       an  ordinary  character),  a  '\\'  followed  by  any other character(!)\n",
      "       (matching that character taken as an ordinary character, as if the  '\\'\n",
      "       had  not been present(!)), or a single character with no other signifi‐\n",
      "       cance (matching that character).  A '{' followed by a  character  other\n",
      "       than a digit is an ordinary character, not the beginning of a bound(!).\n",
      "       It is illegal to end an RE with '\\'.\n",
      "\n",
      "       A \u001b[4mbracket\u001b[24m \u001b[4mexpression\u001b[24m is a list of characters enclosed in \"\u001b[4m[]\u001b[24m\".  It nor‐\n",
      "       mally  matches  any single character from the list (but see below).  If\n",
      "       the list begins with '^', it matches any single character (but see  be‐\n",
      "       low)  \u001b[4mnot\u001b[24m from the rest of the list.  If two characters in the list are\n",
      "       separated by '-', this is shorthand for the full  \u001b[4mrange\u001b[24m  of  characters\n",
      "       between  those  two (inclusive) in the collating sequence, for example,\n",
      "       \"\u001b[4m[0-9]\u001b[24m\" in ASCII matches any decimal digit.  It is illegal(!)  for  two\n",
      "       ranges  to  share  an  endpoint, for example, \"\u001b[4ma-c-e\u001b[24m\".  Ranges are very\n",
      "       collating-sequence-dependent, and portable programs should avoid  rely‐\n",
      "       ing on them.\n",
      "\n",
      "       To include a literal ']' in the list, make it the first character (fol‐\n",
      "       lowing a possible '^').  To include a literal '-', make it the first or\n",
      "       last  character,  or  the second endpoint of a range.  To use a literal\n",
      "       '-' as the first endpoint of a range, enclose it in \"\u001b[4m[.\u001b[24m\" and  \"\u001b[4m.]\u001b[24m\"   to\n",
      "       make  it  a collating element (see below).  With the exception of these\n",
      "       and some combinations using '[' (see next paragraphs), all  other  spe‐\n",
      "       cial  characters, including '\\', lose their special significance within\n",
      "       a bracket expression.\n",
      "\n",
      "       Within a bracket expression, a collating element (a character, a multi‐\n",
      "       character sequence that collates as if it were a single character, or a\n",
      "       collating-sequence name for either) enclosed in \"\u001b[4m[.\u001b[24m\"  and  \"\u001b[4m.]\u001b[24m\"  stands\n",
      "       for the sequence of characters of that collating element.  The sequence\n",
      "       is  a  single  element of the bracket expression's list.  A bracket ex‐\n",
      "       pression containing a multicharacter collating element can  thus  match\n",
      "       more  than  one  character,  for example, if the collating sequence in‐\n",
      "       cludes a \"ch\" collating element, then the RE \"\u001b[4m[[.ch.]]*c\u001b[24m\"  matches  the\n",
      "       first five characters of \"chchcc\".\n",
      "\n",
      "       Within  a  bracket expression, a collating element enclosed in \"\u001b[4m[=\u001b[24m\" and\n",
      "       \"\u001b[4m=]\u001b[24m\" is an equivalence class, standing for the sequences of  characters\n",
      "       of  all  collating  elements  equivalent to that one, including itself.\n",
      "       (If there are no other equivalent collating elements, the treatment  is\n",
      "       as  if the enclosing delimiters were \"\u001b[4m[.\u001b[24m\" and \"\u001b[4m.]\u001b[24m\".)  For example, if o\n",
      "       and ô  are  the  members  of  an  equivalence  class,  then  \"\u001b[4m[[=o=]]\u001b[24m\",\n",
      "       \"\u001b[4m[[=ô=]]\u001b[24m\",  and  \"\u001b[4m[oô]\u001b[24m\"  are  all synonymous.  An equivalence class may\n",
      "       not(!) be an endpoint of a range.\n",
      "\n",
      "       Within a bracket expression, the name of a \u001b[4mcharacter\u001b[24m \u001b[4mclass\u001b[24m enclosed  in\n",
      "       \"\u001b[4m[:\u001b[24m\"  and  \"\u001b[4m:]\u001b[24m\" stands for the list of all characters belonging to that\n",
      "       class.  Standard character class names are:\n",
      "\n",
      "              alnum   digit   punct\n",
      "              alpha   graph   space\n",
      "              blank   lower   upper\n",
      "              cntrl   print   xdigit\n",
      "\n",
      "       These stand for the character classes defined in \u001b[1mwctype\u001b[22m(3).   A  locale\n",
      "       may  provide  others.  A character class may not be used as an endpoint\n",
      "       of a range.\n",
      "\n",
      "       In the event that an RE could match more than one substring of a  given\n",
      "       string, the RE matches the one starting earliest in the string.  If the\n",
      "       RE  could  match  more  than  one  substring starting at that point, it\n",
      "       matches the longest.  Subexpressions also match  the  longest  possible\n",
      "       substrings,  subject  to the constraint that the whole match be as long\n",
      "       as possible, with subexpressions starting earlier in the RE taking pri‐\n",
      "       ority over ones starting later.  Note that higher-level  subexpressions\n",
      "       thus take priority over their lower-level component subexpressions.\n",
      "\n",
      "       Match  lengths  are  measured in characters, not collating elements.  A\n",
      "       null string is considered longer than no match at  all.   For  example,\n",
      "       \"\u001b[4mbb*\u001b[24m\"    matches    the    three    middle   characters   of   \"abbbc\",\n",
      "       \"\u001b[4m(wee|week)(knights|nights)\u001b[24m\"  matches  all  ten  characters  of  \"week‐\n",
      "       nights\",  when  \"\u001b[4m(.*).*\u001b[24m\"  is  matched  against  \"abc\" the parenthesized\n",
      "       subexpression matches all three characters, and when \"\u001b[4m(a*)*\u001b[24m\" is matched\n",
      "       against \"bc\" both the whole  RE  and  the  parenthesized  subexpression\n",
      "       match the null string.\n",
      "\n",
      "       If case-independent matching is specified, the effect is much as if all\n",
      "       case  distinctions  had vanished from the alphabet.  When an alphabetic\n",
      "       that exists in multiple cases appears as an ordinary character  outside\n",
      "       a  bracket expression, it is effectively transformed into a bracket ex‐\n",
      "       pression containing both cases, for example, 'x' becomes \"\u001b[4m[xX]\u001b[24m\".   When\n",
      "       it appears inside a bracket expression, all case counterparts of it are\n",
      "       added  to  the  bracket expression, so that, for example, \"\u001b[4m[x]\u001b[24m\" becomes\n",
      "       \"\u001b[4m[xX]\u001b[24m\" and \"\u001b[4m[^x]\u001b[24m\" becomes \"\u001b[4m[^xX]\u001b[24m\".\n",
      "\n",
      "       No particular limit is imposed on the length of REs(!).   Programs  in‐\n",
      "       tended  to  be portable should not employ REs longer than 256 bytes, as\n",
      "       an implementation can refuse to accept such REs and  remain  POSIX-com‐\n",
      "       pliant.\n",
      "\n",
      "       Obsolete  (\"basic\")  regular  expressions  differ  in several respects.\n",
      "       '|', '+', and '?' are ordinary characters and there  is  no  equivalent\n",
      "       for  their functionality.  The delimiters for bounds are \"\u001b[4m\\{\u001b[24m\" and \"\u001b[4m\\}\u001b[24m\",\n",
      "       with '{' and '}' by themselves ordinary  characters.   The  parentheses\n",
      "       for  nested subexpressions are \"\u001b[4m\\(\u001b[24m\" and \"\u001b[4m\\)\u001b[24m\", with '(' and ')' by them‐\n",
      "       selves ordinary characters.  '^' is an ordinary character except at the\n",
      "       beginning of the RE or(!) the beginning of a  parenthesized  subexpres‐\n",
      "       sion,  '$'  is  an ordinary character except at the end of the RE or(!)\n",
      "       the end of a parenthesized subexpression, and '*' is an ordinary  char‐\n",
      "       acter  if  it  appears at the beginning of the RE or the beginning of a\n",
      "       parenthesized subexpression (after a possible leading '^').\n",
      "\n",
      "       Finally, there is one new type of atom, a \u001b[4mback\u001b[24m \u001b[4mreference\u001b[24m: '\\'  followed\n",
      "       by  a  nonzero  decimal digit \u001b[4md\u001b[24m matches the same sequence of characters\n",
      "       matched by the \u001b[4md\u001b[24mth parenthesized  subexpression  (numbering  subexpres‐\n",
      "       sions by the positions of their opening parentheses, left to right), so\n",
      "       that, for example, \"\u001b[4m\\([bc]\\)\\1\u001b[24m\" matches \"bb\" or \"cc\" but not \"bc\".\n",
      "\n",
      "\u001b[1mBUGS\u001b[0m\n",
      "       Having two kinds of REs is a botch.\n",
      "\n",
      "       The  current POSIX.2 spec says that ')' is an ordinary character in the\n",
      "       absence of an unmatched '('; this was  an  unintentional  result  of  a\n",
      "       wording error, and change is likely.  Avoid relying on it.\n",
      "\n",
      "       Back  references  are a dreadful botch, posing major problems for effi‐\n",
      "       cient implementations.  They are also somewhat  vaguely  defined  (does\n",
      "       \"\u001b[4ma\\(\\(b\\)*\\2\\)*d\u001b[24m\" match \"abbbd\"?).  Avoid using them.\n",
      "\n",
      "       POSIX.2's  specification  of  case-independent  matching is vague.  The\n",
      "       \"one case implies all cases\" definition given above is current  consen‐\n",
      "       sus among implementors as to the right interpretation.\n",
      "\n",
      "\u001b[1mAUTHOR\u001b[0m\n",
      "       This page was taken from Henry Spencer's regex package.\n",
      "\n",
      "\u001b[1mSEE ALSO\u001b[0m\n",
      "       \u001b[1mgrep\u001b[22m(1), \u001b[1mregex\u001b[22m(3)\n",
      "\n",
      "       POSIX.2, section 2.8 (Regular Expression Notation).\n",
      "\n",
      "Linux man-pages 6.7               2023-11-01                          \u001b[4mregex\u001b[24m(7)\n"
     ]
    }
   ],
   "source": [
    "# Manual no bash\n",
    "man 7 regex"
   ]
  },
  {
   "cell_type": "code",
   "execution_count": 35,
   "id": "b96ff80d-5dfd-47e5-beca-662083b747ce",
   "metadata": {},
   "outputs": [
    {
     "name": "stdout",
     "output_type": "stream",
     "text": [
      "Usage: grep [OPTION]... PATTERNS [FILE]...\n",
      "Search for PATTERNS in each FILE.\n",
      "Example: grep -i 'hello world' menu.h main.c\n",
      "PATTERNS can contain multiple patterns separated by newlines.\n",
      "\n",
      "Pattern selection and interpretation:\n",
      "  -E, --extended-regexp     PATTERNS are extended regular expressions\n",
      "  -F, --fixed-strings       PATTERNS are strings\n",
      "  -G, --basic-regexp        PATTERNS are basic regular expressions\n",
      "  -P, --perl-regexp         PATTERNS are Perl regular expressions\n",
      "  -e, --regexp=PATTERNS     use PATTERNS for matching\n",
      "  -f, --file=FILE           take PATTERNS from FILE\n",
      "  -i, --ignore-case         ignore case distinctions in patterns and data\n",
      "      --no-ignore-case      do not ignore case distinctions (default)\n",
      "  -w, --word-regexp         match only whole words\n",
      "  -x, --line-regexp         match only whole lines\n",
      "  -z, --null-data           a data line ends in 0 byte, not newline\n",
      "\n",
      "Miscellaneous:\n",
      "  -s, --no-messages         suppress error messages\n",
      "  -v, --invert-match        select non-matching lines\n",
      "  -V, --version             display version information and exit\n",
      "      --help                display this help text and exit\n",
      "\n",
      "Output control:\n",
      "  -m, --max-count=NUM       stop after NUM selected lines\n",
      "  -b, --byte-offset         print the byte offset with output lines\n",
      "  -n, --line-number         print line number with output lines\n",
      "      --line-buffered       flush output on every line\n",
      "  -H, --with-filename       print file name with output lines\n",
      "  -h, --no-filename         suppress the file name prefix on output\n",
      "      --label=LABEL         use LABEL as the standard input file name prefix\n",
      "  -o, --only-matching       show only nonempty parts of lines that match\n",
      "  -q, --quiet, --silent     suppress all normal output\n",
      "      --binary-files=TYPE   assume that binary files are TYPE;\n",
      "                            TYPE is 'binary', 'text', or 'without-match'\n",
      "  -a, --text                equivalent to --binary-files=text\n",
      "  -I                        equivalent to --binary-files=without-match\n",
      "  -d, --directories=ACTION  how to handle directories;\n",
      "                            ACTION is 'read', 'recurse', or 'skip'\n",
      "  -D, --devices=ACTION      how to handle devices, FIFOs and sockets;\n",
      "                            ACTION is 'read' or 'skip'\n",
      "  -r, --recursive           like --directories=recurse\n",
      "  -R, --dereference-recursive  likewise, but follow all symlinks\n",
      "      --include=GLOB        search only files that match GLOB (a file pattern)\n",
      "      --exclude=GLOB        skip files that match GLOB\n",
      "      --exclude-from=FILE   skip files that match any file pattern from FILE\n",
      "      --exclude-dir=GLOB    skip directories that match GLOB\n",
      "  -L, --files-without-match  print only names of FILEs with no selected lines\n",
      "  -l, --files-with-matches  print only names of FILEs with selected lines\n",
      "  -c, --count               print only a count of selected lines per FILE\n",
      "  -T, --initial-tab         make tabs line up (if needed)\n",
      "  -Z, --null                print 0 byte after FILE name\n",
      "\n",
      "Context control:\n",
      "  -B, --before-context=NUM  print NUM lines of leading context\n",
      "  -A, --after-context=NUM   print NUM lines of trailing context\n",
      "  -C, --context=NUM         print NUM lines of output context\n",
      "  -NUM                      same as --context=NUM\n",
      "      --group-separator=SEP  print SEP on line between matches with context\n",
      "      --no-group-separator  do not print separator for matches with context\n",
      "      --color[=WHEN],\n",
      "      --colour[=WHEN]       use markers to highlight the matching strings;\n",
      "                            WHEN is 'always', 'never', or 'auto'\n",
      "  -U, --binary              do not strip CR characters at EOL (MSDOS/Windows)\n",
      "\n",
      "When FILE is '-', read standard input.  With no FILE, read '.' if\n",
      "recursive, '-' otherwise.  With fewer than two FILEs, assume -h.\n",
      "Exit status is 0 if any line is selected, 1 otherwise;\n",
      "if any error occurs and -q is not given, the exit status is 2.\n",
      "\n",
      "Report bugs to: bug-grep@gnu.org\n",
      "GNU grep home page: <https://www.gnu.org/software/grep/>\n",
      "General help using GNU software: <https://www.gnu.org/gethelp/>\n"
     ]
    }
   ],
   "source": [
    "# grep\n",
    "grep --help"
   ]
  },
  {
   "cell_type": "code",
   "execution_count": 36,
   "id": "bcddfca2-738d-4d68-a43d-da1289e0008d",
   "metadata": {},
   "outputs": [
    {
     "name": "stdout",
     "output_type": "stream",
     "text": [
      "Usage: sed [OPTION]... {script-only-if-no-other-script} [input-file]...\n",
      "\n",
      "  -n, --quiet, --silent\n",
      "                 suppress automatic printing of pattern space\n",
      "      --debug\n",
      "                 annotate program execution\n",
      "  -e script, --expression=script\n",
      "                 add the script to the commands to be executed\n",
      "  -f script-file, --file=script-file\n",
      "                 add the contents of script-file to the commands to be executed\n",
      "  --follow-symlinks\n",
      "                 follow symlinks when processing in place\n",
      "  -i[SUFFIX], --in-place[=SUFFIX]\n",
      "                 edit files in place (makes backup if SUFFIX supplied)\n",
      "  -l N, --line-length=N\n",
      "                 specify the desired line-wrap length for the `l' command\n",
      "  --posix\n",
      "                 disable all GNU extensions.\n",
      "  -E, -r, --regexp-extended\n",
      "                 use extended regular expressions in the script\n",
      "                 (for portability use POSIX -E).\n",
      "  -s, --separate\n",
      "                 consider files as separate rather than as a single,\n",
      "                 continuous long stream.\n",
      "      --sandbox\n",
      "                 operate in sandbox mode (disable e/r/w commands).\n",
      "  -u, --unbuffered\n",
      "                 load minimal amounts of data from the input files and flush\n",
      "                 the output buffers more often\n",
      "  -z, --null-data\n",
      "                 separate lines by NUL characters\n",
      "      --help     display this help and exit\n",
      "      --version  output version information and exit\n",
      "\n",
      "If no -e, --expression, -f, or --file option is given, then the first\n",
      "non-option argument is taken as the sed script to interpret.  All\n",
      "remaining arguments are names of input files; if no input files are\n",
      "specified, then the standard input is read.\n",
      "\n",
      "GNU sed home page: <https://www.gnu.org/software/sed/>.\n",
      "General help using GNU software: <https://www.gnu.org/gethelp/>.\n",
      "E-mail bug reports to: <bug-sed@gnu.org>.\n"
     ]
    }
   ],
   "source": [
    "# sed\n",
    "sed --help"
   ]
  },
  {
   "cell_type": "code",
   "execution_count": 37,
   "id": "24091696-a20f-40cd-a771-2fef10ec5011",
   "metadata": {},
   "outputs": [
    {
     "name": "stdout",
     "output_type": "stream",
     "text": [
      "Usage: mawk [Options] [Program] [file ...]\n",
      "\n",
      "Program:\n",
      "    The -f option value is the name of a file containing program text.\n",
      "    If no -f option is given, a \"--\" ends option processing; the following\n",
      "    parameters are the program text.\n",
      "\n",
      "Options:\n",
      "    -f program-file  Program  text is read from file instead of from the\n",
      "                     command-line.  Multiple -f options are accepted.\n",
      "    -F value         sets the field separator, FS, to value.\n",
      "    -v var=value     assigns value to program variable var.\n",
      "    --               unambiguous end of options.\n",
      "\n",
      "    Implementation-specific options are prefixed with \"-W\".  They can be\n",
      "    abbreviated:\n",
      "\n",
      "    -W version       show version information and exit.\n",
      "    -W compat        pre-POSIX 2001.\n",
      "    -W dump          show assembler-like listing of program and exit.\n",
      "    -W help          show this message and exit.\n",
      "    -W interactive   set unbuffered output, line-buffered input.\n",
      "    -W exec file     use file as program as well as last option.\n",
      "    -W posix         stricter POSIX checking.\n",
      "    -W random=number set initial random seed.\n",
      "    -W sprintf=number adjust size of sprintf buffer.\n",
      "    -W usage         show this message and exit.\n"
     ]
    }
   ],
   "source": [
    "# awk\n",
    "awk --help"
   ]
  },
  {
   "cell_type": "code",
   "execution_count": 38,
   "id": "9613ecf7-d5a1-427f-ad8f-03f0e5b3f332",
   "metadata": {},
   "outputs": [
    {
     "name": "stdout",
     "output_type": "stream",
     "text": [
      "\u001b[?25l\u001b[?7l\u001b[0m\u001b[34m\u001b[1m           `.:/ossyyyysso/:.\n",
      "        .:oyyyyyyyyyyyyyyyyyyo:`\n",
      "      -oyyyyyyyo\u001b[37m\u001b[0m\u001b[1mdMMy\u001b[0m\u001b[34m\u001b[1myyyyyyysyyyyo-\n",
      "    -syyyyyyyyyy\u001b[37m\u001b[0m\u001b[1mdMMy\u001b[0m\u001b[34m\u001b[1moyyyy\u001b[37m\u001b[0m\u001b[1mdmMMy\u001b[0m\u001b[34m\u001b[1myyyys-\n",
      "   oyyys\u001b[37m\u001b[0m\u001b[1mdMy\u001b[0m\u001b[34m\u001b[1msyyyy\u001b[37m\u001b[0m\u001b[1mdMMMMMMMMMMMMMy\u001b[0m\u001b[34m\u001b[1myyyyyyo\n",
      " `oyyyy\u001b[37m\u001b[0m\u001b[1mdMMMMy\u001b[0m\u001b[34m\u001b[1msyysoooooo\u001b[37m\u001b[0m\u001b[1mdMMMMy\u001b[0m\u001b[34m\u001b[1myyyyyyyyo`\n",
      " oyyyyyy\u001b[37m\u001b[0m\u001b[1mdMMMMy\u001b[0m\u001b[34m\u001b[1myyyyyyyyyyys\u001b[37m\u001b[0m\u001b[1mdMMy\u001b[0m\u001b[34m\u001b[1msssssyyyo\n",
      "-yyyyyyyy\u001b[37m\u001b[0m\u001b[1mdMy\u001b[0m\u001b[34m\u001b[1msyyyyyyyyyyyyyys\u001b[37m\u001b[0m\u001b[1mdMMMMMy\u001b[0m\u001b[34m\u001b[1msyyy-\n",
      "oyyyysoo\u001b[37m\u001b[0m\u001b[1mdMy\u001b[0m\u001b[34m\u001b[1myyyyyyyyyyyyyyyyyy\u001b[37m\u001b[0m\u001b[1mdMMMMy\u001b[0m\u001b[34m\u001b[1msyyyo\n",
      "yyys\u001b[37m\u001b[0m\u001b[1mdMMMMMy\u001b[0m\u001b[34m\u001b[1myyyyyyyyyyyyyyyyyysosyyyyyyyy\n",
      "yyys\u001b[37m\u001b[0m\u001b[1mdMMMMMy\u001b[0m\u001b[34m\u001b[1myyyyyyyyyyyyyyyyyyyyyyyyyyyyy\n",
      "oyyyyysos\u001b[37m\u001b[0m\u001b[1mdy\u001b[0m\u001b[34m\u001b[1myyyyyyyyyyyyyyyyyy\u001b[37m\u001b[0m\u001b[1mdMMMMy\u001b[0m\u001b[34m\u001b[1msyyyo\n",
      "-yyyyyyyy\u001b[37m\u001b[0m\u001b[1mdMy\u001b[0m\u001b[34m\u001b[1msyyyyyyyyyyyyyys\u001b[37m\u001b[0m\u001b[1mdMMMMMy\u001b[0m\u001b[34m\u001b[1msyyy-\n",
      " oyyyyyy\u001b[37m\u001b[0m\u001b[1mdMMMy\u001b[0m\u001b[34m\u001b[1msyyyyyyyyyyys\u001b[37m\u001b[0m\u001b[1mdMMy\u001b[0m\u001b[34m\u001b[1moyyyoyyyo\n",
      " `oyyyy\u001b[37m\u001b[0m\u001b[1mdMMMy\u001b[0m\u001b[34m\u001b[1msyyyoooooo\u001b[37m\u001b[0m\u001b[1mdMMMMy\u001b[0m\u001b[34m\u001b[1moyyyyyyyyo\n",
      "   oyyysyyoyyyys\u001b[37m\u001b[0m\u001b[1mdMMMMMMMMMMMy\u001b[0m\u001b[34m\u001b[1myyyyyyyo\n",
      "    -syyyyyyyyy\u001b[37m\u001b[0m\u001b[1mdMMMy\u001b[0m\u001b[34m\u001b[1msyyy\u001b[37m\u001b[0m\u001b[1mdMMMy\u001b[0m\u001b[34m\u001b[1msyyyys-\n",
      "      -oyyyyyyy\u001b[37m\u001b[0m\u001b[1mdMMy\u001b[0m\u001b[34m\u001b[1myyyyyysosyyyyo-\n",
      "        ./oyyyyyyyyyyyyyyyyyyo/.\n",
      "           `.:/oosyyyysso/:.`\u001b[0m\n",
      "\u001b[20A\u001b[9999999D\u001b[43C\u001b[0m\u001b[1m\u001b[34m\u001b[1mraphael\u001b[0m@\u001b[34m\u001b[1mninjaway\u001b[0m \n",
      "\u001b[43C\u001b[0m----------------\u001b[0m \n",
      "\u001b[43C\u001b[0m\u001b[34m\u001b[1mOS\u001b[0m\u001b[0m:\u001b[0m Kubuntu 24.04.1 LTS x86_64\u001b[0m \n",
      "\u001b[43C\u001b[0m\u001b[34m\u001b[1mHost\u001b[0m\u001b[0m:\u001b[0m HP Pavilion 14 Notebook PC 0976100000405F10000610180\u001b[0m \n",
      "\u001b[43C\u001b[0m\u001b[34m\u001b[1mKernel\u001b[0m\u001b[0m:\u001b[0m 6.8.0-52-generic\u001b[0m \n",
      "\u001b[43C\u001b[0m\u001b[34m\u001b[1mUptime\u001b[0m\u001b[0m:\u001b[0m 3 hours, 4 mins\u001b[0m \n",
      "\u001b[43C\u001b[0m\u001b[34m\u001b[1mPackages\u001b[0m\u001b[0m:\u001b[0m 2784 (dpkg), 15 (snap)\u001b[0m \n",
      "\u001b[43C\u001b[0m\u001b[34m\u001b[1mShell\u001b[0m\u001b[0m:\u001b[0m bash 5.2.21\u001b[0m \n",
      "\u001b[43C\u001b[0m\u001b[34m\u001b[1mResolution\u001b[0m\u001b[0m:\u001b[0m 1366x768, 1920x1080\u001b[0m \n",
      "\u001b[43C\u001b[0m\u001b[34m\u001b[1mDE\u001b[0m\u001b[0m:\u001b[0m Plasma 5.27.11\u001b[0m \n",
      "\u001b[43C\u001b[0m\u001b[34m\u001b[1mWM\u001b[0m\u001b[0m:\u001b[0m KWin\u001b[0m \n",
      "\u001b[43C\u001b[0m\u001b[34m\u001b[1mTheme\u001b[0m\u001b[0m:\u001b[0m [Plasma], Breeze [GTK2/3]\u001b[0m \n",
      "\u001b[43C\u001b[0m\u001b[34m\u001b[1mIcons\u001b[0m\u001b[0m:\u001b[0m [Plasma], breeze [GTK2/3]\u001b[0m \n",
      "\u001b[43C\u001b[0m\u001b[34m\u001b[1mCPU\u001b[0m\u001b[0m:\u001b[0m Intel i7-4510U (4) @ 3.100GHz\u001b[0m \n",
      "\u001b[43C\u001b[0m\u001b[34m\u001b[1mGPU\u001b[0m\u001b[0m:\u001b[0m Intel Haswell-ULT\u001b[0m \n",
      "\u001b[43C\u001b[0m\u001b[34m\u001b[1mGPU\u001b[0m\u001b[0m:\u001b[0m NVIDIA GeForce 840M\u001b[0m \n",
      "\u001b[43C\u001b[0m\u001b[34m\u001b[1mMemory\u001b[0m\u001b[0m:\u001b[0m 3382MiB / 15922MiB\u001b[0m \n",
      "\n",
      "\u001b[43C\u001b[30m\u001b[40m   \u001b[31m\u001b[41m   \u001b[32m\u001b[42m   \u001b[33m\u001b[43m   \u001b[34m\u001b[44m   \u001b[35m\u001b[45m   \u001b[36m\u001b[46m   \u001b[37m\u001b[47m   \u001b[m\n",
      "\u001b[43C\u001b[38;5;8m\u001b[48;5;8m   \u001b[38;5;9m\u001b[48;5;9m   \u001b[38;5;10m\u001b[48;5;10m   \u001b[38;5;11m\u001b[48;5;11m   \u001b[38;5;12m\u001b[48;5;12m   \u001b[38;5;13m\u001b[48;5;13m   \u001b[38;5;14m\u001b[48;5;14m   \u001b[38;5;15m\u001b[48;5;15m   \u001b[m\n",
      "\n",
      "\n",
      "\u001b[?25h\u001b[?7h\n"
     ]
    }
   ],
   "source": [
    "# Apagando os arquivos criados\n",
    "rm file2.txt regex.txt\n",
    "neofetch"
   ]
  }
 ],
 "metadata": {
  "kernelspec": {
   "display_name": "Bash",
   "language": "bash",
   "name": "bash"
  },
  "language_info": {
   "codemirror_mode": "shell",
   "file_extension": ".sh",
   "mimetype": "text/x-sh",
   "name": "bash"
  }
 },
 "nbformat": 4,
 "nbformat_minor": 5
}
